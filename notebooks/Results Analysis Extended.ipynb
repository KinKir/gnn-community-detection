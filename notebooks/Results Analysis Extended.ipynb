{
 "nbformat": 4,
 "nbformat_minor": 2,
 "metadata": {
  "language_info": {
   "name": "python",
   "codemirror_mode": {
    "name": "ipython",
    "version": 3
   },
   "version": "3.7.4-final"
  },
  "orig_nbformat": 2,
  "file_extension": ".py",
  "mimetype": "text/x-python",
  "name": "python",
  "npconvert_exporter": "python",
  "pygments_lexer": "ipython3",
  "version": 3,
  "kernelspec": {
   "name": "python37464bituservirtualenv7e47c980d983449ab3ea09ba5a273611",
   "display_name": "Python 3.7.4 64-bit ('User': virtualenv)"
  }
 },
 "cells": [
  {
   "cell_type": "code",
   "execution_count": 41,
   "metadata": {},
   "outputs": [],
   "source": [
    "import pandas as pd \n",
    "import seaborn as sns\n",
    "import numpy as np"
   ]
  },
  {
   "cell_type": "markdown",
   "execution_count": null,
   "metadata": {},
   "outputs": [],
   "source": [
    "# Find best models"
   ]
  },
  {
   "cell_type": "code",
   "execution_count": 87,
   "metadata": {},
   "outputs": [],
   "source": [
    "df = pd.read_csv(\"../summary/opti_nodeids_results.csv\")"
   ]
  },
  {
   "cell_type": "code",
   "execution_count": 92,
   "metadata": {},
   "outputs": [
    {
     "data": {
      "text/html": "<div>\n<style scoped>\n    .dataframe tbody tr th:only-of-type {\n        vertical-align: middle;\n    }\n\n    .dataframe tbody tr th {\n        vertical-align: top;\n    }\n\n    .dataframe thead th {\n        text-align: right;\n    }\n</style>\n<table border=\"1\" class=\"dataframe\">\n  <thead>\n    <tr style=\"text-align: right;\">\n      <th></th>\n      <th>Unnamed: 0</th>\n      <th>name</th>\n      <th>save_logs</th>\n      <th>save_predictions</th>\n      <th>save_models</th>\n      <th>zip_models</th>\n      <th>verbatim</th>\n      <th>permutation</th>\n      <th>repetition</th>\n      <th>learning_rate</th>\n      <th>...</th>\n      <th>Variation of Information_Train</th>\n      <th>Rand-Index_Val</th>\n      <th>Mutual Information_Val</th>\n      <th>Variation of Information_Val</th>\n      <th>Rand-Index_Test</th>\n      <th>Mutual Information_Test</th>\n      <th>Variation of Information_Test</th>\n      <th>num_heads</th>\n      <th>residual</th>\n      <th>radius</th>\n    </tr>\n  </thead>\n  <tbody>\n    <tr>\n      <td>307</td>\n      <td>411</td>\n      <td>opti_nodeids-235</td>\n      <td>True</td>\n      <td>True</td>\n      <td>True</td>\n      <td>True</td>\n      <td>False</td>\n      <td>4</td>\n      <td>4</td>\n      <td>0.010</td>\n      <td>...</td>\n      <td>0.401298</td>\n      <td>0.669891</td>\n      <td>0.688794</td>\n      <td>1.085071</td>\n      <td>0.659951</td>\n      <td>0.623138</td>\n      <td>1.374433</td>\n      <td>3.0</td>\n      <td>False</td>\n      <td>NaN</td>\n    </tr>\n    <tr>\n      <td>3</td>\n      <td>5</td>\n      <td>opti_nodeids_gcn-75</td>\n      <td>True</td>\n      <td>True</td>\n      <td>True</td>\n      <td>True</td>\n      <td>False</td>\n      <td>4</td>\n      <td>1</td>\n      <td>0.005</td>\n      <td>...</td>\n      <td>0.979624</td>\n      <td>0.723741</td>\n      <td>0.735118</td>\n      <td>0.915137</td>\n      <td>0.647599</td>\n      <td>0.618496</td>\n      <td>1.381824</td>\n      <td>NaN</td>\n      <td>NaN</td>\n      <td>NaN</td>\n    </tr>\n    <tr>\n      <td>141</td>\n      <td>199</td>\n      <td>opti_nodeids-470</td>\n      <td>True</td>\n      <td>True</td>\n      <td>True</td>\n      <td>True</td>\n      <td>False</td>\n      <td>8</td>\n      <td>2</td>\n      <td>0.010</td>\n      <td>...</td>\n      <td>0.186984</td>\n      <td>0.587343</td>\n      <td>0.568394</td>\n      <td>1.442971</td>\n      <td>0.515778</td>\n      <td>0.507452</td>\n      <td>1.761981</td>\n      <td>NaN</td>\n      <td>NaN</td>\n      <td>2.0</td>\n    </tr>\n  </tbody>\n</table>\n<p>3 rows × 43 columns</p>\n</div>",
      "text/plain": "     Unnamed: 0                 name  save_logs  save_predictions  \\\n307         411     opti_nodeids-235       True              True   \n3             5  opti_nodeids_gcn-75       True              True   \n141         199     opti_nodeids-470       True              True   \n\n     save_models  zip_models  verbatim  permutation  repetition  \\\n307         True        True     False            4           4   \n3           True        True     False            4           1   \n141         True        True     False            8           2   \n\n     learning_rate  ...  Variation of Information_Train Rand-Index_Val  \\\n307          0.010  ...                        0.401298       0.669891   \n3            0.005  ...                        0.979624       0.723741   \n141          0.010  ...                        0.186984       0.587343   \n\n    Mutual Information_Val  Variation of Information_Val Rand-Index_Test  \\\n307               0.688794                      1.085071        0.659951   \n3                 0.735118                      0.915137        0.647599   \n141               0.568394                      1.442971        0.515778   \n\n     Mutual Information_Test  Variation of Information_Test  num_heads  \\\n307                 0.623138                       1.374433        3.0   \n3                   0.618496                       1.381824        NaN   \n141                 0.507452                       1.761981        NaN   \n\n    residual radius  \n307    False    NaN  \n3        NaN    NaN  \n141      NaN    2.0  \n\n[3 rows x 43 columns]"
     },
     "execution_count": 92,
     "metadata": {},
     "output_type": "execute_result"
    }
   ],
   "source": [
    "df.loc[df.groupby(\"net\")[\"Rand-Index_Test\"].idxmax()]"
   ]
  },
  {
   "cell_type": "markdown",
   "execution_count": null,
   "metadata": {},
   "outputs": [],
   "source": [
    "# Compare variance of permutations"
   ]
  },
  {
   "cell_type": "code",
   "execution_count": null,
   "metadata": {},
   "outputs": [],
   "source": [
    "df = pd.read_csv(\"../summary/opti_nodeids_results.csv\")"
   ]
  },
  {
   "cell_type": "code",
   "execution_count": 64,
   "metadata": {},
   "outputs": [
    {
     "data": {
      "text/html": "<div>\n<style scoped>\n    .dataframe tbody tr th:only-of-type {\n        vertical-align: middle;\n    }\n\n    .dataframe tbody tr th {\n        vertical-align: top;\n    }\n\n    .dataframe thead th {\n        text-align: right;\n    }\n</style>\n<table border=\"1\" class=\"dataframe\">\n  <thead>\n    <tr style=\"text-align: right;\">\n      <th></th>\n      <th>0.04</th>\n      <th>0.08</th>\n      <th>0.16</th>\n      <th>0.32</th>\n    </tr>\n  </thead>\n  <tbody>\n    <tr>\n      <td>Rand-Index_Test</td>\n      <td>0.105172</td>\n      <td>0.077772</td>\n      <td>0.039361</td>\n      <td>0.039999</td>\n    </tr>\n    <tr>\n      <td>Mutual Information_Test</td>\n      <td>0.076344</td>\n      <td>0.058228</td>\n      <td>0.032521</td>\n      <td>0.030352</td>\n    </tr>\n    <tr>\n      <td>Variation of Information_Test</td>\n      <td>0.058854</td>\n      <td>0.050726</td>\n      <td>0.029467</td>\n      <td>0.038681</td>\n    </tr>\n  </tbody>\n</table>\n</div>",
      "text/plain": "                                   0.04      0.08      0.16      0.32\nRand-Index_Test                0.105172  0.077772  0.039361  0.039999\nMutual Information_Test        0.076344  0.058228  0.032521  0.030352\nVariation of Information_Test  0.058854  0.050726  0.029467  0.038681"
     },
     "execution_count": 64,
     "metadata": {},
     "output_type": "execute_result"
    }
   ],
   "source": [
    "pd.DataFrame({perc:df.query(f\"net=='GCN_Net' and split_percentage_train=={perc}\").groupby(\"permutation\")[[\"Rand-Index_Test\",\"Mutual Information_Test\",\"Variation of Information_Test\"]].mean().apply(lambda x: np.std(x)/np.mean(x)) for perc in [0.04,0.08,0.16,0.32]})"
   ]
  },
  {
   "cell_type": "code",
   "execution_count": 63,
   "metadata": {},
   "outputs": [
    {
     "data": {
      "text/html": "<div>\n<style scoped>\n    .dataframe tbody tr th:only-of-type {\n        vertical-align: middle;\n    }\n\n    .dataframe tbody tr th {\n        vertical-align: top;\n    }\n\n    .dataframe thead th {\n        text-align: right;\n    }\n</style>\n<table border=\"1\" class=\"dataframe\">\n  <thead>\n    <tr style=\"text-align: right;\">\n      <th></th>\n      <th>0.04</th>\n      <th>0.08</th>\n      <th>0.16</th>\n      <th>0.32</th>\n    </tr>\n  </thead>\n  <tbody>\n    <tr>\n      <td>Rand-Index_Test</td>\n      <td>0.105350</td>\n      <td>0.057923</td>\n      <td>0.027694</td>\n      <td>0.029228</td>\n    </tr>\n    <tr>\n      <td>Mutual Information_Test</td>\n      <td>0.059021</td>\n      <td>0.037061</td>\n      <td>0.026597</td>\n      <td>0.023593</td>\n    </tr>\n    <tr>\n      <td>Variation of Information_Test</td>\n      <td>0.032189</td>\n      <td>0.029754</td>\n      <td>0.026855</td>\n      <td>0.033340</td>\n    </tr>\n  </tbody>\n</table>\n</div>",
      "text/plain": "                                   0.04      0.08      0.16      0.32\nRand-Index_Test                0.105350  0.057923  0.027694  0.029228\nMutual Information_Test        0.059021  0.037061  0.026597  0.023593\nVariation of Information_Test  0.032189  0.029754  0.026855  0.033340"
     },
     "execution_count": 63,
     "metadata": {},
     "output_type": "execute_result"
    }
   ],
   "source": [
    "pd.DataFrame({perc:df.query(f\"net=='GAT_Net_fast' and split_percentage_train=={perc}\").groupby(\"permutation\")[[\"Rand-Index_Test\",\"Mutual Information_Test\",\"Variation of Information_Test\"]].mean().apply(lambda x: np.std(x)/np.mean(x)) for perc in [0.04,0.08,0.16,0.32]})"
   ]
  },
  {
   "cell_type": "code",
   "execution_count": 65,
   "metadata": {},
   "outputs": [
    {
     "data": {
      "text/html": "<div>\n<style scoped>\n    .dataframe tbody tr th:only-of-type {\n        vertical-align: middle;\n    }\n\n    .dataframe tbody tr th {\n        vertical-align: top;\n    }\n\n    .dataframe thead th {\n        text-align: right;\n    }\n</style>\n<table border=\"1\" class=\"dataframe\">\n  <thead>\n    <tr style=\"text-align: right;\">\n      <th></th>\n      <th>0.04</th>\n      <th>0.08</th>\n      <th>0.16</th>\n      <th>0.32</th>\n    </tr>\n  </thead>\n  <tbody>\n    <tr>\n      <td>Rand-Index_Test</td>\n      <td>0.211864</td>\n      <td>0.233297</td>\n      <td>0.202166</td>\n      <td>0.162362</td>\n    </tr>\n    <tr>\n      <td>Mutual Information_Test</td>\n      <td>0.083123</td>\n      <td>0.094590</td>\n      <td>0.075928</td>\n      <td>0.058883</td>\n    </tr>\n    <tr>\n      <td>Variation of Information_Test</td>\n      <td>0.050292</td>\n      <td>0.032108</td>\n      <td>0.030521</td>\n      <td>0.019421</td>\n    </tr>\n  </tbody>\n</table>\n</div>",
      "text/plain": "                                   0.04      0.08      0.16      0.32\nRand-Index_Test                0.211864  0.233297  0.202166  0.162362\nMutual Information_Test        0.083123  0.094590  0.075928  0.058883\nVariation of Information_Test  0.050292  0.032108  0.030521  0.019421"
     },
     "execution_count": 65,
     "metadata": {},
     "output_type": "execute_result"
    }
   ],
   "source": [
    "pd.DataFrame({perc:df.query(f\"net=='LGNN_Net' and split_percentage_train=={perc}\").groupby(\"permutation\")[[\"Rand-Index_Test\",\"Mutual Information_Test\",\"Variation of Information_Test\"]].mean().apply(lambda x: np.std(x)/np.mean(x)) for perc in [0.04,0.08,0.16,0.32]})"
   ]
  },
  {
   "cell_type": "code",
   "execution_count": 93,
   "metadata": {},
   "outputs": [
    {
     "data": {
      "text/plain": "count    12.000000\nmean      0.107682\nstd       0.076119\nmin       0.027694\n25%       0.039839\n50%       0.091472\n75%       0.172313\nmax       0.233297\nName: Rand-Index_Test, dtype: float64"
     },
     "execution_count": 93,
     "metadata": {},
     "output_type": "execute_result"
    }
   ],
   "source": [
    "# Summarize the variation of all\n",
    "pd.DataFrame({(perc,net):df.query(f\"net=='{net}' and split_percentage_train=={perc}\").groupby(\"permutation\")[[\"Rand-Index_Test\",\"Mutual Information_Test\",\"Variation of Information_Test\"]].mean().apply(lambda x: np.std(x)/np.mean(x)) for perc in [0.04,0.08,0.16,0.32] for net in ['GCN_Net','GAT_Net_fast','LGNN_Net']}).loc[\"Rand-Index_Test\"].describe()"
   ]
  },
  {
   "cell_type": "markdown",
   "execution_count": null,
   "metadata": {},
   "outputs": [],
   "source": [
    "# Hyperparameter tuning: Sparsemax"
   ]
  },
  {
   "cell_type": "code",
   "execution_count": 74,
   "metadata": {},
   "outputs": [],
   "source": [
    "df = pd.read_csv(\"../summary/hyperparameter_tuning_results.csv\")"
   ]
  },
  {
   "cell_type": "code",
   "execution_count": 83,
   "metadata": {},
   "outputs": [
    {
     "data": {
      "text/html": "<div>\n<style scoped>\n    .dataframe tbody tr th:only-of-type {\n        vertical-align: middle;\n    }\n\n    .dataframe tbody tr th {\n        vertical-align: top;\n    }\n\n    .dataframe thead th {\n        text-align: right;\n    }\n</style>\n<table border=\"1\" class=\"dataframe\">\n  <thead>\n    <tr style=\"text-align: right;\">\n      <th></th>\n      <th></th>\n      <th>Rand-Index_Test</th>\n      <th>Mutual Information_Test</th>\n      <th>Variation of Information_Test</th>\n    </tr>\n    <tr>\n      <th>feature</th>\n      <th>sparsemax</th>\n      <th></th>\n      <th></th>\n      <th></th>\n    </tr>\n  </thead>\n  <tbody>\n    <tr>\n      <td rowspan=\"2\" valign=\"top\">keywords</td>\n      <td>False</td>\n      <td>0.671634</td>\n      <td>0.642619</td>\n      <td>1.304920</td>\n    </tr>\n    <tr>\n      <td>True</td>\n      <td>0.627924</td>\n      <td>0.596206</td>\n      <td>1.469951</td>\n    </tr>\n    <tr>\n      <td rowspan=\"2\" valign=\"top\">node_id</td>\n      <td>False</td>\n      <td>0.578545</td>\n      <td>0.561139</td>\n      <td>1.610466</td>\n    </tr>\n    <tr>\n      <td>True</td>\n      <td>0.518059</td>\n      <td>0.499756</td>\n      <td>1.809052</td>\n    </tr>\n  </tbody>\n</table>\n</div>",
      "text/plain": "                    Rand-Index_Test  Mutual Information_Test  \\\nfeature  sparsemax                                             \nkeywords False             0.671634                 0.642619   \n         True              0.627924                 0.596206   \nnode_id  False             0.578545                 0.561139   \n         True              0.518059                 0.499756   \n\n                    Variation of Information_Test  \nfeature  sparsemax                                 \nkeywords False                           1.304920  \n         True                            1.469951  \nnode_id  False                           1.610466  \n         True                            1.809052  "
     },
     "execution_count": 83,
     "metadata": {},
     "output_type": "execute_result"
    }
   ],
   "source": [
    "df.query(\"net=='GAT_Net_fast'\").groupby([\"feature\",\"sparsemax\"])[[\"Rand-Index_Test\",\"Mutual Information_Test\",\"Variation of Information_Test\"]].mean()"
   ]
  }
 ]
}