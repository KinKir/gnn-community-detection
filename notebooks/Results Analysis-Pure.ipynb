{
 "cells": [
  {
   "cell_type": "code",
   "execution_count": 1,
   "metadata": {},
   "outputs": [],
   "source": [
    "import pandas as pd\n",
    "import numpy as np\n",
    "import pandas as pd\n",
    "import matplotlib as mpl\n",
    "import matplotlib.pyplot as plt\n",
    "import seaborn as sns\n",
    "import warnings; warnings.filterwarnings(action='once')"
   ]
  },
  {
   "cell_type": "code",
   "execution_count": 2,
   "metadata": {},
   "outputs": [],
   "source": [
    "df = pd.read_csv(\"../summary/opti_nodeids_results.csv\")"
   ]
  },
  {
   "cell_type": "markdown",
   "metadata": {},
   "source": [
    "# Table data"
   ]
  },
  {
   "cell_type": "code",
   "execution_count": 3,
   "metadata": {},
   "outputs": [
    {
     "data": {
      "text/plain": [
       "split_percentage_train  split_percentage_val  split_percentage_test  net         \n",
       "0.04                    0.01                  0.6                    GAT_Net_fast    0.34\n",
       "                                                                     GCN_Net         0.33\n",
       "                                                                     LGNN_Net        0.18\n",
       "0.08                    0.02                  0.6                    GAT_Net_fast    0.44\n",
       "                                                                     GCN_Net         0.44\n",
       "                                                                     LGNN_Net        0.24\n",
       "0.16                    0.04                  0.6                    GAT_Net_fast    0.52\n",
       "                                                                     GCN_Net         0.51\n",
       "                                                                     LGNN_Net        0.29\n",
       "0.32                    0.08                  0.6                    GAT_Net_fast    0.60\n",
       "                                                                     GCN_Net         0.60\n",
       "                                                                     LGNN_Net        0.39\n",
       "Name: Rand-Index_Test, dtype: float64"
      ]
     },
     "execution_count": 3,
     "metadata": {},
     "output_type": "execute_result"
    }
   ],
   "source": [
    "df.groupby([\"split_percentage_train\",\"split_percentage_val\",\"split_percentage_test\",\"net\"])[\"Rand-Index_Test\"].mean().round(2)"
   ]
  },
  {
   "cell_type": "code",
   "execution_count": 4,
   "metadata": {},
   "outputs": [
    {
     "data": {
      "text/plain": [
       "split_percentage_train  split_percentage_val  split_percentage_test  net         \n",
       "0.04                    0.01                  0.6                    GAT_Net_fast    0.05\n",
       "                                                                     GCN_Net         0.04\n",
       "                                                                     LGNN_Net        0.06\n",
       "0.08                    0.02                  0.6                    GAT_Net_fast    0.04\n",
       "                                                                     GCN_Net         0.05\n",
       "                                                                     LGNN_Net        0.07\n",
       "0.16                    0.04                  0.6                    GAT_Net_fast    0.02\n",
       "                                                                     GCN_Net         0.03\n",
       "                                                                     LGNN_Net        0.09\n",
       "0.32                    0.08                  0.6                    GAT_Net_fast    0.02\n",
       "                                                                     GCN_Net         0.03\n",
       "                                                                     LGNN_Net        0.10\n",
       "Name: Rand-Index_Test, dtype: float64"
      ]
     },
     "execution_count": 4,
     "metadata": {},
     "output_type": "execute_result"
    }
   ],
   "source": [
    "df.groupby([\"split_percentage_train\",\"split_percentage_val\",\"split_percentage_test\",\"net\"])[\"Rand-Index_Test\"].std().round(2)"
   ]
  },
  {
   "cell_type": "code",
   "execution_count": 5,
   "metadata": {},
   "outputs": [
    {
     "name": "stdout",
     "output_type": "stream",
     "text": [
      "& 0.33 $\\pm$ 0.04 & 0.44 $\\pm$ 0.05 & 0.51 $\\pm$ 0.03 & 0.6 $\\pm$ 0.03 \\\\\n",
      "& 0.34 $\\pm$ 0.05 & 0.44 $\\pm$ 0.04 & 0.52 $\\pm$ 0.02 & 0.6 $\\pm$ 0.02 \\\\\n",
      "& 0.18 $\\pm$ 0.06 & 0.24 $\\pm$ 0.07 & 0.29 $\\pm$ 0.09 & 0.39 $\\pm$ 0.1 \\\\\n"
     ]
    }
   ],
   "source": [
    "#Rand-Index\n",
    "#Helper to print LaTeX tables\n",
    "a = df.loc[df['net'] == \"GCN_Net\"].groupby([\"split_percentage_train\",\"split_percentage_val\",\"split_percentage_test\",\"net\"])[\"Rand-Index_Test\"].mean().round(2)\n",
    "b_std = df.loc[df['net'] == \"GCN_Net\"].groupby([\"split_percentage_train\",\"split_percentage_val\",\"split_percentage_test\",\"net\"])[\"Rand-Index_Test\"].std().round(2)\n",
    "s = \"\"\n",
    "for x in a:\n",
    "    s += \"& \" + str(x) + \" $\\\\pm$ \" + \"{} \"\n",
    "s = s.format(list(b_std)[0],list(b_std)[1],list(b_std)[2],list(b_std)[3])\n",
    "s += \"\\\\\" + \"\\\\\"\n",
    "print(s)\n",
    "a = df.loc[df['net'] == \"GAT_Net_fast\"].groupby([\"split_percentage_train\",\"split_percentage_val\",\"split_percentage_test\",\"net\"])[\"Rand-Index_Test\"].mean().round(2)\n",
    "b_std = df.loc[df['net'] == \"GAT_Net_fast\"].groupby([\"split_percentage_train\",\"split_percentage_val\",\"split_percentage_test\",\"net\"])[\"Rand-Index_Test\"].std().round(2)\n",
    "s = \"\"\n",
    "for x in a:\n",
    "    s += \"& \" + str(x) + \" $\\\\pm$ \" + \"{} \"\n",
    "s = s.format(list(b_std)[0],list(b_std)[1],list(b_std)[2],list(b_std)[3])\n",
    "s += \"\\\\\" + \"\\\\\"\n",
    "print(s)\n",
    "a = df.loc[df['net'] == \"LGNN_Net\"].groupby([\"split_percentage_train\",\"split_percentage_val\",\"split_percentage_test\",\"net\"])[\"Rand-Index_Test\"].mean().round(2)\n",
    "b_std = df.loc[df['net'] == \"LGNN_Net\"].groupby([\"split_percentage_train\",\"split_percentage_val\",\"split_percentage_test\",\"net\"])[\"Rand-Index_Test\"].std().round(2)\n",
    "s = \"\"\n",
    "for x in a:\n",
    "    s += \"& \" + str(x) + \" $\\\\pm$ \" + \"{} \"\n",
    "s = s.format(list(b_std)[0],list(b_std)[1],list(b_std)[2],list(b_std)[3])\n",
    "s += \"\\\\\" + \"\\\\\"\n",
    "print(s)"
   ]
  },
  {
   "cell_type": "code",
   "execution_count": 6,
   "metadata": {},
   "outputs": [
    {
     "name": "stdout",
     "output_type": "stream",
     "text": [
      "& 0.38 $\\pm$ 0.04 & 0.46 $\\pm$ 0.04 & 0.51 $\\pm$ 0.03 & 0.58 $\\pm$ 0.02 \\\\\n",
      "& 0.37 $\\pm$ 0.03 & 0.45 $\\pm$ 0.03 & 0.51 $\\pm$ 0.02 & 0.58 $\\pm$ 0.02 \\\\\n",
      "& 0.28 $\\pm$ 0.04 & 0.34 $\\pm$ 0.04 & 0.37 $\\pm$ 0.04 & 0.45 $\\pm$ 0.04 \\\\\n"
     ]
    }
   ],
   "source": [
    "#Mutal Information\n",
    "#Helper to print LaTeX tables\n",
    "a = df.loc[df['net'] == \"GCN_Net\"].groupby([\"split_percentage_train\",\"split_percentage_val\",\"split_percentage_test\",\"net\"])[\"Mutual Information_Test\"].mean().round(2)\n",
    "b_std = df.loc[df['net'] == \"GCN_Net\"].groupby([\"split_percentage_train\",\"split_percentage_val\",\"split_percentage_test\",\"net\"])[\"Mutual Information_Test\"].std().round(2)\n",
    "s = \"\"\n",
    "for x in a:\n",
    "    s += \"& \" + str(x) + \" $\\\\pm$ \" + \"{} \"\n",
    "s = s.format(list(b_std)[0],list(b_std)[1],list(b_std)[2],list(b_std)[3])\n",
    "s += \"\\\\\" + \"\\\\\"\n",
    "print(s)\n",
    "a = df.loc[df['net'] == \"GAT_Net_fast\"].groupby([\"split_percentage_train\",\"split_percentage_val\",\"split_percentage_test\",\"net\"])[\"Mutual Information_Test\"].mean().round(2)\n",
    "b_std = df.loc[df['net'] == \"GAT_Net_fast\"].groupby([\"split_percentage_train\",\"split_percentage_val\",\"split_percentage_test\",\"net\"])[\"Mutual Information_Test\"].std().round(2)\n",
    "s = \"\"\n",
    "for x in a:\n",
    "    s += \"& \" + str(x) + \" $\\\\pm$ \" + \"{} \"\n",
    "s = s.format(list(b_std)[0],list(b_std)[1],list(b_std)[2],list(b_std)[3])\n",
    "s += \"\\\\\" + \"\\\\\"\n",
    "print(s)\n",
    "a = df.loc[df['net'] == \"LGNN_Net\"].groupby([\"split_percentage_train\",\"split_percentage_val\",\"split_percentage_test\",\"net\"])[\"Mutual Information_Test\"].mean().round(2)\n",
    "b_std = df.loc[df['net'] == \"LGNN_Net\"].groupby([\"split_percentage_train\",\"split_percentage_val\",\"split_percentage_test\",\"net\"])[\"Mutual Information_Test\"].std().round(2)\n",
    "s = \"\"\n",
    "for x in a:\n",
    "    s += \"& \" + str(x) + \" $\\\\pm$ \" + \"{} \"\n",
    "s = s.format(list(b_std)[0],list(b_std)[1],list(b_std)[2],list(b_std)[3])\n",
    "s += \"\\\\\" + \"\\\\\"\n",
    "print(s)"
   ]
  },
  {
   "cell_type": "code",
   "execution_count": 7,
   "metadata": {},
   "outputs": [
    {
     "name": "stdout",
     "output_type": "stream",
     "text": [
      "& 2.1 $\\pm$ 0.14 & 1.9 $\\pm$ 0.11 & 1.73 $\\pm$ 0.08 & 1.5 $\\pm$ 0.07 \\\\\n",
      "& 2.32 $\\pm$ 0.12 & 2.0 $\\pm$ 0.11 & 1.79 $\\pm$ 0.08 & 1.54 $\\pm$ 0.08 \\\\\n",
      "& 2.25 $\\pm$ 0.2 & 2.07 $\\pm$ 0.12 & 2.03 $\\pm$ 0.1 & 1.85 $\\pm$ 0.06 \\\\\n"
     ]
    }
   ],
   "source": [
    "#Variation of Information\n",
    "#Helper to print LaTeX tables\n",
    "a = df.loc[df['net'] == \"GCN_Net\"].groupby([\"split_percentage_train\",\"split_percentage_val\",\"split_percentage_test\",\"net\"])[\"Variation of Information_Test\"].mean().round(2)\n",
    "b_std = df.loc[df['net'] == \"GCN_Net\"].groupby([\"split_percentage_train\",\"split_percentage_val\",\"split_percentage_test\",\"net\"])[\"Variation of Information_Test\"].std().round(2)\n",
    "s = \"\"\n",
    "for x in a:\n",
    "    s += \"& \" + str(x) + \" $\\\\pm$ \" + \"{} \"\n",
    "s = s.format(list(b_std)[0],list(b_std)[1],list(b_std)[2],list(b_std)[3])\n",
    "s += \"\\\\\" + \"\\\\\"\n",
    "print(s)\n",
    "a = df.loc[df['net'] == \"GAT_Net_fast\"].groupby([\"split_percentage_train\",\"split_percentage_val\",\"split_percentage_test\",\"net\"])[\"Variation of Information_Test\"].mean().round(2)\n",
    "b_std = df.loc[df['net'] == \"GAT_Net_fast\"].groupby([\"split_percentage_train\",\"split_percentage_val\",\"split_percentage_test\",\"net\"])[\"Variation of Information_Test\"].std().round(2)\n",
    "s = \"\"\n",
    "for x in a:\n",
    "    s += \"& \" + str(x) + \" $\\\\pm$ \" + \"{} \"\n",
    "s = s.format(list(b_std)[0],list(b_std)[1],list(b_std)[2],list(b_std)[3])\n",
    "s += \"\\\\\" + \"\\\\\"\n",
    "print(s)\n",
    "a = df.loc[df['net'] == \"LGNN_Net\"].groupby([\"split_percentage_train\",\"split_percentage_val\",\"split_percentage_test\",\"net\"])[\"Variation of Information_Test\"].mean().round(2)\n",
    "b_std = df.loc[df['net'] == \"LGNN_Net\"].groupby([\"split_percentage_train\",\"split_percentage_val\",\"split_percentage_test\",\"net\"])[\"Variation of Information_Test\"].std().round(2)\n",
    "s = \"\"\n",
    "for x in a:\n",
    "    s += \"& \" + str(x) + \" $\\\\pm$ \" + \"{} \"\n",
    "s = s.format(list(b_std)[0],list(b_std)[1],list(b_std)[2],list(b_std)[3])\n",
    "s += \"\\\\\" + \"\\\\\"\n",
    "print(s)"
   ]
  },
  {
   "cell_type": "markdown",
   "metadata": {},
   "source": [
    "# Boxplots"
   ]
  },
  {
   "cell_type": "code",
   "execution_count": 8,
   "metadata": {},
   "outputs": [
    {
     "name": "stdout",
     "output_type": "stream",
     "text": [
      "3.1.1\n",
      "0.9.0\n"
     ]
    }
   ],
   "source": [
    "# !pip install brewer2mpl\n",
    "import numpy as np\n",
    "import pandas as pd\n",
    "import matplotlib as mpl\n",
    "import matplotlib.pyplot as plt\n",
    "import seaborn as sns\n",
    "import warnings; warnings.filterwarnings(action='once')\n",
    "\n",
    "large = 22; med = 16; small = 12\n",
    "params = {'axes.titlesize': large,\n",
    "          'legend.fontsize': med,\n",
    "          'figure.figsize': (16, 10),\n",
    "          'axes.labelsize': med,\n",
    "          'axes.titlesize': med,\n",
    "          'xtick.labelsize': med,\n",
    "          'ytick.labelsize': med,\n",
    "          'figure.titlesize': large}\n",
    "plt.rcParams.update(params)\n",
    "plt.style.use('seaborn-whitegrid')\n",
    "sns.set_style(\"white\")\n",
    "%matplotlib inline\n",
    "\n",
    "# Version\n",
    "print(mpl.__version__)  #> 3.0.0\n",
    "print(sns.__version__)  #> 0.9.0"
   ]
  },
  {
   "cell_type": "code",
   "execution_count": 9,
   "metadata": {},
   "outputs": [],
   "source": [
    "df = df.replace(\"GAT_Net_fast\",\"GAT\")\n",
    "df = df.replace(\"LGNN_Net\",\"LGNN\")\n",
    "df = df.replace(\"GCN_Net\",\"GCN\")"
   ]
  },
  {
   "cell_type": "code",
   "execution_count": 26,
   "metadata": {},
   "outputs": [
    {
     "data": {
      "image/png": "[encoded data removed]",
      "text/plain": [
       "<Figure size 910x350 with 1 Axes>"
      ]
     },
     "metadata": {},
     "output_type": "display_data"
    }
   ],
   "source": [
    "# Draw Plot\n",
    "\n",
    "plt.figure(figsize=(13,5), dpi= 70)\n",
    "plt.style.use('ggplot')\n",
    "sns.boxplot(x='split_percentage_train', y='Rand-Index_Test', data=df, hue='net',showmeans=True,  meanprops={\"marker\":\"s\",\"markerfacecolor\":\"white\", \"markeredgecolor\":\"black\"})\n",
    "axes = plt.gca()\n",
    "plt.yticks(fontsize=16)\n",
    "axes.set_xticklabels([\"0.04 + 0.01\",\"0.08 + 0.02\",\"0.16 + 0.04\",\"0.32 + 0.08\"], fontsize=16)\n",
    "axes.set_xlabel(\"Share of training data + share of validation data\", fontsize=16)\n",
    "axes.set_ylabel(\"Rand Index\", fontsize=16)\n",
    "\n",
    "\n",
    "# Decoration\n",
    "#plt.title('Box Plot of Highway Mileage by Vehicle Class', fontsize=22)\n",
    "leg = plt.legend(loc=2, fontsize = 16)\n",
    "# Get the bounding box of the original legend\n",
    "bb = leg.get_bbox_to_anchor().inverse_transformed(axes.transAxes)\n",
    "\n",
    "plt.savefig('../summary/boxplots-pure.pdf',bbox_inches=\"tight\")\n",
    "plt.show()"
   ]
  },
  {
   "cell_type": "code",
   "execution_count": 27,
   "metadata": {},
   "outputs": [
    {
     "data": {
      "image/png": "[encoded data removed]",
      "text/plain": [
       "<Figure size 910x350 with 1 Axes>"
      ]
     },
     "metadata": {},
     "output_type": "display_data"
    }
   ],
   "source": [
    "# Draw Plot\n",
    "plt.figure(figsize=(13,5), dpi= 70)\n",
    "plt.style.use('ggplot')\n",
    "sns.boxplot(x='split_percentage_train', y='Mutual Information_Test', data=df, hue='net',showmeans=True,  meanprops={\"marker\":\"s\",\"markerfacecolor\":\"white\", \"markeredgecolor\":\"black\"})\n",
    "axes = plt.gca()\n",
    "axes.set_xticklabels([\"0.04 + 0.01\",\"0.08 + 0.02\",\"0.16 + 0.04\",\"0.32 + 0.08\"])\n",
    "axes.set_xlabel(\"Share of training data + share of validation data\", fontsize=16)\n",
    "axes.set_ylabel(\"Mutual Information\", fontsize=16)\n",
    "\n",
    "\n",
    "# Decoration\n",
    "#plt.title('Box Plot of Highway Mileage by Vehicle Class', fontsize=22)\n",
    "leg = plt.legend(loc=2, fontsize = 16)\n",
    "# Get the bounding box of the original legend\n",
    "bb = leg.get_bbox_to_anchor().inverse_transformed(axes.transAxes)\n",
    "\n",
    "# Change to location of the legend. \n",
    "xOffset = 0\n",
    "bb.x0 += xOffset\n",
    "bb.x1 += xOffset\n",
    "leg.set_bbox_to_anchor(bb, transform = axes.transAxes)\n",
    "\n",
    "plt.savefig('../summary/boxplots_mi-pure.pdf',bbox_inches=\"tight\")\n",
    "plt.show()"
   ]
  },
  {
   "cell_type": "code",
   "execution_count": 12,
   "metadata": {},
   "outputs": [
    {
     "data": {
      "image/png": "[encoded data removed]",
      "text/plain": [
       "<Figure size 910x350 with 1 Axes>"
      ]
     },
     "metadata": {},
     "output_type": "display_data"
    }
   ],
   "source": [
    "# Draw Plot\n",
    "plt.figure(figsize=(13,5), dpi= 70)\n",
    "plt.style.use('ggplot')\n",
    "sns.boxplot(x='split_percentage_train', y='Variation of Information_Test', data=df, hue='net',showmeans=True,  meanprops={\"marker\":\"s\",\"markerfacecolor\":\"white\", \"markeredgecolor\":\"black\"})\n",
    "axes = plt.gca()\n",
    "axes.set_xticklabels([\"0.04 + 0.01\",\"0.08 + 0.02\",\"0.16 + 0.04\",\"0.32 + 0.08\"])\n",
    "axes.set_xlabel(\"Share of training data + share of validation data\", fontsize=16)\n",
    "axes.set_ylabel(\"Variation of Information\", fontsize=16)\n",
    "\n",
    "\n",
    "# Decoration\n",
    "#plt.title('Box Plot of Highway Mileage by Vehicle Class', fontsize=22)\n",
    "leg = plt.legend()\n",
    "# Get the bounding box of the original legend\n",
    "bb = leg.get_bbox_to_anchor().inverse_transformed(axes.transAxes)\n",
    "\n",
    "# Change to location of the legend. \n",
    "xOffset = 0\n",
    "bb.x0 += xOffset\n",
    "bb.x1 += xOffset\n",
    "leg.set_bbox_to_anchor(bb, transform = axes.transAxes)\n",
    "\n",
    "plt.savefig('../summary/boxplots_vi-pure.pdf',bbox_inches=\"tight\")\n",
    "plt.show()"
   ]
  },
  {
   "cell_type": "markdown",
   "metadata": {},
   "source": [
    "# Hyperparameters"
   ]
  },
  {
   "cell_type": "code",
   "execution_count": 13,
   "metadata": {},
   "outputs": [
    {
     "data": {
      "text/plain": [
       "net\n",
       "GAT      [0.01]\n",
       "GCN     [0.005]\n",
       "LGNN     [0.01]\n",
       "Name: learning_rate, dtype: object"
      ]
     },
     "execution_count": 13,
     "metadata": {},
     "output_type": "execute_result"
    }
   ],
   "source": [
    "df.groupby([\"net\"])[\"learning_rate\"].unique()"
   ]
  },
  {
   "cell_type": "code",
   "execution_count": 14,
   "metadata": {},
   "outputs": [
    {
     "data": {
      "text/plain": [
       "net\n",
       "GAT     [0.01]\n",
       "GCN     [0.01]\n",
       "LGNN    [0.01]\n",
       "Name: weight_decay, dtype: object"
      ]
     },
     "execution_count": 14,
     "metadata": {},
     "output_type": "execute_result"
    }
   ],
   "source": [
    "df.groupby([\"net\"])[\"weight_decay\"].unique()"
   ]
  },
  {
   "cell_type": "code",
   "execution_count": 15,
   "metadata": {},
   "outputs": [
    {
     "data": {
      "text/plain": [
       "net\n",
       "GAT     [nll]\n",
       "GCN     [nll]\n",
       "LGNN    [nll]\n",
       "Name: loss_function_type, dtype: object"
      ]
     },
     "execution_count": 15,
     "metadata": {},
     "output_type": "execute_result"
    }
   ],
   "source": [
    "df.groupby([\"net\"])[\"loss_function_type\"].unique()"
   ]
  },
  {
   "cell_type": "code",
   "execution_count": 16,
   "metadata": {},
   "outputs": [
    {
     "data": {
      "text/plain": [
       "net\n",
       "GAT     [all]\n",
       "GCN     [all]\n",
       "LGNN    [all]\n",
       "Name: loss_function_nclasses, dtype: object"
      ]
     },
     "execution_count": 16,
     "metadata": {},
     "output_type": "execute_result"
    }
   ],
   "source": [
    "df.groupby([\"net\"])[\"loss_function_nclasses\"].unique()"
   ]
  },
  {
   "cell_type": "code",
   "execution_count": 17,
   "metadata": {},
   "outputs": [
    {
     "data": {
      "text/plain": [
       "net\n",
       "GAT      [50]\n",
       "GCN     [100]\n",
       "LGNN    [100]\n",
       "Name: hidden_size, dtype: object"
      ]
     },
     "execution_count": 17,
     "metadata": {},
     "output_type": "execute_result"
    }
   ],
   "source": [
    "df.groupby([\"net\"])[\"hidden_size\"].unique()"
   ]
  },
  {
   "cell_type": "code",
   "execution_count": 18,
   "metadata": {},
   "outputs": [
    {
     "data": {
      "text/plain": [
       "net\n",
       "GAT     [3]\n",
       "GCN     [1]\n",
       "LGNN    [2]\n",
       "Name: hidden_layers, dtype: object"
      ]
     },
     "execution_count": 18,
     "metadata": {},
     "output_type": "execute_result"
    }
   ],
   "source": [
    "df.groupby([\"net\"])[\"hidden_layers\"].unique()"
   ]
  },
  {
   "cell_type": "code",
   "execution_count": 19,
   "metadata": {},
   "outputs": [
    {
     "data": {
      "text/plain": [
       "net\n",
       "GAT     [3.0]\n",
       "GCN     [nan]\n",
       "LGNN    [nan]\n",
       "Name: num_heads, dtype: object"
      ]
     },
     "execution_count": 19,
     "metadata": {},
     "output_type": "execute_result"
    }
   ],
   "source": [
    "df.groupby([\"net\"])[\"num_heads\"].unique()"
   ]
  },
  {
   "cell_type": "code",
   "execution_count": 20,
   "metadata": {},
   "outputs": [
    {
     "data": {
      "text/plain": [
       "net\n",
       "GAT     [0.0]\n",
       "GCN     [0.2]\n",
       "LGNN    [0.2]\n",
       "Name: dropout, dtype: object"
      ]
     },
     "execution_count": 20,
     "metadata": {},
     "output_type": "execute_result"
    }
   ],
   "source": [
    "df.groupby([\"net\"])[\"dropout\"].unique()"
   ]
  },
  {
   "cell_type": "code",
   "execution_count": 21,
   "metadata": {},
   "outputs": [
    {
     "data": {
      "text/plain": [
       "net\n",
       "GAT      [True]\n",
       "GCN     [False]\n",
       "LGNN     [True]\n",
       "Name: batchnorm, dtype: object"
      ]
     },
     "execution_count": 21,
     "metadata": {},
     "output_type": "execute_result"
    }
   ],
   "source": [
    "df.groupby([\"net\"])[\"batchnorm\"].unique()"
   ]
  },
  {
   "cell_type": "code",
   "execution_count": 22,
   "metadata": {},
   "outputs": [
    {
     "data": {
      "text/plain": [
       "net\n",
       "GAT     [False]\n",
       "GCN       [nan]\n",
       "LGNN      [nan]\n",
       "Name: residual, dtype: object"
      ]
     },
     "execution_count": 22,
     "metadata": {},
     "output_type": "execute_result"
    }
   ],
   "source": [
    "df.groupby([\"net\"])[\"residual\"].unique()"
   ]
  },
  {
   "cell_type": "code",
   "execution_count": 23,
   "metadata": {},
   "outputs": [
    {
     "data": {
      "text/plain": [
       "net\n",
       "GAT     [150]\n",
       "GCN     [150]\n",
       "LGNN    [150]\n",
       "Name: early_stopping_min, dtype: object"
      ]
     },
     "execution_count": 23,
     "metadata": {},
     "output_type": "execute_result"
    }
   ],
   "source": [
    "df.groupby([\"net\"])[\"early_stopping_min\"].unique()"
   ]
  },
  {
   "cell_type": "code",
   "execution_count": 24,
   "metadata": {},
   "outputs": [
    {
     "data": {
      "text/plain": [
       "net\n",
       "GAT     [80]\n",
       "GCN     [80]\n",
       "LGNN    [80]\n",
       "Name: early_stopping_wait, dtype: object"
      ]
     },
     "execution_count": 24,
     "metadata": {},
     "output_type": "execute_result"
    }
   ],
   "source": [
    "df.groupby([\"net\"])[\"early_stopping_wait\"].unique()"
   ]
  }
 ],
 "metadata": {
  "kernelspec": {
   "display_name": "Python 3",
   "language": "python",
   "name": "python3"
  },
  "language_info": {
   "codemirror_mode": {
    "name": "ipython",
    "version": 3
   },
   "file_extension": ".py",
   "mimetype": "text/x-python",
   "name": "python",
   "nbconvert_exporter": "python",
   "pygments_lexer": "ipython3",
   "version": "3.7.4"
  }
 },
 "nbformat": 4,
 "nbformat_minor": 2
}
