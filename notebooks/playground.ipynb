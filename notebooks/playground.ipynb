{
 "nbformat": 4,
 "nbformat_minor": 2,
 "metadata": {
  "language_info": {
   "name": "python",
   "codemirror_mode": {
    "name": "ipython",
    "version": 3
   },
   "version": "3.7.3"
  },
  "orig_nbformat": 2,
  "file_extension": ".py",
  "mimetype": "text/x-python",
  "name": "python",
  "npconvert_exporter": "python",
  "pygments_lexer": "ipython3",
  "version": 3
 },
 "cells": [
  {
   "cell_type": "markdown",
   "execution_count": null,
   "metadata": {},
   "outputs": [],
   "source": [
    "# Playground\n",
    "This notebook has space for playing around with any code."
   ]
  },
  {
   "cell_type": "markdown",
   "execution_count": null,
   "metadata": {},
   "outputs": [],
   "source": [
    "## Laplacian Matrix"
   ]
  },
  {
   "cell_type": "code",
   "execution_count": 3,
   "metadata": {},
   "outputs": [
    {
     "name": "stdout",
     "output_type": "stream",
     "text": "Adjacency matrix of graph:\n[[1. 0. 0. 1. 0.]\n [0. 1. 1. 0. 1.]\n [0. 1. 1. 0. 0.]\n [1. 0. 0. 1. 1.]\n [0. 1. 0. 1. 1.]]\n\nLaplacian computed by networkx:\n[[ 1  0  0 -1  0]\n [ 0  2 -1  0 -1]\n [ 0 -1  1  0  0]\n [-1  0  0  2 -1]\n [ 0 -1  0 -1  2]]\n\nLaplacian computed ourselves:\n[[ 2.  0.  0. -1.  0.]\n [ 0.  3. -1.  0. -1.]\n [ 0. -1.  2.  0.  0.]\n [-1.  0.  0.  3. -1.]\n [ 0. -1.  0. -1.  3.]]\n\nD^(-1/2)\n[[0.57735027 0.         0.         0.         0.        ]\n [0.         0.5        0.         0.         0.        ]\n [0.         0.         0.57735027 0.         0.        ]\n [0.         0.         0.         0.5        0.        ]\n [0.         0.         0.         0.         0.5       ]]\n\nD^(-1/2)*A*D^(-1/2)\n[[ 0.66666667  0.          0.         -0.28867513  0.        ]\n [ 0.          0.75       -0.28867513  0.         -0.25      ]\n [ 0.         -0.28867513  0.66666667  0.          0.        ]\n [-0.28867513  0.          0.          0.75       -0.25      ]\n [ 0.         -0.25        0.         -0.25        0.75      ]]\n\nNormalized Laplacian computed by networkx:\n[[ 0.5   0.    0.   -0.41  0.  ]\n [ 0.    0.67 -0.41  0.   -0.33]\n [ 0.   -0.41  0.5   0.    0.  ]\n [-0.41  0.    0.    0.67 -0.33]\n [ 0.   -0.33  0.   -0.33  0.67]]\n\nD^(-1/2)*A*D^(-1/2) computed by networkx:\n[[0.5    0.     0.     0.4082 0.    ]\n [0.     0.3333 0.4082 0.     0.3333]\n [0.     0.4082 0.5    0.     0.    ]\n [0.4082 0.     0.     0.3333 0.3333]\n [0.     0.3333 0.     0.3333 0.3333]]\nC:\\Users\\a_liso02\\AppData\\Local\\Continuum\\anaconda3\\lib\\site-packages\\ipykernel_launcher.py:21: RuntimeWarning: divide by zero encountered in power\n"
    }
   ],
   "source": [
    "import numpy as np\n",
    "import networkx as nx\n",
    "\n",
    "# Make small random graph\n",
    "g1 = nx.erdos_renyi_graph(5,0.4)\n",
    "# Add self-loop edges\n",
    "g1.add_edges_from(zip(range(5),range(5)))\n",
    "\n",
    "print(\"Adjacency matrix of graph:\")\n",
    "print(nx.to_numpy_matrix(g1))\n",
    "\n",
    "print(\"\\nLaplacian computed by networkx:\")\n",
    "print(nx.laplacian_matrix(g1).todense())\n",
    "\n",
    "# Compute it ourselves\n",
    "print(\"\\nLaplacian computed ourselves:\")\n",
    "lpmat = np.diag([d[1] for d in g1.degree])-nx.to_numpy_matrix(g1)\n",
    "print(lpmat)\n",
    "\n",
    "# Compute D^(-1/2)\n",
    "dmat = np.power(np.diag([d[1] for d in g1.degree]),-1/2)\n",
    "dmat[np.isinf(dmat)]=0\n",
    "print(\"\\nD^(-1/2)\")\n",
    "print(dmat)\n",
    "\n",
    "# Compute final matrix D^(-1/2)*A*D^(-1/2)\n",
    "print(\"\\nD^(-1/2)*A*D^(-1/2)\")\n",
    "print(dmat*lpmat*dmat)\n",
    "\n",
    "print(\"\\nNormalized Laplacian computed by networkx:\")\n",
    "print(np.round(nx.normalized_laplacian_matrix(g1).todense(),2))\n",
    "\n",
    "print(\"\\nD^(-1/2)*A*D^(-1/2) computed by networkx:\")\n",
    "print(np.round(-nx.normalized_laplacian_matrix(g1).todense()+np.identity(5),4))\n"
   ]
  },
  {
   "cell_type": "code",
   "execution_count": null,
   "metadata": {},
   "outputs": [],
   "source": []
  }
 ]
}