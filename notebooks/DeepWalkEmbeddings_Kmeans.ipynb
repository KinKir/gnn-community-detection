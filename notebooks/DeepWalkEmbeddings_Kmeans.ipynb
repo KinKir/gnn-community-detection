{
 "cells": [
  {
   "cell_type": "markdown",
   "metadata": {},
   "source": [
    "## Creation of embeddings with DeepWalk"
   ]
  },
  {
   "cell_type": "code",
   "execution_count": 1,
   "metadata": {},
   "outputs": [],
   "source": [
    "#From https://github.com/phanein/deepwalk\n",
    "import deepwalk as dw"
   ]
  },
  {
   "cell_type": "code",
   "execution_count": 2,
   "metadata": {},
   "outputs": [
    {
     "name": "stderr",
     "output_type": "stream",
     "text": [
      "2020-01-21 09:33:00 INFO deepwalk.py: 220 Parsed 2708 edges with 0 chunks in 0.0400083065032959s\n",
      "2020-01-21 09:33:00 INFO deepwalk.py: 226 Converted edges to graph in 0.001989603042602539s\n",
      "2020-01-21 09:33:00 INFO deepwalk.py: 57 make_directed: added missing edges 0.0030143260955810547s\n",
      "2020-01-21 09:33:00 INFO deepwalk.py: 68 make_consistent: made consistent in 0.002973794937133789s\n",
      "2020-01-21 09:33:00 INFO deepwalk.py: 86 remove_self_loops: removed 0 loops in 0.0009999275207519531s\n",
      "2020-01-21 09:33:00 INFO deepwalk.py: 232 Made graph undirected in 0.007999658584594727s\n"
     ]
    },
    {
     "name": "stdout",
     "output_type": "stream",
     "text": [
      "Number of nodes: 2708\n",
      "Number of walks: 54160\n",
      "Data size (walks*length): 541600\n",
      "Walking...\n",
      "Training...\n"
     ]
    }
   ],
   "source": [
    "dw.start_deepwalk(\"--format adjlist --input ../data/cora.adjlist --number-walks 20 --representation-size 40 --walk-length 10 --window-size 10 --workers 1 --output ../data/cora1.embeddings\")"
   ]
  },
  {
   "cell_type": "markdown",
   "metadata": {},
   "source": [
    "## K-means on the embeddings"
   ]
  },
  {
   "cell_type": "code",
   "execution_count": 9,
   "metadata": {},
   "outputs": [],
   "source": [
    "from dgl.data import citation_graph as citegrh\n",
    "import networkx as nx\n",
    "import torch as th\n",
    "\n",
    "data = citegrh.load_cora()\n",
    "#features = th.FloatTensor(data.features)\n",
    "labels = th.LongTensor(data.labels)\n",
    "#g = data.graph"
   ]
  },
  {
   "cell_type": "code",
   "execution_count": 10,
   "metadata": {},
   "outputs": [],
   "source": [
    "import pandas as pd\n",
    "df = pd.read_csv(\"../data/cora1.embeddings\",sep=\" \",header=None, skiprows= 1)"
   ]
  },
  {
   "cell_type": "code",
   "execution_count": 11,
   "metadata": {},
   "outputs": [
    {
     "data": {
      "text/html": [
       "<div>\n",
       "<style scoped>\n",
       "    .dataframe tbody tr th:only-of-type {\n",
       "        vertical-align: middle;\n",
       "    }\n",
       "\n",
       "    .dataframe tbody tr th {\n",
       "        vertical-align: top;\n",
       "    }\n",
       "\n",
       "    .dataframe thead th {\n",
       "        text-align: right;\n",
       "    }\n",
       "</style>\n",
       "<table border=\"1\" class=\"dataframe\">\n",
       "  <thead>\n",
       "    <tr style=\"text-align: right;\">\n",
       "      <th></th>\n",
       "      <th>1</th>\n",
       "      <th>2</th>\n",
       "      <th>3</th>\n",
       "      <th>4</th>\n",
       "      <th>5</th>\n",
       "      <th>6</th>\n",
       "      <th>7</th>\n",
       "      <th>8</th>\n",
       "      <th>9</th>\n",
       "      <th>10</th>\n",
       "      <th>...</th>\n",
       "      <th>31</th>\n",
       "      <th>32</th>\n",
       "      <th>33</th>\n",
       "      <th>34</th>\n",
       "      <th>35</th>\n",
       "      <th>36</th>\n",
       "      <th>37</th>\n",
       "      <th>38</th>\n",
       "      <th>39</th>\n",
       "      <th>40</th>\n",
       "    </tr>\n",
       "  </thead>\n",
       "  <tbody>\n",
       "    <tr>\n",
       "      <th>1547</th>\n",
       "      <td>-1.48207</td>\n",
       "      <td>-0.463904</td>\n",
       "      <td>-0.643441</td>\n",
       "      <td>-0.168564</td>\n",
       "      <td>0.28134</td>\n",
       "      <td>-0.441912</td>\n",
       "      <td>2.412907</td>\n",
       "      <td>-1.145908</td>\n",
       "      <td>-0.078474</td>\n",
       "      <td>0.215392</td>\n",
       "      <td>...</td>\n",
       "      <td>-0.033949</td>\n",
       "      <td>-0.265182</td>\n",
       "      <td>0.807596</td>\n",
       "      <td>0.575811</td>\n",
       "      <td>-0.003095</td>\n",
       "      <td>-0.452111</td>\n",
       "      <td>-1.073708</td>\n",
       "      <td>0.516716</td>\n",
       "      <td>0.408526</td>\n",
       "      <td>0.633142</td>\n",
       "    </tr>\n",
       "  </tbody>\n",
       "</table>\n",
       "<p>1 rows × 40 columns</p>\n",
       "</div>"
      ],
      "text/plain": [
       "           1         2         3         4        5         6         7   \\\n",
       "1547 -1.48207 -0.463904 -0.643441 -0.168564  0.28134 -0.441912  2.412907   \n",
       "\n",
       "            8         9         10  ...        31        32        33  \\\n",
       "1547 -1.145908 -0.078474  0.215392  ... -0.033949 -0.265182  0.807596   \n",
       "\n",
       "            34        35        36        37        38        39        40  \n",
       "1547  0.575811 -0.003095 -0.452111 -1.073708  0.516716  0.408526  0.633142  \n",
       "\n",
       "[1 rows x 40 columns]"
      ]
     },
     "execution_count": 11,
     "metadata": {},
     "output_type": "execute_result"
    }
   ],
   "source": [
    "df = df.sort_values(by=[0])\n",
    "embeddings =  df.loc[:, df.columns != 0]\n",
    "embeddings.head(1)"
   ]
  },
  {
   "cell_type": "code",
   "execution_count": 12,
   "metadata": {},
   "outputs": [],
   "source": [
    "import numpy as np"
   ]
  },
  {
   "cell_type": "code",
   "execution_count": 13,
   "metadata": {},
   "outputs": [],
   "source": [
    "X = np.array(embeddings)"
   ]
  },
  {
   "cell_type": "code",
   "execution_count": 16,
   "metadata": {},
   "outputs": [],
   "source": [
    "import performance as pf"
   ]
  },
  {
   "cell_type": "code",
   "execution_count": 18,
   "metadata": {},
   "outputs": [],
   "source": [
    "from sklearn.cluster import KMeans\n",
    "all_rand = []\n",
    "all_mi = []\n",
    "all_voi = []\n",
    "for a in range(50):\n",
    "    kmeans = KMeans(n_clusters=7, n_init=50, max_iter=1000).fit(X)\n",
    "    \n",
    "    rand = pf.rand_score(data.labels,kmeans.labels_)\n",
    "    all_rand.append(rand)\n",
    "    mi = pf.mutual_info_score(data.labels,kmeans.labels_)\n",
    "    all_mi.append(mi)\n",
    "    voi = pf.variation_of_information_score(data.labels,kmeans.labels_)\n",
    "    all_voi.append(voi)"
   ]
  },
  {
   "cell_type": "code",
   "execution_count": 27,
   "metadata": {},
   "outputs": [],
   "source": [
    "import numpy as np"
   ]
  },
  {
   "cell_type": "code",
   "execution_count": 31,
   "metadata": {},
   "outputs": [
    {
     "name": "stdout",
     "output_type": "stream",
     "text": [
      "0.3826512895978069 0.4295753108237433 2.0597574779984575\n"
     ]
    }
   ],
   "source": [
    "print(np.mean(all_rand),np.mean(all_mi),np.mean(all_voi))"
   ]
  },
  {
   "cell_type": "code",
   "execution_count": 32,
   "metadata": {},
   "outputs": [
    {
     "name": "stdout",
     "output_type": "stream",
     "text": [
      "0.024361372481601126 0.015699044032671812 0.04723509257015232\n"
     ]
    }
   ],
   "source": [
    "print(np.std(all_rand),np.std(all_mi),np.std(all_voi))"
   ]
  },
  {
   "cell_type": "code",
   "execution_count": 23,
   "metadata": {},
   "outputs": [
    {
     "name": "stdout",
     "output_type": "stream",
     "text": [
      "0.4105445752806442 0.4490937769284481 2.168953787990019\n"
     ]
    }
   ],
   "source": [
    "print(max(all_rand),max(all_mi),max(all_voi))"
   ]
  },
  {
   "cell_type": "code",
   "execution_count": 33,
   "metadata": {},
   "outputs": [
    {
     "data": {
      "image/png": "[encoded data removed]",
      "text/plain": [
       "<Figure size 432x288 with 1 Axes>"
      ]
     },
     "metadata": {
      "needs_background": "light"
     },
     "output_type": "display_data"
    }
   ],
   "source": [
    "#Distribution of lables\n",
    "import matplotlib.pyplot as plt\n",
    "import numpy as np\n",
    "plt.style.use('ggplot')\n",
    "%matplotlib inline\n",
    "plt.hist(kmeans.labels_)\n",
    "plt.ylabel('Amount');"
   ]
  },
  {
   "cell_type": "code",
   "execution_count": null,
   "metadata": {},
   "outputs": [],
   "source": []
  }
 ],
 "metadata": {
  "kernelspec": {
   "display_name": "Python 3",
   "language": "python",
   "name": "python3"
  },
  "language_info": {
   "codemirror_mode": {
    "name": "ipython",
    "version": 3
   },
   "file_extension": ".py",
   "mimetype": "text/x-python",
   "name": "python",
   "nbconvert_exporter": "python",
   "pygments_lexer": "ipython3",
   "version": "3.7.4"
  }
 },
 "nbformat": 4,
 "nbformat_minor": 2
}
