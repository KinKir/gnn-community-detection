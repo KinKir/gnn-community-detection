{
 "cells": [
  {
   "cell_type": "markdown",
   "metadata": {},
   "source": [
    "# Graph Convolutional Network by Kipf and Welling"
   ]
  },
  {
   "cell_type": "markdown",
   "metadata": {},
   "source": [
    "## Imports"
   ]
  },
  {
   "cell_type": "code",
   "execution_count": 18,
   "metadata": {},
   "outputs": [],
   "source": [
    "import dgl\n",
    "import dgl.function as fn\n",
    "import torch as th\n",
    "import torch.nn as nn\n",
    "import torch.nn.functional as F\n",
    "from dgl import DGLGraph\n",
    "\n",
    "import pickle\n",
    "import copy\n",
    "import numpy as np\n",
    "\n",
    "import itertools\n",
    "\n",
    "import performance as pf"
   ]
  },
  {
   "cell_type": "markdown",
   "metadata": {},
   "source": [
    "## GNN Definition"
   ]
  },
  {
   "cell_type": "code",
   "execution_count": 2,
   "metadata": {},
   "outputs": [],
   "source": [
    "class LinearModule(nn.Module):\n",
    "    \"\"\"The linear transformation part of the GCN layer\"\"\"\n",
    "    def __init__(self, in_feats, out_feats, activation):\n",
    "        super(LinearModule, self).__init__()\n",
    "        self.linear = nn.Linear(in_feats, out_feats)\n",
    "        self.activation = activation # This is the activation function\n",
    "\n",
    "    def forward(self, node):\n",
    "        h = self.linear(node.data['h'])\n",
    "        h = self.activation(h)\n",
    "        return {'h' : h}"
   ]
  },
  {
   "cell_type": "code",
   "execution_count": 3,
   "metadata": {},
   "outputs": [],
   "source": [
    "class GCN(nn.Module):\n",
    "    \"\"\"A GCN layer\"\"\"\n",
    "    def __init__(self, in_feats, out_feats, activation):\n",
    "        super(GCN, self).__init__()\n",
    "        self.apply_mod = LinearModule(in_feats, out_feats, activation)\n",
    "\n",
    "    def forward(self, g, feature):\n",
    "        g.ndata['h'] = feature\n",
    "        g.update_all(message_func=fn.copy_src(src='h', out='m'), reduce_func=fn.sum(msg='m', out='h'))\n",
    "        g.apply_nodes(func=self.apply_mod)\n",
    "        return g.ndata.pop('h')"
   ]
  },
  {
   "cell_type": "code",
   "execution_count": 13,
   "metadata": {},
   "outputs": [],
   "source": [
    "class Net(nn.Module):\n",
    "    def __init__(self, infeats, hidden_size, outfeats):\n",
    "        super(Net, self).__init__()\n",
    "        self.gcn1 = GCN(infeats, hidden_size, F.relu)\n",
    "        self.gcn2 = GCN(hidden_size, hidden_size, F.relu)\n",
    "        self.gcn3 = GCN(hidden_size, outfeats, F.relu)\n",
    "        self.dropout = nn.Dropout(0.2)\n",
    "\n",
    "    def forward(self, g, features):\n",
    "        x = self.gcn1(g, features)\n",
    "        x = self.dropout(x)\n",
    "        #x = self.gcn2(g, x)\n",
    "        x = self.gcn3(g, x)\n",
    "        x = F.log_softmax(x,1)\n",
    "        return x"
   ]
  },
  {
   "cell_type": "markdown",
   "metadata": {},
   "source": [
    "## Data Loading"
   ]
  },
  {
   "cell_type": "code",
   "execution_count": 5,
   "metadata": {},
   "outputs": [],
   "source": [
    "from dgl.data import citation_graph as citegrh\n",
    "import networkx as nx\n",
    "\n",
    "data = citegrh.load_cora()\n",
    "features = th.FloatTensor(data.features)\n",
    "labels = th.LongTensor(data.labels)\n",
    "mask = th.BoolTensor(data.train_mask)\n",
    "g = data.graph\n",
    "\n",
    "# add self loop\n",
    "g.remove_edges_from(nx.selfloop_edges(g))\n",
    "g = DGLGraph(g)\n",
    "g.add_edges(g.nodes(), g.nodes())"
   ]
  },
  {
   "cell_type": "code",
   "execution_count": 50,
   "metadata": {},
   "outputs": [
    {
     "name": "stderr",
     "output_type": "stream",
     "text": [
      "C:\\Users\\a_liso02\\AppData\\Local\\Continuum\\anaconda3\\lib\\site-packages\\dgl\\data\\citation_graph.py:140: RuntimeWarning: divide by zero encountered in power\n",
      "  r_inv = np.power(rowsum, -1).flatten()\n",
      "Finished data loading and preprocessing.\n",
      "  NumNodes: 3327\n",
      "  NumEdges: 9228\n",
      "  NumFeats: 3703\n",
      "  NumClasses: 6\n",
      "  NumTrainingSamples: 120\n",
      "  NumValidationSamples: 500\n",
      "  NumTestSamples: 1000\n"
     ]
    }
   ],
   "source": [
    "citeseer_data = dgl.data.CitationGraphDataset(\"citeseer\")\n",
    "citeseer_features = th.FloatTensor(citeseer_data.features)\n",
    "citeseer_labels = th.LongTensor(citeseer_data.labels)\n",
    "citeseer_mask = th.BoolTensor(citeseer_data.train_mask)\n",
    "citeseer_g = citeseer_data.graph\n",
    "\n",
    "# add self loop\n",
    "citeseer_g.remove_edges_from(nx.selfloop_edges(citeseer_g))\n",
    "citeseer_g = DGLGraph(citeseer_g)\n",
    "citeseer_g.add_edges(citeseer_g.nodes(), citeseer_g.nodes())"
   ]
  },
  {
   "cell_type": "markdown",
   "metadata": {},
   "source": [
    "## Select Training, Validation and Test Set"
   ]
  },
  {
   "cell_type": "code",
   "execution_count": 14,
   "metadata": {},
   "outputs": [],
   "source": [
    "percentage_train = 0.5\n",
    "percentage_val = 0.1\n",
    "\n",
    "with open(\"../data/cora_permutation1.pickle\",\"rb\") as f:\n",
    "    perm1 = pickle.load(f)\n",
    "mask_train = np.zeros(g.number_of_nodes())\n",
    "mask_val = np.zeros(g.number_of_nodes())\n",
    "\n",
    "i_train = int(percentage_train*g.number_of_nodes())\n",
    "i_val = i_train + int(percentage_val*g.number_of_nodes())\n",
    "mask_train[perm1[range(0,i_train)]] = 1\n",
    "mask_val[perm1[range(i_train,i_val)]] = 1\n",
    "mask_train = th.BoolTensor(mask_train)\n",
    "mask_val = th.BoolTensor(mask_val)"
   ]
  },
  {
   "cell_type": "code",
   "execution_count": 83,
   "metadata": {},
   "outputs": [],
   "source": [
    "features = g.in_degrees().float().unsqueeze(1)\n",
    "citeseer_features = citeseer_g.in_degrees().float().unsqueeze(1)"
   ]
  },
  {
   "cell_type": "code",
   "execution_count": 84,
   "metadata": {},
   "outputs": [],
   "source": [
    "features=th.cat([features,th.rand(size=(g.number_of_nodes(),1000))],1)"
   ]
  },
  {
   "cell_type": "code",
   "execution_count": 90,
   "metadata": {},
   "outputs": [],
   "source": [
    "features=th.eye(g.number_of_nodes())\n",
    "citeseer_features=th.eye(citeseer_g.number_of_nodes())"
   ]
  },
  {
   "cell_type": "markdown",
   "metadata": {},
   "source": [
    "## Training"
   ]
  },
  {
   "cell_type": "code",
   "execution_count": 8,
   "metadata": {},
   "outputs": [],
   "source": [
    "loss_function = pf.perm_inv_loss(labels)"
   ]
  },
  {
   "cell_type": "code",
   "execution_count": 20,
   "metadata": {},
   "outputs": [
    {
     "name": "stdout",
     "output_type": "stream",
     "text": [
      "Epoch 00000 | Loss 2.2667 | Train.Rand 0.0270 | Valid.Rand 0.0232 | Time(s) unknown\n",
      "Epoch 00001 | Loss 2.5272 | Train.Rand 0.0207 | Valid.Rand 0.0093 | Time(s) unknown\n",
      "Epoch 00002 | Loss 2.6027 | Train.Rand 0.1183 | Valid.Rand 0.0641 | Time(s) unknown\n",
      "Epoch 00003 | Loss 2.3326 | Train.Rand 0.1997 | Valid.Rand 0.1766 | Time(s) 0.2499\n",
      "Epoch 00004 | Loss 2.1822 | Train.Rand 0.2313 | Valid.Rand 0.1344 | Time(s) 0.2582\n",
      "Epoch 00005 | Loss 2.1375 | Train.Rand 0.3024 | Valid.Rand 0.2139 | Time(s) 0.2576\n",
      "Epoch 00006 | Loss 2.2869 | Train.Rand 0.1705 | Valid.Rand 0.1226 | Time(s) 0.2557\n",
      "Epoch 00007 | Loss 2.4844 | Train.Rand 0.1552 | Valid.Rand 0.1060 | Time(s) 0.2545\n",
      "Epoch 00008 | Loss 2.0696 | Train.Rand 0.2594 | Valid.Rand 0.1856 | Time(s) 0.2554\n",
      "Epoch 00009 | Loss 2.3312 | Train.Rand 0.2998 | Valid.Rand 0.1863 | Time(s) 0.2549\n",
      "Epoch 00010 | Loss 2.0831 | Train.Rand 0.2782 | Valid.Rand 0.2187 | Time(s) 0.2543\n",
      "Epoch 00011 | Loss 2.2683 | Train.Rand 0.1160 | Valid.Rand 0.0817 | Time(s) 0.2538\n",
      "Epoch 00012 | Loss 2.2863 | Train.Rand 0.0359 | Valid.Rand 0.0233 | Time(s) 0.2528\n",
      "Epoch 00013 | Loss 2.3287 | Train.Rand 0.0437 | Valid.Rand 0.0359 | Time(s) 0.2528\n",
      "Epoch 00014 | Loss 2.3046 | Train.Rand 0.0878 | Valid.Rand 0.0744 | Time(s) 0.2525\n",
      "Epoch 00015 | Loss 2.2240 | Train.Rand 0.1176 | Valid.Rand 0.0957 | Time(s) 0.2523\n",
      "Epoch 00016 | Loss 2.0107 | Train.Rand 0.1204 | Valid.Rand 0.1127 | Time(s) 0.2522\n",
      "Epoch 00017 | Loss 2.2200 | Train.Rand 0.1073 | Valid.Rand 0.1080 | Time(s) 0.2520\n",
      "Epoch 00018 | Loss 2.5831 | Train.Rand 0.1093 | Valid.Rand 0.1070 | Time(s) 0.2519\n",
      "Epoch 00019 | Loss 2.6141 | Train.Rand 0.1193 | Valid.Rand 0.1147 | Time(s) 0.2518\n",
      "Epoch 00020 | Loss 2.2168 | Train.Rand 0.1293 | Valid.Rand 0.1178 | Time(s) 0.2517\n",
      "Epoch 00021 | Loss 2.3236 | Train.Rand 0.1420 | Valid.Rand 0.1305 | Time(s) 0.2515\n",
      "Epoch 00022 | Loss 2.2206 | Train.Rand 0.1649 | Valid.Rand 0.1290 | Time(s) 0.2515\n",
      "Epoch 00023 | Loss 2.2532 | Train.Rand 0.1886 | Valid.Rand 0.1321 | Time(s) 0.2514\n",
      "Epoch 00024 | Loss 2.2216 | Train.Rand 0.1318 | Valid.Rand 0.0785 | Time(s) 0.2513\n",
      "Epoch 00025 | Loss 2.2222 | Train.Rand 0.0276 | Valid.Rand 0.0033 | Time(s) 0.2513\n",
      "Epoch 00026 | Loss 2.3666 | Train.Rand 0.0114 | Valid.Rand 0.0176 | Time(s) 0.2512\n",
      "Epoch 00027 | Loss 2.2671 | Train.Rand 0.0142 | Valid.Rand 0.0508 | Time(s) 0.2512\n",
      "Epoch 00028 | Loss 2.1916 | Train.Rand 0.0391 | Valid.Rand 0.0731 | Time(s) 0.2517\n",
      "Epoch 00029 | Loss 2.4728 | Train.Rand 0.0388 | Valid.Rand 0.0767 | Time(s) 0.2524\n",
      "Epoch 00030 | Loss 2.1701 | Train.Rand 0.0627 | Valid.Rand 0.1021 | Time(s) 0.2525\n",
      "Epoch 00031 | Loss 2.2822 | Train.Rand 0.0885 | Valid.Rand 0.1214 | Time(s) 0.2525\n",
      "Epoch 00032 | Loss 2.1887 | Train.Rand 0.0937 | Valid.Rand 0.1243 | Time(s) 0.2527\n",
      "Epoch 00033 | Loss 2.1325 | Train.Rand 0.0975 | Valid.Rand 0.1242 | Time(s) 0.2527\n",
      "Epoch 00034 | Loss 2.3904 | Train.Rand 0.1035 | Valid.Rand 0.1289 | Time(s) 0.2526\n",
      "Epoch 00035 | Loss 2.3572 | Train.Rand 0.1032 | Valid.Rand 0.1243 | Time(s) 0.2525\n",
      "Epoch 00036 | Loss 2.2714 | Train.Rand 0.1060 | Valid.Rand 0.1161 | Time(s) 0.2524\n",
      "Epoch 00037 | Loss 2.3524 | Train.Rand 0.1082 | Valid.Rand 0.1098 | Time(s) 0.2524\n",
      "Epoch 00038 | Loss 2.4440 | Train.Rand 0.0986 | Valid.Rand 0.0982 | Time(s) 0.2524\n",
      "Epoch 00039 | Loss 2.5109 | Train.Rand 0.0893 | Valid.Rand 0.0888 | Time(s) 0.2523\n",
      "Epoch 00040 | Loss 2.1568 | Train.Rand 0.0836 | Valid.Rand 0.0892 | Time(s) 0.2522\n",
      "Epoch 00041 | Loss 2.3500 | Train.Rand 0.0887 | Valid.Rand 0.0918 | Time(s) 0.2522\n",
      "Epoch 00042 | Loss 2.1547 | Train.Rand 0.1359 | Valid.Rand 0.1357 | Time(s) 0.2521\n",
      "Epoch 00043 | Loss 2.3488 | Train.Rand 0.1564 | Valid.Rand 0.1416 | Time(s) 0.2521\n",
      "Epoch 00044 | Loss 2.1907 | Train.Rand 0.1990 | Valid.Rand 0.1859 | Time(s) 0.2520\n",
      "Epoch 00045 | Loss 2.1264 | Train.Rand 0.1836 | Valid.Rand 0.1727 | Time(s) 0.2520\n",
      "Epoch 00046 | Loss 2.1970 | Train.Rand 0.0919 | Valid.Rand 0.0942 | Time(s) 0.2519\n",
      "Epoch 00047 | Loss 2.3242 | Train.Rand 0.0855 | Valid.Rand 0.1018 | Time(s) 0.2520\n",
      "Epoch 00048 | Loss 2.4089 | Train.Rand 0.1045 | Valid.Rand 0.1073 | Time(s) 0.2516\n",
      "Epoch 00049 | Loss 2.3670 | Train.Rand 0.1210 | Valid.Rand 0.1444 | Time(s) 0.2514\n",
      "Epoch 00050 | Loss 2.3611 | Train.Rand 0.1311 | Valid.Rand 0.1200 | Time(s) 0.2516\n",
      "Epoch 00051 | Loss 2.2052 | Train.Rand 0.1185 | Valid.Rand 0.1140 | Time(s) 0.2516\n",
      "Epoch 00052 | Loss 2.2030 | Train.Rand 0.0989 | Valid.Rand 0.0949 | Time(s) 0.2518\n",
      "Epoch 00053 | Loss 2.3504 | Train.Rand 0.0965 | Valid.Rand 0.0886 | Time(s) 0.2519\n",
      "Epoch 00054 | Loss 2.2021 | Train.Rand 0.0785 | Valid.Rand 0.0890 | Time(s) 0.2524\n",
      "Epoch 00055 | Loss 2.2741 | Train.Rand 0.1283 | Valid.Rand 0.1539 | Time(s) 0.2535\n",
      "Epoch 00056 | Loss 2.4669 | Train.Rand 0.2645 | Valid.Rand 0.2507 | Time(s) 0.2542\n",
      "Epoch 00057 | Loss 2.2602 | Train.Rand 0.1857 | Valid.Rand 0.1625 | Time(s) 0.2541\n",
      "Epoch 00058 | Loss 2.3186 | Train.Rand 0.1821 | Valid.Rand 0.1611 | Time(s) 0.2539\n",
      "Epoch 00059 | Loss 2.2489 | Train.Rand 0.1966 | Valid.Rand 0.1592 | Time(s) 0.2542\n",
      "Epoch 00060 | Loss 2.3106 | Train.Rand 0.1924 | Valid.Rand 0.1591 | Time(s) 0.2540\n",
      "Epoch 00061 | Loss 2.2799 | Train.Rand 0.1966 | Valid.Rand 0.1487 | Time(s) 0.2537\n",
      "Epoch 00062 | Loss 2.2708 | Train.Rand 0.1691 | Valid.Rand 0.1221 | Time(s) 0.2536\n",
      "Epoch 00063 | Loss 2.2613 | Train.Rand 0.1608 | Valid.Rand 0.1206 | Time(s) 0.2538\n",
      "Epoch 00064 | Loss 2.1857 | Train.Rand 0.1888 | Valid.Rand 0.1513 | Time(s) 0.2539\n",
      "Epoch 00065 | Loss 2.2288 | Train.Rand 0.2149 | Valid.Rand 0.1688 | Time(s) 0.2537\n",
      "Epoch 00066 | Loss 2.1506 | Train.Rand 0.2484 | Valid.Rand 0.1980 | Time(s) 0.2537\n",
      "Epoch 00067 | Loss 2.1680 | Train.Rand 0.2461 | Valid.Rand 0.1936 | Time(s) 0.2547\n",
      "Epoch 00068 | Loss 2.2341 | Train.Rand 0.2422 | Valid.Rand 0.1797 | Time(s) 0.2551\n",
      "Epoch 00069 | Loss 2.1521 | Train.Rand 0.2128 | Valid.Rand 0.1504 | Time(s) 0.2551\n",
      "Epoch 00070 | Loss 2.4298 | Train.Rand 0.1719 | Valid.Rand 0.1040 | Time(s) 0.2550\n",
      "Epoch 00071 | Loss 2.3731 | Train.Rand 0.1905 | Valid.Rand 0.1452 | Time(s) 0.2558\n",
      "Epoch 00072 | Loss 2.1160 | Train.Rand 0.2247 | Valid.Rand 0.1656 | Time(s) 0.2560\n",
      "Epoch 00073 | Loss 2.3481 | Train.Rand 0.3055 | Valid.Rand 0.2214 | Time(s) 0.2562\n",
      "Epoch 00074 | Loss 2.1325 | Train.Rand 0.3366 | Valid.Rand 0.2518 | Time(s) 0.2577\n",
      "Epoch 00075 | Loss 2.3416 | Train.Rand 0.1926 | Valid.Rand 0.2201 | Time(s) 0.2585\n",
      "Epoch 00076 | Loss 2.3301 | Train.Rand 0.1087 | Valid.Rand 0.1366 | Time(s) 0.2585\n",
      "Epoch 00077 | Loss 2.2310 | Train.Rand 0.0784 | Valid.Rand 0.0779 | Time(s) 0.2586\n",
      "Epoch 00078 | Loss 2.1858 | Train.Rand 0.0774 | Valid.Rand 0.0688 | Time(s) 0.2590\n",
      "Epoch 00079 | Loss 2.1929 | Train.Rand 0.2202 | Valid.Rand 0.1883 | Time(s) 0.2588\n",
      "Epoch 00080 | Loss 2.3178 | Train.Rand 0.2812 | Valid.Rand 0.2264 | Time(s) 0.2587\n",
      "Epoch 00081 | Loss 2.2695 | Train.Rand 0.2780 | Valid.Rand 0.2414 | Time(s) 0.2587\n",
      "Epoch 00082 | Loss 2.1754 | Train.Rand 0.2722 | Valid.Rand 0.2428 | Time(s) 0.2587\n",
      "Epoch 00083 | Loss 2.2712 | Train.Rand 0.2947 | Valid.Rand 0.2737 | Time(s) 0.2585\n",
      "Epoch 00084 | Loss 2.2620 | Train.Rand 0.2925 | Valid.Rand 0.2785 | Time(s) 0.2587\n",
      "Epoch 00085 | Loss 2.2416 | Train.Rand 0.2908 | Valid.Rand 0.2774 | Time(s) 0.2586\n",
      "Epoch 00086 | Loss 2.1503 | Train.Rand 0.3020 | Valid.Rand 0.2766 | Time(s) 0.2589\n",
      "Epoch 00087 | Loss 2.4001 | Train.Rand 0.3121 | Valid.Rand 0.2803 | Time(s) 0.2591\n",
      "Epoch 00088 | Loss 2.2999 | Train.Rand 0.2769 | Valid.Rand 0.2447 | Time(s) 0.2593\n",
      "Epoch 00089 | Loss 2.1918 | Train.Rand 0.2709 | Valid.Rand 0.2368 | Time(s) 0.2604\n",
      "Epoch 00090 | Loss 2.1076 | Train.Rand 0.2842 | Valid.Rand 0.2599 | Time(s) 0.2608\n",
      "Epoch 00091 | Loss 2.1557 | Train.Rand 0.2844 | Valid.Rand 0.2866 | Time(s) 0.2609\n",
      "Epoch 00092 | Loss 2.2423 | Train.Rand 0.3102 | Valid.Rand 0.3027 | Time(s) 0.2609\n",
      "Epoch 00093 | Loss 2.1530 | Train.Rand 0.3297 | Valid.Rand 0.3125 | Time(s) 0.2614\n",
      "Epoch 00094 | Loss 2.1369 | Train.Rand 0.3373 | Valid.Rand 0.3274 | Time(s) 0.2615\n",
      "Epoch 00095 | Loss 2.1840 | Train.Rand 0.3447 | Valid.Rand 0.3723 | Time(s) 0.2618\n",
      "Epoch 00096 | Loss 2.2945 | Train.Rand 0.3252 | Valid.Rand 0.3204 | Time(s) 0.2625\n",
      "Epoch 00097 | Loss 2.4071 | Train.Rand 0.3600 | Valid.Rand 0.3795 | Time(s) 0.2631\n"
     ]
    },
    {
     "name": "stdout",
     "output_type": "stream",
     "text": [
      "Epoch 00098 | Loss 2.2133 | Train.Rand 0.3896 | Valid.Rand 0.3740 | Time(s) 0.2639\n",
      "Epoch 00099 | Loss 2.2674 | Train.Rand 0.4062 | Valid.Rand 0.3817 | Time(s) 0.2637\n",
      "Epoch 00100 | Loss 2.2156 | Train.Rand 0.3762 | Valid.Rand 0.3570 | Time(s) 0.2636\n",
      "Epoch 00101 | Loss 2.1701 | Train.Rand 0.3231 | Valid.Rand 0.2762 | Time(s) 0.2633\n",
      "Epoch 00102 | Loss 2.1906 | Train.Rand 0.2194 | Valid.Rand 0.1274 | Time(s) 0.2632\n",
      "Epoch 00103 | Loss 2.3927 | Train.Rand 0.2204 | Valid.Rand 0.1490 | Time(s) 0.2629\n",
      "Epoch 00104 | Loss 2.3812 | Train.Rand 0.3172 | Valid.Rand 0.2549 | Time(s) 0.2628\n",
      "Epoch 00105 | Loss 2.4337 | Train.Rand 0.3986 | Valid.Rand 0.3120 | Time(s) 0.2626\n",
      "Epoch 00106 | Loss 2.2295 | Train.Rand 0.2886 | Valid.Rand 0.2523 | Time(s) 0.2624\n",
      "Epoch 00107 | Loss 2.3366 | Train.Rand 0.1061 | Valid.Rand 0.0644 | Time(s) 0.2623\n",
      "Epoch 00108 | Loss 2.3593 | Train.Rand 0.1174 | Valid.Rand 0.0615 | Time(s) 0.2622\n",
      "Epoch 00109 | Loss 2.2021 | Train.Rand 0.1660 | Valid.Rand 0.0862 | Time(s) 0.2620\n",
      "Epoch 00110 | Loss 2.2939 | Train.Rand 0.1622 | Valid.Rand 0.1349 | Time(s) 0.2617\n",
      "Epoch 00111 | Loss 2.3656 | Train.Rand 0.2013 | Valid.Rand 0.1964 | Time(s) 0.2616\n",
      "Epoch 00112 | Loss 2.3317 | Train.Rand 0.2597 | Valid.Rand 0.2206 | Time(s) 0.2614\n",
      "Epoch 00113 | Loss 2.1889 | Train.Rand 0.2506 | Valid.Rand 0.2124 | Time(s) 0.2612\n",
      "Epoch 00114 | Loss 2.3381 | Train.Rand 0.2572 | Valid.Rand 0.2384 | Time(s) 0.2611\n",
      "Epoch 00115 | Loss 2.2181 | Train.Rand 0.3865 | Valid.Rand 0.3317 | Time(s) 0.2611\n",
      "Epoch 00116 | Loss 2.1162 | Train.Rand 0.3124 | Valid.Rand 0.2290 | Time(s) 0.2610\n",
      "Epoch 00117 | Loss 2.2001 | Train.Rand 0.2553 | Valid.Rand 0.1916 | Time(s) 0.2610\n",
      "Epoch 00118 | Loss 2.3978 | Train.Rand 0.2133 | Valid.Rand 0.1626 | Time(s) 0.2608\n",
      "Epoch 00119 | Loss 2.3077 | Train.Rand 0.1535 | Valid.Rand 0.1210 | Time(s) 0.2606\n",
      "Epoch 00120 | Loss 2.2379 | Train.Rand 0.1424 | Valid.Rand 0.1158 | Time(s) 0.2606\n",
      "Epoch 00121 | Loss 2.2332 | Train.Rand 0.1598 | Valid.Rand 0.1279 | Time(s) 0.2607\n",
      "Epoch 00122 | Loss 2.2568 | Train.Rand 0.2149 | Valid.Rand 0.1931 | Time(s) 0.2610\n",
      "Epoch 00123 | Loss 2.3610 | Train.Rand 0.3424 | Valid.Rand 0.2658 | Time(s) 0.2610\n",
      "Epoch 00124 | Loss 2.1851 | Train.Rand 0.3961 | Valid.Rand 0.2905 | Time(s) 0.2610\n",
      "Epoch 00125 | Loss 2.2367 | Train.Rand 0.4547 | Valid.Rand 0.3778 | Time(s) 0.2611\n",
      "Epoch 00126 | Loss 2.3898 | Train.Rand 0.3731 | Valid.Rand 0.3180 | Time(s) 0.2613\n",
      "Epoch 00127 | Loss 2.2066 | Train.Rand 0.2438 | Valid.Rand 0.2076 | Time(s) 0.2614\n",
      "Epoch 00128 | Loss 2.4621 | Train.Rand 0.1636 | Valid.Rand 0.1497 | Time(s) 0.2615\n",
      "Epoch 00129 | Loss 2.2080 | Train.Rand 0.1519 | Valid.Rand 0.1393 | Time(s) 0.2615\n",
      "Epoch 00130 | Loss 2.5295 | Train.Rand 0.1223 | Valid.Rand 0.1128 | Time(s) 0.2616\n",
      "Epoch 00131 | Loss 2.3983 | Train.Rand 0.1846 | Valid.Rand 0.1992 | Time(s) 0.2618\n",
      "Epoch 00132 | Loss 2.4029 | Train.Rand 0.2438 | Valid.Rand 0.2532 | Time(s) 0.2619\n",
      "Epoch 00133 | Loss 2.3956 | Train.Rand 0.2738 | Valid.Rand 0.2133 | Time(s) 0.2620\n",
      "Epoch 00134 | Loss 2.1344 | Train.Rand 0.3750 | Valid.Rand 0.2881 | Time(s) 0.2622\n",
      "Epoch 00135 | Loss 2.3030 | Train.Rand 0.1460 | Valid.Rand 0.1144 | Time(s) 0.2622\n",
      "Epoch 00136 | Loss 2.1835 | Train.Rand 0.1072 | Valid.Rand 0.0755 | Time(s) 0.2622\n",
      "Epoch 00137 | Loss 2.3776 | Train.Rand 0.0867 | Valid.Rand 0.0565 | Time(s) 0.2624\n",
      "Epoch 00138 | Loss 2.2665 | Train.Rand 0.0955 | Valid.Rand 0.0627 | Time(s) 0.2624\n",
      "Epoch 00139 | Loss 2.1608 | Train.Rand 0.1028 | Valid.Rand 0.0680 | Time(s) 0.2624\n",
      "Epoch 00140 | Loss 2.2333 | Train.Rand 0.1120 | Valid.Rand 0.0983 | Time(s) 0.2625\n",
      "Epoch 00141 | Loss 2.1923 | Train.Rand 0.1780 | Valid.Rand 0.1470 | Time(s) 0.2626\n",
      "Epoch 00142 | Loss 2.2006 | Train.Rand 0.2653 | Valid.Rand 0.1978 | Time(s) 0.2626\n",
      "Epoch 00143 | Loss 2.1789 | Train.Rand 0.3375 | Valid.Rand 0.2567 | Time(s) 0.2626\n",
      "Epoch 00144 | Loss 2.3334 | Train.Rand 0.3684 | Valid.Rand 0.2920 | Time(s) 0.2628\n",
      "Epoch 00145 | Loss 2.2820 | Train.Rand 0.4100 | Valid.Rand 0.2923 | Time(s) 0.2629\n",
      "Epoch 00146 | Loss 2.3194 | Train.Rand 0.4181 | Valid.Rand 0.3150 | Time(s) 0.2628\n",
      "Epoch 00147 | Loss 2.2018 | Train.Rand 0.3846 | Valid.Rand 0.3234 | Time(s) 0.2629\n",
      "Epoch 00148 | Loss 2.3238 | Train.Rand 0.3692 | Valid.Rand 0.3294 | Time(s) 0.2629\n",
      "Epoch 00149 | Loss 2.1236 | Train.Rand 0.3991 | Valid.Rand 0.3164 | Time(s) 0.2631\n",
      "Epoch 00150 | Loss 2.1903 | Train.Rand 0.3259 | Valid.Rand 0.2434 | Time(s) 0.2631\n",
      "Epoch 00151 | Loss 2.1297 | Train.Rand 0.2801 | Valid.Rand 0.2144 | Time(s) 0.2633\n",
      "Epoch 00152 | Loss 2.2961 | Train.Rand 0.3092 | Valid.Rand 0.2245 | Time(s) 0.2633\n",
      "Epoch 00153 | Loss 2.2641 | Train.Rand 0.3069 | Valid.Rand 0.2383 | Time(s) 0.2632\n",
      "Epoch 00154 | Loss 2.1370 | Train.Rand 0.2974 | Valid.Rand 0.1998 | Time(s) 0.2633\n",
      "Epoch 00155 | Loss 2.0671 | Train.Rand 0.1832 | Valid.Rand 0.1189 | Time(s) 0.2635\n",
      "Epoch 00156 | Loss 2.1887 | Train.Rand 0.1271 | Valid.Rand 0.0841 | Time(s) 0.2636\n",
      "Epoch 00157 | Loss 2.2040 | Train.Rand 0.1145 | Valid.Rand 0.0809 | Time(s) 0.2637\n",
      "Epoch 00158 | Loss 2.3252 | Train.Rand 0.1192 | Valid.Rand 0.0949 | Time(s) 0.2638\n",
      "Epoch 00159 | Loss 2.1655 | Train.Rand 0.1309 | Valid.Rand 0.1029 | Time(s) 0.2640\n",
      "Epoch 00160 | Loss 1.9293 | Train.Rand 0.1258 | Valid.Rand 0.1027 | Time(s) 0.2641\n",
      "Epoch 00161 | Loss 2.3206 | Train.Rand 0.1204 | Valid.Rand 0.0992 | Time(s) 0.2643\n",
      "Epoch 00162 | Loss 2.3327 | Train.Rand 0.1208 | Valid.Rand 0.1014 | Time(s) 0.2644\n",
      "Epoch 00163 | Loss 2.5797 | Train.Rand 0.1322 | Valid.Rand 0.1093 | Time(s) 0.2645\n",
      "Epoch 00164 | Loss 2.3282 | Train.Rand 0.1696 | Valid.Rand 0.1265 | Time(s) 0.2646\n",
      "Epoch 00165 | Loss 2.1116 | Train.Rand 0.2381 | Valid.Rand 0.1500 | Time(s) 0.2647\n",
      "Epoch 00166 | Loss 2.3509 | Train.Rand 0.2640 | Valid.Rand 0.1673 | Time(s) 0.2646\n",
      "Epoch 00167 | Loss 2.2159 | Train.Rand 0.3016 | Valid.Rand 0.1867 | Time(s) 0.2648\n",
      "Epoch 00168 | Loss 2.3825 | Train.Rand 0.2789 | Valid.Rand 0.2026 | Time(s) 0.2648\n",
      "Epoch 00169 | Loss 2.3345 | Train.Rand 0.3142 | Valid.Rand 0.2339 | Time(s) 0.2650\n",
      "Epoch 00170 | Loss 2.1725 | Train.Rand 0.4134 | Valid.Rand 0.2940 | Time(s) 0.2650\n",
      "Epoch 00171 | Loss 2.2403 | Train.Rand 0.3508 | Valid.Rand 0.2766 | Time(s) 0.2650\n",
      "Epoch 00172 | Loss 2.2952 | Train.Rand 0.1878 | Valid.Rand 0.1467 | Time(s) 0.2650\n",
      "Epoch 00173 | Loss 2.3343 | Train.Rand 0.1537 | Valid.Rand 0.1320 | Time(s) 0.2651\n",
      "Epoch 00174 | Loss 2.2486 | Train.Rand 0.2753 | Valid.Rand 0.2226 | Time(s) 0.2651\n",
      "Epoch 00175 | Loss 2.3099 | Train.Rand 0.4082 | Valid.Rand 0.2765 | Time(s) 0.2652\n",
      "Epoch 00176 | Loss 2.0663 | Train.Rand 0.3666 | Valid.Rand 0.2465 | Time(s) 0.2652\n",
      "Epoch 00177 | Loss 2.1203 | Train.Rand 0.2273 | Valid.Rand 0.1801 | Time(s) 0.2652\n",
      "Epoch 00178 | Loss 2.1829 | Train.Rand 0.1682 | Valid.Rand 0.1528 | Time(s) 0.2652\n",
      "Epoch 00179 | Loss 2.3266 | Train.Rand 0.1380 | Valid.Rand 0.1127 | Time(s) 0.2653\n",
      "Epoch 00180 | Loss 2.4350 | Train.Rand 0.1315 | Valid.Rand 0.1153 | Time(s) 0.2653\n",
      "Epoch 00181 | Loss 2.4831 | Train.Rand 0.1505 | Valid.Rand 0.1298 | Time(s) 0.2654\n",
      "Epoch 00182 | Loss 2.3970 | Train.Rand 0.2034 | Valid.Rand 0.1841 | Time(s) 0.2655\n",
      "Epoch 00183 | Loss 2.3018 | Train.Rand 0.3070 | Valid.Rand 0.2576 | Time(s) 0.2655\n",
      "Epoch 00184 | Loss 2.2462 | Train.Rand 0.2493 | Valid.Rand 0.1553 | Time(s) 0.2655\n",
      "Epoch 00185 | Loss 2.4146 | Train.Rand 0.0207 | Valid.Rand -0.0091 | Time(s) 0.2655\n",
      "Epoch 00186 | Loss 2.2978 | Train.Rand -0.0286 | Valid.Rand -0.0225 | Time(s) 0.2656\n",
      "Epoch 00187 | Loss 2.1353 | Train.Rand -0.0186 | Valid.Rand -0.0071 | Time(s) 0.2657\n",
      "Epoch 00188 | Loss 2.3815 | Train.Rand 0.0019 | Valid.Rand 0.0028 | Time(s) 0.2660\n",
      "Epoch 00189 | Loss 2.2082 | Train.Rand 0.0150 | Valid.Rand 0.0136 | Time(s) 0.2662\n",
      "Epoch 00190 | Loss 2.2472 | Train.Rand 0.0556 | Valid.Rand 0.0547 | Time(s) 0.2668\n",
      "Epoch 00191 | Loss 2.4636 | Train.Rand 0.0788 | Valid.Rand 0.0577 | Time(s) 0.2670\n",
      "Epoch 00192 | Loss 2.2437 | Train.Rand 0.1983 | Valid.Rand 0.1974 | Time(s) 0.2674\n",
      "Epoch 00193 | Loss 2.4034 | Train.Rand 0.0590 | Valid.Rand 0.0296 | Time(s) 0.2679\n",
      "Epoch 00194 | Loss 2.1068 | Train.Rand 0.0312 | Valid.Rand 0.0148 | Time(s) 0.2680\n",
      "Epoch 00195 | Loss 2.4307 | Train.Rand 0.0126 | Valid.Rand 0.0064 | Time(s) 0.2680\n"
     ]
    },
    {
     "name": "stdout",
     "output_type": "stream",
     "text": [
      "Epoch 00196 | Loss 2.3974 | Train.Rand 0.0230 | Valid.Rand 0.0110 | Time(s) 0.2681\n",
      "Epoch 00197 | Loss 2.3534 | Train.Rand 0.0404 | Valid.Rand 0.0249 | Time(s) 0.2681\n",
      "Epoch 00198 | Loss 2.1655 | Train.Rand 0.0833 | Valid.Rand 0.0604 | Time(s) 0.2682\n",
      "Epoch 00199 | Loss 2.4626 | Train.Rand 0.0988 | Valid.Rand 0.0904 | Time(s) 0.2684\n",
      "Epoch 00200 | Loss 2.0706 | Train.Rand 0.1174 | Valid.Rand 0.1207 | Time(s) 0.2686\n",
      "Epoch 00201 | Loss 2.2124 | Train.Rand 0.1203 | Valid.Rand 0.1207 | Time(s) 0.2689\n",
      "Epoch 00202 | Loss 2.3218 | Train.Rand 0.1207 | Valid.Rand 0.1213 | Time(s) 0.2690\n",
      "Epoch 00203 | Loss 2.2857 | Train.Rand 0.1263 | Valid.Rand 0.1244 | Time(s) 0.2690\n",
      "Epoch 00204 | Loss 2.3093 | Train.Rand 0.1311 | Valid.Rand 0.1255 | Time(s) 0.2691\n",
      "Epoch 00205 | Loss 2.4075 | Train.Rand 0.1413 | Valid.Rand 0.1248 | Time(s) 0.2692\n",
      "Epoch 00206 | Loss 2.3626 | Train.Rand 0.1319 | Valid.Rand 0.1227 | Time(s) 0.2693\n",
      "Epoch 00207 | Loss 2.3573 | Train.Rand 0.1322 | Valid.Rand 0.1039 | Time(s) 0.2693\n",
      "Epoch 00208 | Loss 2.2741 | Train.Rand 0.1294 | Valid.Rand 0.0942 | Time(s) 0.2694\n",
      "Epoch 00209 | Loss 2.4294 | Train.Rand 0.1219 | Valid.Rand 0.0943 | Time(s) 0.2695\n",
      "Epoch 00210 | Loss 2.2074 | Train.Rand 0.1144 | Valid.Rand 0.0987 | Time(s) 0.2696\n",
      "Epoch 00211 | Loss 2.3953 | Train.Rand 0.1131 | Valid.Rand 0.1056 | Time(s) 0.2698\n",
      "Epoch 00212 | Loss 2.3562 | Train.Rand 0.1121 | Valid.Rand 0.1016 | Time(s) 0.2699\n",
      "Epoch 00213 | Loss 2.2159 | Train.Rand 0.1103 | Valid.Rand 0.1004 | Time(s) 0.2699\n",
      "Epoch 00214 | Loss 2.2094 | Train.Rand 0.1052 | Valid.Rand 0.1064 | Time(s) 0.2701\n",
      "Epoch 00215 | Loss 2.4912 | Train.Rand 0.1051 | Valid.Rand 0.1058 | Time(s) 0.2702\n",
      "Epoch 00216 | Loss 2.2821 | Train.Rand 0.1172 | Valid.Rand 0.1168 | Time(s) 0.2704\n",
      "Epoch 00217 | Loss 2.1943 | Train.Rand 0.1857 | Valid.Rand 0.1622 | Time(s) 0.2705\n",
      "Epoch 00218 | Loss 2.4526 | Train.Rand 0.2355 | Valid.Rand 0.1840 | Time(s) 0.2706\n",
      "Epoch 00219 | Loss 2.2889 | Train.Rand 0.2911 | Valid.Rand 0.2546 | Time(s) 0.2707\n",
      "Epoch 00220 | Loss 2.1092 | Train.Rand 0.2982 | Valid.Rand 0.2628 | Time(s) 0.2709\n",
      "Epoch 00221 | Loss 2.2914 | Train.Rand 0.2570 | Valid.Rand 0.2140 | Time(s) 0.2710\n",
      "Epoch 00222 | Loss 2.2172 | Train.Rand 0.2466 | Valid.Rand 0.2147 | Time(s) 0.2711\n",
      "Epoch 00223 | Loss 2.2188 | Train.Rand 0.2460 | Valid.Rand 0.1999 | Time(s) 0.2711\n",
      "Epoch 00224 | Loss 2.3383 | Train.Rand 0.1961 | Valid.Rand 0.1554 | Time(s) 0.2712\n",
      "Epoch 00225 | Loss 2.3612 | Train.Rand 0.1812 | Valid.Rand 0.1209 | Time(s) 0.2712\n"
     ]
    }
   ],
   "source": [
    "import time\n",
    "\n",
    "net = Net(features.shape[1], 100, len(np.unique(labels)))\n",
    "#print(net)\n",
    "\n",
    "optimizer = th.optim.Adam(net.parameters(), lr=1e-2, weight_decay=1e-2)\n",
    "net.train() # Set to training mode (use dropout)\n",
    "\n",
    "dur = []\n",
    "loss_ev = []\n",
    "current_best = 0 #arbitrarily high\n",
    "current_best_epoch = 0\n",
    "current_best_model = None\n",
    "no_improvement_for = 0\n",
    "\n",
    "for epoch in range(10000):\n",
    "    if epoch >=3:\n",
    "        t0 = time.time()\n",
    "\n",
    "    # Compute loss for test nodes (only for validation, not used by optimizer)\n",
    "    net.eval()\n",
    "    prediction = net(g, features)\n",
    "    train_rand=pf.rand_score(labels[mask_train].numpy(),np.argmax(prediction[mask_train].detach().numpy(), axis=1))\n",
    "    validation_rand=pf.rand_score(labels[mask_val].numpy(),np.argmax(prediction[mask_val].detach().numpy(), axis=1))\n",
    "    if train_rand>current_best:\n",
    "        current_best = train_rand\n",
    "        current_best_epoch = epoch\n",
    "        current_best_model = copy.deepcopy(net)\n",
    "        no_improvement_for = 0\n",
    "    else: no_improvement_for += 1\n",
    "    \n",
    "    if no_improvement_for>100:\n",
    "        break\n",
    "    \n",
    "    net.train()\n",
    "\n",
    "    # Compute loss for train nodes\n",
    "    logits = net(g, features)\n",
    "\n",
    "    loss = loss_function.approximate_loss(logits,mask_train,nclasses=5)\n",
    "    loss_ev.append(loss.detach().item())\n",
    "\n",
    "    #loss = F.nll_loss(logits[mask_train], labels[mask_train])\n",
    "    \n",
    "    optimizer.zero_grad()\n",
    "    loss.backward()\n",
    "    optimizer.step()\n",
    "\n",
    "    if epoch >=3:\n",
    "        dur.append(time.time() - t0)\n",
    "        print(f\"Epoch {epoch:05d} | Loss {loss.item():.4f} | Train.Rand {train_rand:.4f} | Valid.Rand {validation_rand:.4f} | Time(s) {np.mean(dur):.4f}\")\n",
    "    else:\n",
    "        print(f\"Epoch {epoch:05d} | Loss {loss.item():.4f} | Train.Rand {train_rand:.4f} | Valid.Rand {validation_rand:.4f} | Time(s) unknown\")"
   ]
  },
  {
   "cell_type": "code",
   "execution_count": 56,
   "metadata": {},
   "outputs": [
    {
     "data": {
      "text/plain": [
       "array([[5, 4],\n",
       "       [2, 2],\n",
       "       [4, 1],\n",
       "       [0, 0],\n",
       "       [0, 0],\n",
       "       [0, 5],\n",
       "       [4, 1],\n",
       "       [2, 2],\n",
       "       [3, 2],\n",
       "       [2, 2]], dtype=int64)"
      ]
     },
     "execution_count": 56,
     "metadata": {},
     "output_type": "execute_result"
    }
   ],
   "source": [
    "# Visualise predictions\n",
    "net.eval() # Set net to evaluation mode (deactivates dropout)\n",
    "final_prediction = net(g, features).detach()\n",
    "a = np.transpose(np.vstack([final_prediction[mask].numpy().argmax(axis=1),labels[mask].numpy()]))\n",
    "a[a[:,0].argsort()][np.random.choice(range(a.shape[0]),size=10)]\n",
    "# as can be seen, the net predicts other labels, but gets the clusters right :)"
   ]
  },
  {
   "cell_type": "markdown",
   "metadata": {},
   "source": [
    "## Evaluation"
   ]
  },
  {
   "cell_type": "code",
   "execution_count": 21,
   "metadata": {},
   "outputs": [
    {
     "data": {
      "text/html": [
       "<div>\n",
       "<style scoped>\n",
       "    .dataframe tbody tr th:only-of-type {\n",
       "        vertical-align: middle;\n",
       "    }\n",
       "\n",
       "    .dataframe tbody tr th {\n",
       "        vertical-align: top;\n",
       "    }\n",
       "\n",
       "    .dataframe thead th {\n",
       "        text-align: right;\n",
       "    }\n",
       "</style>\n",
       "<table border=\"1\" class=\"dataframe\">\n",
       "  <thead>\n",
       "    <tr style=\"text-align: right;\">\n",
       "      <th></th>\n",
       "      <th>All</th>\n",
       "      <th>Train</th>\n",
       "      <th>Test</th>\n",
       "    </tr>\n",
       "  </thead>\n",
       "  <tbody>\n",
       "    <tr>\n",
       "      <td>Rand-Index</td>\n",
       "      <td>0.159913</td>\n",
       "      <td>0.188761</td>\n",
       "      <td>0.157953</td>\n",
       "    </tr>\n",
       "    <tr>\n",
       "      <td>Mutual Information</td>\n",
       "      <td>0.352600</td>\n",
       "      <td>0.371837</td>\n",
       "      <td>0.349843</td>\n",
       "    </tr>\n",
       "    <tr>\n",
       "      <td>Variation of Information</td>\n",
       "      <td>1.676176</td>\n",
       "      <td>1.547768</td>\n",
       "      <td>1.679533</td>\n",
       "    </tr>\n",
       "  </tbody>\n",
       "</table>\n",
       "</div>"
      ],
      "text/plain": [
       "                              All      Train      Test\n",
       "Rand-Index                0.159913  0.188761  0.157953\n",
       "Mutual Information        0.352600  0.371837  0.349843\n",
       "Variation of Information  1.676176  1.547768  1.679533"
      ]
     },
     "execution_count": 21,
     "metadata": {},
     "output_type": "execute_result"
    }
   ],
   "source": [
    "net.eval() # Set net to evaluation mode (deactivates dropout)\n",
    "final_prediction = net(g, features).detach()\n",
    "pf.performance_as_df(labels,final_prediction,mask)"
   ]
  },
  {
   "cell_type": "code",
   "execution_count": 22,
   "metadata": {},
   "outputs": [
    {
     "data": {
      "text/html": [
       "<div>\n",
       "<style scoped>\n",
       "    .dataframe tbody tr th:only-of-type {\n",
       "        vertical-align: middle;\n",
       "    }\n",
       "\n",
       "    .dataframe tbody tr th {\n",
       "        vertical-align: top;\n",
       "    }\n",
       "\n",
       "    .dataframe thead th {\n",
       "        text-align: right;\n",
       "    }\n",
       "</style>\n",
       "<table border=\"1\" class=\"dataframe\">\n",
       "  <thead>\n",
       "    <tr style=\"text-align: right;\">\n",
       "      <th></th>\n",
       "      <th>All</th>\n",
       "      <th>Train</th>\n",
       "      <th>Test</th>\n",
       "    </tr>\n",
       "  </thead>\n",
       "  <tbody>\n",
       "    <tr>\n",
       "      <td>Rand-Index</td>\n",
       "      <td>0.412778</td>\n",
       "      <td>0.392583</td>\n",
       "      <td>0.414029</td>\n",
       "    </tr>\n",
       "    <tr>\n",
       "      <td>Mutual Information</td>\n",
       "      <td>0.410194</td>\n",
       "      <td>0.401718</td>\n",
       "      <td>0.410272</td>\n",
       "    </tr>\n",
       "    <tr>\n",
       "      <td>Variation of Information</td>\n",
       "      <td>1.833678</td>\n",
       "      <td>1.774588</td>\n",
       "      <td>1.830229</td>\n",
       "    </tr>\n",
       "  </tbody>\n",
       "</table>\n",
       "</div>"
      ],
      "text/plain": [
       "                              All      Train      Test\n",
       "Rand-Index                0.412778  0.392583  0.414029\n",
       "Mutual Information        0.410194  0.401718  0.410272\n",
       "Variation of Information  1.833678  1.774588  1.830229"
      ]
     },
     "execution_count": 22,
     "metadata": {},
     "output_type": "execute_result"
    }
   ],
   "source": [
    "current_best_model.eval() # Set net to evaluation mode (deactivates dropout)\n",
    "final_prediction = current_best_model(g, features).detach()\n",
    "pf.performance_as_df(labels,final_prediction,mask)"
   ]
  },
  {
   "cell_type": "code",
   "execution_count": 92,
   "metadata": {},
   "outputs": [
    {
     "ename": "DGLError",
     "evalue": "Expect number of features to match number of nodes (len(u)). Got 2708 and 3327 instead.",
     "output_type": "error",
     "traceback": [
      "\u001b[1;31m---------------------------------------------------------------------------\u001b[0m",
      "\u001b[1;31mDGLError\u001b[0m                                  Traceback (most recent call last)",
      "\u001b[1;32m<ipython-input-92-d29c4c225b1e>\u001b[0m in \u001b[0;36m<module>\u001b[1;34m\u001b[0m\n\u001b[0;32m      1\u001b[0m \u001b[0mnet\u001b[0m\u001b[1;33m.\u001b[0m\u001b[0meval\u001b[0m\u001b[1;33m(\u001b[0m\u001b[1;33m)\u001b[0m \u001b[1;31m# Set net to evaluation mode (deactivates dropout)\u001b[0m\u001b[1;33m\u001b[0m\u001b[1;33m\u001b[0m\u001b[0m\n\u001b[1;32m----> 2\u001b[1;33m \u001b[0mfinal_prediction\u001b[0m \u001b[1;33m=\u001b[0m \u001b[0mnet\u001b[0m\u001b[1;33m(\u001b[0m\u001b[0mciteseer_g\u001b[0m\u001b[1;33m,\u001b[0m \u001b[0mfeatures\u001b[0m\u001b[1;33m)\u001b[0m\u001b[1;33m.\u001b[0m\u001b[0mdetach\u001b[0m\u001b[1;33m(\u001b[0m\u001b[1;33m)\u001b[0m\u001b[1;33m\u001b[0m\u001b[1;33m\u001b[0m\u001b[0m\n\u001b[0m\u001b[0;32m      3\u001b[0m \u001b[0mpf\u001b[0m\u001b[1;33m.\u001b[0m\u001b[0mperformance_as_df\u001b[0m\u001b[1;33m(\u001b[0m\u001b[0mciteseer_labels\u001b[0m\u001b[1;33m,\u001b[0m\u001b[0mfinal_prediction\u001b[0m\u001b[1;33m,\u001b[0m\u001b[0mmask\u001b[0m\u001b[1;33m)\u001b[0m\u001b[1;33m\u001b[0m\u001b[1;33m\u001b[0m\u001b[0m\n",
      "\u001b[1;32m~\\AppData\\Local\\Continuum\\anaconda3\\lib\\site-packages\\torch\\nn\\modules\\module.py\u001b[0m in \u001b[0;36m__call__\u001b[1;34m(self, *input, **kwargs)\u001b[0m\n\u001b[0;32m    487\u001b[0m             \u001b[0mresult\u001b[0m \u001b[1;33m=\u001b[0m \u001b[0mself\u001b[0m\u001b[1;33m.\u001b[0m\u001b[0m_slow_forward\u001b[0m\u001b[1;33m(\u001b[0m\u001b[1;33m*\u001b[0m\u001b[0minput\u001b[0m\u001b[1;33m,\u001b[0m \u001b[1;33m**\u001b[0m\u001b[0mkwargs\u001b[0m\u001b[1;33m)\u001b[0m\u001b[1;33m\u001b[0m\u001b[1;33m\u001b[0m\u001b[0m\n\u001b[0;32m    488\u001b[0m         \u001b[1;32melse\u001b[0m\u001b[1;33m:\u001b[0m\u001b[1;33m\u001b[0m\u001b[1;33m\u001b[0m\u001b[0m\n\u001b[1;32m--> 489\u001b[1;33m             \u001b[0mresult\u001b[0m \u001b[1;33m=\u001b[0m \u001b[0mself\u001b[0m\u001b[1;33m.\u001b[0m\u001b[0mforward\u001b[0m\u001b[1;33m(\u001b[0m\u001b[1;33m*\u001b[0m\u001b[0minput\u001b[0m\u001b[1;33m,\u001b[0m \u001b[1;33m**\u001b[0m\u001b[0mkwargs\u001b[0m\u001b[1;33m)\u001b[0m\u001b[1;33m\u001b[0m\u001b[1;33m\u001b[0m\u001b[0m\n\u001b[0m\u001b[0;32m    490\u001b[0m         \u001b[1;32mfor\u001b[0m \u001b[0mhook\u001b[0m \u001b[1;32min\u001b[0m \u001b[0mself\u001b[0m\u001b[1;33m.\u001b[0m\u001b[0m_forward_hooks\u001b[0m\u001b[1;33m.\u001b[0m\u001b[0mvalues\u001b[0m\u001b[1;33m(\u001b[0m\u001b[1;33m)\u001b[0m\u001b[1;33m:\u001b[0m\u001b[1;33m\u001b[0m\u001b[1;33m\u001b[0m\u001b[0m\n\u001b[0;32m    491\u001b[0m             \u001b[0mhook_result\u001b[0m \u001b[1;33m=\u001b[0m \u001b[0mhook\u001b[0m\u001b[1;33m(\u001b[0m\u001b[0mself\u001b[0m\u001b[1;33m,\u001b[0m \u001b[0minput\u001b[0m\u001b[1;33m,\u001b[0m \u001b[0mresult\u001b[0m\u001b[1;33m)\u001b[0m\u001b[1;33m\u001b[0m\u001b[1;33m\u001b[0m\u001b[0m\n",
      "\u001b[1;32m<ipython-input-81-39a7789d79e8>\u001b[0m in \u001b[0;36mforward\u001b[1;34m(self, g, features)\u001b[0m\n\u001b[0;32m      8\u001b[0m \u001b[1;33m\u001b[0m\u001b[0m\n\u001b[0;32m      9\u001b[0m     \u001b[1;32mdef\u001b[0m \u001b[0mforward\u001b[0m\u001b[1;33m(\u001b[0m\u001b[0mself\u001b[0m\u001b[1;33m,\u001b[0m \u001b[0mg\u001b[0m\u001b[1;33m,\u001b[0m \u001b[0mfeatures\u001b[0m\u001b[1;33m)\u001b[0m\u001b[1;33m:\u001b[0m\u001b[1;33m\u001b[0m\u001b[1;33m\u001b[0m\u001b[0m\n\u001b[1;32m---> 10\u001b[1;33m         \u001b[0mx\u001b[0m \u001b[1;33m=\u001b[0m \u001b[0mself\u001b[0m\u001b[1;33m.\u001b[0m\u001b[0mgcn1\u001b[0m\u001b[1;33m(\u001b[0m\u001b[0mg\u001b[0m\u001b[1;33m,\u001b[0m \u001b[0mfeatures\u001b[0m\u001b[1;33m)\u001b[0m\u001b[1;33m\u001b[0m\u001b[1;33m\u001b[0m\u001b[0m\n\u001b[0m\u001b[0;32m     11\u001b[0m         \u001b[1;31m#x = self.dropout(x)\u001b[0m\u001b[1;33m\u001b[0m\u001b[1;33m\u001b[0m\u001b[1;33m\u001b[0m\u001b[0m\n\u001b[0;32m     12\u001b[0m         \u001b[1;31m#x = self.gcn2(g, x)\u001b[0m\u001b[1;33m\u001b[0m\u001b[1;33m\u001b[0m\u001b[1;33m\u001b[0m\u001b[0m\n",
      "\u001b[1;32m~\\AppData\\Local\\Continuum\\anaconda3\\lib\\site-packages\\torch\\nn\\modules\\module.py\u001b[0m in \u001b[0;36m__call__\u001b[1;34m(self, *input, **kwargs)\u001b[0m\n\u001b[0;32m    487\u001b[0m             \u001b[0mresult\u001b[0m \u001b[1;33m=\u001b[0m \u001b[0mself\u001b[0m\u001b[1;33m.\u001b[0m\u001b[0m_slow_forward\u001b[0m\u001b[1;33m(\u001b[0m\u001b[1;33m*\u001b[0m\u001b[0minput\u001b[0m\u001b[1;33m,\u001b[0m \u001b[1;33m**\u001b[0m\u001b[0mkwargs\u001b[0m\u001b[1;33m)\u001b[0m\u001b[1;33m\u001b[0m\u001b[1;33m\u001b[0m\u001b[0m\n\u001b[0;32m    488\u001b[0m         \u001b[1;32melse\u001b[0m\u001b[1;33m:\u001b[0m\u001b[1;33m\u001b[0m\u001b[1;33m\u001b[0m\u001b[0m\n\u001b[1;32m--> 489\u001b[1;33m             \u001b[0mresult\u001b[0m \u001b[1;33m=\u001b[0m \u001b[0mself\u001b[0m\u001b[1;33m.\u001b[0m\u001b[0mforward\u001b[0m\u001b[1;33m(\u001b[0m\u001b[1;33m*\u001b[0m\u001b[0minput\u001b[0m\u001b[1;33m,\u001b[0m \u001b[1;33m**\u001b[0m\u001b[0mkwargs\u001b[0m\u001b[1;33m)\u001b[0m\u001b[1;33m\u001b[0m\u001b[1;33m\u001b[0m\u001b[0m\n\u001b[0m\u001b[0;32m    490\u001b[0m         \u001b[1;32mfor\u001b[0m \u001b[0mhook\u001b[0m \u001b[1;32min\u001b[0m \u001b[0mself\u001b[0m\u001b[1;33m.\u001b[0m\u001b[0m_forward_hooks\u001b[0m\u001b[1;33m.\u001b[0m\u001b[0mvalues\u001b[0m\u001b[1;33m(\u001b[0m\u001b[1;33m)\u001b[0m\u001b[1;33m:\u001b[0m\u001b[1;33m\u001b[0m\u001b[1;33m\u001b[0m\u001b[0m\n\u001b[0;32m    491\u001b[0m             \u001b[0mhook_result\u001b[0m \u001b[1;33m=\u001b[0m \u001b[0mhook\u001b[0m\u001b[1;33m(\u001b[0m\u001b[0mself\u001b[0m\u001b[1;33m,\u001b[0m \u001b[0minput\u001b[0m\u001b[1;33m,\u001b[0m \u001b[0mresult\u001b[0m\u001b[1;33m)\u001b[0m\u001b[1;33m\u001b[0m\u001b[1;33m\u001b[0m\u001b[0m\n",
      "\u001b[1;32m<ipython-input-47-edf1b30e4aee>\u001b[0m in \u001b[0;36mforward\u001b[1;34m(self, g, feature)\u001b[0m\n\u001b[0;32m      6\u001b[0m \u001b[1;33m\u001b[0m\u001b[0m\n\u001b[0;32m      7\u001b[0m     \u001b[1;32mdef\u001b[0m \u001b[0mforward\u001b[0m\u001b[1;33m(\u001b[0m\u001b[0mself\u001b[0m\u001b[1;33m,\u001b[0m \u001b[0mg\u001b[0m\u001b[1;33m,\u001b[0m \u001b[0mfeature\u001b[0m\u001b[1;33m)\u001b[0m\u001b[1;33m:\u001b[0m\u001b[1;33m\u001b[0m\u001b[1;33m\u001b[0m\u001b[0m\n\u001b[1;32m----> 8\u001b[1;33m         \u001b[0mg\u001b[0m\u001b[1;33m.\u001b[0m\u001b[0mndata\u001b[0m\u001b[1;33m[\u001b[0m\u001b[1;34m'h'\u001b[0m\u001b[1;33m]\u001b[0m \u001b[1;33m=\u001b[0m \u001b[0mfeature\u001b[0m\u001b[1;33m\u001b[0m\u001b[1;33m\u001b[0m\u001b[0m\n\u001b[0m\u001b[0;32m      9\u001b[0m         \u001b[0mg\u001b[0m\u001b[1;33m.\u001b[0m\u001b[0mupdate_all\u001b[0m\u001b[1;33m(\u001b[0m\u001b[0mmessage_func\u001b[0m\u001b[1;33m=\u001b[0m\u001b[0mfn\u001b[0m\u001b[1;33m.\u001b[0m\u001b[0mcopy_src\u001b[0m\u001b[1;33m(\u001b[0m\u001b[0msrc\u001b[0m\u001b[1;33m=\u001b[0m\u001b[1;34m'h'\u001b[0m\u001b[1;33m,\u001b[0m \u001b[0mout\u001b[0m\u001b[1;33m=\u001b[0m\u001b[1;34m'm'\u001b[0m\u001b[1;33m)\u001b[0m\u001b[1;33m,\u001b[0m \u001b[0mreduce_func\u001b[0m\u001b[1;33m=\u001b[0m\u001b[0mfn\u001b[0m\u001b[1;33m.\u001b[0m\u001b[0msum\u001b[0m\u001b[1;33m(\u001b[0m\u001b[0mmsg\u001b[0m\u001b[1;33m=\u001b[0m\u001b[1;34m'm'\u001b[0m\u001b[1;33m,\u001b[0m \u001b[0mout\u001b[0m\u001b[1;33m=\u001b[0m\u001b[1;34m'h'\u001b[0m\u001b[1;33m)\u001b[0m\u001b[1;33m)\u001b[0m\u001b[1;33m\u001b[0m\u001b[1;33m\u001b[0m\u001b[0m\n\u001b[0;32m     10\u001b[0m         \u001b[0mg\u001b[0m\u001b[1;33m.\u001b[0m\u001b[0mapply_nodes\u001b[0m\u001b[1;33m(\u001b[0m\u001b[0mfunc\u001b[0m\u001b[1;33m=\u001b[0m\u001b[0mself\u001b[0m\u001b[1;33m.\u001b[0m\u001b[0mapply_mod\u001b[0m\u001b[1;33m)\u001b[0m\u001b[1;33m\u001b[0m\u001b[1;33m\u001b[0m\u001b[0m\n",
      "\u001b[1;32m~\\AppData\\Local\\Continuum\\anaconda3\\lib\\site-packages\\dgl\\view.py\u001b[0m in \u001b[0;36m__setitem__\u001b[1;34m(self, key, val)\u001b[0m\n\u001b[0;32m     63\u001b[0m         \u001b[1;32mif\u001b[0m \u001b[0misinstance\u001b[0m\u001b[1;33m(\u001b[0m\u001b[0mval\u001b[0m\u001b[1;33m,\u001b[0m \u001b[0mnp\u001b[0m\u001b[1;33m.\u001b[0m\u001b[0mndarray\u001b[0m\u001b[1;33m)\u001b[0m\u001b[1;33m:\u001b[0m\u001b[1;33m\u001b[0m\u001b[1;33m\u001b[0m\u001b[0m\n\u001b[0;32m     64\u001b[0m             \u001b[0mval\u001b[0m \u001b[1;33m=\u001b[0m \u001b[0mF\u001b[0m\u001b[1;33m.\u001b[0m\u001b[0mzerocopy_from_numpy\u001b[0m\u001b[1;33m(\u001b[0m\u001b[0mval\u001b[0m\u001b[1;33m)\u001b[0m\u001b[1;33m\u001b[0m\u001b[1;33m\u001b[0m\u001b[0m\n\u001b[1;32m---> 65\u001b[1;33m         \u001b[0mself\u001b[0m\u001b[1;33m.\u001b[0m\u001b[0m_graph\u001b[0m\u001b[1;33m.\u001b[0m\u001b[0mset_n_repr\u001b[0m\u001b[1;33m(\u001b[0m\u001b[1;33m{\u001b[0m\u001b[0mkey\u001b[0m \u001b[1;33m:\u001b[0m \u001b[0mval\u001b[0m\u001b[1;33m}\u001b[0m\u001b[1;33m,\u001b[0m \u001b[0mself\u001b[0m\u001b[1;33m.\u001b[0m\u001b[0m_nodes\u001b[0m\u001b[1;33m)\u001b[0m\u001b[1;33m\u001b[0m\u001b[1;33m\u001b[0m\u001b[0m\n\u001b[0m\u001b[0;32m     66\u001b[0m \u001b[1;33m\u001b[0m\u001b[0m\n\u001b[0;32m     67\u001b[0m     \u001b[1;32mdef\u001b[0m \u001b[0m__delitem__\u001b[0m\u001b[1;33m(\u001b[0m\u001b[0mself\u001b[0m\u001b[1;33m,\u001b[0m \u001b[0mkey\u001b[0m\u001b[1;33m)\u001b[0m\u001b[1;33m:\u001b[0m\u001b[1;33m\u001b[0m\u001b[1;33m\u001b[0m\u001b[0m\n",
      "\u001b[1;32m~\\AppData\\Local\\Continuum\\anaconda3\\lib\\site-packages\\dgl\\graph.py\u001b[0m in \u001b[0;36mset_n_repr\u001b[1;34m(self, data, u, inplace)\u001b[0m\n\u001b[0;32m   1788\u001b[0m             \u001b[1;32mif\u001b[0m \u001b[0mnfeats\u001b[0m \u001b[1;33m!=\u001b[0m \u001b[0mnum_nodes\u001b[0m\u001b[1;33m:\u001b[0m\u001b[1;33m\u001b[0m\u001b[1;33m\u001b[0m\u001b[0m\n\u001b[0;32m   1789\u001b[0m                 raise DGLError('Expect number of features to match number of nodes (len(u)).'\n\u001b[1;32m-> 1790\u001b[1;33m                                ' Got %d and %d instead.' % (nfeats, num_nodes))\n\u001b[0m\u001b[0;32m   1791\u001b[0m         \u001b[1;31m# set\u001b[0m\u001b[1;33m\u001b[0m\u001b[1;33m\u001b[0m\u001b[1;33m\u001b[0m\u001b[0m\n\u001b[0;32m   1792\u001b[0m         \u001b[1;32mif\u001b[0m \u001b[0mis_all\u001b[0m\u001b[1;33m(\u001b[0m\u001b[0mu\u001b[0m\u001b[1;33m)\u001b[0m\u001b[1;33m:\u001b[0m\u001b[1;33m\u001b[0m\u001b[1;33m\u001b[0m\u001b[0m\n",
      "\u001b[1;31mDGLError\u001b[0m: Expect number of features to match number of nodes (len(u)). Got 2708 and 3327 instead."
     ]
    }
   ],
   "source": [
    "net.eval() # Set net to evaluation mode (deactivates dropout)\n",
    "final_prediction = net(citeseer_g, citeseer_features).detach()\n",
    "pf.performance_as_df(citeseer_labels,final_prediction,mask)"
   ]
  },
  {
   "cell_type": "code",
   "execution_count": null,
   "metadata": {},
   "outputs": [],
   "source": []
  }
 ],
 "metadata": {
  "file_extension": ".py",
  "kernelspec": {
   "display_name": "Python 3",
   "language": "python",
   "name": "python3"
  },
  "language_info": {
   "codemirror_mode": {
    "name": "ipython",
    "version": 3
   },
   "file_extension": ".py",
   "mimetype": "text/x-python",
   "name": "python",
   "nbconvert_exporter": "python",
   "pygments_lexer": "ipython3",
   "version": "3.7.4"
  },
  "mimetype": "text/x-python",
  "name": "python",
  "npconvert_exporter": "python",
  "pygments_lexer": "ipython3",
  "version": 3
 },
 "nbformat": 4,
 "nbformat_minor": 2
}
