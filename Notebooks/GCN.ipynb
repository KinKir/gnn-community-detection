{
 "cells": [
  {
   "cell_type": "markdown",
   "metadata": {},
   "source": [
    "# Graph Convolutional Network by Kipf and Welling"
   ]
  },
  {
   "cell_type": "markdown",
   "metadata": {},
   "source": [
    "## Imports"
   ]
  },
  {
   "cell_type": "code",
   "execution_count": 45,
   "metadata": {},
   "outputs": [],
   "source": [
    "import dgl\n",
    "import dgl.function as fn\n",
    "import torch as th\n",
    "import torch.nn as nn\n",
    "import torch.nn.functional as F\n",
    "from dgl import DGLGraph\n",
    "\n",
    "import pickle\n",
    "import numpy as np\n",
    "\n",
    "import itertools\n",
    "\n",
    "import Notebooks.performance as pf"
   ]
  },
  {
   "cell_type": "markdown",
   "metadata": {},
   "source": [
    "## GNN Definition"
   ]
  },
  {
   "cell_type": "code",
   "execution_count": 46,
   "metadata": {},
   "outputs": [],
   "source": [
    "class LinearModule(nn.Module):\n",
    "    \"\"\"The linear transformation part of the GCN layer\"\"\"\n",
    "    def __init__(self, in_feats, out_feats, activation):\n",
    "        super(LinearModule, self).__init__()\n",
    "        self.linear = nn.Linear(in_feats, out_feats)\n",
    "        self.activation = activation # This is the activation function\n",
    "\n",
    "    def forward(self, node):\n",
    "        h = self.linear(node.data['h'])\n",
    "        h = self.activation(h)\n",
    "        return {'h' : h}"
   ]
  },
  {
   "cell_type": "code",
   "execution_count": 47,
   "metadata": {},
   "outputs": [],
   "source": [
    "class GCN(nn.Module):\n",
    "    \"\"\"A GCN layer\"\"\"\n",
    "    def __init__(self, in_feats, out_feats, activation):\n",
    "        super(GCN, self).__init__()\n",
    "        self.apply_mod = LinearModule(in_feats, out_feats, activation)\n",
    "\n",
    "    def forward(self, g, feature):\n",
    "        g.ndata['h'] = feature\n",
    "        g.update_all(message_func=fn.copy_src(src='h', out='m'), reduce_func=fn.sum(msg='m', out='h'))\n",
    "        g.apply_nodes(func=self.apply_mod)\n",
    "        return g.ndata.pop('h')"
   ]
  },
  {
   "cell_type": "code",
   "execution_count": 81,
   "metadata": {},
   "outputs": [],
   "source": [
    "class Net(nn.Module):\n",
    "    def __init__(self, infeats, hidden_size, outfeats):\n",
    "        super(Net, self).__init__()\n",
    "        self.gcn1 = GCN(infeats, hidden_size, F.relu)\n",
    "        self.gcn2 = GCN(hidden_size, hidden_size, F.relu)\n",
    "        self.gcn3 = GCN(hidden_size, outfeats, F.relu)\n",
    "        self.dropout = nn.Dropout(0.2)\n",
    "\n",
    "    def forward(self, g, features):\n",
    "        x = self.gcn1(g, features)\n",
    "        #x = self.dropout(x)\n",
    "        #x = self.gcn2(g, x)\n",
    "        x = self.gcn3(g, x)\n",
    "        x = F.log_softmax(x,1)\n",
    "        return x"
   ]
  },
  {
   "cell_type": "markdown",
   "metadata": {},
   "source": [
    "## Data Loading"
   ]
  },
  {
   "cell_type": "code",
   "execution_count": 49,
   "metadata": {},
   "outputs": [],
   "source": [
    "from dgl.data import citation_graph as citegrh\n",
    "import networkx as nx\n",
    "\n",
    "data = citegrh.load_cora()\n",
    "features = th.FloatTensor(data.features)\n",
    "labels = th.LongTensor(data.labels)\n",
    "mask = th.BoolTensor(data.train_mask)\n",
    "g = data.graph\n",
    "\n",
    "# add self loop\n",
    "g.remove_edges_from(nx.selfloop_edges(g))\n",
    "g = DGLGraph(g)\n",
    "g.add_edges(g.nodes(), g.nodes())"
   ]
  },
  {
   "cell_type": "code",
   "execution_count": 50,
   "metadata": {},
   "outputs": [
    {
     "name": "stderr",
     "output_type": "stream",
     "text": [
      "C:\\Users\\a_liso02\\AppData\\Local\\Continuum\\anaconda3\\lib\\site-packages\\dgl\\data\\citation_graph.py:140: RuntimeWarning: divide by zero encountered in power\n",
      "  r_inv = np.power(rowsum, -1).flatten()\n",
      "Finished data loading and preprocessing.\n",
      "  NumNodes: 3327\n",
      "  NumEdges: 9228\n",
      "  NumFeats: 3703\n",
      "  NumClasses: 6\n",
      "  NumTrainingSamples: 120\n",
      "  NumValidationSamples: 500\n",
      "  NumTestSamples: 1000\n"
     ]
    }
   ],
   "source": [
    "citeseer_data = dgl.data.CitationGraphDataset(\"citeseer\")\n",
    "citeseer_features = th.FloatTensor(citeseer_data.features)\n",
    "citeseer_labels = th.LongTensor(citeseer_data.labels)\n",
    "citeseer_mask = th.BoolTensor(citeseer_data.train_mask)\n",
    "citeseer_g = citeseer_data.graph\n",
    "\n",
    "# add self loop\n",
    "citeseer_g.remove_edges_from(nx.selfloop_edges(citeseer_g))\n",
    "citeseer_g = DGLGraph(citeseer_g)\n",
    "citeseer_g.add_edges(citeseer_g.nodes(), citeseer_g.nodes())"
   ]
  },
  {
   "cell_type": "markdown",
   "metadata": {},
   "source": [
    "## Select Training, Validation and Test Set"
   ]
  },
  {
   "cell_type": "code",
   "execution_count": 51,
   "metadata": {},
   "outputs": [],
   "source": [
    "percentage_train = 0.5\n",
    "percentage_val = 0.1\n",
    "\n",
    "with open(\"data/cora_permutation1.pickle\",\"rb\") as f:\n",
    "    perm1 = pickle.load(f)\n",
    "mask_train = np.zeros(g.number_of_nodes())\n",
    "mask_val = np.zeros(g.number_of_nodes())\n",
    "\n",
    "i_train = int(percentage_train*g.number_of_nodes())\n",
    "i_val = i_train + int(percentage_val*g.number_of_nodes())\n",
    "mask_train[perm1[range(0,i_train)]] = 1\n",
    "mask_val[perm1[range(i_train,i_val)]] = 1\n",
    "mask_train = th.BoolTensor(mask_train)\n",
    "mask_val = th.BoolTensor(mask_val)"
   ]
  },
  {
   "cell_type": "code",
   "execution_count": 83,
   "metadata": {},
   "outputs": [],
   "source": [
    "features = g.in_degrees().float().unsqueeze(1)\n",
    "citeseer_features = citeseer_g.in_degrees().float().unsqueeze(1)"
   ]
  },
  {
   "cell_type": "code",
   "execution_count": 84,
   "metadata": {},
   "outputs": [],
   "source": [
    "features=th.cat([features,th.rand(size=(g.number_of_nodes(),1000))],1)"
   ]
  },
  {
   "cell_type": "code",
   "execution_count": 90,
   "metadata": {},
   "outputs": [],
   "source": [
    "features=th.eye(g.number_of_nodes())\n",
    "citeseer_features=th.eye(citeseer_g.number_of_nodes())"
   ]
  },
  {
   "cell_type": "markdown",
   "metadata": {},
   "source": [
    "## Training"
   ]
  },
  {
   "cell_type": "code",
   "execution_count": 61,
   "metadata": {},
   "outputs": [],
   "source": [
    "loss_function = pf.perm_inv_loss(labels)"
   ]
  },
  {
   "cell_type": "code",
   "execution_count": 87,
   "metadata": {},
   "outputs": [
    {
     "name": "stderr",
     "output_type": "stream",
     "text": [
      "C:\\Users\\a_liso02\\AppData\\Local\\Continuum\\anaconda3\\lib\\site-packages\\numpy\\core\\fromnumeric.py:3118: RuntimeWarning: Mean of empty slice.\n",
      "  out=out, **kwargs)\n",
      "C:\\Users\\a_liso02\\AppData\\Local\\Continuum\\anaconda3\\lib\\site-packages\\numpy\\core\\_methods.py:85: RuntimeWarning: invalid value encountered in double_scalars\n",
      "  ret = ret.dtype.type(ret / rcount)\n",
      "Epoch 00000 | Loss 2.0910 | Train.Rand -0.0004 | Valid.Rand -0.0008 | Time(s) nan\n",
      "Epoch 00001 | Loss 1.8714 | Train.Rand 0.1032 | Valid.Rand 0.1133 | Time(s) nan\n",
      "Epoch 00002 | Loss 1.7139 | Train.Rand 0.3322 | Valid.Rand 0.2596 | Time(s) nan\n",
      "Epoch 00003 | Loss 2.2637 | Train.Rand 0.4655 | Valid.Rand 0.3533 | Time(s) 0.8882\n",
      "Epoch 00004 | Loss 2.0510 | Train.Rand 0.4536 | Valid.Rand 0.3572 | Time(s) 0.8562\n",
      "Epoch 00005 | Loss 1.8507 | Train.Rand 0.4840 | Valid.Rand 0.3582 | Time(s) 0.8365\n",
      "Epoch 00006 | Loss 1.9922 | Train.Rand 0.4956 | Valid.Rand 0.3703 | Time(s) 0.8568\n",
      "Epoch 00007 | Loss 1.8644 | Train.Rand 0.4925 | Valid.Rand 0.3654 | Time(s) 0.8659\n",
      "Epoch 00008 | Loss 1.7276 | Train.Rand 0.4602 | Valid.Rand 0.3299 | Time(s) 0.8497\n",
      "Epoch 00009 | Loss 1.9767 | Train.Rand 0.4346 | Valid.Rand 0.3058 | Time(s) 0.8509\n",
      "Epoch 00010 | Loss 1.4297 | Train.Rand 0.4021 | Valid.Rand 0.3054 | Time(s) 0.8437\n",
      "Epoch 00011 | Loss 1.6690 | Train.Rand 0.4352 | Valid.Rand 0.3241 | Time(s) 0.8375\n",
      "Epoch 00012 | Loss 1.3591 | Train.Rand 0.4478 | Valid.Rand 0.3338 | Time(s) 0.8314\n",
      "Epoch 00013 | Loss 1.3717 | Train.Rand 0.4332 | Valid.Rand 0.3237 | Time(s) 0.8253\n",
      "Epoch 00014 | Loss 2.5066 | Train.Rand 0.4576 | Valid.Rand 0.3483 | Time(s) 0.8207\n",
      "Epoch 00015 | Loss 2.2335 | Train.Rand 0.4808 | Valid.Rand 0.3540 | Time(s) 0.8199\n",
      "Epoch 00016 | Loss 2.2000 | Train.Rand 0.4588 | Valid.Rand 0.3685 | Time(s) 0.8165\n",
      "Epoch 00017 | Loss 1.5613 | Train.Rand 0.4684 | Valid.Rand 0.3447 | Time(s) 0.8155\n",
      "Epoch 00018 | Loss 1.8934 | Train.Rand 0.4282 | Valid.Rand 0.3064 | Time(s) 0.8117\n",
      "Epoch 00019 | Loss 2.0744 | Train.Rand 0.3712 | Valid.Rand 0.2520 | Time(s) 0.8089\n",
      "Epoch 00020 | Loss 1.5799 | Train.Rand 0.3600 | Valid.Rand 0.2275 | Time(s) 0.8073\n",
      "Epoch 00021 | Loss 1.8074 | Train.Rand 0.3948 | Valid.Rand 0.2687 | Time(s) 0.8062\n",
      "Epoch 00022 | Loss 2.0196 | Train.Rand 0.4025 | Valid.Rand 0.2682 | Time(s) 0.8041\n",
      "Epoch 00023 | Loss 1.8949 | Train.Rand 0.4060 | Valid.Rand 0.2804 | Time(s) 0.8021\n",
      "Epoch 00024 | Loss 1.6492 | Train.Rand 0.4229 | Valid.Rand 0.2806 | Time(s) 0.8004\n",
      "Epoch 00025 | Loss 1.6876 | Train.Rand 0.4379 | Valid.Rand 0.3021 | Time(s) 0.8006\n",
      "Epoch 00026 | Loss 1.6610 | Train.Rand 0.4439 | Valid.Rand 0.3151 | Time(s) 0.8003\n",
      "Epoch 00027 | Loss 1.9322 | Train.Rand 0.4319 | Valid.Rand 0.3147 | Time(s) 0.8005\n",
      "Epoch 00028 | Loss 1.6282 | Train.Rand 0.4304 | Valid.Rand 0.3183 | Time(s) 0.7993\n",
      "Epoch 00029 | Loss 1.8106 | Train.Rand 0.4225 | Valid.Rand 0.3210 | Time(s) 0.7981\n",
      "Epoch 00030 | Loss 1.7784 | Train.Rand 0.4243 | Valid.Rand 0.3192 | Time(s) 0.7978\n",
      "Epoch 00031 | Loss 1.5752 | Train.Rand 0.4367 | Valid.Rand 0.3157 | Time(s) 0.7969\n",
      "Epoch 00032 | Loss 1.6651 | Train.Rand 0.4555 | Valid.Rand 0.3283 | Time(s) 0.7971\n",
      "Epoch 00033 | Loss 1.6351 | Train.Rand 0.5060 | Valid.Rand 0.3539 | Time(s) 0.7975\n",
      "Epoch 00034 | Loss 1.9316 | Train.Rand 0.5235 | Valid.Rand 0.3532 | Time(s) 0.7985\n",
      "Epoch 00035 | Loss 1.8451 | Train.Rand 0.5061 | Valid.Rand 0.3504 | Time(s) 0.7977\n",
      "Epoch 00036 | Loss 1.5072 | Train.Rand 0.5022 | Valid.Rand 0.3500 | Time(s) 0.7989\n",
      "Epoch 00037 | Loss 1.4940 | Train.Rand 0.5017 | Valid.Rand 0.3538 | Time(s) 0.8001\n",
      "Epoch 00038 | Loss 1.8028 | Train.Rand 0.4961 | Valid.Rand 0.3420 | Time(s) 0.8006\n",
      "Epoch 00039 | Loss 1.5078 | Train.Rand 0.4922 | Valid.Rand 0.3447 | Time(s) 0.8016\n",
      "Epoch 00040 | Loss 1.8043 | Train.Rand 0.4799 | Valid.Rand 0.3331 | Time(s) 0.8068\n",
      "Epoch 00041 | Loss 1.6720 | Train.Rand 0.4858 | Valid.Rand 0.3356 | Time(s) 0.8058\n",
      "Epoch 00042 | Loss 1.6469 | Train.Rand 0.5214 | Valid.Rand 0.3563 | Time(s) 0.8056\n",
      "Epoch 00043 | Loss 1.4602 | Train.Rand 0.5425 | Valid.Rand 0.3722 | Time(s) 0.8056\n",
      "Epoch 00044 | Loss 1.8133 | Train.Rand 0.5481 | Valid.Rand 0.3961 | Time(s) 0.8058\n",
      "Epoch 00045 | Loss 1.5491 | Train.Rand 0.5458 | Valid.Rand 0.3906 | Time(s) 0.8074\n",
      "Epoch 00046 | Loss 1.8121 | Train.Rand 0.5315 | Valid.Rand 0.3725 | Time(s) 0.8071\n",
      "Epoch 00047 | Loss 1.6967 | Train.Rand 0.5126 | Valid.Rand 0.3552 | Time(s) 0.8070\n",
      "Epoch 00048 | Loss 1.7123 | Train.Rand 0.4918 | Valid.Rand 0.3178 | Time(s) 0.8069\n",
      "Epoch 00049 | Loss 1.5640 | Train.Rand 0.4622 | Valid.Rand 0.2981 | Time(s) 0.8059\n",
      "Epoch 00050 | Loss 1.9056 | Train.Rand 0.4246 | Valid.Rand 0.2676 | Time(s) 0.8065\n",
      "Epoch 00051 | Loss 1.4980 | Train.Rand 0.4105 | Valid.Rand 0.2485 | Time(s) 0.8063\n",
      "Epoch 00052 | Loss 1.5951 | Train.Rand 0.4035 | Valid.Rand 0.2514 | Time(s) 0.8064\n",
      "Epoch 00053 | Loss 1.4333 | Train.Rand 0.4259 | Valid.Rand 0.2719 | Time(s) 0.8051\n",
      "Epoch 00054 | Loss 1.6757 | Train.Rand 0.4558 | Valid.Rand 0.2954 | Time(s) 0.8054\n",
      "Epoch 00055 | Loss 1.6065 | Train.Rand 0.4797 | Valid.Rand 0.3149 | Time(s) 0.8052\n",
      "Epoch 00056 | Loss 1.7556 | Train.Rand 0.5151 | Valid.Rand 0.3390 | Time(s) 0.8048\n",
      "Epoch 00057 | Loss 1.5757 | Train.Rand 0.5588 | Valid.Rand 0.3654 | Time(s) 0.8042\n",
      "Epoch 00058 | Loss 1.5191 | Train.Rand 0.5755 | Valid.Rand 0.3718 | Time(s) 0.8040\n",
      "Epoch 00059 | Loss 1.4385 | Train.Rand 0.5884 | Valid.Rand 0.3869 | Time(s) 0.8044\n",
      "Epoch 00060 | Loss 1.5225 | Train.Rand 0.5715 | Valid.Rand 0.3907 | Time(s) 0.8033\n",
      "Epoch 00061 | Loss 1.6696 | Train.Rand 0.5776 | Valid.Rand 0.3733 | Time(s) 0.8033\n",
      "Epoch 00062 | Loss 1.6611 | Train.Rand 0.5792 | Valid.Rand 0.3762 | Time(s) 0.8029\n",
      "Epoch 00063 | Loss 1.4797 | Train.Rand 0.6035 | Valid.Rand 0.3821 | Time(s) 0.8045\n",
      "Epoch 00064 | Loss 1.3945 | Train.Rand 0.6190 | Valid.Rand 0.4016 | Time(s) 0.8049\n",
      "Epoch 00065 | Loss 1.5668 | Train.Rand 0.5912 | Valid.Rand 0.3864 | Time(s) 0.8048\n",
      "Epoch 00066 | Loss 1.3962 | Train.Rand 0.5928 | Valid.Rand 0.3969 | Time(s) 0.8050\n",
      "Epoch 00067 | Loss 1.4229 | Train.Rand 0.6032 | Valid.Rand 0.4085 | Time(s) 0.8050\n",
      "Epoch 00068 | Loss 1.3602 | Train.Rand 0.6355 | Valid.Rand 0.4317 | Time(s) 0.8051\n",
      "Epoch 00069 | Loss 1.4660 | Train.Rand 0.6368 | Valid.Rand 0.4479 | Time(s) 0.8046\n",
      "Epoch 00070 | Loss 1.6193 | Train.Rand 0.6341 | Valid.Rand 0.4488 | Time(s) 0.8036\n",
      "Epoch 00071 | Loss 1.5420 | Train.Rand 0.6471 | Valid.Rand 0.4573 | Time(s) 0.8038\n",
      "Epoch 00072 | Loss 1.5219 | Train.Rand 0.6523 | Valid.Rand 0.4477 | Time(s) 0.8037\n",
      "Epoch 00073 | Loss 1.4552 | Train.Rand 0.6020 | Valid.Rand 0.4191 | Time(s) 0.8032\n",
      "Epoch 00074 | Loss 1.8254 | Train.Rand 0.5558 | Valid.Rand 0.3853 | Time(s) 0.8029\n",
      "Epoch 00075 | Loss 1.3871 | Train.Rand 0.5030 | Valid.Rand 0.3128 | Time(s) 0.8023\n",
      "Epoch 00076 | Loss 1.3706 | Train.Rand 0.4191 | Valid.Rand 0.2604 | Time(s) 0.8027\n",
      "Epoch 00077 | Loss 1.5324 | Train.Rand 0.3196 | Valid.Rand 0.2025 | Time(s) 0.8019\n",
      "Epoch 00078 | Loss 1.3045 | Train.Rand 0.2653 | Valid.Rand 0.1730 | Time(s) 0.8018\n",
      "Epoch 00079 | Loss 2.2844 | Train.Rand 0.2778 | Valid.Rand 0.1867 | Time(s) 0.8011\n",
      "Epoch 00080 | Loss 1.2834 | Train.Rand 0.3643 | Valid.Rand 0.2274 | Time(s) 0.8010\n",
      "Epoch 00081 | Loss 1.6853 | Train.Rand 0.4343 | Valid.Rand 0.2910 | Time(s) 0.8003\n",
      "Epoch 00082 | Loss 1.4644 | Train.Rand 0.5093 | Valid.Rand 0.3572 | Time(s) 0.8002\n",
      "Epoch 00083 | Loss 1.4749 | Train.Rand 0.5521 | Valid.Rand 0.3907 | Time(s) 0.8003\n",
      "Epoch 00084 | Loss 1.6984 | Train.Rand 0.5707 | Valid.Rand 0.4057 | Time(s) 0.7999\n",
      "Epoch 00085 | Loss 1.7832 | Train.Rand 0.5568 | Valid.Rand 0.3994 | Time(s) 0.7996\n",
      "Epoch 00086 | Loss 1.5672 | Train.Rand 0.5584 | Valid.Rand 0.4031 | Time(s) 0.7997\n",
      "Epoch 00087 | Loss 1.9149 | Train.Rand 0.5447 | Valid.Rand 0.3846 | Time(s) 0.7999\n",
      "Epoch 00088 | Loss 1.4510 | Train.Rand 0.5401 | Valid.Rand 0.3882 | Time(s) 0.7996\n",
      "Epoch 00089 | Loss 1.8024 | Train.Rand 0.5164 | Valid.Rand 0.3566 | Time(s) 0.7994\n",
      "Epoch 00090 | Loss 1.3293 | Train.Rand 0.5331 | Valid.Rand 0.3490 | Time(s) 0.7990\n",
      "Epoch 00091 | Loss 1.5518 | Train.Rand 0.5240 | Valid.Rand 0.3466 | Time(s) 0.7988\n",
      "Epoch 00092 | Loss 1.2730 | Train.Rand 0.5247 | Valid.Rand 0.3363 | Time(s) 0.7987\n",
      "Epoch 00093 | Loss 1.6914 | Train.Rand 0.5697 | Valid.Rand 0.3768 | Time(s) 0.7981\n",
      "Epoch 00094 | Loss 1.1960 | Train.Rand 0.5901 | Valid.Rand 0.3801 | Time(s) 0.7978\n",
      "Epoch 00095 | Loss 1.8792 | Train.Rand 0.6104 | Valid.Rand 0.3911 | Time(s) 0.7983\n",
      "Epoch 00096 | Loss 1.6024 | Train.Rand 0.6203 | Valid.Rand 0.4124 | Time(s) 0.7979\n",
      "Epoch 00097 | Loss 1.9854 | Train.Rand 0.6290 | Valid.Rand 0.4309 | Time(s) 0.7976\n",
      "Epoch 00098 | Loss 1.6727 | Train.Rand 0.6372 | Valid.Rand 0.4480 | Time(s) 0.7974\n",
      "Epoch 00099 | Loss 1.1497 | Train.Rand 0.6621 | Valid.Rand 0.4563 | Time(s) 0.7978\n",
      "Epoch 00100 | Loss 1.5354 | Train.Rand 0.6834 | Valid.Rand 0.4703 | Time(s) 0.7975\n",
      "Epoch 00101 | Loss 1.4598 | Train.Rand 0.6871 | Valid.Rand 0.4709 | Time(s) 0.7971\n",
      "Epoch 00102 | Loss 1.7489 | Train.Rand 0.6988 | Valid.Rand 0.4681 | Time(s) 0.7970\n",
      "Epoch 00103 | Loss 1.6039 | Train.Rand 0.6953 | Valid.Rand 0.4660 | Time(s) 0.7972\n",
      "Epoch 00104 | Loss 1.6461 | Train.Rand 0.7011 | Valid.Rand 0.4773 | Time(s) 0.7967\n",
      "Epoch 00105 | Loss 1.2668 | Train.Rand 0.7388 | Valid.Rand 0.4887 | Time(s) 0.7975\n",
      "Epoch 00106 | Loss 1.4962 | Train.Rand 0.7498 | Valid.Rand 0.4858 | Time(s) 0.7973\n",
      "Epoch 00107 | Loss 1.3883 | Train.Rand 0.7258 | Valid.Rand 0.4683 | Time(s) 0.7973\n",
      "Epoch 00108 | Loss 1.4489 | Train.Rand 0.7136 | Valid.Rand 0.4738 | Time(s) 0.7973\n",
      "Epoch 00109 | Loss 1.5907 | Train.Rand 0.7247 | Valid.Rand 0.4775 | Time(s) 0.7977\n",
      "Epoch 00110 | Loss 1.5509 | Train.Rand 0.7268 | Valid.Rand 0.4903 | Time(s) 0.7973\n",
      "Epoch 00111 | Loss 1.4870 | Train.Rand 0.7213 | Valid.Rand 0.4979 | Time(s) 0.7974\n",
      "Epoch 00112 | Loss 1.6452 | Train.Rand 0.7163 | Valid.Rand 0.4920 | Time(s) 0.7971\n",
      "Epoch 00113 | Loss 1.3116 | Train.Rand 0.7142 | Valid.Rand 0.4910 | Time(s) 0.7971\n",
      "Epoch 00114 | Loss 1.3973 | Train.Rand 0.7104 | Valid.Rand 0.4826 | Time(s) 0.7969\n",
      "Epoch 00115 | Loss 1.2085 | Train.Rand 0.7146 | Valid.Rand 0.4826 | Time(s) 0.7972\n",
      "Epoch 00116 | Loss 1.4009 | Train.Rand 0.7177 | Valid.Rand 0.4879 | Time(s) 0.7971\n",
      "Epoch 00117 | Loss 1.3797 | Train.Rand 0.7227 | Valid.Rand 0.5015 | Time(s) 0.7966\n",
      "Epoch 00118 | Loss 1.4493 | Train.Rand 0.7144 | Valid.Rand 0.5084 | Time(s) 0.7969\n",
      "Epoch 00119 | Loss 1.5886 | Train.Rand 0.7063 | Valid.Rand 0.4790 | Time(s) 0.7971\n",
      "Epoch 00120 | Loss 1.1847 | Train.Rand 0.7008 | Valid.Rand 0.4653 | Time(s) 0.7967\n",
      "Epoch 00121 | Loss 1.2902 | Train.Rand 0.6818 | Valid.Rand 0.4582 | Time(s) 0.7965\n",
      "Epoch 00122 | Loss 1.2646 | Train.Rand 0.6479 | Valid.Rand 0.4185 | Time(s) 0.7967\n",
      "Epoch 00123 | Loss 1.3583 | Train.Rand 0.5862 | Valid.Rand 0.3826 | Time(s) 0.7966\n",
      "Epoch 00124 | Loss 1.2850 | Train.Rand 0.5854 | Valid.Rand 0.3813 | Time(s) 0.7967\n",
      "Epoch 00125 | Loss 1.2722 | Train.Rand 0.6039 | Valid.Rand 0.3836 | Time(s) 0.7965\n",
      "Epoch 00126 | Loss 2.0997 | Train.Rand 0.6287 | Valid.Rand 0.4083 | Time(s) 0.7965\n",
      "Epoch 00127 | Loss 1.8423 | Train.Rand 0.6809 | Valid.Rand 0.4253 | Time(s) 0.7964\n",
      "Epoch 00128 | Loss 1.2214 | Train.Rand 0.7086 | Valid.Rand 0.4377 | Time(s) 0.7961\n",
      "Epoch 00129 | Loss 1.7209 | Train.Rand 0.7152 | Valid.Rand 0.4557 | Time(s) 0.7961\n",
      "Epoch 00130 | Loss 1.4614 | Train.Rand 0.6472 | Valid.Rand 0.4243 | Time(s) 0.7964\n",
      "Epoch 00131 | Loss 1.7607 | Train.Rand 0.6128 | Valid.Rand 0.4058 | Time(s) 0.7965\n",
      "Epoch 00132 | Loss 1.4754 | Train.Rand 0.6197 | Valid.Rand 0.4271 | Time(s) 0.7964\n",
      "Epoch 00133 | Loss 1.6150 | Train.Rand 0.5878 | Valid.Rand 0.4017 | Time(s) 0.7963\n",
      "Epoch 00134 | Loss 1.4075 | Train.Rand 0.5499 | Valid.Rand 0.3519 | Time(s) 0.7964\n",
      "Epoch 00135 | Loss 1.6238 | Train.Rand 0.4667 | Valid.Rand 0.3095 | Time(s) 0.7963\n",
      "Epoch 00136 | Loss 1.6981 | Train.Rand 0.4855 | Valid.Rand 0.3237 | Time(s) 0.7962\n",
      "Epoch 00137 | Loss 1.5611 | Train.Rand 0.4900 | Valid.Rand 0.3340 | Time(s) 0.7964\n",
      "Epoch 00138 | Loss 1.3895 | Train.Rand 0.6122 | Valid.Rand 0.3901 | Time(s) 0.7965\n",
      "Epoch 00139 | Loss 1.6478 | Train.Rand 0.6791 | Valid.Rand 0.4227 | Time(s) 0.7969\n",
      "Epoch 00140 | Loss 1.6219 | Train.Rand 0.7108 | Valid.Rand 0.4426 | Time(s) 0.7970\n",
      "Epoch 00141 | Loss 1.3741 | Train.Rand 0.7315 | Valid.Rand 0.4649 | Time(s) 0.7970\n",
      "Epoch 00142 | Loss 1.4032 | Train.Rand 0.7303 | Valid.Rand 0.4706 | Time(s) 0.7968\n",
      "Epoch 00143 | Loss 1.2664 | Train.Rand 0.7399 | Valid.Rand 0.4823 | Time(s) 0.7964\n",
      "Epoch 00144 | Loss 1.3353 | Train.Rand 0.7535 | Valid.Rand 0.4857 | Time(s) 0.7966\n",
      "Epoch 00145 | Loss 1.3070 | Train.Rand 0.7529 | Valid.Rand 0.4837 | Time(s) 0.7966\n",
      "Epoch 00146 | Loss 1.3251 | Train.Rand 0.7700 | Valid.Rand 0.4837 | Time(s) 0.7968\n",
      "Epoch 00147 | Loss 1.6648 | Train.Rand 0.7664 | Valid.Rand 0.4906 | Time(s) 0.7964\n",
      "Epoch 00148 | Loss 1.2623 | Train.Rand 0.7812 | Valid.Rand 0.5018 | Time(s) 0.7963\n",
      "Epoch 00149 | Loss 1.1805 | Train.Rand 0.8066 | Valid.Rand 0.5054 | Time(s) 0.7967\n",
      "Epoch 00150 | Loss 1.5536 | Train.Rand 0.8147 | Valid.Rand 0.5132 | Time(s) 0.7967\n",
      "Epoch 00151 | Loss 1.2323 | Train.Rand 0.8215 | Valid.Rand 0.5014 | Time(s) 0.7964\n",
      "Epoch 00152 | Loss 1.1329 | Train.Rand 0.7976 | Valid.Rand 0.4862 | Time(s) 0.7965\n",
      "Epoch 00153 | Loss 1.0606 | Train.Rand 0.7594 | Valid.Rand 0.4726 | Time(s) 0.7963\n",
      "Epoch 00154 | Loss 1.2532 | Train.Rand 0.7075 | Valid.Rand 0.4427 | Time(s) 0.7963\n",
      "Epoch 00155 | Loss 1.5080 | Train.Rand 0.6376 | Valid.Rand 0.4200 | Time(s) 0.7959\n",
      "Epoch 00156 | Loss 1.8970 | Train.Rand 0.5963 | Valid.Rand 0.3899 | Time(s) 0.7957\n",
      "Epoch 00157 | Loss 1.3976 | Train.Rand 0.5731 | Valid.Rand 0.3797 | Time(s) 0.7957\n",
      "Epoch 00158 | Loss 1.0515 | Train.Rand 0.5998 | Valid.Rand 0.3882 | Time(s) 0.7959\n",
      "Epoch 00159 | Loss 1.1785 | Train.Rand 0.6420 | Valid.Rand 0.4221 | Time(s) 0.7961\n",
      "Epoch 00160 | Loss 1.3196 | Train.Rand 0.6382 | Valid.Rand 0.4306 | Time(s) 0.7960\n",
      "Epoch 00161 | Loss 2.0762 | Train.Rand 0.6479 | Valid.Rand 0.4379 | Time(s) 0.7961\n",
      "Epoch 00162 | Loss 1.6400 | Train.Rand 0.6370 | Valid.Rand 0.4574 | Time(s) 0.7961\n",
      "Epoch 00163 | Loss 1.1666 | Train.Rand 0.6716 | Valid.Rand 0.4818 | Time(s) 0.7960\n",
      "Epoch 00164 | Loss 1.6600 | Train.Rand 0.6786 | Valid.Rand 0.4788 | Time(s) 0.7956\n",
      "Epoch 00165 | Loss 1.2440 | Train.Rand 0.6312 | Valid.Rand 0.4436 | Time(s) 0.7957\n",
      "Epoch 00166 | Loss 1.5084 | Train.Rand 0.6278 | Valid.Rand 0.4323 | Time(s) 0.7955\n",
      "Epoch 00167 | Loss 1.6240 | Train.Rand 0.6684 | Valid.Rand 0.4564 | Time(s) 0.7956\n",
      "Epoch 00168 | Loss 1.4929 | Train.Rand 0.7052 | Valid.Rand 0.4851 | Time(s) 0.7958\n",
      "Epoch 00169 | Loss 1.2091 | Train.Rand 0.6935 | Valid.Rand 0.4947 | Time(s) 0.7957\n",
      "Epoch 00170 | Loss 1.7080 | Train.Rand 0.6910 | Valid.Rand 0.4883 | Time(s) 0.7962\n",
      "Epoch 00171 | Loss 1.5779 | Train.Rand 0.7042 | Valid.Rand 0.4818 | Time(s) 0.7966\n",
      "Epoch 00172 | Loss 1.3053 | Train.Rand 0.7098 | Valid.Rand 0.4762 | Time(s) 0.7964\n",
      "Epoch 00173 | Loss 1.4007 | Train.Rand 0.7164 | Valid.Rand 0.4825 | Time(s) 0.7962\n",
      "Epoch 00174 | Loss 1.2486 | Train.Rand 0.7261 | Valid.Rand 0.4898 | Time(s) 0.7963\n",
      "Epoch 00175 | Loss 1.2861 | Train.Rand 0.7464 | Valid.Rand 0.4923 | Time(s) 0.7962\n",
      "Epoch 00176 | Loss 1.4487 | Train.Rand 0.7628 | Valid.Rand 0.4823 | Time(s) 0.7963\n",
      "Epoch 00177 | Loss 1.6569 | Train.Rand 0.7357 | Valid.Rand 0.4564 | Time(s) 0.7963\n",
      "Epoch 00178 | Loss 1.1998 | Train.Rand 0.7365 | Valid.Rand 0.4571 | Time(s) 0.7963\n",
      "Epoch 00179 | Loss 1.4676 | Train.Rand 0.7003 | Valid.Rand 0.4446 | Time(s) 0.7963\n",
      "Epoch 00180 | Loss 1.2679 | Train.Rand 0.6929 | Valid.Rand 0.4265 | Time(s) 0.7963\n",
      "Epoch 00181 | Loss 1.1222 | Train.Rand 0.7078 | Valid.Rand 0.4359 | Time(s) 0.7961\n",
      "Epoch 00182 | Loss 1.3186 | Train.Rand 0.6795 | Valid.Rand 0.4280 | Time(s) 0.7962\n",
      "Epoch 00183 | Loss 1.7634 | Train.Rand 0.6447 | Valid.Rand 0.3970 | Time(s) 0.7963\n",
      "Epoch 00184 | Loss 1.2082 | Train.Rand 0.6364 | Valid.Rand 0.3963 | Time(s) 0.7962\n",
      "Epoch 00185 | Loss 1.0638 | Train.Rand 0.6522 | Valid.Rand 0.4108 | Time(s) 0.7963\n",
      "Epoch 00186 | Loss 1.0482 | Train.Rand 0.6506 | Valid.Rand 0.4129 | Time(s) 0.7965\n",
      "Epoch 00187 | Loss 1.7049 | Train.Rand 0.6247 | Valid.Rand 0.3912 | Time(s) 0.7965\n",
      "Epoch 00188 | Loss 1.2360 | Train.Rand 0.6355 | Valid.Rand 0.3847 | Time(s) 0.7963\n",
      "Epoch 00189 | Loss 1.4481 | Train.Rand 0.6215 | Valid.Rand 0.3687 | Time(s) 0.7963\n",
      "Epoch 00190 | Loss 1.4299 | Train.Rand 0.5651 | Valid.Rand 0.2871 | Time(s) 0.7962\n",
      "Epoch 00191 | Loss 1.2591 | Train.Rand 0.4274 | Valid.Rand 0.2229 | Time(s) 0.7963\n",
      "Epoch 00192 | Loss 1.8734 | Train.Rand 0.4204 | Valid.Rand 0.2176 | Time(s) 0.7964\n",
      "Epoch 00193 | Loss 1.6934 | Train.Rand 0.4994 | Valid.Rand 0.2636 | Time(s) 0.7963\n",
      "Epoch 00194 | Loss 1.0977 | Train.Rand 0.6052 | Valid.Rand 0.3358 | Time(s) 0.7964\n",
      "Epoch 00195 | Loss 1.5536 | Train.Rand 0.6746 | Valid.Rand 0.4237 | Time(s) 0.7965\n",
      "Epoch 00196 | Loss 1.8825 | Train.Rand 0.7113 | Valid.Rand 0.4895 | Time(s) 0.7964\n",
      "Epoch 00197 | Loss 1.6776 | Train.Rand 0.7410 | Valid.Rand 0.5108 | Time(s) 0.7963\n",
      "Epoch 00198 | Loss 1.3141 | Train.Rand 0.7453 | Valid.Rand 0.5165 | Time(s) 0.7965\n",
      "Epoch 00199 | Loss 1.0421 | Train.Rand 0.7341 | Valid.Rand 0.5075 | Time(s) 0.7964\n"
     ]
    }
   ],
   "source": [
    "import time\n",
    "\n",
    "net = Net(features.shape[1], 21, len(np.unique(labels)))\n",
    "#print(net)\n",
    "\n",
    "optimizer = th.optim.Adam(net.parameters(), lr=1e-2, weight_decay=1e-2)\n",
    "net.train() # Set to training mode (use dropout)\n",
    "\n",
    "dur = []\n",
    "for epoch in range(200):\n",
    "    if epoch >=3:\n",
    "        t0 = time.time()\n",
    "\n",
    "    # Compute loss for test nodes (only for validation, not used by optimizer)\n",
    "    net.eval()\n",
    "    prediction = net(g, features)\n",
    "    train_rand=pf.rand_score(labels[mask].numpy(),np.argmax(prediction[mask].detach().numpy(), axis=1))\n",
    "    validation_rand=pf.rand_score(labels[1-mask].numpy(),np.argmax(prediction[1-mask].detach().numpy(), axis=1))\n",
    "    net.train()\n",
    "\n",
    "    # Compute loss for train nodes\n",
    "    logits = net(g, features)\n",
    "\n",
    "    loss = loss_function.approximate_loss(logits,mask,nclasses=6)\n",
    "\n",
    "    #loss = F.nll_loss(logits[mask], labels[mask])\n",
    "    \n",
    "    optimizer.zero_grad()\n",
    "    loss.backward()\n",
    "    optimizer.step()\n",
    "\n",
    "    if epoch >=3:\n",
    "        dur.append(time.time() - t0)\n",
    "\n",
    "    print(f\"Epoch {epoch:05d} | Loss {loss.item():.4f} | Train.Rand {train_rand:.4f} | Valid.Rand {validation_rand:.4f} | Time(s) {np.mean(dur):.4f}\")"
   ]
  },
  {
   "cell_type": "code",
   "execution_count": 56,
   "metadata": {},
   "outputs": [
    {
     "data": {
      "text/plain": [
       "array([[5, 4],\n",
       "       [2, 2],\n",
       "       [4, 1],\n",
       "       [0, 0],\n",
       "       [0, 0],\n",
       "       [0, 5],\n",
       "       [4, 1],\n",
       "       [2, 2],\n",
       "       [3, 2],\n",
       "       [2, 2]], dtype=int64)"
      ]
     },
     "execution_count": 56,
     "metadata": {},
     "output_type": "execute_result"
    }
   ],
   "source": [
    "# Visualise predictions\n",
    "net.eval() # Set net to evaluation mode (deactivates dropout)\n",
    "final_prediction = net(g, features).detach()\n",
    "a = np.transpose(np.vstack([final_prediction[mask].numpy().argmax(axis=1),labels[mask].numpy()]))\n",
    "a[a[:,0].argsort()][np.random.choice(range(a.shape[0]),size=10)]\n",
    "# as can be seen, the net predicts other labels, but gets the clusters right :)"
   ]
  },
  {
   "cell_type": "markdown",
   "metadata": {},
   "source": [
    "## Evaluation"
   ]
  },
  {
   "cell_type": "code",
   "execution_count": 94,
   "metadata": {},
   "outputs": [
    {
     "data": {
      "text/html": [
       "<div>\n",
       "<style scoped>\n",
       "    .dataframe tbody tr th:only-of-type {\n",
       "        vertical-align: middle;\n",
       "    }\n",
       "\n",
       "    .dataframe tbody tr th {\n",
       "        vertical-align: top;\n",
       "    }\n",
       "\n",
       "    .dataframe thead th {\n",
       "        text-align: right;\n",
       "    }\n",
       "</style>\n",
       "<table border=\"1\" class=\"dataframe\">\n",
       "  <thead>\n",
       "    <tr style=\"text-align: right;\">\n",
       "      <th></th>\n",
       "      <th>All</th>\n",
       "      <th>Train</th>\n",
       "      <th>Test</th>\n",
       "    </tr>\n",
       "  </thead>\n",
       "  <tbody>\n",
       "    <tr>\n",
       "      <th>Mutual Information</th>\n",
       "      <td>0.623731</td>\n",
       "      <td>0.738277</td>\n",
       "      <td>0.536313</td>\n",
       "    </tr>\n",
       "    <tr>\n",
       "      <th>Rand-Index</th>\n",
       "      <td>0.620559</td>\n",
       "      <td>0.738687</td>\n",
       "      <td>0.515168</td>\n",
       "    </tr>\n",
       "    <tr>\n",
       "      <th>Variation of Information</th>\n",
       "      <td>1.336860</td>\n",
       "      <td>0.915272</td>\n",
       "      <td>1.653684</td>\n",
       "    </tr>\n",
       "  </tbody>\n",
       "</table>\n",
       "</div>"
      ],
      "text/plain": [
       "                              All      Train      Test\n",
       "Mutual Information        0.623731  0.738277  0.536313\n",
       "Rand-Index                0.620559  0.738687  0.515168\n",
       "Variation of Information  1.336860  0.915272  1.653684"
      ]
     },
     "execution_count": 94,
     "metadata": {},
     "output_type": "execute_result"
    }
   ],
   "source": [
    "net.eval() # Set net to evaluation mode (deactivates dropout)\n",
    "final_prediction = net(g, features).detach()\n",
    "pf.performance_as_df(labels,final_prediction,mask)"
   ]
  },
  {
   "cell_type": "code",
   "execution_count": 92,
   "metadata": {},
   "outputs": [
    {
     "ename": "DGLError",
     "evalue": "Expect number of features to match number of nodes (len(u)). Got 2708 and 3327 instead.",
     "output_type": "error",
     "traceback": [
      "\u001b[1;31m---------------------------------------------------------------------------\u001b[0m",
      "\u001b[1;31mDGLError\u001b[0m                                  Traceback (most recent call last)",
      "\u001b[1;32m<ipython-input-92-d29c4c225b1e>\u001b[0m in \u001b[0;36m<module>\u001b[1;34m\u001b[0m\n\u001b[0;32m      1\u001b[0m \u001b[0mnet\u001b[0m\u001b[1;33m.\u001b[0m\u001b[0meval\u001b[0m\u001b[1;33m(\u001b[0m\u001b[1;33m)\u001b[0m \u001b[1;31m# Set net to evaluation mode (deactivates dropout)\u001b[0m\u001b[1;33m\u001b[0m\u001b[1;33m\u001b[0m\u001b[0m\n\u001b[1;32m----> 2\u001b[1;33m \u001b[0mfinal_prediction\u001b[0m \u001b[1;33m=\u001b[0m \u001b[0mnet\u001b[0m\u001b[1;33m(\u001b[0m\u001b[0mciteseer_g\u001b[0m\u001b[1;33m,\u001b[0m \u001b[0mfeatures\u001b[0m\u001b[1;33m)\u001b[0m\u001b[1;33m.\u001b[0m\u001b[0mdetach\u001b[0m\u001b[1;33m(\u001b[0m\u001b[1;33m)\u001b[0m\u001b[1;33m\u001b[0m\u001b[1;33m\u001b[0m\u001b[0m\n\u001b[0m\u001b[0;32m      3\u001b[0m \u001b[0mpf\u001b[0m\u001b[1;33m.\u001b[0m\u001b[0mperformance_as_df\u001b[0m\u001b[1;33m(\u001b[0m\u001b[0mciteseer_labels\u001b[0m\u001b[1;33m,\u001b[0m\u001b[0mfinal_prediction\u001b[0m\u001b[1;33m,\u001b[0m\u001b[0mmask\u001b[0m\u001b[1;33m)\u001b[0m\u001b[1;33m\u001b[0m\u001b[1;33m\u001b[0m\u001b[0m\n",
      "\u001b[1;32m~\\AppData\\Local\\Continuum\\anaconda3\\lib\\site-packages\\torch\\nn\\modules\\module.py\u001b[0m in \u001b[0;36m__call__\u001b[1;34m(self, *input, **kwargs)\u001b[0m\n\u001b[0;32m    487\u001b[0m             \u001b[0mresult\u001b[0m \u001b[1;33m=\u001b[0m \u001b[0mself\u001b[0m\u001b[1;33m.\u001b[0m\u001b[0m_slow_forward\u001b[0m\u001b[1;33m(\u001b[0m\u001b[1;33m*\u001b[0m\u001b[0minput\u001b[0m\u001b[1;33m,\u001b[0m \u001b[1;33m**\u001b[0m\u001b[0mkwargs\u001b[0m\u001b[1;33m)\u001b[0m\u001b[1;33m\u001b[0m\u001b[1;33m\u001b[0m\u001b[0m\n\u001b[0;32m    488\u001b[0m         \u001b[1;32melse\u001b[0m\u001b[1;33m:\u001b[0m\u001b[1;33m\u001b[0m\u001b[1;33m\u001b[0m\u001b[0m\n\u001b[1;32m--> 489\u001b[1;33m             \u001b[0mresult\u001b[0m \u001b[1;33m=\u001b[0m \u001b[0mself\u001b[0m\u001b[1;33m.\u001b[0m\u001b[0mforward\u001b[0m\u001b[1;33m(\u001b[0m\u001b[1;33m*\u001b[0m\u001b[0minput\u001b[0m\u001b[1;33m,\u001b[0m \u001b[1;33m**\u001b[0m\u001b[0mkwargs\u001b[0m\u001b[1;33m)\u001b[0m\u001b[1;33m\u001b[0m\u001b[1;33m\u001b[0m\u001b[0m\n\u001b[0m\u001b[0;32m    490\u001b[0m         \u001b[1;32mfor\u001b[0m \u001b[0mhook\u001b[0m \u001b[1;32min\u001b[0m \u001b[0mself\u001b[0m\u001b[1;33m.\u001b[0m\u001b[0m_forward_hooks\u001b[0m\u001b[1;33m.\u001b[0m\u001b[0mvalues\u001b[0m\u001b[1;33m(\u001b[0m\u001b[1;33m)\u001b[0m\u001b[1;33m:\u001b[0m\u001b[1;33m\u001b[0m\u001b[1;33m\u001b[0m\u001b[0m\n\u001b[0;32m    491\u001b[0m             \u001b[0mhook_result\u001b[0m \u001b[1;33m=\u001b[0m \u001b[0mhook\u001b[0m\u001b[1;33m(\u001b[0m\u001b[0mself\u001b[0m\u001b[1;33m,\u001b[0m \u001b[0minput\u001b[0m\u001b[1;33m,\u001b[0m \u001b[0mresult\u001b[0m\u001b[1;33m)\u001b[0m\u001b[1;33m\u001b[0m\u001b[1;33m\u001b[0m\u001b[0m\n",
      "\u001b[1;32m<ipython-input-81-39a7789d79e8>\u001b[0m in \u001b[0;36mforward\u001b[1;34m(self, g, features)\u001b[0m\n\u001b[0;32m      8\u001b[0m \u001b[1;33m\u001b[0m\u001b[0m\n\u001b[0;32m      9\u001b[0m     \u001b[1;32mdef\u001b[0m \u001b[0mforward\u001b[0m\u001b[1;33m(\u001b[0m\u001b[0mself\u001b[0m\u001b[1;33m,\u001b[0m \u001b[0mg\u001b[0m\u001b[1;33m,\u001b[0m \u001b[0mfeatures\u001b[0m\u001b[1;33m)\u001b[0m\u001b[1;33m:\u001b[0m\u001b[1;33m\u001b[0m\u001b[1;33m\u001b[0m\u001b[0m\n\u001b[1;32m---> 10\u001b[1;33m         \u001b[0mx\u001b[0m \u001b[1;33m=\u001b[0m \u001b[0mself\u001b[0m\u001b[1;33m.\u001b[0m\u001b[0mgcn1\u001b[0m\u001b[1;33m(\u001b[0m\u001b[0mg\u001b[0m\u001b[1;33m,\u001b[0m \u001b[0mfeatures\u001b[0m\u001b[1;33m)\u001b[0m\u001b[1;33m\u001b[0m\u001b[1;33m\u001b[0m\u001b[0m\n\u001b[0m\u001b[0;32m     11\u001b[0m         \u001b[1;31m#x = self.dropout(x)\u001b[0m\u001b[1;33m\u001b[0m\u001b[1;33m\u001b[0m\u001b[1;33m\u001b[0m\u001b[0m\n\u001b[0;32m     12\u001b[0m         \u001b[1;31m#x = self.gcn2(g, x)\u001b[0m\u001b[1;33m\u001b[0m\u001b[1;33m\u001b[0m\u001b[1;33m\u001b[0m\u001b[0m\n",
      "\u001b[1;32m~\\AppData\\Local\\Continuum\\anaconda3\\lib\\site-packages\\torch\\nn\\modules\\module.py\u001b[0m in \u001b[0;36m__call__\u001b[1;34m(self, *input, **kwargs)\u001b[0m\n\u001b[0;32m    487\u001b[0m             \u001b[0mresult\u001b[0m \u001b[1;33m=\u001b[0m \u001b[0mself\u001b[0m\u001b[1;33m.\u001b[0m\u001b[0m_slow_forward\u001b[0m\u001b[1;33m(\u001b[0m\u001b[1;33m*\u001b[0m\u001b[0minput\u001b[0m\u001b[1;33m,\u001b[0m \u001b[1;33m**\u001b[0m\u001b[0mkwargs\u001b[0m\u001b[1;33m)\u001b[0m\u001b[1;33m\u001b[0m\u001b[1;33m\u001b[0m\u001b[0m\n\u001b[0;32m    488\u001b[0m         \u001b[1;32melse\u001b[0m\u001b[1;33m:\u001b[0m\u001b[1;33m\u001b[0m\u001b[1;33m\u001b[0m\u001b[0m\n\u001b[1;32m--> 489\u001b[1;33m             \u001b[0mresult\u001b[0m \u001b[1;33m=\u001b[0m \u001b[0mself\u001b[0m\u001b[1;33m.\u001b[0m\u001b[0mforward\u001b[0m\u001b[1;33m(\u001b[0m\u001b[1;33m*\u001b[0m\u001b[0minput\u001b[0m\u001b[1;33m,\u001b[0m \u001b[1;33m**\u001b[0m\u001b[0mkwargs\u001b[0m\u001b[1;33m)\u001b[0m\u001b[1;33m\u001b[0m\u001b[1;33m\u001b[0m\u001b[0m\n\u001b[0m\u001b[0;32m    490\u001b[0m         \u001b[1;32mfor\u001b[0m \u001b[0mhook\u001b[0m \u001b[1;32min\u001b[0m \u001b[0mself\u001b[0m\u001b[1;33m.\u001b[0m\u001b[0m_forward_hooks\u001b[0m\u001b[1;33m.\u001b[0m\u001b[0mvalues\u001b[0m\u001b[1;33m(\u001b[0m\u001b[1;33m)\u001b[0m\u001b[1;33m:\u001b[0m\u001b[1;33m\u001b[0m\u001b[1;33m\u001b[0m\u001b[0m\n\u001b[0;32m    491\u001b[0m             \u001b[0mhook_result\u001b[0m \u001b[1;33m=\u001b[0m \u001b[0mhook\u001b[0m\u001b[1;33m(\u001b[0m\u001b[0mself\u001b[0m\u001b[1;33m,\u001b[0m \u001b[0minput\u001b[0m\u001b[1;33m,\u001b[0m \u001b[0mresult\u001b[0m\u001b[1;33m)\u001b[0m\u001b[1;33m\u001b[0m\u001b[1;33m\u001b[0m\u001b[0m\n",
      "\u001b[1;32m<ipython-input-47-edf1b30e4aee>\u001b[0m in \u001b[0;36mforward\u001b[1;34m(self, g, feature)\u001b[0m\n\u001b[0;32m      6\u001b[0m \u001b[1;33m\u001b[0m\u001b[0m\n\u001b[0;32m      7\u001b[0m     \u001b[1;32mdef\u001b[0m \u001b[0mforward\u001b[0m\u001b[1;33m(\u001b[0m\u001b[0mself\u001b[0m\u001b[1;33m,\u001b[0m \u001b[0mg\u001b[0m\u001b[1;33m,\u001b[0m \u001b[0mfeature\u001b[0m\u001b[1;33m)\u001b[0m\u001b[1;33m:\u001b[0m\u001b[1;33m\u001b[0m\u001b[1;33m\u001b[0m\u001b[0m\n\u001b[1;32m----> 8\u001b[1;33m         \u001b[0mg\u001b[0m\u001b[1;33m.\u001b[0m\u001b[0mndata\u001b[0m\u001b[1;33m[\u001b[0m\u001b[1;34m'h'\u001b[0m\u001b[1;33m]\u001b[0m \u001b[1;33m=\u001b[0m \u001b[0mfeature\u001b[0m\u001b[1;33m\u001b[0m\u001b[1;33m\u001b[0m\u001b[0m\n\u001b[0m\u001b[0;32m      9\u001b[0m         \u001b[0mg\u001b[0m\u001b[1;33m.\u001b[0m\u001b[0mupdate_all\u001b[0m\u001b[1;33m(\u001b[0m\u001b[0mmessage_func\u001b[0m\u001b[1;33m=\u001b[0m\u001b[0mfn\u001b[0m\u001b[1;33m.\u001b[0m\u001b[0mcopy_src\u001b[0m\u001b[1;33m(\u001b[0m\u001b[0msrc\u001b[0m\u001b[1;33m=\u001b[0m\u001b[1;34m'h'\u001b[0m\u001b[1;33m,\u001b[0m \u001b[0mout\u001b[0m\u001b[1;33m=\u001b[0m\u001b[1;34m'm'\u001b[0m\u001b[1;33m)\u001b[0m\u001b[1;33m,\u001b[0m \u001b[0mreduce_func\u001b[0m\u001b[1;33m=\u001b[0m\u001b[0mfn\u001b[0m\u001b[1;33m.\u001b[0m\u001b[0msum\u001b[0m\u001b[1;33m(\u001b[0m\u001b[0mmsg\u001b[0m\u001b[1;33m=\u001b[0m\u001b[1;34m'm'\u001b[0m\u001b[1;33m,\u001b[0m \u001b[0mout\u001b[0m\u001b[1;33m=\u001b[0m\u001b[1;34m'h'\u001b[0m\u001b[1;33m)\u001b[0m\u001b[1;33m)\u001b[0m\u001b[1;33m\u001b[0m\u001b[1;33m\u001b[0m\u001b[0m\n\u001b[0;32m     10\u001b[0m         \u001b[0mg\u001b[0m\u001b[1;33m.\u001b[0m\u001b[0mapply_nodes\u001b[0m\u001b[1;33m(\u001b[0m\u001b[0mfunc\u001b[0m\u001b[1;33m=\u001b[0m\u001b[0mself\u001b[0m\u001b[1;33m.\u001b[0m\u001b[0mapply_mod\u001b[0m\u001b[1;33m)\u001b[0m\u001b[1;33m\u001b[0m\u001b[1;33m\u001b[0m\u001b[0m\n",
      "\u001b[1;32m~\\AppData\\Local\\Continuum\\anaconda3\\lib\\site-packages\\dgl\\view.py\u001b[0m in \u001b[0;36m__setitem__\u001b[1;34m(self, key, val)\u001b[0m\n\u001b[0;32m     63\u001b[0m         \u001b[1;32mif\u001b[0m \u001b[0misinstance\u001b[0m\u001b[1;33m(\u001b[0m\u001b[0mval\u001b[0m\u001b[1;33m,\u001b[0m \u001b[0mnp\u001b[0m\u001b[1;33m.\u001b[0m\u001b[0mndarray\u001b[0m\u001b[1;33m)\u001b[0m\u001b[1;33m:\u001b[0m\u001b[1;33m\u001b[0m\u001b[1;33m\u001b[0m\u001b[0m\n\u001b[0;32m     64\u001b[0m             \u001b[0mval\u001b[0m \u001b[1;33m=\u001b[0m \u001b[0mF\u001b[0m\u001b[1;33m.\u001b[0m\u001b[0mzerocopy_from_numpy\u001b[0m\u001b[1;33m(\u001b[0m\u001b[0mval\u001b[0m\u001b[1;33m)\u001b[0m\u001b[1;33m\u001b[0m\u001b[1;33m\u001b[0m\u001b[0m\n\u001b[1;32m---> 65\u001b[1;33m         \u001b[0mself\u001b[0m\u001b[1;33m.\u001b[0m\u001b[0m_graph\u001b[0m\u001b[1;33m.\u001b[0m\u001b[0mset_n_repr\u001b[0m\u001b[1;33m(\u001b[0m\u001b[1;33m{\u001b[0m\u001b[0mkey\u001b[0m \u001b[1;33m:\u001b[0m \u001b[0mval\u001b[0m\u001b[1;33m}\u001b[0m\u001b[1;33m,\u001b[0m \u001b[0mself\u001b[0m\u001b[1;33m.\u001b[0m\u001b[0m_nodes\u001b[0m\u001b[1;33m)\u001b[0m\u001b[1;33m\u001b[0m\u001b[1;33m\u001b[0m\u001b[0m\n\u001b[0m\u001b[0;32m     66\u001b[0m \u001b[1;33m\u001b[0m\u001b[0m\n\u001b[0;32m     67\u001b[0m     \u001b[1;32mdef\u001b[0m \u001b[0m__delitem__\u001b[0m\u001b[1;33m(\u001b[0m\u001b[0mself\u001b[0m\u001b[1;33m,\u001b[0m \u001b[0mkey\u001b[0m\u001b[1;33m)\u001b[0m\u001b[1;33m:\u001b[0m\u001b[1;33m\u001b[0m\u001b[1;33m\u001b[0m\u001b[0m\n",
      "\u001b[1;32m~\\AppData\\Local\\Continuum\\anaconda3\\lib\\site-packages\\dgl\\graph.py\u001b[0m in \u001b[0;36mset_n_repr\u001b[1;34m(self, data, u, inplace)\u001b[0m\n\u001b[0;32m   1788\u001b[0m             \u001b[1;32mif\u001b[0m \u001b[0mnfeats\u001b[0m \u001b[1;33m!=\u001b[0m \u001b[0mnum_nodes\u001b[0m\u001b[1;33m:\u001b[0m\u001b[1;33m\u001b[0m\u001b[1;33m\u001b[0m\u001b[0m\n\u001b[0;32m   1789\u001b[0m                 raise DGLError('Expect number of features to match number of nodes (len(u)).'\n\u001b[1;32m-> 1790\u001b[1;33m                                ' Got %d and %d instead.' % (nfeats, num_nodes))\n\u001b[0m\u001b[0;32m   1791\u001b[0m         \u001b[1;31m# set\u001b[0m\u001b[1;33m\u001b[0m\u001b[1;33m\u001b[0m\u001b[1;33m\u001b[0m\u001b[0m\n\u001b[0;32m   1792\u001b[0m         \u001b[1;32mif\u001b[0m \u001b[0mis_all\u001b[0m\u001b[1;33m(\u001b[0m\u001b[0mu\u001b[0m\u001b[1;33m)\u001b[0m\u001b[1;33m:\u001b[0m\u001b[1;33m\u001b[0m\u001b[1;33m\u001b[0m\u001b[0m\n",
      "\u001b[1;31mDGLError\u001b[0m: Expect number of features to match number of nodes (len(u)). Got 2708 and 3327 instead."
     ]
    }
   ],
   "source": [
    "net.eval() # Set net to evaluation mode (deactivates dropout)\n",
    "final_prediction = net(citeseer_g, citeseer_features).detach()\n",
    "pf.performance_as_df(citeseer_labels,final_prediction,mask)"
   ]
  },
  {
   "cell_type": "code",
   "execution_count": null,
   "metadata": {},
   "outputs": [],
   "source": []
  }
 ],
 "metadata": {
  "file_extension": ".py",
  "kernelspec": {
   "display_name": "Python 3",
   "language": "python",
   "name": "python3"
  },
  "language_info": {
   "codemirror_mode": {
    "name": "ipython",
    "version": 3
   },
   "file_extension": ".py",
   "mimetype": "text/x-python",
   "name": "python",
   "nbconvert_exporter": "python",
   "pygments_lexer": "ipython3",
   "version": "3.7.4"
  },
  "mimetype": "text/x-python",
  "name": "python",
  "npconvert_exporter": "python",
  "pygments_lexer": "ipython3",
  "version": 3
 },
 "nbformat": 4,
 "nbformat_minor": 2
}
