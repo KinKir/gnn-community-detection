{
 "nbformat": 4,
 "nbformat_minor": 2,
 "metadata": {
  "language_info": {
   "name": "python",
   "codemirror_mode": {
    "name": "ipython",
    "version": 3
   },
   "version": "3.7.3"
  },
  "orig_nbformat": 2,
  "file_extension": ".py",
  "mimetype": "text/x-python",
  "name": "python",
  "npconvert_exporter": "python",
  "pygments_lexer": "ipython3",
  "version": 3
 },
 "cells": [
  {
   "cell_type": "markdown",
   "execution_count": null,
   "metadata": {},
   "outputs": [],
   "source": [
    "# Graph Convolutional Network by Kipf and Welling"
   ]
  },
  {
   "cell_type": "markdown",
   "execution_count": 2,
   "metadata": {},
   "outputs": [],
   "source": [
    "## Imports"
   ]
  },
  {
   "cell_type": "code",
   "execution_count": 1,
   "metadata": {},
   "outputs": [],
   "source": [
    "import dgl\n",
    "import dgl.function as fn\n",
    "import torch as th\n",
    "import torch.nn as nn\n",
    "import torch.nn.functional as F\n",
    "from dgl import DGLGraph\n",
    "\n",
    "import pickle\n",
    "import numpy as np\n",
    "\n",
    "import itertools\n",
    "\n",
    "import Notebooks.performance as pf"
   ]
  },
  {
   "cell_type": "markdown",
   "execution_count": null,
   "metadata": {},
   "outputs": [],
   "source": [
    "## GNN Definition"
   ]
  },
  {
   "cell_type": "code",
   "execution_count": 2,
   "metadata": {},
   "outputs": [],
   "source": [
    "class LinearModule(nn.Module):\n",
    "    \"\"\"The linear transformation part of the GCN layer\"\"\"\n",
    "    def __init__(self, in_feats, out_feats, activation):\n",
    "        super(LinearModule, self).__init__()\n",
    "        self.linear = nn.Linear(in_feats, out_feats)\n",
    "        self.activation = activation # This is the activation function\n",
    "\n",
    "    def forward(self, node):\n",
    "        h = self.linear(node.data['h'])\n",
    "        h = self.activation(h)\n",
    "        return {'h' : h}"
   ]
  },
  {
   "cell_type": "code",
   "execution_count": 3,
   "metadata": {},
   "outputs": [],
   "source": [
    "class GCN(nn.Module):\n",
    "    \"\"\"A GCN layer\"\"\"\n",
    "    def __init__(self, in_feats, out_feats, activation):\n",
    "        super(GCN, self).__init__()\n",
    "        self.apply_mod = LinearModule(in_feats, out_feats, activation)\n",
    "\n",
    "    def forward(self, g, feature):\n",
    "        g.ndata['h'] = feature\n",
    "        g.update_all(message_func=fn.copy_src(src='h', out='m'), reduce_func=fn.sum(msg='m', out='h'))\n",
    "        g.apply_nodes(func=self.apply_mod)\n",
    "        return g.ndata.pop('h')"
   ]
  },
  {
   "cell_type": "code",
   "execution_count": 4,
   "metadata": {},
   "outputs": [],
   "source": [
    "class Net(nn.Module):\n",
    "    def __init__(self, infeats, hidden_size, outfeats):\n",
    "        super(Net, self).__init__()\n",
    "        self.gcn1 = GCN(infeats, hidden_size, F.relu)\n",
    "        self.gcn2 = GCN(hidden_size, outfeats, lambda x: F.log_softmax(x,1))\n",
    "        self.dropout = nn.Dropout(0.2)\n",
    "\n",
    "    def forward(self, g, features):\n",
    "        x = self.gcn1(g, features)\n",
    "        #x = self.dropout(x)\n",
    "        x = self.gcn2(g, x)\n",
    "        return x"
   ]
  },
  {
   "cell_type": "markdown",
   "execution_count": null,
   "metadata": {},
   "outputs": [],
   "source": [
    "## Data Loading"
   ]
  },
  {
   "cell_type": "code",
   "execution_count": 14,
   "metadata": {},
   "outputs": [],
   "source": [
    "from dgl.data import citation_graph as citegrh\n",
    "import networkx as nx\n",
    "\n",
    "data = citegrh.load_cora()\n",
    "features = th.FloatTensor(data.features)\n",
    "labels = th.LongTensor(data.labels)\n",
    "mask = th.ByteTensor(data.train_mask)\n",
    "g = data.graph\n",
    "\n",
    "# add self loop\n",
    "g.remove_edges_from(nx.selfloop_edges(g))\n",
    "g = DGLGraph(g)\n",
    "g.add_edges(g.nodes(), g.nodes())"
   ]
  },
  {
   "cell_type": "markdown",
   "execution_count": null,
   "metadata": {},
   "outputs": [],
   "source": [
    "## Select Training Set"
   ]
  },
  {
   "cell_type": "code",
   "execution_count": 6,
   "metadata": {},
   "outputs": [],
   "source": [
    "percentage_train = 0.02\n",
    "\n",
    "with open(\"data/cora_permutation1.pickle\",\"rb\") as f:\n",
    "    perm1 = pickle.load(f)\n",
    "mask = np.zeros(g.number_of_nodes())\n",
    "mask[perm1[range(int(percentage_train*g.number_of_nodes()))]] = 1\n",
    "mask = th.ByteTensor(mask)"
   ]
  },
  {
   "cell_type": "markdown",
   "execution_count": null,
   "metadata": {},
   "outputs": [],
   "source": [
    "## Training"
   ]
  },
  {
   "cell_type": "code",
   "execution_count": 7,
   "metadata": {},
   "outputs": [],
   "source": [
    "loss_function = pf.perm_inv_loss(labels)"
   ]
  },
  {
   "cell_type": "code",
   "execution_count": 15,
   "metadata": {},
   "outputs": [
    {
     "name": "stdout",
     "output_type": "stream",
     "text": "ch 00259 | Loss 1.8107 | Train.Rand 0.8763 | Valid.Rand 0.4647 | Time(s) 0.3600\nEpoch 00260 | Loss 1.0993 | Train.Rand 0.8481 | Valid.Rand 0.4408 | Time(s) 0.3603\nEpoch 00261 | Loss 1.1712 | Train.Rand 0.7991 | Valid.Rand 0.4068 | Time(s) 0.3601\nEpoch 00262 | Loss 1.3080 | Train.Rand 0.7410 | Valid.Rand 0.3820 | Time(s) 0.3602\nEpoch 00263 | Loss 1.1786 | Train.Rand 0.7289 | Valid.Rand 0.3750 | Time(s) 0.3605\nEpoch 00264 | Loss 1.5865 | Train.Rand 0.7113 | Valid.Rand 0.3741 | Time(s) 0.3603\nEpoch 00265 | Loss 1.5501 | Train.Rand 0.7144 | Valid.Rand 0.3665 | Time(s) 0.3604\nEpoch 00266 | Loss 1.3335 | Train.Rand 0.7253 | Valid.Rand 0.3368 | Time(s) 0.3603\nEpoch 00267 | Loss 1.2778 | Train.Rand 0.7301 | Valid.Rand 0.3437 | Time(s) 0.3602\nEpoch 00268 | Loss 1.4221 | Train.Rand 0.7823 | Valid.Rand 0.3598 | Time(s) 0.3603\nEpoch 00269 | Loss 1.4582 | Train.Rand 0.8691 | Valid.Rand 0.3678 | Time(s) 0.3602\nEpoch 00270 | Loss 1.3362 | Train.Rand 0.8789 | Valid.Rand 0.3882 | Time(s) 0.3602\nEpoch 00271 | Loss 1.2719 | Train.Rand 0.8846 | Valid.Rand 0.4045 | Time(s) 0.3603\nEpoch 00272 | Loss 1.3084 | Train.Rand 0.9107 | Valid.Rand 0.4109 | Time(s) 0.3602\nEpoch 00273 | Loss 1.2387 | Train.Rand 0.8965 | Valid.Rand 0.4215 | Time(s) 0.3604\nEpoch 00274 | Loss 1.6717 | Train.Rand 0.8590 | Valid.Rand 0.4298 | Time(s) 0.3606\nEpoch 00275 | Loss 1.1983 | Train.Rand 0.8493 | Valid.Rand 0.4148 | Time(s) 0.3604\nEpoch 00276 | Loss 1.1208 | Train.Rand 0.7924 | Valid.Rand 0.3930 | Time(s) 0.3605\nEpoch 00277 | Loss 1.3196 | Train.Rand 0.7749 | Valid.Rand 0.3958 | Time(s) 0.3603\nEpoch 00278 | Loss 1.6912 | Train.Rand 0.8088 | Valid.Rand 0.4073 | Time(s) 0.3605\nEpoch 00279 | Loss 1.4318 | Train.Rand 0.8803 | Valid.Rand 0.3969 | Time(s) 0.3605\nEpoch 00280 | Loss 1.4987 | Train.Rand 0.9008 | Valid.Rand 0.3817 | Time(s) 0.3603\nEpoch 00281 | Loss 1.5617 | Train.Rand 0.9096 | Valid.Rand 0.3553 | Time(s) 0.3602\nEpoch 00282 | Loss 1.2139 | Train.Rand 0.8039 | Valid.Rand 0.3328 | Time(s) 0.3601\nEpoch 00283 | Loss 1.2967 | Train.Rand 0.6956 | Valid.Rand 0.3322 | Time(s) 0.3602\nEpoch 00284 | Loss 1.2293 | Train.Rand 0.6862 | Valid.Rand 0.3341 | Time(s) 0.3606\nEpoch 00285 | Loss 1.1957 | Train.Rand 0.7146 | Valid.Rand 0.3339 | Time(s) 0.3610\nEpoch 00286 | Loss 1.2381 | Train.Rand 0.7528 | Valid.Rand 0.3319 | Time(s) 0.3610\nEpoch 00287 | Loss 1.4495 | Train.Rand 0.7943 | Valid.Rand 0.3381 | Time(s) 0.3610\nEpoch 00288 | Loss 1.5809 | Train.Rand 0.8079 | Valid.Rand 0.3390 | Time(s) 0.3610\nEpoch 00289 | Loss 1.6062 | Train.Rand 0.8002 | Valid.Rand 0.3272 | Time(s) 0.3610\nEpoch 00290 | Loss 1.5783 | Train.Rand 0.8150 | Valid.Rand 0.3191 | Time(s) 0.3610\nEpoch 00291 | Loss 1.7443 | Train.Rand 0.7731 | Valid.Rand 0.2921 | Time(s) 0.3608\nEpoch 00292 | Loss 1.5373 | Train.Rand 0.7336 | Valid.Rand 0.2684 | Time(s) 0.3608\nEpoch 00293 | Loss 1.6172 | Train.Rand 0.7436 | Valid.Rand 0.2230 | Time(s) 0.3609\nEpoch 00294 | Loss 1.5451 | Train.Rand 0.7510 | Valid.Rand 0.2213 | Time(s) 0.3608\nEpoch 00295 | Loss 1.3187 | Train.Rand 0.7417 | Valid.Rand 0.2783 | Time(s) 0.3608\nEpoch 00296 | Loss 1.4516 | Train.Rand 0.6344 | Valid.Rand 0.3104 | Time(s) 0.3607\nEpoch 00297 | Loss 1.4316 | Train.Rand 0.6148 | Valid.Rand 0.3166 | Time(s) 0.3606\nEpoch 00298 | Loss 1.3435 | Train.Rand 0.6531 | Valid.Rand 0.3351 | Time(s) 0.3605\nEpoch 00299 | Loss 1.4359 | Train.Rand 0.7822 | Valid.Rand 0.3466 | Time(s) 0.3605\nEpoch 00300 | Loss 1.3283 | Train.Rand 0.8003 | Valid.Rand 0.3691 | Time(s) 0.3604\nEpoch 00301 | Loss 1.3841 | Train.Rand 0.8102 | Valid.Rand 0.3711 | Time(s) 0.3604\nEpoch 00302 | Loss 1.2853 | Train.Rand 0.8235 | Valid.Rand 0.3777 | Time(s) 0.3603\nEpoch 00303 | Loss 1.1873 | Train.Rand 0.7570 | Valid.Rand 0.3774 | Time(s) 0.3602\nEpoch 00304 | Loss 1.3623 | Train.Rand 0.7413 | Valid.Rand 0.3635 | Time(s) 0.3601\nEpoch 00305 | Loss 1.2076 | Train.Rand 0.7101 | Valid.Rand 0.3103 | Time(s) 0.3601\nEpoch 00306 | Loss 1.5995 | Train.Rand 0.6904 | Valid.Rand 0.2600 | Time(s) 0.3601\nEpoch 00307 | Loss 1.1843 | Train.Rand 0.6259 | Valid.Rand 0.2269 | Time(s) 0.3602\nEpoch 00308 | Loss 1.4391 | Train.Rand 0.5814 | Valid.Rand 0.2030 | Time(s) 0.3601\nEpoch 00309 | Loss 1.4525 | Train.Rand 0.5996 | Valid.Rand 0.1942 | Time(s) 0.3600\nEpoch 00310 | Loss 1.6704 | Train.Rand 0.6704 | Valid.Rand 0.2084 | Time(s) 0.3602\nEpoch 00311 | Loss 1.4171 | Train.Rand 0.7782 | Valid.Rand 0.2486 | Time(s) 0.3602\nEpoch 00312 | Loss 1.3588 | Train.Rand 0.8184 | Valid.Rand 0.3002 | Time(s) 0.3603\nEpoch 00313 | Loss 1.5244 | Train.Rand 0.8620 | Valid.Rand 0.3476 | Time(s) 0.3601\nEpoch 00314 | Loss 1.1675 | Train.Rand 0.8274 | Valid.Rand 0.3816 | Time(s) 0.3602\nEpoch 00315 | Loss 1.3307 | Train.Rand 0.8170 | Valid.Rand 0.3748 | Time(s) 0.3603\nEpoch 00316 | Loss 1.1273 | Train.Rand 0.7325 | Valid.Rand 0.3402 | Time(s) 0.3603\nEpoch 00317 | Loss 1.4439 | Train.Rand 0.7321 | Valid.Rand 0.3138 | Time(s) 0.3602\nEpoch 00318 | Loss 1.6386 | Train.Rand 0.7271 | Valid.Rand 0.3271 | Time(s) 0.3601\nEpoch 00319 | Loss 1.2606 | Train.Rand 0.8146 | Valid.Rand 0.3627 | Time(s) 0.3601\nEpoch 00320 | Loss 1.1849 | Train.Rand 0.8739 | Valid.Rand 0.4080 | Time(s) 0.3600\nEpoch 00321 | Loss 1.4247 | Train.Rand 0.8725 | Valid.Rand 0.4541 | Time(s) 0.3600\nEpoch 00322 | Loss 1.3870 | Train.Rand 0.8569 | Valid.Rand 0.4647 | Time(s) 0.3599\nEpoch 00323 | Loss 1.1367 | Train.Rand 0.7590 | Valid.Rand 0.4449 | Time(s) 0.3602\nEpoch 00324 | Loss 1.2272 | Train.Rand 0.7590 | Valid.Rand 0.4344 | Time(s) 0.3602\nEpoch 00325 | Loss 1.4816 | Train.Rand 0.7590 | Valid.Rand 0.4446 | Time(s) 0.3601\nEpoch 00326 | Loss 1.1905 | Train.Rand 0.7927 | Valid.Rand 0.4540 | Time(s) 0.3600\nEpoch 00327 | Loss 1.1951 | Train.Rand 0.8453 | Valid.Rand 0.4746 | Time(s) 0.3599\nEpoch 00328 | Loss 1.3905 | Train.Rand 0.8538 | Valid.Rand 0.4825 | Time(s) 0.3601\nEpoch 00329 | Loss 1.1469 | Train.Rand 0.8573 | Valid.Rand 0.4779 | Time(s) 0.3601\nEpoch 00330 | Loss 1.1904 | Train.Rand 0.8573 | Valid.Rand 0.4643 | Time(s) 0.3600\nEpoch 00331 | Loss 1.1110 | Train.Rand 0.8440 | Valid.Rand 0.4502 | Time(s) 0.3600\nEpoch 00332 | Loss 1.1652 | Train.Rand 0.8380 | Valid.Rand 0.4343 | Time(s) 0.3600\nEpoch 00333 | Loss 1.5146 | Train.Rand 0.8254 | Valid.Rand 0.4409 | Time(s) 0.3602\nEpoch 00334 | Loss 1.3047 | Train.Rand 0.8424 | Valid.Rand 0.4535 | Time(s) 0.3602\nEpoch 00335 | Loss 1.1734 | Train.Rand 0.8424 | Valid.Rand 0.4507 | Time(s) 0.3601\nEpoch 00336 | Loss 1.1489 | Train.Rand 0.8417 | Valid.Rand 0.4623 | Time(s) 0.3600\nEpoch 00337 | Loss 1.0993 | Train.Rand 0.8393 | Valid.Rand 0.4584 | Time(s) 0.3601\nEpoch 00338 | Loss 1.1489 | Train.Rand 0.8435 | Valid.Rand 0.4610 | Time(s) 0.3599\nEpoch 00339 | Loss 1.0788 | Train.Rand 0.8411 | Valid.Rand 0.4516 | Time(s) 0.3600\nEpoch 00340 | Loss 1.4551 | Train.Rand 0.8295 | Valid.Rand 0.4544 | Time(s) 0.3600\nEpoch 00341 | Loss 1.1652 | Train.Rand 0.8354 | Valid.Rand 0.4545 | Time(s) 0.3601\nEpoch 00342 | Loss 1.1112 | Train.Rand 0.8330 | Valid.Rand 0.4717 | Time(s) 0.3604\nEpoch 00343 | Loss 1.7522 | Train.Rand 0.8542 | Valid.Rand 0.4772 | Time(s) 0.3602\nEpoch 00344 | Loss 0.9916 | Train.Rand 0.8716 | Valid.Rand 0.4718 | Time(s) 0.3602\nEpoch 00345 | Loss 1.2129 | Train.Rand 0.8598 | Valid.Rand 0.4581 | Time(s) 0.3601\nEpoch 00346 | Loss 1.0333 | Train.Rand 0.8702 | Valid.Rand 0.4333 | Time(s) 0.3602\nEpoch 00347 | Loss 1.6448 | Train.Rand 0.8641 | Valid.Rand 0.4231 | Time(s) 0.3603\nEpoch 00348 | Loss 0.9911 | Train.Rand 0.8453 | Valid.Rand 0.4075 | Time(s) 0.3602\nEpoch 00349 | Loss 1.2592 | Train.Rand 0.8311 | Valid.Rand 0.3899 | Time(s) 0.3601\nEpoch 00350 | Loss 1.0133 | Train.Rand 0.7946 | Valid.Rand 0.3926 | Time(s) 0.3599\nEpoch 00351 | Loss 1.0876 | Train.Rand 0.7946 | Valid.Rand 0.4024 | Time(s) 0.3599\nEpoch 00352 | Loss 1.3949 | Train.Rand 0.8207 | Valid.Rand 0.4406 | Time(s) 0.3600\nEpoch 00353 | Loss 1.0446 | Train.Rand 0.8585 | Valid.Rand 0.4881 | Time(s) 0.3600\nEpoch 00354 | Loss 1.2310 | Train.Rand 0.8467 | Valid.Rand 0.4945 | Time(s) 0.3601\nEpoch 00355 | Loss 1.1081 | Train.Rand 0.8457 | Valid.Rand 0.4709 | Time(s) 0.3599\nEpoch 00356 | Loss 1.6291 | Train.Rand 0.7954 | Valid.Rand 0.4294 | Time(s) 0.3599\nEpoch 00357 | Loss 1.0665 | Train.Rand 0.8053 | Valid.Rand 0.4259 | Time(s) 0.3599\nEpoch 00358 | Loss 1.0685 | Train.Rand 0.8288 | Valid.Rand 0.4554 | Time(s) 0.3599\nEpoch 00359 | Loss 2.0990 | Train.Rand 0.8530 | Valid.Rand 0.4827 | Time(s) 0.3599\nEpoch 00360 | Loss 2.0172 | Train.Rand 0.8635 | Valid.Rand 0.5033 | Time(s) 0.3599\nEpoch 00361 | Loss 1.2238 | Train.Rand 0.9043 | Valid.Rand 0.5105 | Time(s) 0.3599\nEpoch 00362 | Loss 1.4673 | Train.Rand 0.9010 | Valid.Rand 0.5052 | Time(s) 0.3600\nEpoch 00363 | Loss 1.4557 | Train.Rand 0.9038 | Valid.Rand 0.4808 | Time(s) 0.3599\nEpoch 00364 | Loss 1.4809 | Train.Rand 0.8935 | Valid.Rand 0.4420 | Time(s) 0.3599\nEpoch 00365 | Loss 1.2148 | Train.Rand 0.8588 | Valid.Rand 0.3966 | Time(s) 0.3599\nEpoch 00366 | Loss 1.2804 | Train.Rand 0.8590 | Valid.Rand 0.3834 | Time(s) 0.3601\nEpoch 00367 | Loss 1.1879 | Train.Rand 0.8001 | Valid.Rand 0.3533 | Time(s) 0.3600\nEpoch 00368 | Loss 1.2414 | Train.Rand 0.7881 | Valid.Rand 0.3391 | Time(s) 0.3599\nEpoch 00369 | Loss 1.5003 | Train.Rand 0.8030 | Valid.Rand 0.3325 | Time(s) 0.3600\nEpoch 00370 | Loss 1.2352 | Train.Rand 0.8235 | Valid.Rand 0.3380 | Time(s) 0.3599\nEpoch 00371 | Loss 1.2063 | Train.Rand 0.7966 | Valid.Rand 0.3458 | Time(s) 0.3598\nEpoch 00372 | Loss 1.5301 | Train.Rand 0.7718 | Valid.Rand 0.3675 | Time(s) 0.3599\nEpoch 00373 | Loss 1.1328 | Train.Rand 0.7965 | Valid.Rand 0.4064 | Time(s) 0.3598\nEpoch 00374 | Loss 1.0946 | Train.Rand 0.7698 | Valid.Rand 0.4136 | Time(s) 0.3598\nEpoch 00375 | Loss 1.7204 | Train.Rand 0.7725 | Valid.Rand 0.4174 | Time(s) 0.3597\nEpoch 00376 | Loss 1.1337 | Train.Rand 0.7936 | Valid.Rand 0.4219 | Time(s) 0.3597\nEpoch 00377 | Loss 1.2300 | Train.Rand 0.7976 | Valid.Rand 0.4227 | Time(s) 0.3597\nEpoch 00378 | Loss 1.7517 | Train.Rand 0.8111 | Valid.Rand 0.4373 | Time(s) 0.3598\nEpoch 00379 | Loss 1.4057 | Train.Rand 0.8472 | Valid.Rand 0.4370 | Time(s) 0.3598\nEpoch 00380 | Loss 1.0458 | Train.Rand 0.8414 | Valid.Rand 0.4337 | Time(s) 0.3596\nEpoch 00381 | Loss 1.2527 | Train.Rand 0.8414 | Valid.Rand 0.4075 | Time(s) 0.3598\nEpoch 00382 | Loss 1.5736 | Train.Rand 0.8295 | Valid.Rand 0.4055 | Time(s) 0.3597\nEpoch 00383 | Loss 1.0380 | Train.Rand 0.8414 | Valid.Rand 0.4179 | Time(s) 0.3599\nEpoch 00384 | Loss 1.3963 | Train.Rand 0.8414 | Valid.Rand 0.4242 | Time(s) 0.3598\nEpoch 00385 | Loss 1.1706 | Train.Rand 0.8394 | Valid.Rand 0.4386 | Time(s) 0.3598\nEpoch 00386 | Loss 1.6315 | Train.Rand 0.8008 | Valid.Rand 0.4347 | Time(s) 0.3597\nEpoch 00387 | Loss 1.7216 | Train.Rand 0.7329 | Valid.Rand 0.4258 | Time(s) 0.3598\nEpoch 00388 | Loss 1.1609 | Train.Rand 0.7297 | Valid.Rand 0.4373 | Time(s) 0.3597\nEpoch 00389 | Loss 1.5452 | Train.Rand 0.7335 | Valid.Rand 0.4369 | Time(s) 0.3597\nEpoch 00390 | Loss 1.2675 | Train.Rand 0.7774 | Valid.Rand 0.4446 | Time(s) 0.3596\nEpoch 00391 | Loss 1.2938 | Train.Rand 0.8276 | Valid.Rand 0.4523 | Time(s) 0.3596\nEpoch 00392 | Loss 1.1805 | Train.Rand 0.8415 | Valid.Rand 0.4524 | Time(s) 0.3595\nEpoch 00393 | Loss 1.1075 | Train.Rand 0.8387 | Valid.Rand 0.4645 | Time(s) 0.3595\nEpoch 00394 | Loss 1.2036 | Train.Rand 0.8412 | Valid.Rand 0.4676 | Time(s) 0.3595\nEpoch 00395 | Loss 1.0371 | Train.Rand 0.8237 | Valid.Rand 0.4676 | Time(s) 0.3594\nEpoch 00396 | Loss 1.8159 | Train.Rand 0.8369 | Valid.Rand 0.4709 | Time(s) 0.3593\nEpoch 00397 | Loss 1.4263 | Train.Rand 0.8250 | Valid.Rand 0.4765 | Time(s) 0.3592\nEpoch 00398 | Loss 1.4043 | Train.Rand 0.8735 | Valid.Rand 0.4745 | Time(s) 0.3592\nEpoch 00399 | Loss 1.1670 | Train.Rand 0.8801 | Valid.Rand 0.4620 | Time(s) 0.3591\nEpoch 00400 | Loss 1.2041 | Train.Rand 0.8692 | Valid.Rand 0.4571 | Time(s) 0.3591\nEpoch 00401 | Loss 1.2900 | Train.Rand 0.8774 | Valid.Rand 0.4452 | Time(s) 0.3590\nEpoch 00402 | Loss 1.1022 | Train.Rand 0.9024 | Valid.Rand 0.4410 | Time(s) 0.3589\nEpoch 00403 | Loss 1.3387 | Train.Rand 0.8372 | Valid.Rand 0.4368 | Time(s) 0.3590\nEpoch 00404 | Loss 1.3257 | Train.Rand 0.8115 | Valid.Rand 0.4224 | Time(s) 0.3591\nEpoch 00405 | Loss 1.1943 | Train.Rand 0.8061 | Valid.Rand 0.4021 | Time(s) 0.3592\nEpoch 00406 | Loss 1.2081 | Train.Rand 0.7943 | Valid.Rand 0.3885 | Time(s) 0.3592\nEpoch 00407 | Loss 1.5319 | Train.Rand 0.7975 | Valid.Rand 0.3911 | Time(s) 0.3591\nEpoch 00408 | Loss 1.1526 | Train.Rand 0.7950 | Valid.Rand 0.3994 | Time(s) 0.3593\nEpoch 00409 | Loss 1.5558 | Train.Rand 0.7860 | Valid.Rand 0.4184 | Time(s) 0.3593\nEpoch 00410 | Loss 1.4290 | Train.Rand 0.7852 | Valid.Rand 0.4361 | Time(s) 0.3592\nEpoch 00411 | Loss 1.1441 | Train.Rand 0.7831 | Valid.Rand 0.4439 | Time(s) 0.3593\nEpoch 00412 | Loss 1.1269 | Train.Rand 0.7643 | Valid.Rand 0.4478 | Time(s) 0.3594\nEpoch 00413 | Loss 1.6580 | Train.Rand 0.7756 | Valid.Rand 0.4578 | Time(s) 0.3594\nEpoch 00414 | Loss 1.8181 | Train.Rand 0.8035 | Valid.Rand 0.4475 | Time(s) 0.3594\nEpoch 00415 | Loss 1.1240 | Train.Rand 0.8453 | Valid.Rand 0.4349 | Time(s) 0.3593\nEpoch 00416 | Loss 1.2503 | Train.Rand 0.8453 | Valid.Rand 0.4259 | Time(s) 0.3593\nEpoch 00417 | Loss 1.1569 | Train.Rand 0.8103 | Valid.Rand 0.4153 | Time(s) 0.3592\nEpoch 00418 | Loss 1.2178 | Train.Rand 0.7908 | Valid.Rand 0.4099 | Time(s) 0.3592\nEpoch 00419 | Loss 1.2391 | Train.Rand 0.7882 | Valid.Rand 0.4116 | Time(s) 0.3592\nEpoch 00420 | Loss 1.4654 | Train.Rand 0.7708 | Valid.Rand 0.4133 | Time(s) 0.3591\nEpoch 00421 | Loss 1.0667 | Train.Rand 0.7880 | Valid.Rand 0.4282 | Time(s) 0.3590\nEpoch 00422 | Loss 1.2092 | Train.Rand 0.7355 | Valid.Rand 0.4365 | Time(s) 0.3591\nEpoch 00423 | Loss 1.1732 | Train.Rand 0.7306 | Valid.Rand 0.4472 | Time(s) 0.3591\nEpoch 00424 | Loss 1.3365 | Train.Rand 0.7572 | Valid.Rand 0.4545 | Time(s) 0.3591\nEpoch 00425 | Loss 1.3708 | Train.Rand 0.7547 | Valid.Rand 0.4453 | Time(s) 0.3591\nEpoch 00426 | Loss 1.3155 | Train.Rand 0.7430 | Valid.Rand 0.4416 | Time(s) 0.3590\nEpoch 00427 | Loss 1.0776 | Train.Rand 0.7608 | Valid.Rand 0.4352 | Time(s) 0.3590\nEpoch 00428 | Loss 1.4303 | Train.Rand 0.7694 | Valid.Rand 0.4346 | Time(s) 0.3589\nEpoch 00429 | Loss 1.2665 | Train.Rand 0.7804 | Valid.Rand 0.4392 | Time(s) 0.3589\nEpoch 00430 | Loss 1.3534 | Train.Rand 0.8139 | Valid.Rand 0.4427 | Time(s) 0.3589\nEpoch 00431 | Loss 1.0517 | Train.Rand 0.8315 | Valid.Rand 0.4398 | Time(s) 0.3588\nEpoch 00432 | Loss 1.2331 | Train.Rand 0.8156 | Valid.Rand 0.4319 | Time(s) 0.3588\nEpoch 00433 | Loss 1.0329 | Train.Rand 0.8258 | Valid.Rand 0.3971 | Time(s) 0.3588\nEpoch 00434 | Loss 1.2444 | Train.Rand 0.8419 | Valid.Rand 0.3531 | Time(s) 0.3588\nEpoch 00435 | Loss 1.3583 | Train.Rand 0.8273 | Valid.Rand 0.3346 | Time(s) 0.3589\nEpoch 00436 | Loss 1.3177 | Train.Rand 0.8301 | Valid.Rand 0.3476 | Time(s) 0.3588\nEpoch 00437 | Loss 1.2709 | Train.Rand 0.8295 | Valid.Rand 0.3742 | Time(s) 0.3590\nEpoch 00438 | Loss 1.1512 | Train.Rand 0.8196 | Valid.Rand 0.4059 | Time(s) 0.3589\nEpoch 00439 | Loss 1.0071 | Train.Rand 0.7824 | Valid.Rand 0.4108 | Time(s) 0.3590\nEpoch 00440 | Loss 1.0539 | Train.Rand 0.7665 | Valid.Rand 0.4130 | Time(s) 0.3590\nEpoch 00441 | Loss 1.0460 | Train.Rand 0.7436 | Valid.Rand 0.4244 | Time(s) 0.3589\nEpoch 00442 | Loss 1.1358 | Train.Rand 0.7649 | Valid.Rand 0.4071 | Time(s) 0.3590\nEpoch 00443 | Loss 1.5357 | Train.Rand 0.7386 | Valid.Rand 0.3876 | Time(s) 0.3590\nEpoch 00444 | Loss 1.5063 | Train.Rand 0.7291 | Valid.Rand 0.4017 | Time(s) 0.3591\nEpoch 00445 | Loss 2.0903 | Train.Rand 0.7964 | Valid.Rand 0.4281 | Time(s) 0.3591\nEpoch 00446 | Loss 1.7418 | Train.Rand 0.8303 | Valid.Rand 0.4225 | Time(s) 0.3590\nEpoch 00447 | Loss 0.9648 | Train.Rand 0.7884 | Valid.Rand 0.3956 | Time(s) 0.3590\nEpoch 00448 | Loss 1.7477 | Train.Rand 0.7812 | Valid.Rand 0.3654 | Time(s) 0.3589\nEpoch 00449 | Loss 1.0745 | Train.Rand 0.7441 | Valid.Rand 0.3326 | Time(s) 0.3589\nEpoch 00450 | Loss 1.1780 | Train.Rand 0.7589 | Valid.Rand 0.3304 | Time(s) 0.3590\nEpoch 00451 | Loss 1.1395 | Train.Rand 0.8226 | Valid.Rand 0.3462 | Time(s) 0.3589\nEpoch 00452 | Loss 1.3598 | Train.Rand 0.8272 | Valid.Rand 0.3624 | Time(s) 0.3590\nEpoch 00453 | Loss 1.1890 | Train.Rand 0.8302 | Valid.Rand 0.3774 | Time(s) 0.3589\nEpoch 00454 | Loss 1.5658 | Train.Rand 0.8296 | Valid.Rand 0.3799 | Time(s) 0.3589\nEpoch 00455 | Loss 1.5323 | Train.Rand 0.8544 | Valid.Rand 0.3693 | Time(s) 0.3589\nEpoch 00456 | Loss 1.5078 | Train.Rand 0.8365 | Valid.Rand 0.3652 | Time(s) 0.3588\nEpoch 00457 | Loss 1.0547 | Train.Rand 0.8365 | Valid.Rand 0.3639 | Time(s) 0.3589\nEpoch 00458 | Loss 1.2479 | Train.Rand 0.8107 | Valid.Rand 0.3735 | Time(s) 0.3588\nEpoch 00459 | Loss 1.1074 | Train.Rand 0.8098 | Valid.Rand 0.3814 | Time(s) 0.3588\nEpoch 00460 | Loss 1.4492 | Train.Rand 0.7911 | Valid.Rand 0.3901 | Time(s) 0.3590\nEpoch 00461 | Loss 1.1687 | Train.Rand 0.7830 | Valid.Rand 0.4034 | Time(s) 0.3589\nEpoch 00462 | Loss 1.5680 | Train.Rand 0.7902 | Valid.Rand 0.4133 | Time(s) 0.3589\nEpoch 00463 | Loss 1.5371 | Train.Rand 0.8052 | Valid.Rand 0.4133 | Time(s) 0.3588\nEpoch 00464 | Loss 1.0240 | Train.Rand 0.8172 | Valid.Rand 0.4059 | Time(s) 0.3589\nEpoch 00465 | Loss 1.2996 | Train.Rand 0.8222 | Valid.Rand 0.4000 | Time(s) 0.3588\nEpoch 00466 | Loss 1.1977 | Train.Rand 0.7960 | Valid.Rand 0.3975 | Time(s) 0.3588\nEpoch 00467 | Loss 1.3622 | Train.Rand 0.7923 | Valid.Rand 0.4053 | Time(s) 0.3588\nEpoch 00468 | Loss 1.3636 | Train.Rand 0.7923 | Valid.Rand 0.4089 | Time(s) 0.3588\nEpoch 00469 | Loss 1.2416 | Train.Rand 0.7909 | Valid.Rand 0.4162 | Time(s) 0.3587\nEpoch 00470 | Loss 1.2335 | Train.Rand 0.8066 | Valid.Rand 0.4196 | Time(s) 0.3589\nEpoch 00471 | Loss 1.4154 | Train.Rand 0.8232 | Valid.Rand 0.4082 | Time(s) 0.3589\nEpoch 00472 | Loss 1.1769 | Train.Rand 0.8242 | Valid.Rand 0.4047 | Time(s) 0.3588\nEpoch 00473 | Loss 1.2559 | Train.Rand 0.7966 | Valid.Rand 0.4091 | Time(s) 0.3588\nEpoch 00474 | Loss 1.0945 | Train.Rand 0.7783 | Valid.Rand 0.4092 | Time(s) 0.3588\nEpoch 00475 | Loss 1.3652 | Train.Rand 0.6959 | Valid.Rand 0.3933 | Time(s) 0.3588\nEpoch 00476 | Loss 1.4941 | Train.Rand 0.7071 | Valid.Rand 0.3915 | Time(s) 0.3588\nEpoch 00477 | Loss 1.2438 | Train.Rand 0.7101 | Valid.Rand 0.4045 | Time(s) 0.3587\nEpoch 00478 | Loss 1.0693 | Train.Rand 0.7230 | Valid.Rand 0.4154 | Time(s) 0.3587\nEpoch 00479 | Loss 1.3014 | Train.Rand 0.7316 | Valid.Rand 0.4201 | Time(s) 0.3586\nEpoch 00480 | Loss 1.1662 | Train.Rand 0.7472 | Valid.Rand 0.4074 | Time(s) 0.3585\nEpoch 00481 | Loss 1.0993 | Train.Rand 0.7646 | Valid.Rand 0.4039 | Time(s) 0.3585\nEpoch 00482 | Loss 1.2497 | Train.Rand 0.7693 | Valid.Rand 0.3957 | Time(s) 0.3585\nEpoch 00483 | Loss 1.2342 | Train.Rand 0.7878 | Valid.Rand 0.3852 | Time(s) 0.3585\nEpoch 00484 | Loss 1.2678 | Train.Rand 0.7971 | Valid.Rand 0.3760 | Time(s) 0.3585\nEpoch 00485 | Loss 1.0692 | Train.Rand 0.8326 | Valid.Rand 0.3736 | Time(s) 0.3585\nEpoch 00486 | Loss 1.1738 | Train.Rand 0.8509 | Valid.Rand 0.3729 | Time(s) 0.3585\nEpoch 00487 | Loss 1.7595 | Train.Rand 0.8682 | Valid.Rand 0.3592 | Time(s) 0.3584\nEpoch 00488 | Loss 1.3419 | Train.Rand 0.8619 | Valid.Rand 0.3217 | Time(s) 0.3584\nEpoch 00489 | Loss 1.1492 | Train.Rand 0.8559 | Valid.Rand 0.3092 | Time(s) 0.3585\nEpoch 00490 | Loss 1.1047 | Train.Rand 0.8803 | Valid.Rand 0.3208 | Time(s) 0.3584\nEpoch 00491 | Loss 1.1271 | Train.Rand 0.8803 | Valid.Rand 0.3499 | Time(s) 0.3584\nEpoch 00492 | Loss 1.1739 | Train.Rand 0.8611 | Valid.Rand 0.3883 | Time(s) 0.3584\nEpoch 00493 | Loss 1.0719 | Train.Rand 0.8704 | Valid.Rand 0.4184 | Time(s) 0.3584\nEpoch 00494 | Loss 1.1211 | Train.Rand 0.8740 | Valid.Rand 0.4363 | Time(s) 0.3585\nEpoch 00495 | Loss 0.9946 | Train.Rand 0.8654 | Valid.Rand 0.4425 | Time(s) 0.3584\nEpoch 00496 | Loss 1.1222 | Train.Rand 0.8597 | Valid.Rand 0.4443 | Time(s) 0.3585\nEpoch 00497 | Loss 1.7807 | Train.Rand 0.8383 | Valid.Rand 0.4487 | Time(s) 0.3584\nEpoch 00498 | Loss 0.9874 | Train.Rand 0.8378 | Valid.Rand 0.4395 | Time(s) 0.3585\nEpoch 00499 | Loss 1.0132 | Train.Rand 0.8263 | Valid.Rand 0.4376 | Time(s) 0.3584\n"
    }
   ],
   "source": [
    "import time\n",
    "\n",
    "net = Net(features.shape[1], 21, len(np.unique(labels)))\n",
    "#print(net)\n",
    "\n",
    "optimizer = th.optim.Adam(net.parameters(), lr=1e-2, weight_decay=1e-2)\n",
    "net.train() # Set to training mode (use dropout)\n",
    "\n",
    "dur = []\n",
    "for epoch in range(500):\n",
    "    if epoch >=3:\n",
    "        t0 = time.time()\n",
    "\n",
    "    # Compute loss for test nodes (only for validation, not used by optimizer)\n",
    "    net.eval()\n",
    "    prediction = net(g, features)\n",
    "    train_rand=pf.rand_score(labels[mask].numpy(),np.argmax(prediction[mask].detach().numpy(), axis=1))\n",
    "    validation_rand=pf.rand_score(labels[1-mask].numpy(),np.argmax(prediction[1-mask].detach().numpy(), axis=1))\n",
    "    net.train()\n",
    "\n",
    "    # Compute loss for train nodes\n",
    "    logits = net(g, features)\n",
    "\n",
    "    loss = loss_function.approximate_loss(logits,mask,nclasses=6)\n",
    "\n",
    "    #loss = F.nll_loss(logits[mask], labels[mask])\n",
    "    \n",
    "    optimizer.zero_grad()\n",
    "    loss.backward()\n",
    "    optimizer.step()\n",
    "\n",
    "    if epoch >=3:\n",
    "        dur.append(time.time() - t0)\n",
    "\n",
    "    print(f\"Epoch {epoch:05d} | Loss {loss.item():.4f} | Train.Rand {train_rand:.4f} | Valid.Rand {validation_rand:.4f} | Time(s) {np.mean(dur):.4f}\")"
   ]
  },
  {
   "cell_type": "code",
   "execution_count": 20,
   "metadata": {},
   "outputs": [
    {
     "data": {
      "text/plain": "array([[0, 6],\n       [0, 3],\n       [2, 2],\n       [2, 2],\n       [0, 6],\n       [6, 4],\n       [4, 0],\n       [4, 0],\n       [0, 2],\n       [0, 4]], dtype=int64)"
     },
     "execution_count": 20,
     "metadata": {},
     "output_type": "execute_result"
    }
   ],
   "source": [
    "# Visualise predictions\n",
    "net.eval() # Set net to evaluation mode (deactivates dropout)\n",
    "final_prediction = net(g, features).detach()\n",
    "a = np.transpose(np.vstack([final_prediction[mask].numpy().argmax(axis=1),labels[mask].numpy()]))\n",
    "a[a[:,0].argsort()][np.random.choice(range(a.shape[0]),size=10)]\n",
    "# as can be seen, the net predicts other labels, but gets the clusters right :)"
   ]
  },
  {
   "cell_type": "markdown",
   "execution_count": null,
   "metadata": {},
   "outputs": [],
   "source": [
    "## Evaluation"
   ]
  },
  {
   "cell_type": "code",
   "execution_count": 21,
   "metadata": {},
   "outputs": [
    {
     "data": {
      "text/html": "<div>\n<style scoped>\n    .dataframe tbody tr th:only-of-type {\n        vertical-align: middle;\n    }\n\n    .dataframe tbody tr th {\n        vertical-align: top;\n    }\n\n    .dataframe thead th {\n        text-align: right;\n    }\n</style>\n<table border=\"1\" class=\"dataframe\">\n  <thead>\n    <tr style=\"text-align: right;\">\n      <th></th>\n      <th>All</th>\n      <th>Train</th>\n      <th>Test</th>\n    </tr>\n  </thead>\n  <tbody>\n    <tr>\n      <th>Mutual Information</th>\n      <td>0.200959</td>\n      <td>0.668763</td>\n      <td>0.193395</td>\n    </tr>\n    <tr>\n      <th>Rand-Index</th>\n      <td>0.092219</td>\n      <td>0.456485</td>\n      <td>0.088449</td>\n    </tr>\n    <tr>\n      <th>Variation of Information</th>\n      <td>2.655766</td>\n      <td>0.936472</td>\n      <td>2.667611</td>\n    </tr>\n  </tbody>\n</table>\n</div>",
      "text/plain": "                              All      Train      Test\nMutual Information        0.200959  0.668763  0.193395\nRand-Index                0.092219  0.456485  0.088449\nVariation of Information  2.655766  0.936472  2.667611"
     },
     "execution_count": 21,
     "metadata": {},
     "output_type": "execute_result"
    }
   ],
   "source": [
    "net.eval() # Set net to evaluation mode (deactivates dropout)\n",
    "final_prediction = net(g, features).detach()\n",
    "pf.performance_as_df(labels,final_prediction,mask)"
   ]
  },
  {
   "cell_type": "code",
   "execution_count": null,
   "metadata": {},
   "outputs": [],
   "source": []
  }
 ]
}