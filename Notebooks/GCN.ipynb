{
 "cells": [
  {
   "cell_type": "markdown",
   "metadata": {},
   "source": [
    "# Graph Convolutional Network by Kipf and Welling"
   ]
  },
  {
   "cell_type": "markdown",
   "metadata": {},
   "source": [
    "## Imports"
   ]
  },
  {
   "cell_type": "code",
   "execution_count": 1,
   "metadata": {},
   "outputs": [],
   "source": [
    "import dgl\n",
    "import dgl.function as fn\n",
    "import torch as th\n",
    "import torch.nn as nn\n",
    "import torch.nn.functional as F\n",
    "from dgl import DGLGraph\n",
    "\n",
    "import pickle\n",
    "import copy\n",
    "import numpy as np\n",
    "\n",
    "import itertools\n",
    "\n",
    "import performance as pf"
   ]
  },
  {
   "cell_type": "code",
   "execution_count": 2,
   "metadata": {},
   "outputs": [
    {
     "data": {
      "text/plain": [
       "['cora_permutation1.pickle',\n",
       " 'cora_permutation2.pickle',\n",
       " 'cora_permutation3.pickle',\n",
       " 'cora_permutation4.pickle']"
      ]
     },
     "execution_count": 2,
     "metadata": {},
     "output_type": "execute_result"
    }
   ],
   "source": [
    "import os\n",
    "os.listdir(\"../data/permutations\")"
   ]
  },
  {
   "cell_type": "markdown",
   "metadata": {},
   "source": [
    "## GNN Definition"
   ]
  },
  {
   "cell_type": "code",
   "execution_count": 3,
   "metadata": {},
   "outputs": [],
   "source": [
    "from GCN import GCN_Net\n",
    "#import GCN"
   ]
  },
  {
   "cell_type": "code",
   "execution_count": 4,
   "metadata": {},
   "outputs": [
    {
     "data": {
      "text/plain": [
       "<module 'GCN' from 'C:\\\\Users\\\\User\\\\Documents\\\\dev\\\\gnn-community-detection\\\\Notebooks\\\\GCN.py'>"
      ]
     },
     "execution_count": 4,
     "metadata": {},
     "output_type": "execute_result"
    }
   ],
   "source": [
    "import importlib\n",
    "importlib.reload(GCN)"
   ]
  },
  {
   "cell_type": "markdown",
   "metadata": {},
   "source": [
    "## Data Loading"
   ]
  },
  {
   "cell_type": "code",
   "execution_count": 4,
   "metadata": {},
   "outputs": [],
   "source": [
    "from dgl.data import citation_graph as citegrh\n",
    "import networkx as nx\n",
    "\n",
    "data = citegrh.load_cora()\n",
    "features = th.FloatTensor(data.features)\n",
    "labels = th.LongTensor(data.labels)\n",
    "mask = th.BoolTensor(data.train_mask)\n",
    "g = data.graph\n",
    "\n",
    "# add self loop\n",
    "g.remove_edges_from(nx.selfloop_edges(g))\n",
    "g = DGLGraph(g)\n",
    "g.add_edges(g.nodes(), g.nodes())"
   ]
  },
  {
   "cell_type": "code",
   "execution_count": 50,
   "metadata": {},
   "outputs": [
    {
     "name": "stderr",
     "output_type": "stream",
     "text": [
      "C:\\Users\\a_liso02\\AppData\\Local\\Continuum\\anaconda3\\lib\\site-packages\\dgl\\data\\citation_graph.py:140: RuntimeWarning: divide by zero encountered in power\n",
      "  r_inv = np.power(rowsum, -1).flatten()\n",
      "Finished data loading and preprocessing.\n",
      "  NumNodes: 3327\n",
      "  NumEdges: 9228\n",
      "  NumFeats: 3703\n",
      "  NumClasses: 6\n",
      "  NumTrainingSamples: 120\n",
      "  NumValidationSamples: 500\n",
      "  NumTestSamples: 1000\n"
     ]
    }
   ],
   "source": [
    "citeseer_data = dgl.data.CitationGraphDataset(\"citeseer\")\n",
    "citeseer_features = th.FloatTensor(citeseer_data.features)\n",
    "citeseer_labels = th.LongTensor(citeseer_data.labels)\n",
    "citeseer_mask = th.BoolTensor(citeseer_data.train_mask)\n",
    "citeseer_g = citeseer_data.graph\n",
    "\n",
    "# add self loop\n",
    "citeseer_g.remove_edges_from(nx.selfloop_edges(citeseer_g))\n",
    "citeseer_g = DGLGraph(citeseer_g)\n",
    "citeseer_g.add_edges(citeseer_g.nodes(), citeseer_g.nodes())"
   ]
  },
  {
   "cell_type": "markdown",
   "metadata": {},
   "source": [
    "## Select Training, Validation and Test Set"
   ]
  },
  {
   "cell_type": "code",
   "execution_count": 5,
   "metadata": {},
   "outputs": [],
   "source": [
    "percentage_train = 0.1\n",
    "percentage_val = 0.1\n",
    "\n",
    "with open(\"../data/permutations/cora_permutation1.pickle\",\"rb\") as f:\n",
    "    perm1 = pickle.load(f)\n",
    "mask_train = np.zeros(g.number_of_nodes())\n",
    "mask_val = np.zeros(g.number_of_nodes())\n",
    "\n",
    "i_train = int(percentage_train*g.number_of_nodes())\n",
    "i_val = i_train + int(percentage_val*g.number_of_nodes())\n",
    "mask_train[perm1[range(0,i_train)]] = 1\n",
    "mask_val[perm1[range(i_train,i_val)]] = 1\n",
    "mask_train = th.BoolTensor(mask_train)\n",
    "mask_val = th.BoolTensor(mask_val)"
   ]
  },
  {
   "cell_type": "code",
   "execution_count": 25,
   "metadata": {},
   "outputs": [],
   "source": [
    "features=th.cat([features,th.rand(size=(g.number_of_nodes(),1000))],1)"
   ]
  },
  {
   "cell_type": "code",
   "execution_count": 26,
   "metadata": {},
   "outputs": [
    {
     "data": {
      "text/plain": [
       "torch.Size([2708, 3433])"
      ]
     },
     "execution_count": 26,
     "metadata": {},
     "output_type": "execute_result"
    }
   ],
   "source": [
    "features.shape"
   ]
  },
  {
   "cell_type": "code",
   "execution_count": 14,
   "metadata": {},
   "outputs": [],
   "source": [
    "features=th.eye(g.number_of_nodes())"
   ]
  },
  {
   "cell_type": "markdown",
   "metadata": {},
   "source": [
    "## Training"
   ]
  },
  {
   "cell_type": "code",
   "execution_count": 6,
   "metadata": {},
   "outputs": [],
   "source": [
    "loss_function = pf.perm_inv_loss(labels)"
   ]
  },
  {
   "cell_type": "code",
   "execution_count": 8,
   "metadata": {},
   "outputs": [
    {
     "ename": "TypeError",
     "evalue": "__init__() missing 4 required positional arguments: 'hidden_layers', 'out_feats', 'dropout', and 'batchnorm'",
     "output_type": "error",
     "traceback": [
      "\u001b[1;31m---------------------------------------------------------------------------\u001b[0m",
      "\u001b[1;31mTypeError\u001b[0m                                 Traceback (most recent call last)",
      "\u001b[1;32m<ipython-input-8-2cfbb31848ae>\u001b[0m in \u001b[0;36m<module>\u001b[1;34m\u001b[0m\n\u001b[1;32m----> 1\u001b[1;33m \u001b[0mGCN_Net\u001b[0m\u001b[1;33m(\u001b[0m\u001b[0mfeatures\u001b[0m\u001b[1;33m.\u001b[0m\u001b[0mshape\u001b[0m\u001b[1;33m[\u001b[0m\u001b[1;36m1\u001b[0m\u001b[1;33m]\u001b[0m\u001b[1;33m,\u001b[0m \u001b[1;36m100\u001b[0m\u001b[1;33m,\u001b[0m \u001b[0mlen\u001b[0m\u001b[1;33m(\u001b[0m\u001b[0mnp\u001b[0m\u001b[1;33m.\u001b[0m\u001b[0munique\u001b[0m\u001b[1;33m(\u001b[0m\u001b[0mlabels\u001b[0m\u001b[1;33m)\u001b[0m\u001b[1;33m)\u001b[0m\u001b[1;33m)\u001b[0m\u001b[1;33m\u001b[0m\u001b[1;33m\u001b[0m\u001b[0m\n\u001b[0m",
      "\u001b[1;31mTypeError\u001b[0m: __init__() missing 4 required positional arguments: 'hidden_layers', 'out_feats', 'dropout', and 'batchnorm'"
     ]
    }
   ],
   "source": [
    "GCN_Net(features.shape[1], 100, len(np.unique(labels)))"
   ]
  },
  {
   "cell_type": "code",
   "execution_count": 18,
   "metadata": {},
   "outputs": [
    {
     "name": "stdout",
     "output_type": "stream",
     "text": [
      "Epoch 00000 | Loss 2.3277 | Train.Rand 0.0985 | Valid.Rand 0.0855 | Time(s) unknown\n",
      "Epoch 00001 | Loss 1.9872 | Train.Rand 0.1413 | Valid.Rand 0.1391 | Time(s) unknown\n",
      "Epoch 00002 | Loss 1.7141 | Train.Rand 0.1984 | Valid.Rand 0.1486 | Time(s) unknown\n",
      "Epoch 00003 | Loss 1.5509 | Train.Rand 0.2496 | Valid.Rand 0.2207 | Time(s) 0.2499\n",
      "Epoch 00004 | Loss 1.4093 | Train.Rand 0.2417 | Valid.Rand 0.1845 | Time(s) 0.2744\n",
      "Epoch 00005 | Loss 1.3042 | Train.Rand 0.2479 | Valid.Rand 0.1972 | Time(s) 0.2697\n",
      "Epoch 00006 | Loss 1.2575 | Train.Rand 0.3091 | Valid.Rand 0.2908 | Time(s) 0.2609\n",
      "Epoch 00007 | Loss 1.1989 | Train.Rand 0.3289 | Valid.Rand 0.3114 | Time(s) 0.2587\n",
      "Epoch 00008 | Loss 1.1849 | Train.Rand 0.3464 | Valid.Rand 0.3204 | Time(s) 0.2546\n",
      "Epoch 00009 | Loss 1.1668 | Train.Rand 0.3886 | Valid.Rand 0.3273 | Time(s) 0.2540\n",
      "Epoch 00010 | Loss 1.1203 | Train.Rand 0.4155 | Valid.Rand 0.3353 | Time(s) 0.2535\n",
      "Epoch 00011 | Loss 1.1237 | Train.Rand 0.4337 | Valid.Rand 0.3478 | Time(s) 0.2513\n",
      "Epoch 00012 | Loss 1.0896 | Train.Rand 0.4542 | Valid.Rand 0.3746 | Time(s) 0.2528\n",
      "Epoch 00013 | Loss 1.0912 | Train.Rand 0.4844 | Valid.Rand 0.3679 | Time(s) 0.2571\n",
      "Epoch 00014 | Loss 1.0337 | Train.Rand 0.4964 | Valid.Rand 0.3934 | Time(s) 0.2565\n",
      "Epoch 00015 | Loss 1.0534 | Train.Rand 0.5252 | Valid.Rand 0.4015 | Time(s) 0.2596\n",
      "Epoch 00016 | Loss 1.0112 | Train.Rand 0.5284 | Valid.Rand 0.4126 | Time(s) 0.2591\n",
      "Epoch 00017 | Loss 0.9990 | Train.Rand 0.5787 | Valid.Rand 0.4323 | Time(s) 0.2586\n",
      "Epoch 00018 | Loss 0.9806 | Train.Rand 0.6474 | Valid.Rand 0.4477 | Time(s) 0.2571\n",
      "Epoch 00019 | Loss 0.9682 | Train.Rand 0.6512 | Valid.Rand 0.4459 | Time(s) 0.2558\n",
      "Epoch 00020 | Loss 0.9558 | Train.Rand 0.6503 | Valid.Rand 0.4629 | Time(s) 0.2546\n",
      "Epoch 00021 | Loss 0.9229 | Train.Rand 0.6732 | Valid.Rand 0.4740 | Time(s) 0.2548\n",
      "Epoch 00022 | Loss 0.9344 | Train.Rand 0.6794 | Valid.Rand 0.4992 | Time(s) 0.2538\n",
      "Epoch 00023 | Loss 0.8804 | Train.Rand 0.6896 | Valid.Rand 0.5008 | Time(s) 0.2530\n",
      "Epoch 00024 | Loss 0.8761 | Train.Rand 0.6765 | Valid.Rand 0.5204 | Time(s) 0.2521\n",
      "Epoch 00025 | Loss 0.8474 | Train.Rand 0.6654 | Valid.Rand 0.5512 | Time(s) 0.2514\n",
      "Epoch 00026 | Loss 0.8754 | Train.Rand 0.6668 | Valid.Rand 0.5611 | Time(s) 0.2507\n",
      "Epoch 00027 | Loss 0.8314 | Train.Rand 0.6719 | Valid.Rand 0.5679 | Time(s) 0.2500\n",
      "Epoch 00028 | Loss 0.8170 | Train.Rand 0.6834 | Valid.Rand 0.5737 | Time(s) 0.2500\n",
      "Epoch 00029 | Loss 0.7833 | Train.Rand 0.6799 | Valid.Rand 0.5397 | Time(s) 0.2500\n",
      "Epoch 00030 | Loss 0.7603 | Train.Rand 0.7054 | Valid.Rand 0.5381 | Time(s) 0.2494\n",
      "Epoch 00031 | Loss 0.7714 | Train.Rand 0.7196 | Valid.Rand 0.5381 | Time(s) 0.2495\n",
      "Epoch 00032 | Loss 0.7567 | Train.Rand 0.7336 | Valid.Rand 0.5290 | Time(s) 0.2488\n",
      "Epoch 00033 | Loss 0.7410 | Train.Rand 0.7336 | Valid.Rand 0.4846 | Time(s) 0.2480\n",
      "Epoch 00034 | Loss 0.6919 | Train.Rand 0.7372 | Valid.Rand 0.4711 | Time(s) 0.2481\n",
      "Epoch 00035 | Loss 0.7303 | Train.Rand 0.7661 | Valid.Rand 0.4696 | Time(s) 0.2477\n",
      "Epoch 00036 | Loss 0.7328 | Train.Rand 0.7688 | Valid.Rand 0.4490 | Time(s) 0.2477\n",
      "Epoch 00037 | Loss 0.6808 | Train.Rand 0.7696 | Valid.Rand 0.4383 | Time(s) 0.2479\n",
      "Epoch 00038 | Loss 0.6715 | Train.Rand 0.8027 | Valid.Rand 0.4511 | Time(s) 0.2475\n",
      "Epoch 00039 | Loss 0.6451 | Train.Rand 0.8086 | Valid.Rand 0.4728 | Time(s) 0.2472\n",
      "Epoch 00040 | Loss 0.6504 | Train.Rand 0.8020 | Valid.Rand 0.4573 | Time(s) 0.2477\n",
      "Epoch 00041 | Loss 0.6309 | Train.Rand 0.8044 | Valid.Rand 0.4513 | Time(s) 0.2473\n",
      "Epoch 00042 | Loss 0.5928 | Train.Rand 0.8176 | Valid.Rand 0.4625 | Time(s) 0.2474\n",
      "Epoch 00043 | Loss 0.6471 | Train.Rand 0.8037 | Valid.Rand 0.4563 | Time(s) 0.2471\n",
      "Epoch 00044 | Loss 0.5682 | Train.Rand 0.7973 | Valid.Rand 0.4640 | Time(s) 0.2470\n",
      "Epoch 00045 | Loss 0.5983 | Train.Rand 0.8328 | Valid.Rand 0.4757 | Time(s) 0.2467\n",
      "Epoch 00046 | Loss 0.5677 | Train.Rand 0.8368 | Valid.Rand 0.4716 | Time(s) 0.2468\n",
      "Epoch 00047 | Loss 0.5808 | Train.Rand 0.8439 | Valid.Rand 0.4483 | Time(s) 0.2465\n",
      "Epoch 00048 | Loss 0.5286 | Train.Rand 0.8645 | Valid.Rand 0.4305 | Time(s) 0.2466\n",
      "Epoch 00049 | Loss 0.5177 | Train.Rand 0.8575 | Valid.Rand 0.3942 | Time(s) 0.2463\n",
      "Epoch 00050 | Loss 0.4849 | Train.Rand 0.8769 | Valid.Rand 0.3797 | Time(s) 0.2463\n",
      "Epoch 00051 | Loss 0.6373 | Train.Rand 0.8796 | Valid.Rand 0.3749 | Time(s) 0.2461\n",
      "Epoch 00052 | Loss 0.5487 | Train.Rand 0.9077 | Valid.Rand 0.4091 | Time(s) 0.2459\n",
      "Epoch 00053 | Loss 0.4986 | Train.Rand 0.9077 | Valid.Rand 0.4099 | Time(s) 0.2460\n",
      "Epoch 00054 | Loss 0.5430 | Train.Rand 0.9120 | Valid.Rand 0.4530 | Time(s) 0.2461\n",
      "Epoch 00055 | Loss 0.5249 | Train.Rand 0.9190 | Valid.Rand 0.4871 | Time(s) 0.2458\n",
      "Epoch 00056 | Loss 0.5154 | Train.Rand 0.9190 | Valid.Rand 0.4809 | Time(s) 0.2462\n",
      "Epoch 00057 | Loss 0.4874 | Train.Rand 0.9258 | Valid.Rand 0.4793 | Time(s) 0.2460\n",
      "Epoch 00058 | Loss 0.5162 | Train.Rand 0.9169 | Valid.Rand 0.4776 | Time(s) 0.2461\n",
      "Epoch 00059 | Loss 0.5229 | Train.Rand 0.9172 | Valid.Rand 0.4672 | Time(s) 0.2462\n",
      "Epoch 00060 | Loss 0.4866 | Train.Rand 0.9137 | Valid.Rand 0.4641 | Time(s) 0.2462\n",
      "Epoch 00061 | Loss 0.4768 | Train.Rand 0.9121 | Valid.Rand 0.4667 | Time(s) 0.2460\n",
      "Epoch 00062 | Loss 0.4515 | Train.Rand 0.8987 | Valid.Rand 0.4492 | Time(s) 0.2459\n",
      "Epoch 00063 | Loss 0.4286 | Train.Rand 0.8987 | Valid.Rand 0.4216 | Time(s) 0.2460\n",
      "Epoch 00064 | Loss 0.4689 | Train.Rand 0.8773 | Valid.Rand 0.4362 | Time(s) 0.2459\n",
      "Epoch 00065 | Loss 0.4737 | Train.Rand 0.8953 | Valid.Rand 0.4684 | Time(s) 0.2457\n",
      "Epoch 00066 | Loss 0.4289 | Train.Rand 0.9042 | Valid.Rand 0.4701 | Time(s) 0.2457\n",
      "Epoch 00067 | Loss 0.4516 | Train.Rand 0.9080 | Valid.Rand 0.4740 | Time(s) 0.2458\n",
      "Epoch 00068 | Loss 0.4762 | Train.Rand 0.9080 | Valid.Rand 0.4613 | Time(s) 0.2456\n",
      "Epoch 00069 | Loss 0.3998 | Train.Rand 0.8927 | Valid.Rand 0.4446 | Time(s) 0.2455\n",
      "Epoch 00070 | Loss 0.4295 | Train.Rand 0.9099 | Valid.Rand 0.4186 | Time(s) 0.2455\n",
      "Epoch 00071 | Loss 0.4452 | Train.Rand 0.8982 | Valid.Rand 0.4367 | Time(s) 0.2453\n",
      "Epoch 00072 | Loss 0.3774 | Train.Rand 0.9258 | Valid.Rand 0.4655 | Time(s) 0.2452\n",
      "Epoch 00073 | Loss 0.4043 | Train.Rand 0.9190 | Valid.Rand 0.4816 | Time(s) 0.2453\n",
      "Epoch 00074 | Loss 0.4268 | Train.Rand 0.8866 | Valid.Rand 0.4603 | Time(s) 0.2452\n",
      "Epoch 00075 | Loss 0.3984 | Train.Rand 0.8976 | Valid.Rand 0.4556 | Time(s) 0.2452\n",
      "Epoch 00076 | Loss 0.4341 | Train.Rand 0.9192 | Valid.Rand 0.4433 | Time(s) 0.2454\n",
      "Epoch 00077 | Loss 0.4014 | Train.Rand 0.9150 | Valid.Rand 0.4424 | Time(s) 0.2453\n",
      "Epoch 00078 | Loss 0.3960 | Train.Rand 0.9044 | Valid.Rand 0.3831 | Time(s) 0.2452\n",
      "Epoch 00079 | Loss 0.4402 | Train.Rand 0.9004 | Valid.Rand 0.3596 | Time(s) 0.2454\n",
      "Epoch 00080 | Loss 0.4718 | Train.Rand 0.8716 | Valid.Rand 0.3669 | Time(s) 0.2453\n",
      "Epoch 00081 | Loss 0.3601 | Train.Rand 0.8885 | Valid.Rand 0.3741 | Time(s) 0.2453\n",
      "Epoch 00082 | Loss 0.5207 | Train.Rand 0.8732 | Valid.Rand 0.3408 | Time(s) 0.2453\n",
      "Epoch 00083 | Loss 0.4476 | Train.Rand 0.8975 | Valid.Rand 0.3700 | Time(s) 0.2459\n",
      "Epoch 00084 | Loss 0.3754 | Train.Rand 0.8992 | Valid.Rand 0.4041 | Time(s) 0.2461\n",
      "Epoch 00085 | Loss 0.3587 | Train.Rand 0.9020 | Valid.Rand 0.4101 | Time(s) 0.2460\n",
      "Epoch 00086 | Loss 0.3517 | Train.Rand 0.9192 | Valid.Rand 0.4282 | Time(s) 0.2461\n",
      "Epoch 00087 | Loss 0.4432 | Train.Rand 0.9130 | Valid.Rand 0.4477 | Time(s) 0.2460\n",
      "Epoch 00088 | Loss 0.3497 | Train.Rand 0.9036 | Valid.Rand 0.4399 | Time(s) 0.2459\n",
      "Epoch 00089 | Loss 0.3508 | Train.Rand 0.9059 | Valid.Rand 0.4794 | Time(s) 0.2477\n",
      "Epoch 00090 | Loss 0.4885 | Train.Rand 0.9142 | Valid.Rand 0.4839 | Time(s) 0.2482\n",
      "Epoch 00091 | Loss 0.3752 | Train.Rand 0.9142 | Valid.Rand 0.4861 | Time(s) 0.2486\n",
      "Epoch 00092 | Loss 0.3669 | Train.Rand 0.9150 | Valid.Rand 0.4902 | Time(s) 0.2486\n",
      "Epoch 00093 | Loss 0.3995 | Train.Rand 0.9370 | Valid.Rand 0.4729 | Time(s) 0.2486\n",
      "Epoch 00094 | Loss 0.3211 | Train.Rand 0.9370 | Valid.Rand 0.4652 | Time(s) 0.2488\n",
      "Epoch 00095 | Loss 0.3906 | Train.Rand 0.9400 | Valid.Rand 0.4644 | Time(s) 0.2494\n",
      "Epoch 00096 | Loss 0.3514 | Train.Rand 0.9400 | Valid.Rand 0.4402 | Time(s) 0.2506\n",
      "Epoch 00097 | Loss 0.4047 | Train.Rand 0.9345 | Valid.Rand 0.4377 | Time(s) 0.2519\n"
     ]
    },
    {
     "name": "stdout",
     "output_type": "stream",
     "text": [
      "Epoch 00098 | Loss 0.3567 | Train.Rand 0.9345 | Valid.Rand 0.4300 | Time(s) 0.2527\n",
      "Epoch 00099 | Loss 0.3465 | Train.Rand 0.9145 | Valid.Rand 0.3835 | Time(s) 0.2533\n",
      "Epoch 00100 | Loss 0.3346 | Train.Rand 0.9102 | Valid.Rand 0.3717 | Time(s) 0.2534\n",
      "Epoch 00101 | Loss 0.3294 | Train.Rand 0.9193 | Valid.Rand 0.4327 | Time(s) 0.2535\n",
      "Epoch 00102 | Loss 0.3303 | Train.Rand 0.9151 | Valid.Rand 0.4544 | Time(s) 0.2536\n",
      "Epoch 00103 | Loss 0.3415 | Train.Rand 0.9056 | Valid.Rand 0.4676 | Time(s) 0.2536\n",
      "Epoch 00104 | Loss 0.3345 | Train.Rand 0.9236 | Valid.Rand 0.4472 | Time(s) 0.2537\n",
      "Epoch 00105 | Loss 0.3313 | Train.Rand 0.9340 | Valid.Rand 0.4342 | Time(s) 0.2538\n",
      "Epoch 00106 | Loss 0.3310 | Train.Rand 0.9450 | Valid.Rand 0.4353 | Time(s) 0.2537\n",
      "Epoch 00107 | Loss 0.3570 | Train.Rand 0.9345 | Valid.Rand 0.4135 | Time(s) 0.2537\n",
      "Epoch 00108 | Loss 0.3637 | Train.Rand 0.9436 | Valid.Rand 0.3979 | Time(s) 0.2538\n",
      "Epoch 00109 | Loss 0.3559 | Train.Rand 0.9547 | Valid.Rand 0.3974 | Time(s) 0.2539\n",
      "Epoch 00110 | Loss 0.3452 | Train.Rand 0.9547 | Valid.Rand 0.4113 | Time(s) 0.2539\n",
      "Epoch 00111 | Loss 0.3012 | Train.Rand 0.9547 | Valid.Rand 0.4233 | Time(s) 0.2540\n",
      "Epoch 00112 | Loss 0.3468 | Train.Rand 0.9426 | Valid.Rand 0.4026 | Time(s) 0.2539\n",
      "Epoch 00113 | Loss 0.3292 | Train.Rand 0.9330 | Valid.Rand 0.3701 | Time(s) 0.2540\n",
      "Epoch 00114 | Loss 0.3114 | Train.Rand 0.9357 | Valid.Rand 0.3681 | Time(s) 0.2540\n",
      "Epoch 00115 | Loss 0.3428 | Train.Rand 0.9353 | Valid.Rand 0.4064 | Time(s) 0.2539\n",
      "Epoch 00116 | Loss 0.3373 | Train.Rand 0.9313 | Valid.Rand 0.4193 | Time(s) 0.2541\n",
      "Epoch 00117 | Loss 0.3062 | Train.Rand 0.9331 | Valid.Rand 0.4386 | Time(s) 0.2543\n",
      "Epoch 00118 | Loss 0.3102 | Train.Rand 0.9202 | Valid.Rand 0.4396 | Time(s) 0.2543\n",
      "Epoch 00119 | Loss 0.3430 | Train.Rand 0.9494 | Valid.Rand 0.4450 | Time(s) 0.2544\n",
      "Epoch 00120 | Loss 0.3210 | Train.Rand 0.9401 | Valid.Rand 0.4665 | Time(s) 0.2547\n",
      "Epoch 00121 | Loss 0.3130 | Train.Rand 0.9311 | Valid.Rand 0.4464 | Time(s) 0.2550\n",
      "Epoch 00122 | Loss 0.3091 | Train.Rand 0.9311 | Valid.Rand 0.4618 | Time(s) 0.2553\n",
      "Epoch 00123 | Loss 0.2847 | Train.Rand 0.9457 | Valid.Rand 0.4590 | Time(s) 0.2554\n",
      "Epoch 00124 | Loss 0.2812 | Train.Rand 0.9389 | Valid.Rand 0.4616 | Time(s) 0.2556\n",
      "Epoch 00125 | Loss 0.3435 | Train.Rand 0.9478 | Valid.Rand 0.4560 | Time(s) 0.2560\n",
      "Epoch 00126 | Loss 0.3184 | Train.Rand 0.9478 | Valid.Rand 0.4533 | Time(s) 0.2564\n",
      "Epoch 00127 | Loss 0.3053 | Train.Rand 0.9547 | Valid.Rand 0.4342 | Time(s) 0.2566\n",
      "Epoch 00128 | Loss 0.2721 | Train.Rand 0.9547 | Valid.Rand 0.4162 | Time(s) 0.2569\n",
      "Epoch 00129 | Loss 0.2717 | Train.Rand 0.9569 | Valid.Rand 0.3783 | Time(s) 0.2572\n",
      "Epoch 00130 | Loss 0.2613 | Train.Rand 0.9219 | Valid.Rand 0.3765 | Time(s) 0.2574\n",
      "Epoch 00131 | Loss 0.3221 | Train.Rand 0.9126 | Valid.Rand 0.3616 | Time(s) 0.2577\n",
      "Epoch 00132 | Loss 0.3239 | Train.Rand 0.9501 | Valid.Rand 0.4216 | Time(s) 0.2579\n",
      "Epoch 00133 | Loss 0.2751 | Train.Rand 0.9408 | Valid.Rand 0.4119 | Time(s) 0.2583\n",
      "Epoch 00134 | Loss 0.2555 | Train.Rand 0.9547 | Valid.Rand 0.4546 | Time(s) 0.2584\n",
      "Epoch 00135 | Loss 0.2756 | Train.Rand 0.9436 | Valid.Rand 0.4524 | Time(s) 0.2587\n",
      "Epoch 00136 | Loss 0.2771 | Train.Rand 0.9550 | Valid.Rand 0.4311 | Time(s) 0.2590\n",
      "Epoch 00137 | Loss 0.2664 | Train.Rand 0.9663 | Valid.Rand 0.4059 | Time(s) 0.2591\n",
      "Epoch 00138 | Loss 0.3016 | Train.Rand 0.9547 | Valid.Rand 0.3944 | Time(s) 0.2594\n",
      "Epoch 00139 | Loss 0.2557 | Train.Rand 0.9573 | Valid.Rand 0.3575 | Time(s) 0.2600\n",
      "Epoch 00140 | Loss 0.2667 | Train.Rand 0.9477 | Valid.Rand 0.3316 | Time(s) 0.2603\n",
      "Epoch 00141 | Loss 0.2572 | Train.Rand 0.9425 | Valid.Rand 0.3452 | Time(s) 0.2605\n",
      "Epoch 00142 | Loss 0.2731 | Train.Rand 0.9639 | Valid.Rand 0.4035 | Time(s) 0.2609\n",
      "Epoch 00143 | Loss 0.2906 | Train.Rand 0.9639 | Valid.Rand 0.4449 | Time(s) 0.2615\n",
      "Epoch 00144 | Loss 0.2188 | Train.Rand 0.9547 | Valid.Rand 0.4390 | Time(s) 0.2619\n",
      "Epoch 00145 | Loss 0.2776 | Train.Rand 0.9547 | Valid.Rand 0.4734 | Time(s) 0.2627\n",
      "Epoch 00146 | Loss 0.2743 | Train.Rand 0.9545 | Valid.Rand 0.4610 | Time(s) 0.2647\n",
      "Epoch 00147 | Loss 0.2489 | Train.Rand 0.9639 | Valid.Rand 0.4206 | Time(s) 0.2656\n",
      "Epoch 00148 | Loss 0.2349 | Train.Rand 0.9547 | Valid.Rand 0.4339 | Time(s) 0.2662\n",
      "Epoch 00149 | Loss 0.2796 | Train.Rand 0.9639 | Valid.Rand 0.4159 | Time(s) 0.2674\n",
      "Epoch 00150 | Loss 0.2652 | Train.Rand 0.9547 | Valid.Rand 0.4652 | Time(s) 0.2683\n",
      "Epoch 00151 | Loss 0.2449 | Train.Rand 0.9547 | Valid.Rand 0.4510 | Time(s) 0.2704\n",
      "Epoch 00152 | Loss 0.2305 | Train.Rand 0.9512 | Valid.Rand 0.4605 | Time(s) 0.2714\n",
      "Epoch 00153 | Loss 0.2321 | Train.Rand 0.9512 | Valid.Rand 0.4627 | Time(s) 0.2724\n",
      "Epoch 00154 | Loss 0.3182 | Train.Rand 0.9663 | Valid.Rand 0.4435 | Time(s) 0.2729\n",
      "Epoch 00155 | Loss 0.2377 | Train.Rand 0.9639 | Valid.Rand 0.4494 | Time(s) 0.2736\n",
      "Epoch 00156 | Loss 0.2999 | Train.Rand 0.9605 | Valid.Rand 0.4310 | Time(s) 0.2742\n",
      "Epoch 00157 | Loss 0.3667 | Train.Rand 0.9502 | Valid.Rand 0.4343 | Time(s) 0.2746\n",
      "Epoch 00158 | Loss 0.2878 | Train.Rand 0.9440 | Valid.Rand 0.4430 | Time(s) 0.2746\n",
      "Epoch 00159 | Loss 0.2477 | Train.Rand 0.9509 | Valid.Rand 0.4481 | Time(s) 0.2747\n",
      "Epoch 00160 | Loss 0.2295 | Train.Rand 0.9450 | Valid.Rand 0.4726 | Time(s) 0.2747\n",
      "Epoch 00161 | Loss 0.2584 | Train.Rand 0.9315 | Valid.Rand 0.4672 | Time(s) 0.2746\n",
      "Epoch 00162 | Loss 0.2389 | Train.Rand 0.9197 | Valid.Rand 0.4399 | Time(s) 0.2748\n",
      "Epoch 00163 | Loss 0.2898 | Train.Rand 0.9197 | Valid.Rand 0.4012 | Time(s) 0.2748\n",
      "Epoch 00164 | Loss 0.2544 | Train.Rand 0.9509 | Valid.Rand 0.4039 | Time(s) 0.2749\n",
      "Epoch 00165 | Loss 0.3175 | Train.Rand 0.9444 | Valid.Rand 0.4078 | Time(s) 0.2748\n",
      "Epoch 00166 | Loss 0.2729 | Train.Rand 0.9482 | Valid.Rand 0.4175 | Time(s) 0.2749\n",
      "Epoch 00167 | Loss 0.2457 | Train.Rand 0.9265 | Valid.Rand 0.4120 | Time(s) 0.2750\n",
      "Epoch 00168 | Loss 0.2829 | Train.Rand 0.9436 | Valid.Rand 0.4066 | Time(s) 0.2751\n",
      "Epoch 00169 | Loss 0.2643 | Train.Rand 0.9426 | Valid.Rand 0.3812 | Time(s) 0.2754\n",
      "Epoch 00170 | Loss 0.2419 | Train.Rand 0.9547 | Valid.Rand 0.3696 | Time(s) 0.2758\n",
      "Epoch 00171 | Loss 0.2389 | Train.Rand 0.9289 | Valid.Rand 0.3189 | Time(s) 0.2759\n",
      "Epoch 00172 | Loss 0.2402 | Train.Rand 0.9097 | Valid.Rand 0.3110 | Time(s) 0.2759\n",
      "Epoch 00173 | Loss 0.2923 | Train.Rand 0.9176 | Valid.Rand 0.3260 | Time(s) 0.2760\n",
      "Epoch 00174 | Loss 0.2563 | Train.Rand 0.9216 | Valid.Rand 0.3313 | Time(s) 0.2761\n",
      "Epoch 00175 | Loss 0.2589 | Train.Rand 0.9159 | Valid.Rand 0.3622 | Time(s) 0.2760\n",
      "Epoch 00176 | Loss 0.2892 | Train.Rand 0.9279 | Valid.Rand 0.4008 | Time(s) 0.2760\n",
      "Epoch 00177 | Loss 0.2403 | Train.Rand 0.9432 | Valid.Rand 0.4478 | Time(s) 0.2762\n",
      "Epoch 00178 | Loss 0.2344 | Train.Rand 0.9547 | Valid.Rand 0.4449 | Time(s) 0.2761\n",
      "Epoch 00179 | Loss 0.2228 | Train.Rand 0.9547 | Valid.Rand 0.4354 | Time(s) 0.2761\n",
      "Epoch 00180 | Loss 0.2597 | Train.Rand 0.9547 | Valid.Rand 0.4333 | Time(s) 0.2761\n",
      "Epoch 00181 | Loss 0.2333 | Train.Rand 0.9639 | Valid.Rand 0.4574 | Time(s) 0.2762\n",
      "Epoch 00182 | Loss 0.2211 | Train.Rand 0.9639 | Valid.Rand 0.4728 | Time(s) 0.2762\n",
      "Epoch 00183 | Loss 0.2559 | Train.Rand 0.9411 | Valid.Rand 0.4213 | Time(s) 0.2761\n",
      "Epoch 00184 | Loss 0.2328 | Train.Rand 0.9491 | Valid.Rand 0.4570 | Time(s) 0.2761\n",
      "Epoch 00185 | Loss 0.2453 | Train.Rand 0.9504 | Valid.Rand 0.4639 | Time(s) 0.2762\n",
      "Epoch 00186 | Loss 0.2577 | Train.Rand 0.9423 | Valid.Rand 0.4507 | Time(s) 0.2762\n",
      "Epoch 00187 | Loss 0.3317 | Train.Rand 0.9542 | Valid.Rand 0.4508 | Time(s) 0.2763\n",
      "Epoch 00188 | Loss 0.2407 | Train.Rand 0.9426 | Valid.Rand 0.4131 | Time(s) 0.2765\n",
      "Epoch 00189 | Loss 0.3053 | Train.Rand 0.9542 | Valid.Rand 0.4293 | Time(s) 0.2764\n",
      "Epoch 00190 | Loss 0.2462 | Train.Rand 0.9423 | Valid.Rand 0.4443 | Time(s) 0.2765\n",
      "Epoch 00191 | Loss 0.2386 | Train.Rand 0.9382 | Valid.Rand 0.4602 | Time(s) 0.2767\n"
     ]
    },
    {
     "ename": "KeyboardInterrupt",
     "evalue": "",
     "output_type": "error",
     "traceback": [
      "\u001b[1;31m---------------------------------------------------------------------------\u001b[0m",
      "\u001b[1;31mKeyboardInterrupt\u001b[0m                         Traceback (most recent call last)",
      "\u001b[1;32m<ipython-input-18-b0d99a730072>\u001b[0m in \u001b[0;36m<module>\u001b[1;34m\u001b[0m\n\u001b[0;32m     20\u001b[0m     \u001b[1;31m# Compute loss for test nodes (only for validation, not used by optimizer)\u001b[0m\u001b[1;33m\u001b[0m\u001b[1;33m\u001b[0m\u001b[1;33m\u001b[0m\u001b[0m\n\u001b[0;32m     21\u001b[0m     \u001b[0mnet\u001b[0m\u001b[1;33m.\u001b[0m\u001b[0meval\u001b[0m\u001b[1;33m(\u001b[0m\u001b[1;33m)\u001b[0m\u001b[1;33m\u001b[0m\u001b[1;33m\u001b[0m\u001b[0m\n\u001b[1;32m---> 22\u001b[1;33m     \u001b[0mprediction\u001b[0m \u001b[1;33m=\u001b[0m \u001b[0mnet\u001b[0m\u001b[1;33m(\u001b[0m\u001b[0mfeatures\u001b[0m\u001b[1;33m)\u001b[0m\u001b[1;33m\u001b[0m\u001b[1;33m\u001b[0m\u001b[0m\n\u001b[0m\u001b[0;32m     23\u001b[0m     \u001b[0mtrain_rand\u001b[0m\u001b[1;33m=\u001b[0m\u001b[0mpf\u001b[0m\u001b[1;33m.\u001b[0m\u001b[0mrand_score\u001b[0m\u001b[1;33m(\u001b[0m\u001b[0mlabels\u001b[0m\u001b[1;33m[\u001b[0m\u001b[0mmask_train\u001b[0m\u001b[1;33m]\u001b[0m\u001b[1;33m.\u001b[0m\u001b[0mnumpy\u001b[0m\u001b[1;33m(\u001b[0m\u001b[1;33m)\u001b[0m\u001b[1;33m,\u001b[0m\u001b[0mnp\u001b[0m\u001b[1;33m.\u001b[0m\u001b[0margmax\u001b[0m\u001b[1;33m(\u001b[0m\u001b[0mprediction\u001b[0m\u001b[1;33m[\u001b[0m\u001b[0mmask_train\u001b[0m\u001b[1;33m]\u001b[0m\u001b[1;33m.\u001b[0m\u001b[0mdetach\u001b[0m\u001b[1;33m(\u001b[0m\u001b[1;33m)\u001b[0m\u001b[1;33m.\u001b[0m\u001b[0mnumpy\u001b[0m\u001b[1;33m(\u001b[0m\u001b[1;33m)\u001b[0m\u001b[1;33m,\u001b[0m \u001b[0maxis\u001b[0m\u001b[1;33m=\u001b[0m\u001b[1;36m1\u001b[0m\u001b[1;33m)\u001b[0m\u001b[1;33m)\u001b[0m\u001b[1;33m\u001b[0m\u001b[1;33m\u001b[0m\u001b[0m\n\u001b[0;32m     24\u001b[0m     \u001b[0mvalidation_rand\u001b[0m\u001b[1;33m=\u001b[0m\u001b[0mpf\u001b[0m\u001b[1;33m.\u001b[0m\u001b[0mrand_score\u001b[0m\u001b[1;33m(\u001b[0m\u001b[0mlabels\u001b[0m\u001b[1;33m[\u001b[0m\u001b[0mmask_val\u001b[0m\u001b[1;33m]\u001b[0m\u001b[1;33m.\u001b[0m\u001b[0mnumpy\u001b[0m\u001b[1;33m(\u001b[0m\u001b[1;33m)\u001b[0m\u001b[1;33m,\u001b[0m\u001b[0mnp\u001b[0m\u001b[1;33m.\u001b[0m\u001b[0margmax\u001b[0m\u001b[1;33m(\u001b[0m\u001b[0mprediction\u001b[0m\u001b[1;33m[\u001b[0m\u001b[0mmask_val\u001b[0m\u001b[1;33m]\u001b[0m\u001b[1;33m.\u001b[0m\u001b[0mdetach\u001b[0m\u001b[1;33m(\u001b[0m\u001b[1;33m)\u001b[0m\u001b[1;33m.\u001b[0m\u001b[0mnumpy\u001b[0m\u001b[1;33m(\u001b[0m\u001b[1;33m)\u001b[0m\u001b[1;33m,\u001b[0m \u001b[0maxis\u001b[0m\u001b[1;33m=\u001b[0m\u001b[1;36m1\u001b[0m\u001b[1;33m)\u001b[0m\u001b[1;33m)\u001b[0m\u001b[1;33m\u001b[0m\u001b[1;33m\u001b[0m\u001b[0m\n",
      "\u001b[1;32m~\\Anaconda3\\lib\\site-packages\\torch\\nn\\modules\\module.py\u001b[0m in \u001b[0;36m__call__\u001b[1;34m(self, *input, **kwargs)\u001b[0m\n\u001b[0;32m    539\u001b[0m             \u001b[0mresult\u001b[0m \u001b[1;33m=\u001b[0m \u001b[0mself\u001b[0m\u001b[1;33m.\u001b[0m\u001b[0m_slow_forward\u001b[0m\u001b[1;33m(\u001b[0m\u001b[1;33m*\u001b[0m\u001b[0minput\u001b[0m\u001b[1;33m,\u001b[0m \u001b[1;33m**\u001b[0m\u001b[0mkwargs\u001b[0m\u001b[1;33m)\u001b[0m\u001b[1;33m\u001b[0m\u001b[1;33m\u001b[0m\u001b[0m\n\u001b[0;32m    540\u001b[0m         \u001b[1;32melse\u001b[0m\u001b[1;33m:\u001b[0m\u001b[1;33m\u001b[0m\u001b[1;33m\u001b[0m\u001b[0m\n\u001b[1;32m--> 541\u001b[1;33m             \u001b[0mresult\u001b[0m \u001b[1;33m=\u001b[0m \u001b[0mself\u001b[0m\u001b[1;33m.\u001b[0m\u001b[0mforward\u001b[0m\u001b[1;33m(\u001b[0m\u001b[1;33m*\u001b[0m\u001b[0minput\u001b[0m\u001b[1;33m,\u001b[0m \u001b[1;33m**\u001b[0m\u001b[0mkwargs\u001b[0m\u001b[1;33m)\u001b[0m\u001b[1;33m\u001b[0m\u001b[1;33m\u001b[0m\u001b[0m\n\u001b[0m\u001b[0;32m    542\u001b[0m         \u001b[1;32mfor\u001b[0m \u001b[0mhook\u001b[0m \u001b[1;32min\u001b[0m \u001b[0mself\u001b[0m\u001b[1;33m.\u001b[0m\u001b[0m_forward_hooks\u001b[0m\u001b[1;33m.\u001b[0m\u001b[0mvalues\u001b[0m\u001b[1;33m(\u001b[0m\u001b[1;33m)\u001b[0m\u001b[1;33m:\u001b[0m\u001b[1;33m\u001b[0m\u001b[1;33m\u001b[0m\u001b[0m\n\u001b[0;32m    543\u001b[0m             \u001b[0mhook_result\u001b[0m \u001b[1;33m=\u001b[0m \u001b[0mhook\u001b[0m\u001b[1;33m(\u001b[0m\u001b[0mself\u001b[0m\u001b[1;33m,\u001b[0m \u001b[0minput\u001b[0m\u001b[1;33m,\u001b[0m \u001b[0mresult\u001b[0m\u001b[1;33m)\u001b[0m\u001b[1;33m\u001b[0m\u001b[1;33m\u001b[0m\u001b[0m\n",
      "\u001b[1;32m~\\Documents\\dev\\gnn-community-detection\\Notebooks\\GCN.py\u001b[0m in \u001b[0;36mforward\u001b[1;34m(self, features)\u001b[0m\n\u001b[0;32m     68\u001b[0m \u001b[1;33m\u001b[0m\u001b[0m\n\u001b[0;32m     69\u001b[0m     \u001b[1;32mdef\u001b[0m \u001b[0mforward\u001b[0m\u001b[1;33m(\u001b[0m\u001b[0mself\u001b[0m\u001b[1;33m,\u001b[0m \u001b[0mfeatures\u001b[0m\u001b[1;33m)\u001b[0m\u001b[1;33m:\u001b[0m\u001b[1;33m\u001b[0m\u001b[1;33m\u001b[0m\u001b[0m\n\u001b[1;32m---> 70\u001b[1;33m         \u001b[0mh\u001b[0m \u001b[1;33m=\u001b[0m \u001b[0mself\u001b[0m\u001b[1;33m.\u001b[0m\u001b[0mgcn_in\u001b[0m\u001b[1;33m(\u001b[0m\u001b[0mself\u001b[0m\u001b[1;33m.\u001b[0m\u001b[0mg\u001b[0m\u001b[1;33m,\u001b[0m \u001b[0mfeatures\u001b[0m\u001b[1;33m)\u001b[0m\u001b[1;33m\u001b[0m\u001b[1;33m\u001b[0m\u001b[0m\n\u001b[0m\u001b[0;32m     71\u001b[0m         \u001b[1;32mfor\u001b[0m \u001b[0mlayer\u001b[0m \u001b[1;32min\u001b[0m \u001b[0mself\u001b[0m\u001b[1;33m.\u001b[0m\u001b[0mgcn_hidden\u001b[0m\u001b[1;33m:\u001b[0m\u001b[1;33m\u001b[0m\u001b[1;33m\u001b[0m\u001b[0m\n\u001b[0;32m     72\u001b[0m             \u001b[0mh\u001b[0m \u001b[1;33m=\u001b[0m \u001b[0mself\u001b[0m\u001b[1;33m.\u001b[0m\u001b[0mdropout\u001b[0m\u001b[1;33m(\u001b[0m\u001b[0mh\u001b[0m\u001b[1;33m)\u001b[0m\u001b[1;33m\u001b[0m\u001b[1;33m\u001b[0m\u001b[0m\n",
      "\u001b[1;32m~\\Anaconda3\\lib\\site-packages\\torch\\nn\\modules\\module.py\u001b[0m in \u001b[0;36m__call__\u001b[1;34m(self, *input, **kwargs)\u001b[0m\n\u001b[0;32m    539\u001b[0m             \u001b[0mresult\u001b[0m \u001b[1;33m=\u001b[0m \u001b[0mself\u001b[0m\u001b[1;33m.\u001b[0m\u001b[0m_slow_forward\u001b[0m\u001b[1;33m(\u001b[0m\u001b[1;33m*\u001b[0m\u001b[0minput\u001b[0m\u001b[1;33m,\u001b[0m \u001b[1;33m**\u001b[0m\u001b[0mkwargs\u001b[0m\u001b[1;33m)\u001b[0m\u001b[1;33m\u001b[0m\u001b[1;33m\u001b[0m\u001b[0m\n\u001b[0;32m    540\u001b[0m         \u001b[1;32melse\u001b[0m\u001b[1;33m:\u001b[0m\u001b[1;33m\u001b[0m\u001b[1;33m\u001b[0m\u001b[0m\n\u001b[1;32m--> 541\u001b[1;33m             \u001b[0mresult\u001b[0m \u001b[1;33m=\u001b[0m \u001b[0mself\u001b[0m\u001b[1;33m.\u001b[0m\u001b[0mforward\u001b[0m\u001b[1;33m(\u001b[0m\u001b[1;33m*\u001b[0m\u001b[0minput\u001b[0m\u001b[1;33m,\u001b[0m \u001b[1;33m**\u001b[0m\u001b[0mkwargs\u001b[0m\u001b[1;33m)\u001b[0m\u001b[1;33m\u001b[0m\u001b[1;33m\u001b[0m\u001b[0m\n\u001b[0m\u001b[0;32m    542\u001b[0m         \u001b[1;32mfor\u001b[0m \u001b[0mhook\u001b[0m \u001b[1;32min\u001b[0m \u001b[0mself\u001b[0m\u001b[1;33m.\u001b[0m\u001b[0m_forward_hooks\u001b[0m\u001b[1;33m.\u001b[0m\u001b[0mvalues\u001b[0m\u001b[1;33m(\u001b[0m\u001b[1;33m)\u001b[0m\u001b[1;33m:\u001b[0m\u001b[1;33m\u001b[0m\u001b[1;33m\u001b[0m\u001b[0m\n\u001b[0;32m    543\u001b[0m             \u001b[0mhook_result\u001b[0m \u001b[1;33m=\u001b[0m \u001b[0mhook\u001b[0m\u001b[1;33m(\u001b[0m\u001b[0mself\u001b[0m\u001b[1;33m,\u001b[0m \u001b[0minput\u001b[0m\u001b[1;33m,\u001b[0m \u001b[0mresult\u001b[0m\u001b[1;33m)\u001b[0m\u001b[1;33m\u001b[0m\u001b[1;33m\u001b[0m\u001b[0m\n",
      "\u001b[1;32m~\\Documents\\dev\\gnn-community-detection\\Notebooks\\GCN.py\u001b[0m in \u001b[0;36mforward\u001b[1;34m(self, g, feature)\u001b[0m\n\u001b[0;32m     44\u001b[0m         \u001b[0mg\u001b[0m\u001b[1;33m.\u001b[0m\u001b[0mndata\u001b[0m\u001b[1;33m[\u001b[0m\u001b[1;34m\"h\"\u001b[0m\u001b[1;33m]\u001b[0m \u001b[1;33m=\u001b[0m \u001b[0mfeature\u001b[0m\u001b[1;33m\u001b[0m\u001b[1;33m\u001b[0m\u001b[0m\n\u001b[0;32m     45\u001b[0m         g.update_all(\n\u001b[1;32m---> 46\u001b[1;33m             \u001b[0mmessage_func\u001b[0m\u001b[1;33m=\u001b[0m\u001b[0mfn\u001b[0m\u001b[1;33m.\u001b[0m\u001b[0mcopy_src\u001b[0m\u001b[1;33m(\u001b[0m\u001b[0msrc\u001b[0m\u001b[1;33m=\u001b[0m\u001b[1;34m\"h\"\u001b[0m\u001b[1;33m,\u001b[0m \u001b[0mout\u001b[0m\u001b[1;33m=\u001b[0m\u001b[1;34m\"m\"\u001b[0m\u001b[1;33m)\u001b[0m\u001b[1;33m,\u001b[0m \u001b[0mreduce_func\u001b[0m\u001b[1;33m=\u001b[0m\u001b[0mfn\u001b[0m\u001b[1;33m.\u001b[0m\u001b[0msum\u001b[0m\u001b[1;33m(\u001b[0m\u001b[0mmsg\u001b[0m\u001b[1;33m=\u001b[0m\u001b[1;34m\"m\"\u001b[0m\u001b[1;33m,\u001b[0m \u001b[0mout\u001b[0m\u001b[1;33m=\u001b[0m\u001b[1;34m\"h\"\u001b[0m\u001b[1;33m)\u001b[0m\u001b[1;33m\u001b[0m\u001b[1;33m\u001b[0m\u001b[0m\n\u001b[0m\u001b[0;32m     47\u001b[0m         )\n\u001b[0;32m     48\u001b[0m         \u001b[0mg\u001b[0m\u001b[1;33m.\u001b[0m\u001b[0mapply_nodes\u001b[0m\u001b[1;33m(\u001b[0m\u001b[0mfunc\u001b[0m\u001b[1;33m=\u001b[0m\u001b[0mself\u001b[0m\u001b[1;33m.\u001b[0m\u001b[0mapply_mod\u001b[0m\u001b[1;33m)\u001b[0m\u001b[1;33m\u001b[0m\u001b[1;33m\u001b[0m\u001b[0m\n",
      "\u001b[1;32m~\\Anaconda3\\lib\\site-packages\\dgl\\graph.py\u001b[0m in \u001b[0;36mupdate_all\u001b[1;34m(self, message_func, reduce_func, apply_node_func)\u001b[0m\n\u001b[0;32m   2745\u001b[0m                                           \u001b[0mreduce_func\u001b[0m\u001b[1;33m=\u001b[0m\u001b[0mreduce_func\u001b[0m\u001b[1;33m,\u001b[0m\u001b[1;33m\u001b[0m\u001b[1;33m\u001b[0m\u001b[0m\n\u001b[0;32m   2746\u001b[0m                                           apply_func=apply_node_func)\n\u001b[1;32m-> 2747\u001b[1;33m             \u001b[0mRuntime\u001b[0m\u001b[1;33m.\u001b[0m\u001b[0mrun\u001b[0m\u001b[1;33m(\u001b[0m\u001b[0mprog\u001b[0m\u001b[1;33m)\u001b[0m\u001b[1;33m\u001b[0m\u001b[1;33m\u001b[0m\u001b[0m\n\u001b[0m\u001b[0;32m   2748\u001b[0m \u001b[1;33m\u001b[0m\u001b[0m\n\u001b[0;32m   2749\u001b[0m     def prop_nodes(self,\n",
      "\u001b[1;32m~\\Anaconda3\\lib\\site-packages\\dgl\\runtime\\runtime.py\u001b[0m in \u001b[0;36mrun\u001b[1;34m(prog)\u001b[0m\n\u001b[0;32m      9\u001b[0m         \u001b[1;32mfor\u001b[0m \u001b[0mexe\u001b[0m \u001b[1;32min\u001b[0m \u001b[0mprog\u001b[0m\u001b[1;33m.\u001b[0m\u001b[0mexecs\u001b[0m\u001b[1;33m:\u001b[0m\u001b[1;33m\u001b[0m\u001b[1;33m\u001b[0m\u001b[0m\n\u001b[0;32m     10\u001b[0m             \u001b[1;31m# prog.pprint_exe(exe)\u001b[0m\u001b[1;33m\u001b[0m\u001b[1;33m\u001b[0m\u001b[1;33m\u001b[0m\u001b[0m\n\u001b[1;32m---> 11\u001b[1;33m             \u001b[0mexe\u001b[0m\u001b[1;33m.\u001b[0m\u001b[0mrun\u001b[0m\u001b[1;33m(\u001b[0m\u001b[1;33m)\u001b[0m\u001b[1;33m\u001b[0m\u001b[1;33m\u001b[0m\u001b[0m\n\u001b[0m",
      "\u001b[1;32m~\\Anaconda3\\lib\\site-packages\\dgl\\runtime\\ir\\executor.py\u001b[0m in \u001b[0;36mrun\u001b[1;34m(self)\u001b[0m\n\u001b[0;32m   1198\u001b[0m         self.ret.data = F.copy_reduce(\n\u001b[0;32m   1199\u001b[0m             \u001b[0mself\u001b[0m\u001b[1;33m.\u001b[0m\u001b[0mreducer\u001b[0m\u001b[1;33m,\u001b[0m \u001b[0mgraph\u001b[0m\u001b[1;33m,\u001b[0m \u001b[0mself\u001b[0m\u001b[1;33m.\u001b[0m\u001b[0mtarget\u001b[0m\u001b[1;33m,\u001b[0m \u001b[0min_data\u001b[0m\u001b[1;33m,\u001b[0m \u001b[0mself\u001b[0m\u001b[1;33m.\u001b[0m\u001b[0mout_size\u001b[0m\u001b[1;33m,\u001b[0m \u001b[0min_map\u001b[0m\u001b[1;33m,\u001b[0m\u001b[1;33m\u001b[0m\u001b[1;33m\u001b[0m\u001b[0m\n\u001b[1;32m-> 1200\u001b[1;33m             out_map)\n\u001b[0m\u001b[0;32m   1201\u001b[0m \u001b[1;33m\u001b[0m\u001b[0m\n\u001b[0;32m   1202\u001b[0m \u001b[1;33m\u001b[0m\u001b[0m\n",
      "\u001b[1;32m~\\Anaconda3\\lib\\site-packages\\dgl\\backend\\pytorch\\tensor.py\u001b[0m in \u001b[0;36mforward\u001b[1;34m(ctx, reducer, graph, target, in_data, out_size, in_map, out_map)\u001b[0m\n\u001b[0;32m    371\u001b[0m         K.copy_reduce(\n\u001b[0;32m    372\u001b[0m             \u001b[0mreducer\u001b[0m \u001b[1;32mif\u001b[0m \u001b[0mreducer\u001b[0m \u001b[1;33m!=\u001b[0m \u001b[1;34m'mean'\u001b[0m \u001b[1;32melse\u001b[0m \u001b[1;34m'sum'\u001b[0m\u001b[1;33m,\u001b[0m\u001b[1;33m\u001b[0m\u001b[1;33m\u001b[0m\u001b[0m\n\u001b[1;32m--> 373\u001b[1;33m             graph, target, in_data_nd, out_data_nd, in_map[0], out_map[0])\n\u001b[0m\u001b[0;32m    374\u001b[0m         \u001b[1;31m# normalize if mean reducer\u001b[0m\u001b[1;33m\u001b[0m\u001b[1;33m\u001b[0m\u001b[1;33m\u001b[0m\u001b[0m\n\u001b[0;32m    375\u001b[0m         \u001b[1;31m# NOTE(zihao): this is a temporary hack and we should have better solution in the future.\u001b[0m\u001b[1;33m\u001b[0m\u001b[1;33m\u001b[0m\u001b[1;33m\u001b[0m\u001b[0m\n",
      "\u001b[1;32m~\\Anaconda3\\lib\\site-packages\\dgl\\kernel.py\u001b[0m in \u001b[0;36mcopy_reduce\u001b[1;34m(reducer, G, target, X, out, X_rows, out_rows)\u001b[0m\n\u001b[0;32m    370\u001b[0m     _CAPI_DGLKernelCopyReduce(\n\u001b[0;32m    371\u001b[0m         \u001b[0mreducer\u001b[0m\u001b[1;33m,\u001b[0m \u001b[0mG\u001b[0m\u001b[1;33m,\u001b[0m \u001b[0mint\u001b[0m\u001b[1;33m(\u001b[0m\u001b[0mtarget\u001b[0m\u001b[1;33m)\u001b[0m\u001b[1;33m,\u001b[0m\u001b[1;33m\u001b[0m\u001b[1;33m\u001b[0m\u001b[0m\n\u001b[1;32m--> 372\u001b[1;33m         X, out, X_rows, out_rows)\n\u001b[0m\u001b[0;32m    373\u001b[0m \u001b[1;33m\u001b[0m\u001b[0m\n\u001b[0;32m    374\u001b[0m \u001b[1;31m# pylint: disable=invalid-name\u001b[0m\u001b[1;33m\u001b[0m\u001b[1;33m\u001b[0m\u001b[1;33m\u001b[0m\u001b[0m\n",
      "\u001b[1;32m~\\Anaconda3\\lib\\site-packages\\dgl\\_ffi\\_ctypes\\function.py\u001b[0m in \u001b[0;36m__call__\u001b[1;34m(self, *args)\u001b[0m\n\u001b[0;32m    188\u001b[0m         check_call(_LIB.DGLFuncCall(\n\u001b[0;32m    189\u001b[0m             \u001b[0mself\u001b[0m\u001b[1;33m.\u001b[0m\u001b[0mhandle\u001b[0m\u001b[1;33m,\u001b[0m \u001b[0mvalues\u001b[0m\u001b[1;33m,\u001b[0m \u001b[0mtcodes\u001b[0m\u001b[1;33m,\u001b[0m \u001b[0mctypes\u001b[0m\u001b[1;33m.\u001b[0m\u001b[0mc_int\u001b[0m\u001b[1;33m(\u001b[0m\u001b[0mnum_args\u001b[0m\u001b[1;33m)\u001b[0m\u001b[1;33m,\u001b[0m\u001b[1;33m\u001b[0m\u001b[1;33m\u001b[0m\u001b[0m\n\u001b[1;32m--> 190\u001b[1;33m             ctypes.byref(ret_val), ctypes.byref(ret_tcode)))\n\u001b[0m\u001b[0;32m    191\u001b[0m         \u001b[0m_\u001b[0m \u001b[1;33m=\u001b[0m \u001b[0mtemp_args\u001b[0m\u001b[1;33m\u001b[0m\u001b[1;33m\u001b[0m\u001b[0m\n\u001b[0;32m    192\u001b[0m         \u001b[0m_\u001b[0m \u001b[1;33m=\u001b[0m \u001b[0margs\u001b[0m\u001b[1;33m\u001b[0m\u001b[1;33m\u001b[0m\u001b[0m\n",
      "\u001b[1;31mKeyboardInterrupt\u001b[0m: "
     ]
    }
   ],
   "source": [
    "import time\n",
    "\n",
    "net = GCN_Net(g, features.shape[1], 100, 2, len(np.unique(labels)), dropout=0.3, batchnorm=True)\n",
    "#print(net)\n",
    "\n",
    "optimizer = th.optim.Adam(net.parameters(), lr=1e-2, weight_decay=1e-2)\n",
    "net.train() # Set to training mode (use dropout)\n",
    "\n",
    "dur = []\n",
    "loss_ev = []\n",
    "current_best = 0 #arbitrarily high\n",
    "current_best_epoch = 0\n",
    "current_best_params = None\n",
    "no_improvement_for = 0\n",
    "\n",
    "for epoch in range(10000):\n",
    "    if epoch >=3:\n",
    "        t0 = time.time()\n",
    "\n",
    "    # Compute loss for test nodes (only for validation, not used by optimizer)\n",
    "    net.eval()\n",
    "    prediction = net(features)\n",
    "    train_rand=pf.rand_score(labels[mask_train].numpy(),np.argmax(prediction[mask_train].detach().numpy(), axis=1))\n",
    "    validation_rand=pf.rand_score(labels[mask_val].numpy(),np.argmax(prediction[mask_val].detach().numpy(), axis=1))\n",
    "    if train_rand>current_best:\n",
    "        current_best = train_rand\n",
    "        current_best_epoch = epoch\n",
    "        current_best_params = copy.deepcopy(net.state_dict())\n",
    "        no_improvement_for = 0\n",
    "    else: no_improvement_for += 1\n",
    "    \n",
    "    if no_improvement_for>100:\n",
    "        break\n",
    "    \n",
    "    net.train()\n",
    "\n",
    "    # Compute loss for train nodes\n",
    "    logits = net(features)\n",
    "\n",
    "    #loss = loss_function.approximate_loss(logits,mask_train,nclasses=7)\n",
    "    loss = F.nll_loss(logits[mask_train], labels[mask_train])\n",
    "    loss_ev.append(loss.detach().item())\n",
    "    \n",
    "    optimizer.zero_grad()\n",
    "    loss.backward()\n",
    "    optimizer.step()\n",
    "\n",
    "    if epoch >=3:\n",
    "        dur.append(time.time() - t0)\n",
    "        print(f\"Epoch {epoch:05d} | Loss {loss.item():.4f} | Train.Rand {train_rand:.4f} | Valid.Rand {validation_rand:.4f} | Time(s) {np.mean(dur):.4f}\")\n",
    "    else:\n",
    "        print(f\"Epoch {epoch:05d} | Loss {loss.item():.4f} | Train.Rand {train_rand:.4f} | Valid.Rand {validation_rand:.4f} | Time(s) unknown\")\n",
    "        \n",
    "net.load_state_dict(current_best_params)"
   ]
  },
  {
   "cell_type": "code",
   "execution_count": 19,
   "metadata": {},
   "outputs": [
    {
     "data": {
      "text/plain": [
       "<All keys matched successfully>"
      ]
     },
     "execution_count": 19,
     "metadata": {},
     "output_type": "execute_result"
    }
   ],
   "source": [
    "net.load_state_dict(current_best_params)"
   ]
  },
  {
   "cell_type": "code",
   "execution_count": 11,
   "metadata": {},
   "outputs": [
    {
     "data": {
      "text/plain": [
       "<matplotlib.axes._subplots.AxesSubplot at 0x1d969516f08>"
      ]
     },
     "execution_count": 11,
     "metadata": {},
     "output_type": "execute_result"
    },
    {
     "data": {
      "image/png": "[encoded data removed]",
      "text/plain": [
       "<Figure size 432x288 with 1 Axes>"
      ]
     },
     "metadata": {
      "needs_background": "light"
     },
     "output_type": "display_data"
    }
   ],
   "source": [
    "import seaborn as sns\n",
    "sns.lineplot(x=range(len(loss_ev)), y=loss_ev)"
   ]
  },
  {
   "cell_type": "markdown",
   "metadata": {},
   "source": [
    "## Evaluation"
   ]
  },
  {
   "cell_type": "code",
   "execution_count": 21,
   "metadata": {},
   "outputs": [
    {
     "data": {
      "text/html": [
       "<div>\n",
       "<style scoped>\n",
       "    .dataframe tbody tr th:only-of-type {\n",
       "        vertical-align: middle;\n",
       "    }\n",
       "\n",
       "    .dataframe tbody tr th {\n",
       "        vertical-align: top;\n",
       "    }\n",
       "\n",
       "    .dataframe thead th {\n",
       "        text-align: right;\n",
       "    }\n",
       "</style>\n",
       "<table border=\"1\" class=\"dataframe\">\n",
       "  <thead>\n",
       "    <tr style=\"text-align: right;\">\n",
       "      <th></th>\n",
       "      <th>All</th>\n",
       "      <th>Train</th>\n",
       "      <th>Test</th>\n",
       "    </tr>\n",
       "  </thead>\n",
       "  <tbody>\n",
       "    <tr>\n",
       "      <td>Rand-Index</td>\n",
       "      <td>0.463977</td>\n",
       "      <td>0.537447</td>\n",
       "      <td>0.460643</td>\n",
       "    </tr>\n",
       "    <tr>\n",
       "      <td>Mutual Information</td>\n",
       "      <td>0.450004</td>\n",
       "      <td>0.552992</td>\n",
       "      <td>0.446484</td>\n",
       "    </tr>\n",
       "    <tr>\n",
       "      <td>Variation of Information</td>\n",
       "      <td>1.981282</td>\n",
       "      <td>1.467513</td>\n",
       "      <td>1.991336</td>\n",
       "    </tr>\n",
       "  </tbody>\n",
       "</table>\n",
       "</div>"
      ],
      "text/plain": [
       "                              All      Train      Test\n",
       "Rand-Index                0.463977  0.537447  0.460643\n",
       "Mutual Information        0.450004  0.552992  0.446484\n",
       "Variation of Information  1.981282  1.467513  1.991336"
      ]
     },
     "execution_count": 21,
     "metadata": {},
     "output_type": "execute_result"
    }
   ],
   "source": [
    "net.eval() # Set net to evaluation mode (deactivates dropout)\n",
    "final_prediction = current_best_model(features).detach()\n",
    "pf.performance_as_df(labels,final_prediction,mask)"
   ]
  },
  {
   "cell_type": "code",
   "execution_count": null,
   "metadata": {},
   "outputs": [],
   "source": []
  }
 ],
 "metadata": {
  "file_extension": ".py",
  "kernelspec": {
   "display_name": "Python 3",
   "language": "python",
   "name": "python3"
  },
  "language_info": {
   "codemirror_mode": {
    "name": "ipython",
    "version": 3
   },
   "file_extension": ".py",
   "mimetype": "text/x-python",
   "name": "python",
   "nbconvert_exporter": "python",
   "pygments_lexer": "ipython3",
   "version": "3.7.4"
  },
  "mimetype": "text/x-python",
  "name": "python",
  "npconvert_exporter": "python",
  "pygments_lexer": "ipython3",
  "version": 3
 },
 "nbformat": 4,
 "nbformat_minor": 2
}
