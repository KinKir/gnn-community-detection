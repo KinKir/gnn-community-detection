{
 "nbformat": 4,
 "nbformat_minor": 2,
 "metadata": {
  "language_info": {
   "name": "python",
   "codemirror_mode": {
    "name": "ipython",
    "version": 3
   },
   "version": "3.7.3"
  },
  "orig_nbformat": 2,
  "file_extension": ".py",
  "mimetype": "text/x-python",
  "name": "python",
  "npconvert_exporter": "python",
  "pygments_lexer": "ipython3",
  "version": 3
 },
 "cells": [
  {
   "cell_type": "markdown",
   "execution_count": null,
   "metadata": {},
   "outputs": [],
   "source": [
    "# Graph Convolutional Network by Kipf and Welling"
   ]
  },
  {
   "cell_type": "markdown",
   "execution_count": 2,
   "metadata": {},
   "outputs": [],
   "source": [
    "## Imports"
   ]
  },
  {
   "cell_type": "code",
   "execution_count": 16,
   "metadata": {},
   "outputs": [],
   "source": [
    "import dgl\n",
    "import dgl.function as fn\n",
    "import torch as th\n",
    "import torch.nn as nn\n",
    "import torch.nn.functional as F\n",
    "from dgl import DGLGraph\n",
    "\n",
    "import pickle\n",
    "import numpy as np\n",
    "\n",
    "import itertools"
   ]
  },
  {
   "cell_type": "markdown",
   "execution_count": null,
   "metadata": {},
   "outputs": [],
   "source": [
    "## GNN Definition"
   ]
  },
  {
   "cell_type": "code",
   "execution_count": 17,
   "metadata": {},
   "outputs": [],
   "source": [
    "class LinearModule(nn.Module):\n",
    "    \"\"\"The linear transformation part of the GCN layer\"\"\"\n",
    "    def __init__(self, in_feats, out_feats, activation):\n",
    "        super(LinearModule, self).__init__()\n",
    "        self.linear = nn.Linear(in_feats, out_feats)\n",
    "        self.activation = activation # This is the activation function\n",
    "\n",
    "    def forward(self, node):\n",
    "        h = self.linear(node.data['h'])\n",
    "        h = self.activation(h)\n",
    "        return {'h' : h}"
   ]
  },
  {
   "cell_type": "code",
   "execution_count": 18,
   "metadata": {},
   "outputs": [],
   "source": [
    "class GCN(nn.Module):\n",
    "    \"\"\"A GCN layer\"\"\"\n",
    "    def __init__(self, in_feats, out_feats, activation):\n",
    "        super(GCN, self).__init__()\n",
    "        self.apply_mod = LinearModule(in_feats, out_feats, activation)\n",
    "\n",
    "    def forward(self, g, feature):\n",
    "        g.ndata['h'] = feature\n",
    "        g.update_all(message_func=fn.copy_src(src='h', out='m'), reduce_func=fn.sum(msg='m', out='h'))\n",
    "        g.apply_nodes(func=self.apply_mod)\n",
    "        return g.ndata.pop('h')"
   ]
  },
  {
   "cell_type": "code",
   "execution_count": 19,
   "metadata": {},
   "outputs": [],
   "source": [
    "class Net(nn.Module):\n",
    "    def __init__(self):\n",
    "        super(Net, self).__init__()\n",
    "        self.gcn1 = GCN(1433, 21, F.relu)\n",
    "        self.gcn2 = GCN(21, 7, lambda x: F.log_softmax(x,1))\n",
    "        self.dropout = nn.Dropout(0.2)\n",
    "\n",
    "    def forward(self, g, features):\n",
    "        x = self.gcn1(g, features)\n",
    "        #x = self.dropout(x)\n",
    "        x = self.gcn2(g, x)\n",
    "        return x"
   ]
  },
  {
   "cell_type": "markdown",
   "execution_count": null,
   "metadata": {},
   "outputs": [],
   "source": [
    "## Data Loading"
   ]
  },
  {
   "cell_type": "code",
   "execution_count": 20,
   "metadata": {},
   "outputs": [],
   "source": [
    "from dgl.data import citation_graph as citegrh\n",
    "import networkx as nx\n",
    "\n",
    "data = citegrh.load_cora()\n",
    "features = th.FloatTensor(data.features)\n",
    "labels = th.LongTensor(data.labels)\n",
    "mask = th.ByteTensor(data.train_mask)\n",
    "g = data.graph\n",
    "\n",
    "# add self loop\n",
    "g.remove_edges_from(nx.selfloop_edges(g))\n",
    "g = DGLGraph(g)\n",
    "g.add_edges(g.nodes(), g.nodes())"
   ]
  },
  {
   "cell_type": "markdown",
   "execution_count": null,
   "metadata": {},
   "outputs": [],
   "source": [
    "## Select Training Set"
   ]
  },
  {
   "cell_type": "code",
   "execution_count": 21,
   "metadata": {},
   "outputs": [],
   "source": [
    "percentage_train = 0.02\n",
    "\n",
    "with open(\"data/cora_permutation1.pickle\",\"rb\") as f:\n",
    "    perm1 = pickle.load(f)\n",
    "mask = np.zeros(g.number_of_nodes())\n",
    "mask[perm1[range(int(percentage_train*g.number_of_nodes()))]] = 1\n",
    "mask = th.ByteTensor(mask)"
   ]
  },
  {
   "cell_type": "markdown",
   "execution_count": null,
   "metadata": {},
   "outputs": [],
   "source": [
    "## Training"
   ]
  },
  {
   "cell_type": "code",
   "execution_count": 22,
   "metadata": {},
   "outputs": [],
   "source": [
    "label_perms = list(itertools.permutations(np.unique(labels)))"
   ]
  },
  {
   "cell_type": "code",
   "execution_count": 23,
   "metadata": {},
   "outputs": [
    {
     "name": "stdout",
     "output_type": "stream",
     "text": "Epoch 00000 | Loss 1.8666 | Val.Loss nan | Time(s) nan\nEpoch 00001 | Loss 1.8236 | Val.Loss nan | Time(s) nan\nEpoch 00002 | Loss 1.7831 | Val.Loss nan | Time(s) nan\nEpoch 00003 | Loss 1.7413 | Val.Loss nan | Time(s) 1.0281\nEpoch 00004 | Loss 1.7013 | Val.Loss nan | Time(s) 1.0271\nEpoch 00005 | Loss 1.6637 | Val.Loss nan | Time(s) 1.0298\nEpoch 00006 | Loss 1.6283 | Val.Loss nan | Time(s) 1.0316\nEpoch 00007 | Loss 1.5954 | Val.Loss nan | Time(s) 1.0323\nEpoch 00008 | Loss 1.5657 | Val.Loss nan | Time(s) 1.0676\nEpoch 00009 | Loss 1.5394 | Val.Loss nan | Time(s) 1.0754\nEpoch 00010 | Loss 1.5147 | Val.Loss nan | Time(s) 1.0860\nEpoch 00011 | Loss 1.4918 | Val.Loss nan | Time(s) 1.0931\nEpoch 00012 | Loss 1.4702 | Val.Loss nan | Time(s) 1.0873\nEpoch 00013 | Loss 1.4501 | Val.Loss nan | Time(s) 1.0879\nEpoch 00014 | Loss 1.4310 | Val.Loss nan | Time(s) 1.0835\nEpoch 00015 | Loss 1.4129 | Val.Loss nan | Time(s) 1.0784\nEpoch 00016 | Loss 1.3954 | Val.Loss nan | Time(s) 1.0760\nEpoch 00017 | Loss 1.3789 | Val.Loss nan | Time(s) 1.0763\nEpoch 00018 | Loss 1.3630 | Val.Loss nan | Time(s) 1.0753\nEpoch 00019 | Loss 1.3475 | Val.Loss nan | Time(s) 1.0745\nEpoch 00020 | Loss 1.3323 | Val.Loss nan | Time(s) 1.0702\nEpoch 00021 | Loss 1.3173 | Val.Loss nan | Time(s) 1.0676\nEpoch 00022 | Loss 1.3027 | Val.Loss nan | Time(s) 1.0660\nEpoch 00023 | Loss 1.2884 | Val.Loss nan | Time(s) 1.0629\nEpoch 00024 | Loss 1.2744 | Val.Loss nan | Time(s) 1.0609\nEpoch 00025 | Loss 1.2606 | Val.Loss nan | Time(s) 1.0601\nEpoch 00026 | Loss 1.2472 | Val.Loss nan | Time(s) 1.0593\nEpoch 00027 | Loss 1.2339 | Val.Loss nan | Time(s) 1.0629\nEpoch 00028 | Loss 1.2209 | Val.Loss nan | Time(s) 1.0686\nEpoch 00029 | Loss 1.2079 | Val.Loss nan | Time(s) 1.0756\nEpoch 00030 | Loss 1.1951 | Val.Loss nan | Time(s) 1.0807\nEpoch 00031 | Loss 1.1825 | Val.Loss nan | Time(s) 1.0892\nEpoch 00032 | Loss 1.1700 | Val.Loss nan | Time(s) 1.0938\nEpoch 00033 | Loss 1.1576 | Val.Loss nan | Time(s) 1.0986\nEpoch 00034 | Loss 1.1454 | Val.Loss nan | Time(s) 1.1069\nEpoch 00035 | Loss 1.1333 | Val.Loss nan | Time(s) 1.1109\nEpoch 00036 | Loss 1.1212 | Val.Loss nan | Time(s) 1.1164\nEpoch 00037 | Loss 1.1092 | Val.Loss nan | Time(s) 1.1199\nEpoch 00038 | Loss 1.0973 | Val.Loss nan | Time(s) 1.1182\nEpoch 00039 | Loss 1.0854 | Val.Loss nan | Time(s) 1.1226\nEpoch 00040 | Loss 1.0735 | Val.Loss nan | Time(s) 1.1274\nEpoch 00041 | Loss 1.0616 | Val.Loss nan | Time(s) 1.1288\nEpoch 00042 | Loss 1.0497 | Val.Loss nan | Time(s) 1.1298\nEpoch 00043 | Loss 1.0378 | Val.Loss nan | Time(s) 1.1287\nEpoch 00044 | Loss 1.0259 | Val.Loss nan | Time(s) 1.1261\nEpoch 00045 | Loss 1.0138 | Val.Loss nan | Time(s) 1.1240\nEpoch 00046 | Loss 1.0017 | Val.Loss nan | Time(s) 1.1223\nEpoch 00047 | Loss 0.9896 | Val.Loss nan | Time(s) 1.1213\nEpoch 00048 | Loss 0.9776 | Val.Loss nan | Time(s) 1.1198\nEpoch 00049 | Loss 0.9655 | Val.Loss nan | Time(s) 1.1185\nEpoch 00050 | Loss 0.9535 | Val.Loss nan | Time(s) 1.1166\nEpoch 00051 | Loss 0.9415 | Val.Loss nan | Time(s) 1.1153\nEpoch 00052 | Loss 0.9296 | Val.Loss nan | Time(s) 1.1139\nEpoch 00053 | Loss 0.9177 | Val.Loss nan | Time(s) 1.1121\nEpoch 00054 | Loss 0.9058 | Val.Loss nan | Time(s) 1.1109\nEpoch 00055 | Loss 0.8940 | Val.Loss nan | Time(s) 1.1096\nEpoch 00056 | Loss 0.8822 | Val.Loss nan | Time(s) 1.1087\nEpoch 00057 | Loss 0.8704 | Val.Loss nan | Time(s) 1.1073\nEpoch 00058 | Loss 0.8587 | Val.Loss nan | Time(s) 1.1056\nEpoch 00059 | Loss 0.8471 | Val.Loss nan | Time(s) 1.1047\nEpoch 00060 | Loss 0.8356 | Val.Loss nan | Time(s) 1.1045\nEpoch 00061 | Loss 0.8241 | Val.Loss nan | Time(s) 1.1045\nEpoch 00062 | Loss 0.8127 | Val.Loss nan | Time(s) 1.1042\nEpoch 00063 | Loss 0.8014 | Val.Loss nan | Time(s) 1.1032\nEpoch 00064 | Loss 0.7901 | Val.Loss nan | Time(s) 1.1023\nEpoch 00065 | Loss 0.7790 | Val.Loss nan | Time(s) 1.1015\nEpoch 00066 | Loss 0.7679 | Val.Loss nan | Time(s) 1.1003\nEpoch 00067 | Loss 0.7569 | Val.Loss nan | Time(s) 1.0998\nEpoch 00068 | Loss 0.7459 | Val.Loss nan | Time(s) 1.0993\nEpoch 00069 | Loss 0.7351 | Val.Loss nan | Time(s) 1.0984\nEpoch 00070 | Loss 0.7243 | Val.Loss nan | Time(s) 1.0979\nEpoch 00071 | Loss 0.7137 | Val.Loss nan | Time(s) 1.0976\nEpoch 00072 | Loss 0.7031 | Val.Loss nan | Time(s) 1.0965\nEpoch 00073 | Loss 0.6926 | Val.Loss nan | Time(s) 1.0955\nEpoch 00074 | Loss 0.6822 | Val.Loss nan | Time(s) 1.0945\nEpoch 00075 | Loss 0.6719 | Val.Loss nan | Time(s) 1.0934\nEpoch 00076 | Loss 0.6616 | Val.Loss nan | Time(s) 1.0929\nEpoch 00077 | Loss 0.6515 | Val.Loss nan | Time(s) 1.0921\nEpoch 00078 | Loss 0.6414 | Val.Loss nan | Time(s) 1.0920\nEpoch 00079 | Loss 0.6315 | Val.Loss nan | Time(s) 1.0911\nEpoch 00080 | Loss 0.6216 | Val.Loss nan | Time(s) 1.0901\nEpoch 00081 | Loss 0.6118 | Val.Loss nan | Time(s) 1.0893\nEpoch 00082 | Loss 0.6022 | Val.Loss nan | Time(s) 1.0884\nEpoch 00083 | Loss 0.5926 | Val.Loss nan | Time(s) 1.0879\nEpoch 00084 | Loss 0.5831 | Val.Loss nan | Time(s) 1.0873\nEpoch 00085 | Loss 0.5738 | Val.Loss nan | Time(s) 1.0870\nEpoch 00086 | Loss 0.5645 | Val.Loss nan | Time(s) 1.0861\nEpoch 00087 | Loss 0.5553 | Val.Loss nan | Time(s) 1.0855\nEpoch 00088 | Loss 0.5463 | Val.Loss nan | Time(s) 1.0849\nEpoch 00089 | Loss 0.5373 | Val.Loss nan | Time(s) 1.0846\nEpoch 00090 | Loss 0.5285 | Val.Loss nan | Time(s) 1.0842\nEpoch 00091 | Loss 0.5197 | Val.Loss nan | Time(s) 1.0833\nEpoch 00092 | Loss 0.5111 | Val.Loss nan | Time(s) 1.0828\nEpoch 00093 | Loss 0.5026 | Val.Loss nan | Time(s) 1.0821\nEpoch 00094 | Loss 0.4942 | Val.Loss nan | Time(s) 1.0816\nEpoch 00095 | Loss 0.4859 | Val.Loss nan | Time(s) 1.0817\nEpoch 00096 | Loss 0.4777 | Val.Loss nan | Time(s) 1.0812\nEpoch 00097 | Loss 0.4696 | Val.Loss nan | Time(s) 1.0807\nEpoch 00098 | Loss 0.4616 | Val.Loss nan | Time(s) 1.0801\nEpoch 00099 | Loss 0.4538 | Val.Loss nan | Time(s) 1.0799\nEpoch 00100 | Loss 0.4461 | Val.Loss nan | Time(s) 1.0795\nEpoch 00101 | Loss 0.4384 | Val.Loss nan | Time(s) 1.0788\nEpoch 00102 | Loss 0.4309 | Val.Loss nan | Time(s) 1.0783\nEpoch 00103 | Loss 0.4235 | Val.Loss nan | Time(s) 1.0778\nEpoch 00104 | Loss 0.4162 | Val.Loss nan | Time(s) 1.0771\nEpoch 00105 | Loss 0.4091 | Val.Loss nan | Time(s) 1.0764\nEpoch 00106 | Loss 0.4020 | Val.Loss nan | Time(s) 1.0757\nEpoch 00107 | Loss 0.3951 | Val.Loss nan | Time(s) 1.0752\nEpoch 00108 | Loss 0.3882 | Val.Loss nan | Time(s) 1.0751\nEpoch 00109 | Loss 0.3815 | Val.Loss nan | Time(s) 1.0747\nEpoch 00110 | Loss 0.3749 | Val.Loss nan | Time(s) 1.0742\nEpoch 00111 | Loss 0.3685 | Val.Loss nan | Time(s) 1.0735\nEpoch 00112 | Loss 0.3621 | Val.Loss nan | Time(s) 1.0732\nEpoch 00113 | Loss 0.3558 | Val.Loss nan | Time(s) 1.0728\nEpoch 00114 | Loss 0.3497 | Val.Loss nan | Time(s) 1.0726\nEpoch 00115 | Loss 0.3436 | Val.Loss nan | Time(s) 1.0719\nEpoch 00116 | Loss 0.3377 | Val.Loss nan | Time(s) 1.0718\nEpoch 00117 | Loss 0.3319 | Val.Loss nan | Time(s) 1.0714\nEpoch 00118 | Loss 0.3262 | Val.Loss nan | Time(s) 1.0712\nEpoch 00119 | Loss 0.3205 | Val.Loss nan | Time(s) 1.0710\nEpoch 00120 | Loss 0.3150 | Val.Loss nan | Time(s) 1.0706\nEpoch 00121 | Loss 0.3096 | Val.Loss nan | Time(s) 1.0700\nEpoch 00122 | Loss 0.3043 | Val.Loss nan | Time(s) 1.0695\nEpoch 00123 | Loss 0.2990 | Val.Loss nan | Time(s) 1.0693\nEpoch 00124 | Loss 0.2939 | Val.Loss nan | Time(s) 1.0688\nEpoch 00125 | Loss 0.2889 | Val.Loss nan | Time(s) 1.0682\nEpoch 00126 | Loss 0.2839 | Val.Loss nan | Time(s) 1.0677\nEpoch 00127 | Loss 0.2791 | Val.Loss nan | Time(s) 1.0675\nEpoch 00128 | Loss 0.2743 | Val.Loss nan | Time(s) 1.0675\nEpoch 00129 | Loss 0.2697 | Val.Loss nan | Time(s) 1.0673\nEpoch 00130 | Loss 0.2651 | Val.Loss nan | Time(s) 1.0669\nEpoch 00131 | Loss 0.2606 | Val.Loss nan | Time(s) 1.0665\nEpoch 00132 | Loss 0.2563 | Val.Loss nan | Time(s) 1.0661\nEpoch 00133 | Loss 0.2520 | Val.Loss nan | Time(s) 1.0659\nEpoch 00134 | Loss 0.2477 | Val.Loss nan | Time(s) 1.0658\nEpoch 00135 | Loss 0.2436 | Val.Loss nan | Time(s) 1.0654\nEpoch 00136 | Loss 0.2395 | Val.Loss nan | Time(s) 1.0653\nEpoch 00137 | Loss 0.2356 | Val.Loss nan | Time(s) 1.0653\nEpoch 00138 | Loss 0.2317 | Val.Loss nan | Time(s) 1.0650\nEpoch 00139 | Loss 0.2279 | Val.Loss nan | Time(s) 1.0645\nEpoch 00140 | Loss 0.2241 | Val.Loss nan | Time(s) 1.0644\nEpoch 00141 | Loss 0.2205 | Val.Loss nan | Time(s) 1.0646\nEpoch 00142 | Loss 0.2169 | Val.Loss nan | Time(s) 1.0647\nEpoch 00143 | Loss 0.2133 | Val.Loss nan | Time(s) 1.0645\nEpoch 00144 | Loss 0.2099 | Val.Loss nan | Time(s) 1.0642\nEpoch 00145 | Loss 0.2065 | Val.Loss nan | Time(s) 1.0640\nEpoch 00146 | Loss 0.2032 | Val.Loss nan | Time(s) 1.0637\nEpoch 00147 | Loss 0.2000 | Val.Loss nan | Time(s) 1.0635\nEpoch 00148 | Loss 0.1968 | Val.Loss nan | Time(s) 1.0632\nEpoch 00149 | Loss 0.1937 | Val.Loss nan | Time(s) 1.0632\n"
    }
   ],
   "source": [
    "import time\n",
    "\n",
    "net = Net()\n",
    "#print(net)\n",
    "\n",
    "optimizer = th.optim.Adam(net.parameters(), lr=1e-3)\n",
    "net.train() # Set to training mode (use dropout)\n",
    "\n",
    "dur = []\n",
    "for epoch in range(150):\n",
    "    if epoch >=3:\n",
    "        t0 = time.time()\n",
    "\n",
    "    # Compute loss for test nodes (only for validation, not used by optimizer)\n",
    "    net.eval()\n",
    "    prediction = net(g, features)\n",
    "    #scores = th.tensor([F.nll_loss(prediction.detach()[1-mask][:,p], labels[1-mask]) for p in label_perms])\n",
    "    #val_loss = th.min(scores)\n",
    "    #val_loss = F.nll_loss(prediction.detach()[1-mask], labels[1-mask])\n",
    "    val_loss=th.tensor(np.nan)\n",
    "    net.train()\n",
    "\n",
    "    # Compute loss for train nodes\n",
    "    logits = net(g, features)\n",
    "\n",
    "    loss = th.tensor(1000.0,requires_grad=True)\n",
    "    for p in label_perms:\n",
    "        loss = th.min(loss,F.nll_loss(logits[mask][:,p], labels[mask]))\n",
    "\n",
    "    #loss = F.nll_loss(logits[mask], labels[mask])\n",
    "    \n",
    "    optimizer.zero_grad()\n",
    "    loss.backward()\n",
    "    optimizer.step()\n",
    "\n",
    "    if epoch >=3:\n",
    "        dur.append(time.time() - t0)\n",
    "\n",
    "    print(\"Epoch {:05d} | Loss {:.4f} | Val.Loss {:.4f} | Time(s) {:.4f}\".format(\n",
    "            epoch, loss.item(), val_loss.item(), np.mean(dur)))"
   ]
  },
  {
   "cell_type": "code",
   "execution_count": 26,
   "metadata": {},
   "outputs": [
    {
     "data": {
      "text/plain": "array([[0, 4],\n       [0, 4],\n       [0, 4],\n       [0, 4],\n       [0, 4],\n       [0, 4],\n       [0, 4],\n       [1, 0],\n       [1, 0],\n       [1, 0],\n       [1, 0],\n       [1, 0],\n       [2, 5],\n       [2, 5],\n       [3, 3],\n       [3, 3],\n       [3, 3],\n       [3, 3],\n       [3, 3],\n       [3, 3],\n       [3, 3],\n       [3, 3],\n       [3, 3],\n       [3, 3],\n       [3, 3],\n       [4, 2],\n       [4, 2],\n       [4, 2],\n       [4, 2],\n       [4, 2],\n       [4, 2],\n       [4, 2],\n       [4, 2],\n       [4, 2],\n       [4, 2],\n       [4, 2],\n       [4, 2],\n       [4, 2],\n       [5, 1],\n       [5, 1],\n       [5, 1],\n       [5, 1],\n       [5, 1],\n       [5, 1],\n       [5, 1],\n       [5, 1],\n       [5, 1],\n       [6, 6],\n       [6, 6],\n       [6, 6],\n       [6, 6],\n       [6, 6],\n       [6, 6],\n       [6, 6]], dtype=int64)"
     },
     "execution_count": 26,
     "metadata": {},
     "output_type": "execute_result"
    }
   ],
   "source": [
    "# Visualise predictions\n",
    "net.eval() # Set net to evaluation mode (deactivates dropout)\n",
    "final_prediction = net(g, features).detach()\n",
    "a = np.transpose(np.vstack([final_prediction[mask].numpy().argmax(axis=1),labels[mask].numpy()]))\n",
    "a[a[:,0].argsort()]\n",
    "# as can be seen, the net predicts other labels, but gets the clusters right :)"
   ]
  },
  {
   "cell_type": "markdown",
   "execution_count": null,
   "metadata": {},
   "outputs": [],
   "source": [
    "## Evaluation"
   ]
  },
  {
   "cell_type": "code",
   "execution_count": 27,
   "metadata": {},
   "outputs": [
    {
     "name": "stdout",
     "output_type": "stream",
     "text": "\nNLL-Loss:\n All : 3.9184 | Train: 4.2528 | Test: 3.9116 |\n\nAccuracy:\n All : 0.2097 | Train: 0.3333 | Test: 0.2072 |\n"
    }
   ],
   "source": [
    "from sklearn.metrics import accuracy_score as acc\n",
    "net.eval() # Set net to evaluation mode (deactivates dropout)\n",
    "final_prediction = net(g, features).detach()\n",
    "\n",
    "pred_sets = {\"All \":final_prediction,\"Train\":final_prediction[mask],\"Test\":final_prediction[1-mask]}\n",
    "label_sets = {\"All \":labels,\"Train\":labels[mask],\"Test\":labels[1-mask]}\n",
    "eval_functions = {\"NLL-Loss\":lambda y,x: F.nll_loss(x,y),\"Accuracy\":lambda y,x: acc(y,x.numpy().argmax(axis=1))}\n",
    "\n",
    "for name,func in eval_functions.items():\n",
    "    eval_message = f\"\\n{name}:\\n\"\n",
    "    for subset in pred_sets.keys():\n",
    "        eval_message += f\" {subset}: {func(label_sets[subset],pred_sets[subset]):.4f} |\"\n",
    "    print(eval_message)"
   ]
  },
  {
   "cell_type": "code",
   "execution_count": null,
   "metadata": {},
   "outputs": [],
   "source": []
  }
 ]
}