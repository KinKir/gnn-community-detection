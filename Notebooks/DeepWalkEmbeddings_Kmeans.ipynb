{
 "cells": [
  {
   "cell_type": "markdown",
   "metadata": {},
   "source": [
    "## Creation of embeddings with DeepWalk"
   ]
  },
  {
   "cell_type": "code",
   "execution_count": 261,
   "metadata": {},
   "outputs": [],
   "source": [
    "#From https://github.com/phanein/deepwalk\n",
    "import deepwalk as dw"
   ]
  },
  {
   "cell_type": "code",
   "execution_count": 292,
   "metadata": {},
   "outputs": [
    {
     "name": "stderr",
     "output_type": "stream",
     "text": [
      "2020-01-08 16:49:25 INFO deepwalk.py: 220 Parsed 2708 edges with 0 chunks in 0.03300786018371582s\n",
      "2020-01-08 16:49:25 INFO deepwalk.py: 226 Converted edges to graph in 0.0010156631469726562s\n",
      "2020-01-08 16:49:25 INFO deepwalk.py: 57 make_directed: added missing edges 0.0019996166229248047s\n",
      "2020-01-08 16:49:25 INFO deepwalk.py: 68 make_consistent: made consistent in 0.003004312515258789s\n",
      "2020-01-08 16:49:25 INFO deepwalk.py: 86 remove_self_loops: removed 0 loops in 0.0s\n",
      "2020-01-08 16:49:25 INFO deepwalk.py: 232 Made graph undirected in 0.009001016616821289s\n"
     ]
    },
    {
     "name": "stdout",
     "output_type": "stream",
     "text": [
      "Number of nodes: 2708\n",
      "Number of walks: 54160\n",
      "Data size (walks*length): 541600\n",
      "Walking...\n",
      "Training...\n"
     ]
    }
   ],
   "source": [
    "dw.start_deepwalk(\"--format adjlist --input ../data/cora.adjlist --number-walks 20 --representation-size 40 --walk-length 10 --window-size 10 --workers 1 --output ../data/cora1.embeddings\")"
   ]
  },
  {
   "cell_type": "markdown",
   "metadata": {},
   "source": [
    "## K-means on the embeddings"
   ]
  },
  {
   "cell_type": "code",
   "execution_count": 293,
   "metadata": {},
   "outputs": [],
   "source": [
    "from dgl.data import citation_graph as citegrh\n",
    "import networkx as nx\n",
    "import torch as th\n",
    "\n",
    "data = citegrh.load_cora()\n",
    "#features = th.FloatTensor(data.features)\n",
    "labels = th.LongTensor(data.labels)\n",
    "#g = data.graph"
   ]
  },
  {
   "cell_type": "code",
   "execution_count": 294,
   "metadata": {},
   "outputs": [],
   "source": [
    "import pandas as pd\n",
    "df = pd.read_csv(\"../data/cora1.embeddings\",sep=\" \",header=None, skiprows= 1)"
   ]
  },
  {
   "cell_type": "code",
   "execution_count": 295,
   "metadata": {},
   "outputs": [
    {
     "data": {
      "text/html": [
       "<div>\n",
       "<style scoped>\n",
       "    .dataframe tbody tr th:only-of-type {\n",
       "        vertical-align: middle;\n",
       "    }\n",
       "\n",
       "    .dataframe tbody tr th {\n",
       "        vertical-align: top;\n",
       "    }\n",
       "\n",
       "    .dataframe thead th {\n",
       "        text-align: right;\n",
       "    }\n",
       "</style>\n",
       "<table border=\"1\" class=\"dataframe\">\n",
       "  <thead>\n",
       "    <tr style=\"text-align: right;\">\n",
       "      <th></th>\n",
       "      <th>1</th>\n",
       "      <th>2</th>\n",
       "      <th>3</th>\n",
       "      <th>4</th>\n",
       "      <th>5</th>\n",
       "      <th>6</th>\n",
       "      <th>7</th>\n",
       "      <th>8</th>\n",
       "      <th>9</th>\n",
       "      <th>10</th>\n",
       "      <th>...</th>\n",
       "      <th>31</th>\n",
       "      <th>32</th>\n",
       "      <th>33</th>\n",
       "      <th>34</th>\n",
       "      <th>35</th>\n",
       "      <th>36</th>\n",
       "      <th>37</th>\n",
       "      <th>38</th>\n",
       "      <th>39</th>\n",
       "      <th>40</th>\n",
       "    </tr>\n",
       "  </thead>\n",
       "  <tbody>\n",
       "    <tr>\n",
       "      <th>1547</th>\n",
       "      <td>-0.992555</td>\n",
       "      <td>-1.051385</td>\n",
       "      <td>-1.485279</td>\n",
       "      <td>0.302708</td>\n",
       "      <td>0.80964</td>\n",
       "      <td>0.689809</td>\n",
       "      <td>0.057923</td>\n",
       "      <td>0.834929</td>\n",
       "      <td>-0.026571</td>\n",
       "      <td>-0.726585</td>\n",
       "      <td>...</td>\n",
       "      <td>0.57457</td>\n",
       "      <td>0.417147</td>\n",
       "      <td>0.584404</td>\n",
       "      <td>-0.398184</td>\n",
       "      <td>-1.832908</td>\n",
       "      <td>-0.754464</td>\n",
       "      <td>-0.161285</td>\n",
       "      <td>-0.325663</td>\n",
       "      <td>-0.01411</td>\n",
       "      <td>0.816782</td>\n",
       "    </tr>\n",
       "  </tbody>\n",
       "</table>\n",
       "<p>1 rows × 40 columns</p>\n",
       "</div>"
      ],
      "text/plain": [
       "            1         2         3         4        5         6         7   \\\n",
       "1547 -0.992555 -1.051385 -1.485279  0.302708  0.80964  0.689809  0.057923   \n",
       "\n",
       "            8         9         10  ...       31        32        33  \\\n",
       "1547  0.834929 -0.026571 -0.726585  ...  0.57457  0.417147  0.584404   \n",
       "\n",
       "            34        35        36        37        38       39        40  \n",
       "1547 -0.398184 -1.832908 -0.754464 -0.161285 -0.325663 -0.01411  0.816782  \n",
       "\n",
       "[1 rows x 40 columns]"
      ]
     },
     "execution_count": 295,
     "metadata": {},
     "output_type": "execute_result"
    }
   ],
   "source": [
    "df = df.sort_values(by=[0])\n",
    "embeddings =  df.loc[:, df.columns != 0]\n",
    "embeddings.head(1)"
   ]
  },
  {
   "cell_type": "code",
   "execution_count": 296,
   "metadata": {},
   "outputs": [],
   "source": [
    "import numpy as np"
   ]
  },
  {
   "cell_type": "code",
   "execution_count": 297,
   "metadata": {},
   "outputs": [],
   "source": [
    "X = np.array(embeddings)"
   ]
  },
  {
   "cell_type": "code",
   "execution_count": 298,
   "metadata": {},
   "outputs": [],
   "source": [
    "from sklearn.cluster import KMeans\n",
    "kmeans = KMeans(n_clusters=7, n_init=50, max_iter=1000).fit(X)"
   ]
  },
  {
   "cell_type": "code",
   "execution_count": 299,
   "metadata": {},
   "outputs": [
    {
     "data": {
      "image/png": "[encoded data removed]",
      "text/plain": [
       "<Figure size 432x288 with 1 Axes>"
      ]
     },
     "metadata": {
      "needs_background": "light"
     },
     "output_type": "display_data"
    }
   ],
   "source": [
    "#Distribution of lables\n",
    "import matplotlib.pyplot as plt\n",
    "import numpy as np\n",
    "plt.style.use('ggplot')\n",
    "%matplotlib inline\n",
    "plt.hist(kmeans.labels_)\n",
    "plt.ylabel('Amount');"
   ]
  },
  {
   "cell_type": "code",
   "execution_count": 300,
   "metadata": {},
   "outputs": [],
   "source": [
    "import performance as pf"
   ]
  },
  {
   "cell_type": "code",
   "execution_count": 301,
   "metadata": {},
   "outputs": [
    {
     "name": "stdout",
     "output_type": "stream",
     "text": [
      "0.39822819379293933\n",
      "0.44381744549614166\n",
      "2.012283998959632\n"
     ]
    }
   ],
   "source": [
    "print(pf.rand_score(labels,kmeans.labels_))\n",
    "print(pf.mutual_info_score(labels,kmeans.labels_))\n",
    "print(pf.variation_of_information_score(labels,kmeans.labels_))"
   ]
  }
 ],
 "metadata": {
  "kernelspec": {
   "display_name": "Python 3",
   "language": "python",
   "name": "python3"
  },
  "language_info": {
   "codemirror_mode": {
    "name": "ipython",
    "version": 3
   },
   "file_extension": ".py",
   "mimetype": "text/x-python",
   "name": "python",
   "nbconvert_exporter": "python",
   "pygments_lexer": "ipython3",
   "version": "3.7.4"
  }
 },
 "nbformat": 4,
 "nbformat_minor": 2
}
