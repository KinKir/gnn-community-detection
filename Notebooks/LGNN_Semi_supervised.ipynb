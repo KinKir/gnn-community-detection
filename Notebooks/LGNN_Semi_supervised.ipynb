{
  "nbformat": 4,
  "nbformat_minor": 0,
  "metadata": {
    "kernelspec": {
      "display_name": "Python 3",
      "language": "python",
      "name": "python3"
    },
    "language_info": {
      "codemirror_mode": {
        "name": "ipython",
        "version": 3
      },
      "file_extension": ".py",
      "mimetype": "text/x-python",
      "name": "python",
      "nbconvert_exporter": "python",
      "pygments_lexer": "ipython3",
      "version": "3.7.3"
    },
    "colab": {
      "name": "LGNN Semi-supervised.ipynb",
      "provenance": [],
      "collapsed_sections": [
        "aC7suSihFigY",
        "PoEuu1sgmr9s"
      ],
      "include_colab_link": true
    }
  },
  "cells": [
    {
      "cell_type": "markdown",
      "metadata": {
        "colab_type": "text",
        "id": "view-in-github"
      },
      "source": [
        "<a href=\"https://colab.research.google.com/github/adrian-lison/gnn-community-detection/blob/master/Notebooks/LGNN_Semi_supervised.ipynb\" target=\"_parent\"><img src=\"https://colab.research.google.com/assets/colab-badge.svg\" alt=\"Open In Colab\"/></a>"
      ]
    },
    {
      "cell_type": "markdown",
      "metadata": {
        "colab_type": "text",
        "id": "Vij82xvSwQdb"
      },
      "source": [
        "# Model #4 LGNN\n",
        "----------\n"
      ]
    },
    {
      "cell_type": "code",
      "execution_count": 85,
      "metadata": {},
      "outputs": [],
      "source": [
        "#!pip install dgl"
      ]
    },
    {
      "cell_type": "markdown",
      "execution_count": 1,
      "metadata": {},
      "outputs": [],
      "source": [
        "## Imports"
      ]
    },
    {
      "cell_type": "code",
      "execution_count": 86,
      "metadata": {},
      "outputs": [],
      "source": [
        "# dgl\n",
        "import dgl\n",
        "import dgl.function as fn\n",
        "from dgl import DGLGraph\n",
        "from dgl.data import citation_graph as citegrh\n",
        "\n",
        "# pytorch\n",
        "import torch as th\n",
        "import torch.nn as nn\n",
        "import torch.nn.functional as F\n",
        "\n",
        "# other\n",
        "import time\n",
        "import numpy as np\n",
        "import random as rng\n",
        "import scipy.sparse as ss\n",
        "import networkx as nx\n",
        "import pickle\n",
        "\n",
        "from sklearn.metrics import accuracy_score as acc"
      ]
    },
    {
      "cell_type": "markdown",
      "execution_count": null,
      "metadata": {},
      "outputs": [],
      "source": [
        "## GNN Definition"
      ]
    },
    {
      "cell_type": "code",
      "execution_count": 87,
      "metadata": {},
      "outputs": [],
      "source": [
        "# Return a list containing features gathered from multiple radius.\n",
        "import dgl.function as fn\n",
        "def aggregate_radius(radius, g, z):\n",
        "    # initializing list to collect message passing result\n",
        "    z_list = []\n",
        "    g.ndata['z'] = z\n",
        "    # pulling message from 1-hop neighbourhood\n",
        "    g.update_all(fn.copy_src(src='z', out='m'), fn.sum(msg='m', out='z'))\n",
        "    z_list.append(g.ndata['z'])\n",
        "    for i in range(radius - 1):\n",
        "        for j in range(2 ** i):\n",
        "            #pulling message from 2^j neighborhood\n",
        "            g.update_all(fn.copy_src(src='z', out='m'), fn.sum(msg='m', out='z'))\n",
        "        z_list.append(g.ndata['z'])\n",
        "    return z_list"
      ]
    },
    {
      "cell_type": "code",
      "execution_count": 88,
      "metadata": {},
      "outputs": [],
      "source": [
        "class LGNNCore(nn.Module):\n",
        "    def __init__(self, in_feats, out_feats, radius):\n",
        "        super(LGNNCore, self).__init__()\n",
        "        self.out_feats = out_feats\n",
        "        self.radius = radius\n",
        "\n",
        "        self.linear_prev = nn.Linear(in_feats, out_feats)\n",
        "        self.linear_deg = nn.Linear(in_feats, out_feats)\n",
        "        self.linear_radius = nn.ModuleList(\n",
        "                [nn.Linear(in_feats, out_feats) for i in range(radius)])\n",
        "        self.linear_fuse = nn.Linear(in_feats, out_feats)\n",
        "        self.bn = nn.BatchNorm1d(out_feats)\n",
        "\n",
        "    def forward(self, g, feat_a, feat_b, deg, pm_pd):\n",
        "        # term \"prev\"\n",
        "        prev_proj = self.linear_prev(feat_a)\n",
        "        # term \"deg\"\n",
        "        deg_proj = self.linear_deg(deg * feat_a)\n",
        "\n",
        "        # term \"radius\"\n",
        "        # aggregate 2^j-hop features\n",
        "        hop2j_list = aggregate_radius(self.radius, g, feat_a)\n",
        "        # apply linear transformation\n",
        "        hop2j_list = [linear(x) for linear, x in zip(self.linear_radius, hop2j_list)]\n",
        "        radius_proj = sum(hop2j_list)\n",
        "\n",
        "        # term \"fuse\"\n",
        "        fuse = self.linear_fuse(th.mm(pm_pd, feat_b))\n",
        "\n",
        "        # sum them together\n",
        "        result = prev_proj + deg_proj + radius_proj + fuse\n",
        "\n",
        "        # skip connection and batch norm\n",
        "        n = self.out_feats\n",
        "        result = th.cat([result[:, :n], F.relu(result[:, n:])], 1)\n",
        "        result = self.bn(result)\n",
        "\n",
        "        return result"
      ]
    },
    {
      "cell_type": "code",
      "execution_count": 189,
      "metadata": {},
      "outputs": [],
      "source": [
        "class LGNNLayer(nn.Module):\n",
        "    def __init__(self, in_feats, in_feats_lg, out_feats, radius):\n",
        "        super(LGNNLayer, self).__init__()\n",
        "        self.g_layer = LGNNCore(in_feats, out_feats, radius)\n",
        "        self.lg_layer = LGNNCore(in_feats_lg, out_feats, radius)\n",
        "\n",
        "    def forward(self, g, lg, x, lg_x, deg_g, deg_lg, pm_pd):\n",
        "        next_x = self.g_layer(g, x, lg_x, deg_g, pm_pd)\n",
        "        pm_pd_y = th.transpose(pm_pd, 0, 1)\n",
        "        next_lg_x = self.lg_layer(lg, lg_x, x, deg_lg, pm_pd_y)\n",
        "        return next_x, next_lg_x"
      ]
    },
    {
      "cell_type": "code",
      "execution_count": 190,
      "metadata": {},
      "outputs": [],
      "source": [
        "class LGNN(nn.Module):\n",
        "    def __init__(self, radius, g_feat, lg_feat):\n",
        "        super(LGNN, self).__init__()\n",
        "        self.layer1 = LGNNLayer(g_feat.shape[1], lg_feat.shape[1], 21, radius)  # input\n",
        "        self.layer2 = LGNNLayer(21, 21, 21, radius)  # hidden size is 16\n",
        "        self.layer3 = LGNNLayer(21, 21, 21, radius)\n",
        "        self.linear = nn.Linear(21, 21, 7)  # predict seven classes\n",
        "        self.dropout = nn.Dropout(0.2)\n",
        "        self.dropout2 = nn.Dropout(0.2)\n",
        "\n",
        "    def forward(self, g, lg, pm_pd, g_feat, lg_feat):\n",
        "        x, lg_x = g_feat, lg_feat\n",
        "        x, lg_x = self.layer1(g, lg, x, lg_x, deg_g, deg_lg, pm_pd)\n",
        "        x = self.dropout(x)\n",
        "        x, lg_x = self.layer2(g, lg, x, lg_x, deg_g, deg_lg, pm_pd)\n",
        "        x = self.dropout2(x)\n",
        "        x, lg_x = self.layer3(g, lg, x, lg_x, deg_g, deg_lg, pm_pd)\n",
        "        return self.linear(x)"
      ]
    },
    {
      "cell_type": "code",
      "execution_count": 164,
      "metadata": {},
      "outputs": [
        {
          "data": {
            "text/plain": "(tensor([1]), tensor([41]))"
          },
          "execution_count": 164,
          "metadata": {},
          "output_type": "execute_result"
        }
      ],
      "source": [
        "lg.find_edges(4)"
      ]
    },
    {
      "cell_type": "markdown",
      "execution_count": 3,
      "metadata": {},
      "outputs": [],
      "source": [
        "## Data Loading"
      ]
    },
    {
      "cell_type": "code",
      "execution_count": 110,
      "metadata": {},
      "outputs": [],
      "source": [
        "#Loading CORA\n",
        "data = citegrh.load_cora()\n",
        "features = th.FloatTensor(data.features)\n",
        "labels = th.LongTensor(data.labels)\n",
        "mask = th.ByteTensor(data.train_mask)\n",
        "g = data.graph"
      ]
    },
    {
      "cell_type": "code",
      "execution_count": 111,
      "metadata": {},
      "outputs": [
        {
          "data": {
            "text/plain": "<2708x10556 sparse matrix of type '<class 'numpy.int64'>'\n\twith 10556 stored elements in COOrdinate format>"
          },
          "execution_count": 111,
          "metadata": {},
          "output_type": "execute_result"
        }
      ],
      "source": [
        "matrix = lil_matrix((data.graph.number_of_nodes(),data.graph.number_of_edges()))\n",
        "for e in data.graph.edges:\n",
        "    matrix[e[0],e[1]] = 1\n",
        "inputs_pmpd = ss.coo_matrix(matrix,dtype=\"int64\")\n",
        "inputs_pmpd"
      ]
    },
    {
      "cell_type": "code",
      "execution_count": 186,
      "metadata": {},
      "outputs": [
        {
          "data": {
            "text/plain": "(10556, 1433)"
          },
          "execution_count": 186,
          "metadata": {},
          "output_type": "execute_result"
        }
      ],
      "source": [
        "lg_feat = np.vstack([features[e[0],:]*features[e[1],:] for e in data.graph.edges])\n",
        "lg_feat.shape"
      ]
    },
    {
      "cell_type": "code",
      "execution_count": 187,
      "metadata": {},
      "outputs": [
        {
          "data": {
            "text/plain": "array([0., 0., 0., ..., 0., 0., 0.], dtype=float32)"
          },
          "execution_count": 187,
          "metadata": {},
          "output_type": "execute_result"
        }
      ],
      "source": [
        "lg_feat[0,:]"
      ]
    },
    {
      "cell_type": "code",
      "execution_count": 112,
      "metadata": {},
      "outputs": [],
      "source": [
        "g = DGLGraph(g) # turn networkx graph into DGL graph"
      ]
    },
    {
      "cell_type": "code",
      "execution_count": 113,
      "metadata": {},
      "outputs": [
        {
          "name": "stdout",
          "output_type": "stream",
          "text": "We have 2708 nodes.\nWe have 10556 edges.\n"
        }
      ],
      "source": [
        "print('We have %d nodes.' % g.number_of_nodes())\n",
        "print('We have %d edges.' % g.number_of_edges())"
      ]
    },
    {
      "cell_type": "markdown",
      "execution_count": 4,
      "metadata": {},
      "outputs": [],
      "source": [
        "## Select Training Set"
      ]
    },
    {
      "cell_type": "code",
      "execution_count": 199,
      "metadata": {},
      "outputs": [],
      "source": [
        "percentage_train = 0.2\n",
        "\n",
        "with open(\"data/cora_permutation1.pickle\",\"rb\") as f:\n",
        "    perm1 = pickle.load(f)\n",
        "mask = np.zeros(g.number_of_nodes())\n",
        "mask[perm1[range(int(percentage_train*g.number_of_nodes()))]] = 1\n",
        "mask = th.ByteTensor(mask)"
      ]
    },
    {
      "cell_type": "markdown",
      "execution_count": null,
      "metadata": {},
      "outputs": [],
      "source": [
        "## Training"
      ]
    },
    {
      "cell_type": "code",
      "execution_count": 173,
      "metadata": {},
      "outputs": [
        {
          "data": {
            "text/plain": "1"
          },
          "execution_count": 173,
          "metadata": {},
          "output_type": "execute_result"
        }
      ],
      "source": [
        "g.in_degrees().float().unsqueeze(1).shape[1]"
      ]
    },
    {
      "cell_type": "code",
      "execution_count": 203,
      "metadata": {},
      "outputs": [
        {
          "name": "stdout",
          "output_type": "stream",
          "text": "Epoch 0 | Loss: 2.9907 | Total: 761571508224.0000 | Acc: 0.0000\nEpoch 1 | Loss: 2.8881 | Total: 380.3663 | Acc: 0.0078\nEpoch 2 | Loss: 2.8181 | Total: 5.3179 | Acc: 0.1883\nEpoch 3 | Loss: 2.7258 | Total: 3.3496 | Acc: 0.2160\nEpoch 4 | Loss: 2.6536 | Total: 2.9771 | Acc: 0.2427\nEpoch 5 | Loss: 2.5296 | Total: 2.7235 | Acc: 0.2723\nEpoch 6 | Loss: 2.5061 | Total: 2.6460 | Acc: 0.2847\nEpoch 7 | Loss: 2.3803 | Total: 2.6040 | Acc: 0.3166\nEpoch 8 | Loss: 2.2901 | Total: 2.5215 | Acc: 0.3752\nEpoch 9 | Loss: 2.2094 | Total: 2.4387 | Acc: 0.3876\nEpoch 10 | Loss: 2.1175 | Total: 2.3489 | Acc: 0.3904\nEpoch 11 | Loss: 2.0382 | Total: 2.2580 | Acc: 0.3982\nEpoch 12 | Loss: 1.9524 | Total: 2.1647 | Acc: 0.4107\nEpoch 13 | Loss: 1.8799 | Total: 2.0782 | Acc: 0.4121\nEpoch 14 | Loss: 1.8159 | Total: 1.9807 | Acc: 0.4153\nEpoch 15 | Loss: 1.7553 | Total: 1.8948 | Acc: 0.4195\nEpoch 16 | Loss: 1.7072 | Total: 1.8239 | Acc: 0.4218\nEpoch 17 | Loss: 1.6760 | Total: 1.7715 | Acc: 0.4241\nEpoch 18 | Loss: 1.6234 | Total: 1.7291 | Acc: 0.4246\nEpoch 19 | Loss: 1.6019 | Total: 1.7028 | Acc: 0.4278\nEpoch 20 | Loss: 1.5596 | Total: 1.6845 | Acc: 0.4278\nEpoch 21 | Loss: 1.5484 | Total: 1.6685 | Acc: 0.4287\nEpoch 22 | Loss: 1.5405 | Total: 1.6486 | Acc: 0.4324\nEpoch 23 | Loss: 1.5164 | Total: 1.6299 | Acc: 0.4342\nEpoch 24 | Loss: 1.4958 | Total: 1.6152 | Acc: 0.4282\nEpoch 25 | Loss: 1.4769 | Total: 1.5963 | Acc: 0.4241\nEpoch 26 | Loss: 1.4594 | Total: 1.5806 | Acc: 0.4232\nEpoch 27 | Loss: 1.4255 | Total: 1.5645 | Acc: 0.4246\nEpoch 28 | Loss: 1.4209 | Total: 1.5486 | Acc: 0.4315\nEpoch 29 | Loss: 1.4141 | Total: 1.5375 | Acc: 0.4365\nEpoch 30 | Loss: 1.4121 | Total: 1.5261 | Acc: 0.4412\nEpoch 31 | Loss: 1.3854 | Total: 1.5155 | Acc: 0.4513\nEpoch 32 | Loss: 1.3755 | Total: 1.5038 | Acc: 0.4532\nEpoch 33 | Loss: 1.3856 | Total: 1.4937 | Acc: 0.4564\nEpoch 34 | Loss: 1.3774 | Total: 1.4940 | Acc: 0.4559\nEpoch 35 | Loss: 1.3918 | Total: 1.5026 | Acc: 0.4522\nEpoch 36 | Loss: 1.3554 | Total: 1.5103 | Acc: 0.4518\nEpoch 37 | Loss: 1.3684 | Total: 1.5079 | Acc: 0.4476\nEpoch 38 | Loss: 1.3397 | Total: 1.4955 | Acc: 0.4536\nEpoch 39 | Loss: 1.3584 | Total: 1.4809 | Acc: 0.4578\nEpoch 40 | Loss: 1.3551 | Total: 1.4757 | Acc: 0.4587\nEpoch 41 | Loss: 1.3282 | Total: 1.4820 | Acc: 0.4527\nEpoch 42 | Loss: 1.3278 | Total: 1.4820 | Acc: 0.4509\nEpoch 43 | Loss: 1.3367 | Total: 1.4802 | Acc: 0.4476\nEpoch 44 | Loss: 1.3102 | Total: 1.4749 | Acc: 0.4490\nEpoch 45 | Loss: 1.3004 | Total: 1.4725 | Acc: 0.4462\nEpoch 46 | Loss: 1.3068 | Total: 1.4703 | Acc: 0.4439\nEpoch 47 | Loss: 1.3192 | Total: 1.4546 | Acc: 0.4522\nEpoch 48 | Loss: 1.2953 | Total: 1.4545 | Acc: 0.4527\nEpoch 49 | Loss: 1.2977 | Total: 1.4551 | Acc: 0.4559\nEpoch 50 | Loss: 1.3140 | Total: 1.4655 | Acc: 0.4559\nEpoch 51 | Loss: 1.2946 | Total: 1.4915 | Acc: 0.4476\nEpoch 52 | Loss: 1.2745 | Total: 1.4667 | Acc: 0.4536\nEpoch 53 | Loss: 1.2822 | Total: 1.5481 | Acc: 0.4329\nEpoch 54 | Loss: 1.2832 | Total: 1.9315 | Acc: 0.3627\nEpoch 55 | Loss: 1.2688 | Total: 1.4805 | Acc: 0.4490\nEpoch 56 | Loss: 1.2846 | Total: 1.4713 | Acc: 0.4435\nEpoch 57 | Loss: 1.2759 | Total: 1.4580 | Acc: 0.4467\nEpoch 58 | Loss: 1.2625 | Total: 1.4546 | Acc: 0.4453\nEpoch 59 | Loss: 1.2332 | Total: 1.4483 | Acc: 0.4416\nEpoch 60 | Loss: 1.2580 | Total: 1.4452 | Acc: 0.4439\nEpoch 61 | Loss: 1.2504 | Total: 1.4448 | Acc: 0.4352\nEpoch 62 | Loss: 1.2820 | Total: 1.4426 | Acc: 0.4255\nEpoch 63 | Loss: 1.2211 | Total: 1.4416 | Acc: 0.4287\nEpoch 64 | Loss: 1.2235 | Total: 1.4389 | Acc: 0.4398\nEpoch 65 | Loss: 1.2243 | Total: 1.4308 | Acc: 0.4545\nEpoch 66 | Loss: 1.2535 | Total: 1.4291 | Acc: 0.4624\nEpoch 67 | Loss: 1.2326 | Total: 1.4193 | Acc: 0.4679\nEpoch 68 | Loss: 1.2706 | Total: 1.4216 | Acc: 0.4693\nEpoch 69 | Loss: 1.2239 | Total: 1.4209 | Acc: 0.4684\nEpoch 70 | Loss: 1.2012 | Total: 1.4124 | Acc: 0.4730\nEpoch 71 | Loss: 1.1981 | Total: 1.4013 | Acc: 0.4772\nEpoch 72 | Loss: 1.2484 | Total: 1.4102 | Acc: 0.4767\nEpoch 73 | Loss: 1.2216 | Total: 1.4209 | Acc: 0.4684\nEpoch 74 | Loss: 1.2346 | Total: 1.4358 | Acc: 0.4559\nEpoch 75 | Loss: 1.2124 | Total: 1.4852 | Acc: 0.4513\nEpoch 76 | Loss: 1.2536 | Total: 1.4726 | Acc: 0.4490\nEpoch 77 | Loss: 1.2435 | Total: 1.4310 | Acc: 0.4679\nEpoch 78 | Loss: 1.1994 | Total: 1.4186 | Acc: 0.4725\nEpoch 79 | Loss: 1.2267 | Total: 1.4131 | Acc: 0.4693\nEpoch 80 | Loss: 1.2357 | Total: 1.3963 | Acc: 0.4716\nEpoch 81 | Loss: 1.2455 | Total: 1.3880 | Acc: 0.4675\nEpoch 82 | Loss: 1.2319 | Total: 1.4204 | Acc: 0.4532\nEpoch 83 | Loss: 1.2000 | Total: 1.4675 | Acc: 0.4518\nEpoch 84 | Loss: 1.2007 | Total: 1.5084 | Acc: 0.4555\nEpoch 85 | Loss: 1.2056 | Total: 1.4544 | Acc: 0.4619\nEpoch 86 | Loss: 1.1971 | Total: 1.4334 | Acc: 0.4749\nEpoch 87 | Loss: 1.1846 | Total: 1.4295 | Acc: 0.4716\nEpoch 88 | Loss: 1.2165 | Total: 1.4542 | Acc: 0.4605\nEpoch 89 | Loss: 1.1677 | Total: 1.3921 | Acc: 0.4813\nEpoch 90 | Loss: 1.1748 | Total: 1.3855 | Acc: 0.4818\nEpoch 91 | Loss: 1.1802 | Total: 1.3978 | Acc: 0.4818\nEpoch 92 | Loss: 1.1758 | Total: 1.4205 | Acc: 0.4661\nEpoch 93 | Loss: 1.1513 | Total: 1.4245 | Acc: 0.4702\nEpoch 94 | Loss: 1.1902 | Total: 1.4161 | Acc: 0.4808\nEpoch 95 | Loss: 1.1547 | Total: 1.4351 | Acc: 0.4735\nEpoch 96 | Loss: 1.1490 | Total: 1.4243 | Acc: 0.4753\nEpoch 97 | Loss: 1.1633 | Total: 1.3904 | Acc: 0.4850\nEpoch 98 | Loss: 1.1494 | Total: 1.4095 | Acc: 0.4758\nEpoch 99 | Loss: 1.1216 | Total: 1.3732 | Acc: 0.4868\nEpoch 100 | Loss: 1.1551 | Total: 1.4026 | Acc: 0.4785\nEpoch 101 | Loss: 1.1349 | Total: 1.3944 | Acc: 0.4813\nEpoch 102 | Loss: 1.1257 | Total: 1.3718 | Acc: 0.4910\nEpoch 103 | Loss: 1.1407 | Total: 1.3508 | Acc: 0.4975\nEpoch 104 | Loss: 1.1204 | Total: 1.3543 | Acc: 0.4988\nEpoch 105 | Loss: 1.1066 | Total: 1.5287 | Acc: 0.4776\nEpoch 106 | Loss: 1.0999 | Total: 1.4033 | Acc: 0.4813\nEpoch 107 | Loss: 1.1463 | Total: 1.4043 | Acc: 0.4947\nEpoch 108 | Loss: 1.1229 | Total: 1.4008 | Acc: 0.4942\nEpoch 109 | Loss: 1.1423 | Total: 1.4014 | Acc: 0.4762\nEpoch 110 | Loss: 1.1110 | Total: 1.4129 | Acc: 0.4735\nEpoch 111 | Loss: 1.1098 | Total: 1.4240 | Acc: 0.4744\nEpoch 112 | Loss: 1.1191 | Total: 1.4490 | Acc: 0.4721\nEpoch 113 | Loss: 1.0700 | Total: 1.4126 | Acc: 0.4716\nEpoch 114 | Loss: 1.1360 | Total: 1.3749 | Acc: 0.4785\nEpoch 115 | Loss: 1.1049 | Total: 1.4058 | Acc: 0.4721\nEpoch 116 | Loss: 1.0766 | Total: 1.4013 | Acc: 0.4785\nEpoch 117 | Loss: 1.0860 | Total: 1.3899 | Acc: 0.4776\nEpoch 118 | Loss: 1.0710 | Total: 1.3728 | Acc: 0.4850\nEpoch 119 | Loss: 1.0456 | Total: 1.3527 | Acc: 0.4859\nEpoch 120 | Loss: 1.1080 | Total: 1.3512 | Acc: 0.4781\nEpoch 121 | Loss: 1.0430 | Total: 1.3574 | Acc: 0.4818\nEpoch 122 | Loss: 1.0968 | Total: 1.3603 | Acc: 0.4970\nEpoch 123 | Loss: 1.0372 | Total: 1.4091 | Acc: 0.4928\nEpoch 124 | Loss: 1.0643 | Total: 1.4359 | Acc: 0.4928\nEpoch 125 | Loss: 1.0726 | Total: 1.5303 | Acc: 0.4675\nEpoch 126 | Loss: 1.0521 | Total: 1.4317 | Acc: 0.4749\nEpoch 127 | Loss: 1.0297 | Total: 1.4172 | Acc: 0.4739\nEpoch 128 | Loss: 1.0746 | Total: 1.4339 | Acc: 0.5016\nEpoch 129 | Loss: 1.0736 | Total: 1.4192 | Acc: 0.5159\nEpoch 130 | Loss: 1.0483 | Total: 1.4123 | Acc: 0.5132\nEpoch 131 | Loss: 1.0760 | Total: 1.5050 | Acc: 0.4928\nEpoch 132 | Loss: 1.0962 | Total: 1.5569 | Acc: 0.4813\nEpoch 133 | Loss: 1.0729 | Total: 1.4565 | Acc: 0.4808\nEpoch 134 | Loss: 1.0689 | Total: 1.3506 | Acc: 0.5067\nEpoch 135 | Loss: 1.0463 | Total: 1.3688 | Acc: 0.5187\nEpoch 136 | Loss: 1.0547 | Total: 1.4308 | Acc: 0.5012\nEpoch 137 | Loss: 1.0947 | Total: 1.4328 | Acc: 0.5030\nEpoch 138 | Loss: 1.0322 | Total: 1.3865 | Acc: 0.5132\nEpoch 139 | Loss: 1.0538 | Total: 1.3984 | Acc: 0.5104\nEpoch 140 | Loss: 1.0433 | Total: 1.4868 | Acc: 0.5021\nEpoch 141 | Loss: 1.1196 | Total: 1.6257 | Acc: 0.4845\nEpoch 142 | Loss: 1.0522 | Total: 1.4899 | Acc: 0.5002\nEpoch 143 | Loss: 1.0041 | Total: 1.3986 | Acc: 0.5168\nEpoch 144 | Loss: 1.0947 | Total: 1.4087 | Acc: 0.5132\nEpoch 145 | Loss: 1.0547 | Total: 1.4296 | Acc: 0.5081\nEpoch 146 | Loss: 1.0185 | Total: 1.4720 | Acc: 0.5035\nEpoch 147 | Loss: 1.0139 | Total: 1.6004 | Acc: 0.4725\nEpoch 148 | Loss: 1.0548 | Total: 1.7387 | Acc: 0.4596\nEpoch 149 | Loss: 1.1055 | Total: 2.3952 | Acc: 0.4250\nEpoch 150 | Loss: 1.0476 | Total: 1.9125 | Acc: 0.4324\nEpoch 151 | Loss: 1.0444 | Total: 1.5637 | Acc: 0.4795\nEpoch 152 | Loss: 1.0490 | Total: 1.4554 | Acc: 0.5007\nEpoch 153 | Loss: 1.0384 | Total: 1.3990 | Acc: 0.5330\nEpoch 154 | Loss: 1.0210 | Total: 1.3860 | Acc: 0.5311\nEpoch 155 | Loss: 0.9995 | Total: 1.3833 | Acc: 0.5302\nEpoch 156 | Loss: 1.0480 | Total: 1.3815 | Acc: 0.5335\nEpoch 157 | Loss: 1.0063 | Total: 1.3884 | Acc: 0.5353\nEpoch 158 | Loss: 1.0279 | Total: 1.4061 | Acc: 0.5482\nEpoch 159 | Loss: 1.0383 | Total: 1.4130 | Acc: 0.5385\nEpoch 160 | Loss: 1.0216 | Total: 1.3868 | Acc: 0.5256\nEpoch 161 | Loss: 1.0075 | Total: 1.3861 | Acc: 0.5173\nEpoch 162 | Loss: 1.0052 | Total: 1.3883 | Acc: 0.5016\nEpoch 163 | Loss: 0.9892 | Total: 1.3739 | Acc: 0.5035\nEpoch 164 | Loss: 0.9881 | Total: 1.3536 | Acc: 0.5196\nEpoch 165 | Loss: 1.0351 | Total: 1.3755 | Acc: 0.4970\nEpoch 166 | Loss: 1.0271 | Total: 1.4943 | Acc: 0.4665\nEpoch 167 | Loss: 1.0078 | Total: 1.9483 | Acc: 0.4292\nEpoch 168 | Loss: 0.9818 | Total: 2.3801 | Acc: 0.4042\nEpoch 169 | Loss: 0.9823 | Total: 2.6378 | Acc: 0.3909\nEpoch 170 | Loss: 0.9974 | Total: 2.0606 | Acc: 0.4476\nEpoch 171 | Loss: 0.9763 | Total: 1.5253 | Acc: 0.5136\nEpoch 172 | Loss: 1.0842 | Total: 1.4616 | Acc: 0.5348\nEpoch 173 | Loss: 0.9854 | Total: 1.3738 | Acc: 0.5422\nEpoch 174 | Loss: 0.9971 | Total: 1.4352 | Acc: 0.5251\nEpoch 175 | Loss: 0.9912 | Total: 1.4656 | Acc: 0.5062\nEpoch 176 | Loss: 0.9741 | Total: 1.4182 | Acc: 0.5132\nEpoch 177 | Loss: 0.9887 | Total: 1.3870 | Acc: 0.5358\nEpoch 178 | Loss: 0.9663 | Total: 1.3567 | Acc: 0.5487\nEpoch 179 | Loss: 0.9764 | Total: 1.3429 | Acc: 0.5455\n"
        }
      ],
      "source": [
        "# create the model\n",
        "degrees = True\n",
        "if degrees:\n",
        "    # use degree as the input feature\n",
        "    # compute the degrees\n",
        "    g_feat = g.in_degrees().float().unsqueeze(1)\n",
        "    lg_feat = lg.in_degrees().float().unsqueeze(1)  \n",
        "else:\n",
        "    # use astracts as input feature\n",
        "    g_feat = features\n",
        "    lg_feat = th.FloatTensor(lg_feat)\n",
        "\n",
        "net = LGNN(radius=3, g_feat = g_feat, lg_feat = lg_feat)\n",
        "# define the optimizer\n",
        "optimizer = th.optim.Adam(net.parameters(), lr=0.015)\n",
        "\n",
        "# a util function to convert a scipy.coo_matrix to torch.SparseFloat\n",
        "def sparse2th(mat):\n",
        "    value = mat.data\n",
        "    indices = th.LongTensor([mat.row, mat.col])\n",
        "    tensor = th.sparse.FloatTensor(indices, th.from_numpy(value).float(), mat.shape)\n",
        "    return tensor\n",
        "\n",
        "all_logits = []\n",
        "all_losses = []\n",
        "all_losses_val = []\n",
        "\n",
        "pmpd = sparse2th(inputs_pmpd)\n",
        "lg = g.line_graph(backtracking=False)\n",
        "\n",
        "# train\n",
        "for epoch in range(1000):\n",
        "\n",
        "    # Compute loss for test nodes (only for validation, not used by optimizer)\n",
        "    net.eval()\n",
        "    prediction = F.log_softmax(net(g, lg, pmpd,  g_feat = g_feat, lg_feat = lg_feat),1)\n",
        "    val_loss = F.nll_loss(prediction.detach()[1-mask], labels[1-mask])\n",
        "    all_losses_val.append(val_loss.item())\n",
        "    val_acc = acc(labels[1-mask],prediction.detach()[1-mask].numpy().argmax(axis=1))\n",
        "    net.train()\n",
        "\n",
        "    logits = net(g, lg, pmpd,  g_feat = g_feat, lg_feat = lg_feat)\n",
        "    # Save logits for visualization later\n",
        "    all_logits.append(logits.detach())\n",
        "    logp = F.log_softmax(logits, 1)\n",
        "\n",
        "    # Compute loss for train nodes\n",
        "    loss = F.nll_loss(logp[mask], labels[mask])\n",
        "    all_losses.append(loss.detach().item())\n",
        "\n",
        "    optimizer.zero_grad()\n",
        "    loss.backward()\n",
        "    optimizer.step()\n",
        "    \n",
        "    print('Epoch %d | Loss: %.4f | Total: %.4f | Acc: %.4f' % (epoch, loss.item(), val_loss.item(),val_acc))"
      ]
    },
    {
      "cell_type": "code",
      "execution_count": 202,
      "metadata": {},
      "outputs": [
        {
          "data": {
            "application/vnd.plotly.v1+json": {
              "config": {
                "linkText": "Export to plot.ly",
                "plotlyServerURL": "https://plot.ly",
                "showLink": false
              },
              "data": [
                {
                  "mode": "lines",
                  "name": "train",
                  "type": "scatter",
                  "x": [
                    0,
                    1,
                    2,
                    3,
                    4,
                    5,
                    6,
                    7,
                    8,
                    9,
                    10,
                    11,
                    12,
                    13,
                    14,
                    15,
                    16,
                    17,
                    18,
                    19,
                    20,
                    21,
                    22,
                    23,
                    24,
                    25,
                    26,
                    27,
                    28,
                    29,
                    30,
                    31,
                    32,
                    33,
                    34,
                    35,
                    36,
                    37,
                    38,
                    39,
                    40,
                    41,
                    42,
                    43,
                    44,
                    45,
                    46,
                    47,
                    48,
                    49,
                    50,
                    51,
                    52,
                    53,
                    54,
                    55,
                    56,
                    57,
                    58,
                    59,
                    60,
                    61,
                    62,
                    63,
                    64,
                    65,
                    66,
                    67,
                    68,
                    69,
                    70,
                    71,
                    72,
                    73,
                    74,
                    75,
                    76,
                    77,
                    78,
                    79,
                    80,
                    81,
                    82,
                    83,
                    84,
                    85,
                    86,
                    87,
                    88,
                    89,
                    90,
                    91,
                    92,
                    93,
                    94,
                    95,
                    96,
                    97,
                    98,
                    99
                  ],
                  "y": [
                    3.2871363162994385,
                    2.996192455291748,
                    2.8611392974853516,
                    2.7629952430725098,
                    2.6457276344299316,
                    2.549487590789795,
                    2.4198708534240723,
                    2.316457986831665,
                    2.2047030925750732,
                    2.1056833267211914,
                    1.9897009134292603,
                    1.9050204753875732,
                    1.81394362449646,
                    1.7372705936431885,
                    1.6717195510864258,
                    1.6319677829742432,
                    1.5996135473251343,
                    1.584989070892334,
                    1.6059609651565552,
                    1.5525059700012207,
                    1.5447150468826294,
                    1.508500337600708,
                    1.484626293182373,
                    1.4728339910507202,
                    1.4536076784133911,
                    1.4388270378112793,
                    1.442244291305542,
                    1.4302012920379639,
                    1.4299654960632324,
                    1.4474855661392212,
                    1.4246058464050293,
                    1.4108608961105347,
                    1.422015905380249,
                    1.4120771884918213,
                    1.4206726551055908,
                    1.3925570249557495,
                    1.401746153831482,
                    1.3826278448104858,
                    1.3918224573135376,
                    1.370273470878601,
                    1.386742115020752,
                    1.3807860612869263,
                    1.36761474609375,
                    1.3685839176177979,
                    1.3622490167617798,
                    1.3750312328338623,
                    1.3515897989273071,
                    1.3440186977386475,
                    1.3376682996749878,
                    1.3851101398468018,
                    1.3340038061141968,
                    1.3227206468582153,
                    1.3391212224960327,
                    1.3519240617752075,
                    1.343177318572998,
                    1.3289105892181396,
                    1.327609658241272,
                    1.316384196281433,
                    1.3184863328933716,
                    1.3090463876724243,
                    1.3852893114089966,
                    1.3724406957626343,
                    1.323635458946228,
                    1.3262852430343628,
                    1.2993801832199097,
                    1.3159949779510498,
                    1.3082482814788818,
                    1.2885643243789673,
                    1.3102667331695557,
                    1.2940689325332642,
                    1.2836545705795288,
                    1.284371256828308,
                    1.275730848312378,
                    1.2891477346420288,
                    1.2557830810546875,
                    1.25428307056427,
                    1.42633056640625,
                    1.2719463109970093,
                    1.2534681558609009,
                    1.257125735282898,
                    1.236098051071167,
                    1.2469677925109863,
                    1.2539321184158325,
                    1.2320431470870972,
                    1.2305318117141724,
                    1.2308356761932373,
                    1.2358992099761963,
                    1.2216358184814453,
                    1.212450385093689,
                    1.2249915599822998,
                    1.2363018989562988,
                    1.2520166635513306,
                    1.2062100172042847,
                    1.226438045501709,
                    1.2215580940246582,
                    1.1957231760025024,
                    1.1932556629180908,
                    1.1921924352645874,
                    1.1984082460403442,
                    1.1958640813827515
                  ]
                },
                {
                  "mode": "lines",
                  "name": "val",
                  "type": "scatter",
                  "x": [
                    0,
                    1,
                    2,
                    3,
                    4,
                    5,
                    6,
                    7,
                    8,
                    9,
                    10,
                    11,
                    12,
                    13,
                    14,
                    15,
                    16,
                    17,
                    18,
                    19,
                    20,
                    21,
                    22,
                    23,
                    24,
                    25,
                    26,
                    27,
                    28,
                    29,
                    30,
                    31,
                    32,
                    33,
                    34,
                    35,
                    36,
                    37,
                    38,
                    39,
                    40,
                    41,
                    42,
                    43,
                    44,
                    45,
                    46,
                    47,
                    48,
                    49,
                    50,
                    51,
                    52,
                    53,
                    54,
                    55,
                    56,
                    57,
                    58,
                    59,
                    60,
                    61,
                    62,
                    63,
                    64,
                    65,
                    66,
                    67,
                    68,
                    69,
                    70,
                    71,
                    72,
                    73,
                    74,
                    75,
                    76,
                    77,
                    78,
                    79,
                    80,
                    81,
                    82,
                    83,
                    84,
                    85,
                    86,
                    87,
                    88,
                    89,
                    90,
                    91,
                    92,
                    93,
                    94,
                    95,
                    96,
                    97,
                    98,
                    99
                  ],
                  "y": [
                    3003690778624,
                    8.016739845275879,
                    3.121058464050293,
                    2.984982967376709,
                    2.956608533859253,
                    2.7839927673339844,
                    2.7039802074432373,
                    2.60044002532959,
                    2.4740307331085205,
                    2.351954698562622,
                    2.2263455390930176,
                    2.10980486869812,
                    2.010380506515503,
                    1.9232641458511353,
                    1.8510468006134033,
                    1.7962406873703003,
                    1.7611342668533325,
                    1.7412371635437012,
                    1.7216709852218628,
                    1.6997647285461426,
                    1.683018445968628,
                    1.6681015491485596,
                    1.6554112434387207,
                    1.638476014137268,
                    1.6258968114852905,
                    1.6095787286758423,
                    1.5953409671783447,
                    1.5947233438491821,
                    1.5886168479919434,
                    1.5953609943389893,
                    1.580514907836914,
                    1.5753906965255737,
                    1.572087287902832,
                    1.5854120254516602,
                    1.6028250455856323,
                    1.5833820104599,
                    1.561672568321228,
                    1.5540812015533447,
                    1.5545017719268799,
                    1.5529943704605103,
                    1.5557682514190674,
                    1.5588688850402832,
                    1.5440037250518799,
                    1.5266389846801758,
                    1.517683982849121,
                    1.508657693862915,
                    1.502314567565918,
                    1.5071046352386475,
                    1.5166512727737427,
                    1.5754315853118896,
                    1.5175341367721558,
                    1.4955273866653442,
                    1.4840734004974365,
                    1.4887975454330444,
                    1.4939239025115967,
                    1.496884822845459,
                    1.4892858266830444,
                    1.4887458086013794,
                    1.5127376317977905,
                    1.5905007123947144,
                    1.6042768955230713,
                    1.562274694442749,
                    1.5210535526275635,
                    1.5163440704345703,
                    1.5104269981384277,
                    1.5655640363693237,
                    1.673429012298584,
                    1.7811635732650757,
                    1.8533724546432495,
                    1.900193452835083,
                    1.8992540836334229,
                    1.9779843091964722,
                    2.0336310863494873,
                    2.066906690597534,
                    2.0617167949676514,
                    2.0861892700195312,
                    2.1040985584259033,
                    2.168372631072998,
                    2.0534327030181885,
                    1.861829161643982,
                    1.6997747421264648,
                    1.5295230150222778,
                    1.4689967632293701,
                    1.5151339769363403,
                    1.5030858516693115,
                    1.5075114965438843,
                    1.5376664400100708,
                    1.4177829027175903,
                    1.444629192352295,
                    1.4813268184661865,
                    1.4836333990097046,
                    1.4019279479980469,
                    1.3695513010025024,
                    1.3862695693969727,
                    1.4035240411758423,
                    1.432716727256775,
                    1.4264010190963745,
                    1.4160523414611816,
                    1.4087154865264893,
                    1.400202989578247
                  ]
                }
              ],
              "layout": {
                "template": {
                  "data": {
                    "bar": [
                      {
                        "error_x": {
                          "color": "#2a3f5f"
                        },
                        "error_y": {
                          "color": "#2a3f5f"
                        },
                        "marker": {
                          "line": {
                            "color": "#E5ECF6",
                            "width": 0.5
                          }
                        },
                        "type": "bar"
                      }
                    ],
                    "barpolar": [
                      {
                        "marker": {
                          "line": {
                            "color": "#E5ECF6",
                            "width": 0.5
                          }
                        },
                        "type": "barpolar"
                      }
                    ],
                    "carpet": [
                      {
                        "aaxis": {
                          "endlinecolor": "#2a3f5f",
                          "gridcolor": "white",
                          "linecolor": "white",
                          "minorgridcolor": "white",
                          "startlinecolor": "#2a3f5f"
                        },
                        "baxis": {
                          "endlinecolor": "#2a3f5f",
                          "gridcolor": "white",
                          "linecolor": "white",
                          "minorgridcolor": "white",
                          "startlinecolor": "#2a3f5f"
                        },
                        "type": "carpet"
                      }
                    ],
                    "choropleth": [
                      {
                        "colorbar": {
                          "outlinewidth": 0,
                          "ticks": ""
                        },
                        "type": "choropleth"
                      }
                    ],
                    "contour": [
                      {
                        "colorbar": {
                          "outlinewidth": 0,
                          "ticks": ""
                        },
                        "colorscale": [
                          [
                            0,
                            "#0d0887"
                          ],
                          [
                            0.1111111111111111,
                            "#46039f"
                          ],
                          [
                            0.2222222222222222,
                            "#7201a8"
                          ],
                          [
                            0.3333333333333333,
                            "#9c179e"
                          ],
                          [
                            0.4444444444444444,
                            "#bd3786"
                          ],
                          [
                            0.5555555555555556,
                            "#d8576b"
                          ],
                          [
                            0.6666666666666666,
                            "#ed7953"
                          ],
                          [
                            0.7777777777777778,
                            "#fb9f3a"
                          ],
                          [
                            0.8888888888888888,
                            "#fdca26"
                          ],
                          [
                            1,
                            "#f0f921"
                          ]
                        ],
                        "type": "contour"
                      }
                    ],
                    "contourcarpet": [
                      {
                        "colorbar": {
                          "outlinewidth": 0,
                          "ticks": ""
                        },
                        "type": "contourcarpet"
                      }
                    ],
                    "heatmap": [
                      {
                        "colorbar": {
                          "outlinewidth": 0,
                          "ticks": ""
                        },
                        "colorscale": [
                          [
                            0,
                            "#0d0887"
                          ],
                          [
                            0.1111111111111111,
                            "#46039f"
                          ],
                          [
                            0.2222222222222222,
                            "#7201a8"
                          ],
                          [
                            0.3333333333333333,
                            "#9c179e"
                          ],
                          [
                            0.4444444444444444,
                            "#bd3786"
                          ],
                          [
                            0.5555555555555556,
                            "#d8576b"
                          ],
                          [
                            0.6666666666666666,
                            "#ed7953"
                          ],
                          [
                            0.7777777777777778,
                            "#fb9f3a"
                          ],
                          [
                            0.8888888888888888,
                            "#fdca26"
                          ],
                          [
                            1,
                            "#f0f921"
                          ]
                        ],
                        "type": "heatmap"
                      }
                    ],
                    "heatmapgl": [
                      {
                        "colorbar": {
                          "outlinewidth": 0,
                          "ticks": ""
                        },
                        "colorscale": [
                          [
                            0,
                            "#0d0887"
                          ],
                          [
                            0.1111111111111111,
                            "#46039f"
                          ],
                          [
                            0.2222222222222222,
                            "#7201a8"
                          ],
                          [
                            0.3333333333333333,
                            "#9c179e"
                          ],
                          [
                            0.4444444444444444,
                            "#bd3786"
                          ],
                          [
                            0.5555555555555556,
                            "#d8576b"
                          ],
                          [
                            0.6666666666666666,
                            "#ed7953"
                          ],
                          [
                            0.7777777777777778,
                            "#fb9f3a"
                          ],
                          [
                            0.8888888888888888,
                            "#fdca26"
                          ],
                          [
                            1,
                            "#f0f921"
                          ]
                        ],
                        "type": "heatmapgl"
                      }
                    ],
                    "histogram": [
                      {
                        "marker": {
                          "colorbar": {
                            "outlinewidth": 0,
                            "ticks": ""
                          }
                        },
                        "type": "histogram"
                      }
                    ],
                    "histogram2d": [
                      {
                        "colorbar": {
                          "outlinewidth": 0,
                          "ticks": ""
                        },
                        "colorscale": [
                          [
                            0,
                            "#0d0887"
                          ],
                          [
                            0.1111111111111111,
                            "#46039f"
                          ],
                          [
                            0.2222222222222222,
                            "#7201a8"
                          ],
                          [
                            0.3333333333333333,
                            "#9c179e"
                          ],
                          [
                            0.4444444444444444,
                            "#bd3786"
                          ],
                          [
                            0.5555555555555556,
                            "#d8576b"
                          ],
                          [
                            0.6666666666666666,
                            "#ed7953"
                          ],
                          [
                            0.7777777777777778,
                            "#fb9f3a"
                          ],
                          [
                            0.8888888888888888,
                            "#fdca26"
                          ],
                          [
                            1,
                            "#f0f921"
                          ]
                        ],
                        "type": "histogram2d"
                      }
                    ],
                    "histogram2dcontour": [
                      {
                        "colorbar": {
                          "outlinewidth": 0,
                          "ticks": ""
                        },
                        "colorscale": [
                          [
                            0,
                            "#0d0887"
                          ],
                          [
                            0.1111111111111111,
                            "#46039f"
                          ],
                          [
                            0.2222222222222222,
                            "#7201a8"
                          ],
                          [
                            0.3333333333333333,
                            "#9c179e"
                          ],
                          [
                            0.4444444444444444,
                            "#bd3786"
                          ],
                          [
                            0.5555555555555556,
                            "#d8576b"
                          ],
                          [
                            0.6666666666666666,
                            "#ed7953"
                          ],
                          [
                            0.7777777777777778,
                            "#fb9f3a"
                          ],
                          [
                            0.8888888888888888,
                            "#fdca26"
                          ],
                          [
                            1,
                            "#f0f921"
                          ]
                        ],
                        "type": "histogram2dcontour"
                      }
                    ],
                    "mesh3d": [
                      {
                        "colorbar": {
                          "outlinewidth": 0,
                          "ticks": ""
                        },
                        "type": "mesh3d"
                      }
                    ],
                    "parcoords": [
                      {
                        "line": {
                          "colorbar": {
                            "outlinewidth": 0,
                            "ticks": ""
                          }
                        },
                        "type": "parcoords"
                      }
                    ],
                    "scatter": [
                      {
                        "marker": {
                          "colorbar": {
                            "outlinewidth": 0,
                            "ticks": ""
                          }
                        },
                        "type": "scatter"
                      }
                    ],
                    "scatter3d": [
                      {
                        "line": {
                          "colorbar": {
                            "outlinewidth": 0,
                            "ticks": ""
                          }
                        },
                        "marker": {
                          "colorbar": {
                            "outlinewidth": 0,
                            "ticks": ""
                          }
                        },
                        "type": "scatter3d"
                      }
                    ],
                    "scattercarpet": [
                      {
                        "marker": {
                          "colorbar": {
                            "outlinewidth": 0,
                            "ticks": ""
                          }
                        },
                        "type": "scattercarpet"
                      }
                    ],
                    "scattergeo": [
                      {
                        "marker": {
                          "colorbar": {
                            "outlinewidth": 0,
                            "ticks": ""
                          }
                        },
                        "type": "scattergeo"
                      }
                    ],
                    "scattergl": [
                      {
                        "marker": {
                          "colorbar": {
                            "outlinewidth": 0,
                            "ticks": ""
                          }
                        },
                        "type": "scattergl"
                      }
                    ],
                    "scattermapbox": [
                      {
                        "marker": {
                          "colorbar": {
                            "outlinewidth": 0,
                            "ticks": ""
                          }
                        },
                        "type": "scattermapbox"
                      }
                    ],
                    "scatterpolar": [
                      {
                        "marker": {
                          "colorbar": {
                            "outlinewidth": 0,
                            "ticks": ""
                          }
                        },
                        "type": "scatterpolar"
                      }
                    ],
                    "scatterpolargl": [
                      {
                        "marker": {
                          "colorbar": {
                            "outlinewidth": 0,
                            "ticks": ""
                          }
                        },
                        "type": "scatterpolargl"
                      }
                    ],
                    "scatterternary": [
                      {
                        "marker": {
                          "colorbar": {
                            "outlinewidth": 0,
                            "ticks": ""
                          }
                        },
                        "type": "scatterternary"
                      }
                    ],
                    "surface": [
                      {
                        "colorbar": {
                          "outlinewidth": 0,
                          "ticks": ""
                        },
                        "colorscale": [
                          [
                            0,
                            "#0d0887"
                          ],
                          [
                            0.1111111111111111,
                            "#46039f"
                          ],
                          [
                            0.2222222222222222,
                            "#7201a8"
                          ],
                          [
                            0.3333333333333333,
                            "#9c179e"
                          ],
                          [
                            0.4444444444444444,
                            "#bd3786"
                          ],
                          [
                            0.5555555555555556,
                            "#d8576b"
                          ],
                          [
                            0.6666666666666666,
                            "#ed7953"
                          ],
                          [
                            0.7777777777777778,
                            "#fb9f3a"
                          ],
                          [
                            0.8888888888888888,
                            "#fdca26"
                          ],
                          [
                            1,
                            "#f0f921"
                          ]
                        ],
                        "type": "surface"
                      }
                    ],
                    "table": [
                      {
                        "cells": {
                          "fill": {
                            "color": "#EBF0F8"
                          },
                          "line": {
                            "color": "white"
                          }
                        },
                        "header": {
                          "fill": {
                            "color": "#C8D4E3"
                          },
                          "line": {
                            "color": "white"
                          }
                        },
                        "type": "table"
                      }
                    ]
                  },
                  "layout": {
                    "annotationdefaults": {
                      "arrowcolor": "#2a3f5f",
                      "arrowhead": 0,
                      "arrowwidth": 1
                    },
                    "colorscale": {
                      "diverging": [
                        [
                          0,
                          "#8e0152"
                        ],
                        [
                          0.1,
                          "#c51b7d"
                        ],
                        [
                          0.2,
                          "#de77ae"
                        ],
                        [
                          0.3,
                          "#f1b6da"
                        ],
                        [
                          0.4,
                          "#fde0ef"
                        ],
                        [
                          0.5,
                          "#f7f7f7"
                        ],
                        [
                          0.6,
                          "#e6f5d0"
                        ],
                        [
                          0.7,
                          "#b8e186"
                        ],
                        [
                          0.8,
                          "#7fbc41"
                        ],
                        [
                          0.9,
                          "#4d9221"
                        ],
                        [
                          1,
                          "#276419"
                        ]
                      ],
                      "sequential": [
                        [
                          0,
                          "#0d0887"
                        ],
                        [
                          0.1111111111111111,
                          "#46039f"
                        ],
                        [
                          0.2222222222222222,
                          "#7201a8"
                        ],
                        [
                          0.3333333333333333,
                          "#9c179e"
                        ],
                        [
                          0.4444444444444444,
                          "#bd3786"
                        ],
                        [
                          0.5555555555555556,
                          "#d8576b"
                        ],
                        [
                          0.6666666666666666,
                          "#ed7953"
                        ],
                        [
                          0.7777777777777778,
                          "#fb9f3a"
                        ],
                        [
                          0.8888888888888888,
                          "#fdca26"
                        ],
                        [
                          1,
                          "#f0f921"
                        ]
                      ],
                      "sequentialminus": [
                        [
                          0,
                          "#0d0887"
                        ],
                        [
                          0.1111111111111111,
                          "#46039f"
                        ],
                        [
                          0.2222222222222222,
                          "#7201a8"
                        ],
                        [
                          0.3333333333333333,
                          "#9c179e"
                        ],
                        [
                          0.4444444444444444,
                          "#bd3786"
                        ],
                        [
                          0.5555555555555556,
                          "#d8576b"
                        ],
                        [
                          0.6666666666666666,
                          "#ed7953"
                        ],
                        [
                          0.7777777777777778,
                          "#fb9f3a"
                        ],
                        [
                          0.8888888888888888,
                          "#fdca26"
                        ],
                        [
                          1,
                          "#f0f921"
                        ]
                      ]
                    },
                    "colorway": [
                      "#636efa",
                      "#EF553B",
                      "#00cc96",
                      "#ab63fa",
                      "#FFA15A",
                      "#19d3f3",
                      "#FF6692",
                      "#B6E880",
                      "#FF97FF",
                      "#FECB52"
                    ],
                    "font": {
                      "color": "#2a3f5f"
                    },
                    "geo": {
                      "bgcolor": "white",
                      "lakecolor": "white",
                      "landcolor": "#E5ECF6",
                      "showlakes": true,
                      "showland": true,
                      "subunitcolor": "white"
                    },
                    "hoverlabel": {
                      "align": "left"
                    },
                    "hovermode": "closest",
                    "mapbox": {
                      "style": "light"
                    },
                    "paper_bgcolor": "white",
                    "plot_bgcolor": "#E5ECF6",
                    "polar": {
                      "angularaxis": {
                        "gridcolor": "white",
                        "linecolor": "white",
                        "ticks": ""
                      },
                      "bgcolor": "#E5ECF6",
                      "radialaxis": {
                        "gridcolor": "white",
                        "linecolor": "white",
                        "ticks": ""
                      }
                    },
                    "scene": {
                      "xaxis": {
                        "backgroundcolor": "#E5ECF6",
                        "gridcolor": "white",
                        "gridwidth": 2,
                        "linecolor": "white",
                        "showbackground": true,
                        "ticks": "",
                        "zerolinecolor": "white"
                      },
                      "yaxis": {
                        "backgroundcolor": "#E5ECF6",
                        "gridcolor": "white",
                        "gridwidth": 2,
                        "linecolor": "white",
                        "showbackground": true,
                        "ticks": "",
                        "zerolinecolor": "white"
                      },
                      "zaxis": {
                        "backgroundcolor": "#E5ECF6",
                        "gridcolor": "white",
                        "gridwidth": 2,
                        "linecolor": "white",
                        "showbackground": true,
                        "ticks": "",
                        "zerolinecolor": "white"
                      }
                    },
                    "shapedefaults": {
                      "line": {
                        "color": "#2a3f5f"
                      }
                    },
                    "ternary": {
                      "aaxis": {
                        "gridcolor": "white",
                        "linecolor": "white",
                        "ticks": ""
                      },
                      "baxis": {
                        "gridcolor": "white",
                        "linecolor": "white",
                        "ticks": ""
                      },
                      "bgcolor": "#E5ECF6",
                      "caxis": {
                        "gridcolor": "white",
                        "linecolor": "white",
                        "ticks": ""
                      }
                    },
                    "title": {
                      "x": 0.05
                    },
                    "xaxis": {
                      "automargin": true,
                      "gridcolor": "white",
                      "linecolor": "white",
                      "ticks": "",
                      "zerolinecolor": "white",
                      "zerolinewidth": 2
                    },
                    "yaxis": {
                      "automargin": true,
                      "gridcolor": "white",
                      "linecolor": "white",
                      "ticks": "",
                      "zerolinecolor": "white",
                      "zerolinewidth": 2
                    }
                  }
                },
                "title": {
                  "text": "Loss Evolution"
                },
                "xaxis": {
                  "title": {
                    "text": "Step"
                  }
                },
                "yaxis": {
                  "range": [
                    0,
                    3
                  ],
                  "title": {
                    "text": "NLL-Loss"
                  }
                }
              }
            }
          },
          "metadata": {},
          "output_type": "display_data"
        }
      ],
      "source": [
        "import plotly.graph_objs as go\n",
        "from plotly.offline import download_plotlyjs, init_notebook_mode, plot, iplot\n",
        "traces= [go.Scatter(x=list(range(len(all_losses))),y=all_losses,name=\"train\",mode=\"lines\"),\n",
        "go.Scatter(x=list(range(len(all_losses_val))),y=all_losses_val,name=\"val\",mode=\"lines\")]\n",
        "layout = go.Layout(title=\"Loss Evolution\", xaxis=dict(title=\"Step\"), yaxis=dict(title=\"NLL-Loss\",range=[0, 3]))\n",
        "fig = dict(data=traces, layout=layout)\n",
        "iplot(fig)"
      ]
    },
    {
      "cell_type": "markdown",
      "execution_count": null,
      "metadata": {},
      "outputs": [],
      "source": [
        "## Evaluation"
      ]
    },
    {
      "cell_type": "code",
      "execution_count": 196,
      "metadata": {},
      "outputs": [
        {
          "name": "stdout",
          "output_type": "stream",
          "text": "\nNLL-Loss:\n All : 2.0883 | Train: 0.8569 | Test: 2.1133 |\n\nAccuracy:\n All : 0.4136 | Train: 0.6852 | Test: 0.4081 |\n"
        }
      ],
      "source": [
        "net.eval() # Set net to evaluation mode (deactivates dropout)\n",
        "final_prediction = F.log_softmax(net(g, lg, pmpd,  g_feat = g_feat, lg_feat = lg_feat),1).detach()\n",
        "\n",
        "pred_sets = {\"All \":final_prediction,\"Train\":final_prediction[mask],\"Test\":final_prediction[1-mask]}\n",
        "label_sets = {\"All \":labels,\"Train\":labels[mask],\"Test\":labels[1-mask]}\n",
        "eval_functions = {\"NLL-Loss\":lambda y,x: F.nll_loss(x,y),\"Accuracy\":lambda y,x: acc(y,x.numpy().argmax(axis=1))}\n",
        "\n",
        "for name,func in eval_functions.items():\n",
        "    eval_message = f\"\\n{name}:\\n\"\n",
        "    for subset in pred_sets.keys():\n",
        "        eval_message += f\" {subset}: {func(label_sets[subset],pred_sets[subset]):.4f} |\"\n",
        "    print(eval_message)"
      ]
    },
    {
      "cell_type": "code",
      "execution_count": null,
      "metadata": {},
      "outputs": [],
      "source": []
    }
  ]
}