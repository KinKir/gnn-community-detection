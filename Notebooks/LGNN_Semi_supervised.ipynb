{
  "nbformat": 4,
  "nbformat_minor": 0,
  "metadata": {
    "kernelspec": {
      "display_name": "Python 3",
      "language": "python",
      "name": "python3"
    },
    "language_info": {
      "codemirror_mode": {
        "name": "ipython",
        "version": 3
      },
      "file_extension": ".py",
      "mimetype": "text/x-python",
      "name": "python",
      "nbconvert_exporter": "python",
      "pygments_lexer": "ipython3",
      "version": "3.6.6"
    },
    "colab": {
      "name": "LGNN Semi-supervised.ipynb",
      "provenance": [],
      "collapsed_sections": [
        "aC7suSihFigY",
        "PoEuu1sgmr9s"
      ],
      "include_colab_link": true
    }
  },
  "cells": [
    {
      "cell_type": "markdown",
      "metadata": {
        "id": "view-in-github",
        "colab_type": "text"
      },
      "source": [
        "<a href=\"https://colab.research.google.com/github/adrian-lison/gnn-community-detection/blob/master/Notebooks/LGNN_Semi_supervised.ipynb\" target=\"_parent\"><img src=\"https://colab.research.google.com/assets/colab-badge.svg\" alt=\"Open In Colab\"/></a>"
      ]
    },
    {
      "cell_type": "markdown",
      "metadata": {
        "id": "Vij82xvSwQdb",
        "colab_type": "text"
      },
      "source": [
        "# Model #4 LGNN\n",
        "----------\n"
      ]
    },
    {
      "cell_type": "code",
      "metadata": {
        "id": "pZQjG4KnPQSS",
        "colab_type": "code",
        "outputId": "5055becf-325b-4133-a3f6-fe073d8b72e4",
        "colab": {
          "base_uri": "https://localhost:8080/",
          "height": 111
        }
      },
      "source": [
        "!pip install dgl"
      ],
      "execution_count": 0,
      "outputs": [
        {
          "output_type": "stream",
          "text": [
            "Requirement already satisfied: dgl in /usr/local/lib/python3.6/dist-packages (0.4.1)\n",
            "Requirement already satisfied: scipy>=1.1.0 in /usr/local/lib/python3.6/dist-packages (from dgl) (1.3.2)\n",
            "Requirement already satisfied: networkx>=2.1 in /usr/local/lib/python3.6/dist-packages (from dgl) (2.4)\n",
            "Requirement already satisfied: numpy>=1.14.0 in /usr/local/lib/python3.6/dist-packages (from dgl) (1.17.4)\n",
            "Requirement already satisfied: decorator>=4.3.0 in /usr/local/lib/python3.6/dist-packages (from networkx>=2.1->dgl) (4.4.1)\n"
          ],
          "name": "stdout"
        }
      ]
    },
    {
      "cell_type": "code",
      "metadata": {
        "id": "EuKMgGxawXB8",
        "colab_type": "code",
        "colab": {}
      },
      "source": [
        "import torch\n",
        "import torch as th\n",
        "import torch.nn as nn\n",
        "import torch.nn.functional as F\n",
        "import networkx as nx\n",
        "\n",
        "import dgl\n",
        "from dgl.data import citation_graph as citegrh"
      ],
      "execution_count": 0,
      "outputs": []
    },
    {
      "cell_type": "code",
      "metadata": {
        "colab_type": "code",
        "id": "DhQjqOfU8y-8",
        "colab": {}
      },
      "source": [
        "full = dgl.data.CoraFull()"
      ],
      "execution_count": 0,
      "outputs": []
    },
    {
      "cell_type": "code",
      "metadata": {
        "colab_type": "code",
        "outputId": "2dded545-e53e-4749-9d10-9449c7df1289",
        "id": "2tq7fcbe8yCH",
        "colab": {
          "base_uri": "https://localhost:8080/",
          "height": 35
        }
      },
      "source": [
        "type(full)"
      ],
      "execution_count": 0,
      "outputs": [
        {
          "output_type": "execute_result",
          "data": {
            "text/plain": [
              "dgl.data.gnn_benckmark.CoraFull"
            ]
          },
          "metadata": {
            "tags": []
          },
          "execution_count": 52
        }
      ]
    },
    {
      "cell_type": "code",
      "metadata": {
        "id": "2PumoLXGc2gb",
        "colab_type": "code",
        "outputId": "243c052a-c7e4-4105-d653-50e838c788bd",
        "colab": {
          "base_uri": "https://localhost:8080/",
          "height": 72
        }
      },
      "source": [
        "#There are different CORA datasets\n",
        "full.data"
      ],
      "execution_count": 0,
      "outputs": [
        {
          "output_type": "execute_result",
          "data": {
            "text/plain": [
              "[DGLGraph(num_nodes=19793, num_edges=130622,\n",
              "          ndata_schemes={'feat': Scheme(shape=(8710,), dtype=torch.float32), 'label': Scheme(shape=(), dtype=torch.int64)}\n",
              "          edata_schemes={})]"
            ]
          },
          "metadata": {
            "tags": []
          },
          "execution_count": 54
        }
      ]
    },
    {
      "cell_type": "code",
      "metadata": {
        "id": "SfQGTVMspmK9",
        "colab_type": "code",
        "colab": {}
      },
      "source": [
        "cora_citation = dgl.data.CoraDataset()"
      ],
      "execution_count": 0,
      "outputs": []
    },
    {
      "cell_type": "code",
      "metadata": {
        "id": "LqSBcEtSW7VI",
        "colab_type": "code",
        "outputId": "15cef1e5-0fe0-4617-e8f9-51b0931da98a",
        "colab": {
          "base_uri": "https://localhost:8080/",
          "height": 36
        }
      },
      "source": [
        "print(cora_citation.graph.number_of_edges(),cora_citation.graph.number_of_nodes())"
      ],
      "execution_count": 0,
      "outputs": [
        {
          "output_type": "stream",
          "text": [
            "10556 2708\n"
          ],
          "name": "stdout"
        }
      ]
    },
    {
      "cell_type": "code",
      "metadata": {
        "id": "_H9vL2HFXfrQ",
        "colab_type": "code",
        "colab": {}
      },
      "source": [
        "# Return a list containing features gathered from multiple radius.\n",
        "import dgl.function as fn\n",
        "def aggregate_radius(radius, g, z):\n",
        "    # initializing list to collect message passing result\n",
        "    z_list = []\n",
        "    g.ndata['z'] = z\n",
        "    # pulling message from 1-hop neighbourhood\n",
        "    g.update_all(fn.copy_src(src='z', out='m'), fn.sum(msg='m', out='z'))\n",
        "    z_list.append(g.ndata['z'])\n",
        "    for i in range(radius - 1):\n",
        "        for j in range(2 ** i):\n",
        "            #pulling message from 2^j neighborhood\n",
        "            g.update_all(fn.copy_src(src='z', out='m'), fn.sum(msg='m', out='z'))\n",
        "        z_list.append(g.ndata['z'])\n",
        "    return z_list"
      ],
      "execution_count": 0,
      "outputs": []
    },
    {
      "cell_type": "code",
      "metadata": {
        "id": "upEHXQNOXuIL",
        "colab_type": "code",
        "colab": {}
      },
      "source": [
        "class LGNNCore(nn.Module):\n",
        "    def __init__(self, in_feats, out_feats, radius):\n",
        "        super(LGNNCore, self).__init__()\n",
        "        self.out_feats = out_feats\n",
        "        self.radius = radius\n",
        "\n",
        "        self.linear_prev = nn.Linear(in_feats, out_feats)\n",
        "        self.linear_deg = nn.Linear(in_feats, out_feats)\n",
        "        self.linear_radius = nn.ModuleList(\n",
        "                [nn.Linear(in_feats, out_feats) for i in range(radius)])\n",
        "        self.linear_fuse = nn.Linear(in_feats, out_feats)\n",
        "        self.bn = nn.BatchNorm1d(out_feats)\n",
        "\n",
        "    def forward(self, g, feat_a, feat_b, deg, pm_pd):\n",
        "        # term \"prev\"\n",
        "        prev_proj = self.linear_prev(feat_a)\n",
        "        # term \"deg\"\n",
        "        deg_proj = self.linear_deg(deg * feat_a)\n",
        "\n",
        "        # term \"radius\"\n",
        "        # aggregate 2^j-hop features\n",
        "        hop2j_list = aggregate_radius(self.radius, g, feat_a)\n",
        "        # apply linear transformation\n",
        "        hop2j_list = [linear(x) for linear, x in zip(self.linear_radius, hop2j_list)]\n",
        "        radius_proj = sum(hop2j_list)\n",
        "\n",
        "        # term \"fuse\"\n",
        "        fuse = self.linear_fuse(th.mm(pm_pd, feat_b))\n",
        "\n",
        "        # sum them together\n",
        "        result = prev_proj + deg_proj + radius_proj + fuse\n",
        "\n",
        "        # skip connection and batch norm\n",
        "        n = self.out_feats // 2\n",
        "        result = th.cat([result[:, :n], F.relu(result[:, n:])], 1)\n",
        "        result = self.bn(result)\n",
        "\n",
        "        return result"
      ],
      "execution_count": 0,
      "outputs": []
    },
    {
      "cell_type": "code",
      "metadata": {
        "id": "h5SUYN0vX26r",
        "colab_type": "code",
        "colab": {}
      },
      "source": [
        "class LGNNLayer(nn.Module):\n",
        "    def __init__(self, in_feats, out_feats, radius):\n",
        "        super(LGNNLayer, self).__init__()\n",
        "        self.g_layer = LGNNCore(in_feats, out_feats, radius)\n",
        "        self.lg_layer = LGNNCore(in_feats, out_feats, radius)\n",
        "\n",
        "    def forward(self, g, lg, x, lg_x, deg_g, deg_lg, pm_pd):\n",
        "        next_x = self.g_layer(g, x, lg_x, deg_g, pm_pd)\n",
        "        pm_pd_y = th.transpose(pm_pd, 0, 1)\n",
        "        next_lg_x = self.lg_layer(lg, lg_x, x, deg_lg, pm_pd_y)\n",
        "        return next_x, next_lg_x"
      ],
      "execution_count": 0,
      "outputs": []
    },
    {
      "cell_type": "code",
      "metadata": {
        "id": "Gk5fnBokX6Jk",
        "colab_type": "code",
        "colab": {}
      },
      "source": [
        "class LGNN(nn.Module):\n",
        "    def __init__(self, radius):\n",
        "        super(LGNN, self).__init__()\n",
        "        self.layer1 = LGNNLayer(1, 16, radius)  # input is scalar feature\n",
        "        self.layer2 = LGNNLayer(16, 16, radius)  # hidden size is 16\n",
        "        self.layer3 = LGNNLayer(16, 16, radius)\n",
        "        self.linear = nn.Linear(16, 7)  # predice seven classes\n",
        "\n",
        "    def forward(self, g, lg, pm_pd):\n",
        "        # compute the degrees\n",
        "        deg_g = g.in_degrees().float().unsqueeze(1)\n",
        "        deg_lg = lg.in_degrees().float().unsqueeze(1)\n",
        "        # use degree as the input feature\n",
        "        x, lg_x = deg_g, deg_lg\n",
        "        x, lg_x = self.layer1(g, lg, x, lg_x, deg_g, deg_lg, pm_pd)\n",
        "        x, lg_x = self.layer2(g, lg, x, lg_x, deg_g, deg_lg, pm_pd)\n",
        "        x, lg_x = self.layer3(g, lg, x, lg_x, deg_g, deg_lg, pm_pd)\n",
        "        return self.linear(x)"
      ],
      "execution_count": 0,
      "outputs": []
    },
    {
      "cell_type": "code",
      "metadata": {
        "id": "OGsJEh8YkVCt",
        "colab_type": "code",
        "colab": {}
      },
      "source": [
        "from dgl.data import citation_graph as citegrh\n",
        "import dgl\n",
        "import dgl.function as fn\n",
        "import torch as th\n",
        "import torch.nn as nn\n",
        "import torch.nn.functional as F\n",
        "from dgl import DGLGraph\n",
        "import time\n",
        "import numpy as np\n",
        "import random as rng\n",
        "import scipy.sparse as ss"
      ],
      "execution_count": 0,
      "outputs": []
    },
    {
      "cell_type": "code",
      "metadata": {
        "id": "M8m9MIPXkKgL",
        "colab_type": "code",
        "outputId": "195fe504-61e6-4285-b37e-8a5106b513a1",
        "colab": {
          "base_uri": "https://localhost:8080/",
          "height": 36
        }
      },
      "source": [
        "#Loading CORA\n",
        "data = citegrh.load_cora()\n",
        "features = th.FloatTensor(data.features)\n",
        "labelsCORA = th.LongTensor(data.labels)\n",
        "mask = th.ByteTensor(data.train_mask)\n",
        "g = data.graph\n",
        "g2 = data.graph\n",
        "# removing doesnt work\n",
        "#g.remove_edges_from(g.selfloop_edges())\n",
        "g = DGLGraph(g)\n",
        "#g.add_edges(g.nodes(), g.nodes()) #What does this do?\n",
        "print('We have %d nodes. We have %d edges. Before DGL Graph adding edges: %d' % (g.number_of_nodes(),g.number_of_edges(),g2.number_of_edges()))"
      ],
      "execution_count": 0,
      "outputs": [
        {
          "output_type": "stream",
          "text": [
            "We have 2708 nodes. We have 10556 edges. Before DGL Graph adding edges: 10556\n"
          ],
          "name": "stdout"
        }
      ]
    },
    {
      "cell_type": "code",
      "metadata": {
        "id": "--HRmyAdyPk3",
        "colab_type": "code",
        "outputId": "caec1aba-f266-4c18-aa18-5dfdf4ace147",
        "colab": {
          "base_uri": "https://localhost:8080/",
          "height": 36
        }
      },
      "source": [
        "edges_per_node = {}\n",
        "for x in g2.adj.items():\n",
        "  z = [] \n",
        "  for i in x[1]:\n",
        "    z.append(i)\n",
        "  edges_per_node[x[0]] = z\n",
        "edges_per_node[0]\n",
        "len(edges_per_node)"
      ],
      "execution_count": 0,
      "outputs": [
        {
          "output_type": "execute_result",
          "data": {
            "text/plain": [
              "2708"
            ]
          },
          "metadata": {
            "tags": []
          },
          "execution_count": 11
        }
      ]
    },
    {
      "cell_type": "code",
      "metadata": {
        "id": "PrMUl8sDyyJV",
        "colab_type": "code",
        "outputId": "ce7d4b6b-dc6d-4867-e187-f49f1fe92481",
        "colab": {
          "base_uri": "https://localhost:8080/",
          "height": 54
        }
      },
      "source": [
        "from scipy.sparse import lil_matrix\n",
        "matrix_p2 = lil_matrix((g2.number_of_nodes(),g2.number_of_edges()))\n",
        "for i in range(len(edges_per_node)):\n",
        "  matrix_p2[i,edges_per_node[i]] = 1\n",
        "new_pdw = ss.coo_matrix(matrix_p2,dtype=\"int64\")\n",
        "new_pdw\n"
      ],
      "execution_count": 0,
      "outputs": [
        {
          "output_type": "execute_result",
          "data": {
            "text/plain": [
              "<2708x10556 sparse matrix of type '<class 'numpy.int64'>'\n",
              "\twith 10556 stored elements in COOrdinate format>"
            ]
          },
          "metadata": {
            "tags": []
          },
          "execution_count": 14
        }
      ]
    },
    {
      "cell_type": "code",
      "metadata": {
        "id": "tSMF1AB_kyMZ",
        "colab_type": "code",
        "outputId": "7c1bddb8-abbf-4071-9439-639bc7b57add",
        "colab": {
          "base_uri": "https://localhost:8080/",
          "height": 36
        }
      },
      "source": [
        "def get_label(x):\n",
        "  return(int(labelsCORA[x]))\n",
        "\n",
        "#Percentage of nodes known for training\n",
        "percentage_open_nodes = 0.1\n",
        "graph_node_size = int(g.number_of_nodes())\n",
        "open_nodes = rng.sample(range(0,graph_node_size),int(graph_node_size*percentage_open_nodes))\n",
        "open_nodes_labels = list(map(get_label,open_nodes))\n",
        "len(open_nodes)"
      ],
      "execution_count": 0,
      "outputs": [
        {
          "output_type": "execute_result",
          "data": {
            "text/plain": [
              "270"
            ]
          },
          "metadata": {
            "tags": []
          },
          "execution_count": 15
        }
      ]
    },
    {
      "cell_type": "code",
      "metadata": {
        "id": "umPkAI8HmhkH",
        "colab_type": "code",
        "colab": {}
      },
      "source": [
        "inputs = torch.eye(graph_node_size)\n",
        "labeled_nodes = torch.tensor(open_nodes)  #\n",
        "labels = torch.tensor(open_nodes_labels)  # "
      ],
      "execution_count": 0,
      "outputs": []
    },
    {
      "cell_type": "code",
      "metadata": {
        "id": "K-YAeCUSn0qn",
        "colab_type": "code",
        "colab": {}
      },
      "source": [
        "#inputs_pmpd = nx.to_scipy_sparse_matrix(g2,dtype=\"int64\",  format='coo')\n",
        "inputs_pmpd = new_pdw"
      ],
      "execution_count": 0,
      "outputs": []
    },
    {
      "cell_type": "code",
      "metadata": {
        "id": "g0K4m05-tVm1",
        "colab_type": "code",
        "outputId": "d75d6baa-66d8-45c6-cc44-501462a5f4e9",
        "colab": {
          "base_uri": "https://localhost:8080/",
          "height": 73
        }
      },
      "source": [
        "g"
      ],
      "execution_count": 0,
      "outputs": [
        {
          "output_type": "execute_result",
          "data": {
            "text/plain": [
              "DGLGraph(num_nodes=2708, num_edges=10556,\n",
              "         ndata_schemes={}\n",
              "         edata_schemes={})"
            ]
          },
          "metadata": {
            "tags": []
          },
          "execution_count": 18
        }
      ]
    },
    {
      "cell_type": "code",
      "metadata": {
        "id": "AcByTr9Y3ibi",
        "colab_type": "code",
        "colab": {}
      },
      "source": [
        "#Helper to print accuracy\n",
        "def output_accuracy2(i,logits0):\n",
        "  all_logits = logits0\n",
        "  labels_final = []\n",
        "\n",
        "  for v in range(graph_node_size):\n",
        "    calculated_label = all_logits[i][v].numpy().argmax()\n",
        "    labels_final.append(calculated_label)\n",
        "  n_correct = 0\n",
        "  n_correct_random = 0\n",
        "  for v in range(graph_node_size):\n",
        "    if (labels_final[v] == int(labelsCORA[v])):\n",
        "      n_correct +=1\n",
        "    if (int(rng.randrange(0,6)) == int(labelsCORA[v])):\n",
        "      n_correct_random +=1  \n",
        "  return(percentage_open_nodes,(n_correct/graph_node_size),(n_correct-len(open_nodes))/(graph_node_size-len(open_nodes)))"
      ],
      "execution_count": 0,
      "outputs": []
    },
    {
      "cell_type": "code",
      "metadata": {
        "id": "lL3JDs8GmG7t",
        "colab_type": "code",
        "outputId": "a09065cb-8a5e-44e4-f6cb-c8bc52792ebb",
        "colab": {
          "base_uri": "https://localhost:8080/",
          "height": 1000
        }
      },
      "source": [
        "# create the model\n",
        "model = LGNN(radius=3)\n",
        "# define the optimizer\n",
        "optimizer = th.optim.Adam(model.parameters(), lr=1e-2)\n",
        "\n",
        "# a util function to convert a scipy.coo_matrix to torch.SparseFloat\n",
        "def sparse2th(mat):\n",
        "    value = mat.data\n",
        "    indices = th.LongTensor([mat.row, mat.col])\n",
        "    tensor = th.sparse.FloatTensor(indices, th.from_numpy(value).float(), mat.shape)\n",
        "    return tensor\n",
        "\n",
        "all_logits = []\n",
        "\n",
        "# train for 50 epochs\n",
        "for epoch in range(100):\n",
        "\n",
        "    pmpd = sparse2th(inputs_pmpd)\n",
        "    lg = g.line_graph(backtracking=False)\n",
        "\n",
        "    logits = model(g, lg, pmpd)\n",
        "    # we save the logits for visualization later\n",
        "    all_logits.append(logits.detach())\n",
        "\n",
        "    logp = F.log_softmax(logits, 1)\n",
        "    loss = F.nll_loss(logp[labeled_nodes], labels)\n",
        "    val_loss = F.nll_loss(logp.detach(), labelsCORA)\n",
        "\n",
        "    optimizer.zero_grad()\n",
        "    loss.backward()\n",
        "    optimizer.step()\n",
        "    n_open_nodes, accuracy_total,  accuracy_excluding = output_accuracy2(epoch,all_logits)\n",
        "    \n",
        "    print('Epoch %d | Loss: %.4f | Total: %.4f | Accuracy: %.4f | Accuracy excluding open nodes: %.4f | Open nodes: %d'  % (epoch, loss.item(), val_loss.item(),accuracy_total, accuracy_excluding,n_open_nodes))"
      ],
      "execution_count": 0,
      "outputs": [
        {
          "output_type": "stream",
          "text": [
            "Epoch 0 | Loss: 1.9892 | Total: 2.0069 | Accuracy: 0.1540 | Accuracy excluding open nodes: 0.0603 | Open nodes: 0\n",
            "Epoch 1 | Loss: 1.9219 | Total: 1.9453 | Accuracy: 0.1592 | Accuracy excluding open nodes: 0.0660 | Open nodes: 0\n",
            "Epoch 2 | Loss: 1.8484 | Total: 1.8737 | Accuracy: 0.2585 | Accuracy excluding open nodes: 0.1764 | Open nodes: 0\n",
            "Epoch 3 | Loss: 1.7489 | Total: 1.7725 | Accuracy: 0.3283 | Accuracy excluding open nodes: 0.2539 | Open nodes: 0\n",
            "Epoch 4 | Loss: 1.7265 | Total: 1.7530 | Accuracy: 0.3039 | Accuracy excluding open nodes: 0.2268 | Open nodes: 0\n",
            "Epoch 5 | Loss: 1.6909 | Total: 1.7279 | Accuracy: 0.3353 | Accuracy excluding open nodes: 0.2617 | Open nodes: 0\n",
            "Epoch 6 | Loss: 1.6665 | Total: 1.7025 | Accuracy: 0.3486 | Accuracy excluding open nodes: 0.2765 | Open nodes: 0\n",
            "Epoch 7 | Loss: 1.6450 | Total: 1.6849 | Accuracy: 0.3744 | Accuracy excluding open nodes: 0.3052 | Open nodes: 0\n",
            "Epoch 8 | Loss: 1.6231 | Total: 1.6656 | Accuracy: 0.4066 | Accuracy excluding open nodes: 0.3409 | Open nodes: 0\n",
            "Epoch 9 | Loss: 1.5989 | Total: 1.6457 | Accuracy: 0.4849 | Accuracy excluding open nodes: 0.4278 | Open nodes: 0\n",
            "Epoch 10 | Loss: 1.5907 | Total: 1.6354 | Accuracy: 0.4738 | Accuracy excluding open nodes: 0.4155 | Open nodes: 0\n",
            "Epoch 11 | Loss: 1.5729 | Total: 1.6233 | Accuracy: 0.4631 | Accuracy excluding open nodes: 0.4036 | Open nodes: 0\n",
            "Epoch 12 | Loss: 1.5643 | Total: 1.6214 | Accuracy: 0.4679 | Accuracy excluding open nodes: 0.4089 | Open nodes: 0\n",
            "Epoch 13 | Loss: 1.5512 | Total: 1.6136 | Accuracy: 0.4664 | Accuracy excluding open nodes: 0.4073 | Open nodes: 0\n",
            "Epoch 14 | Loss: 1.5380 | Total: 1.6050 | Accuracy: 0.4701 | Accuracy excluding open nodes: 0.4114 | Open nodes: 0\n",
            "Epoch 15 | Loss: 1.5192 | Total: 1.5926 | Accuracy: 0.4694 | Accuracy excluding open nodes: 0.4106 | Open nodes: 0\n",
            "Epoch 16 | Loss: 1.5008 | Total: 1.5863 | Accuracy: 0.4716 | Accuracy excluding open nodes: 0.4130 | Open nodes: 0\n",
            "Epoch 17 | Loss: 1.4942 | Total: 1.5810 | Accuracy: 0.4671 | Accuracy excluding open nodes: 0.4081 | Open nodes: 0\n",
            "Epoch 18 | Loss: 1.4833 | Total: 1.5737 | Accuracy: 0.4697 | Accuracy excluding open nodes: 0.4110 | Open nodes: 0\n",
            "Epoch 19 | Loss: 1.4712 | Total: 1.5674 | Accuracy: 0.4682 | Accuracy excluding open nodes: 0.4094 | Open nodes: 0\n",
            "Epoch 20 | Loss: 1.4636 | Total: 1.5643 | Accuracy: 0.4627 | Accuracy excluding open nodes: 0.4032 | Open nodes: 0\n",
            "Epoch 21 | Loss: 1.4504 | Total: 1.5560 | Accuracy: 0.4686 | Accuracy excluding open nodes: 0.4098 | Open nodes: 0\n",
            "Epoch 22 | Loss: 1.4452 | Total: 1.5640 | Accuracy: 0.4738 | Accuracy excluding open nodes: 0.4155 | Open nodes: 0\n",
            "Epoch 23 | Loss: 1.4380 | Total: 1.5424 | Accuracy: 0.4694 | Accuracy excluding open nodes: 0.4106 | Open nodes: 0\n",
            "Epoch 24 | Loss: 1.4252 | Total: 1.5466 | Accuracy: 0.4730 | Accuracy excluding open nodes: 0.4147 | Open nodes: 0\n",
            "Epoch 25 | Loss: 1.4153 | Total: 1.5461 | Accuracy: 0.4671 | Accuracy excluding open nodes: 0.4081 | Open nodes: 0\n",
            "Epoch 26 | Loss: 1.3998 | Total: 1.5415 | Accuracy: 0.4675 | Accuracy excluding open nodes: 0.4085 | Open nodes: 0\n",
            "Epoch 27 | Loss: 1.3848 | Total: 1.5384 | Accuracy: 0.4712 | Accuracy excluding open nodes: 0.4126 | Open nodes: 0\n",
            "Epoch 28 | Loss: 1.3851 | Total: 1.5299 | Accuracy: 0.4675 | Accuracy excluding open nodes: 0.4085 | Open nodes: 0\n",
            "Epoch 29 | Loss: 1.3823 | Total: 1.5195 | Accuracy: 0.4649 | Accuracy excluding open nodes: 0.4057 | Open nodes: 0\n",
            "Epoch 30 | Loss: 1.3731 | Total: 1.5011 | Accuracy: 0.4742 | Accuracy excluding open nodes: 0.4159 | Open nodes: 0\n",
            "Epoch 31 | Loss: 1.3610 | Total: 1.4866 | Accuracy: 0.4771 | Accuracy excluding open nodes: 0.4192 | Open nodes: 0\n",
            "Epoch 32 | Loss: 1.3488 | Total: 1.4881 | Accuracy: 0.4826 | Accuracy excluding open nodes: 0.4253 | Open nodes: 0\n",
            "Epoch 33 | Loss: 1.4237 | Total: 1.5548 | Accuracy: 0.4280 | Accuracy excluding open nodes: 0.3646 | Open nodes: 0\n",
            "Epoch 34 | Loss: 1.3313 | Total: 1.5288 | Accuracy: 0.4679 | Accuracy excluding open nodes: 0.4089 | Open nodes: 0\n",
            "Epoch 35 | Loss: 1.3403 | Total: 1.5345 | Accuracy: 0.4657 | Accuracy excluding open nodes: 0.4065 | Open nodes: 0\n",
            "Epoch 36 | Loss: 1.3322 | Total: 1.5355 | Accuracy: 0.4686 | Accuracy excluding open nodes: 0.4098 | Open nodes: 0\n",
            "Epoch 37 | Loss: 1.3192 | Total: 1.5068 | Accuracy: 0.4808 | Accuracy excluding open nodes: 0.4233 | Open nodes: 0\n",
            "Epoch 38 | Loss: 1.3121 | Total: 1.5367 | Accuracy: 0.4841 | Accuracy excluding open nodes: 0.4270 | Open nodes: 0\n",
            "Epoch 39 | Loss: 1.3044 | Total: 1.5341 | Accuracy: 0.4849 | Accuracy excluding open nodes: 0.4278 | Open nodes: 0\n",
            "Epoch 40 | Loss: 1.3165 | Total: 1.4845 | Accuracy: 0.4915 | Accuracy excluding open nodes: 0.4352 | Open nodes: 0\n",
            "Epoch 41 | Loss: 1.3250 | Total: 1.5604 | Accuracy: 0.4642 | Accuracy excluding open nodes: 0.4048 | Open nodes: 0\n",
            "Epoch 42 | Loss: 1.2835 | Total: 1.5297 | Accuracy: 0.4771 | Accuracy excluding open nodes: 0.4192 | Open nodes: 0\n",
            "Epoch 43 | Loss: 1.3297 | Total: 1.4744 | Accuracy: 0.4819 | Accuracy excluding open nodes: 0.4245 | Open nodes: 0\n",
            "Epoch 44 | Loss: 1.2931 | Total: 1.4473 | Accuracy: 0.5089 | Accuracy excluding open nodes: 0.4545 | Open nodes: 0\n",
            "Epoch 45 | Loss: 1.2845 | Total: 1.4419 | Accuracy: 0.5089 | Accuracy excluding open nodes: 0.4545 | Open nodes: 0\n",
            "Epoch 46 | Loss: 1.2783 | Total: 1.4606 | Accuracy: 0.5177 | Accuracy excluding open nodes: 0.4643 | Open nodes: 0\n",
            "Epoch 47 | Loss: 1.2621 | Total: 1.5137 | Accuracy: 0.5103 | Accuracy excluding open nodes: 0.4561 | Open nodes: 0\n",
            "Epoch 48 | Loss: 1.2613 | Total: 1.5216 | Accuracy: 0.4882 | Accuracy excluding open nodes: 0.4315 | Open nodes: 0\n",
            "Epoch 49 | Loss: 1.2522 | Total: 1.5180 | Accuracy: 0.5007 | Accuracy excluding open nodes: 0.4454 | Open nodes: 0\n",
            "Epoch 50 | Loss: 1.2592 | Total: 1.5214 | Accuracy: 0.5044 | Accuracy excluding open nodes: 0.4495 | Open nodes: 0\n",
            "Epoch 51 | Loss: 1.2429 | Total: 1.5198 | Accuracy: 0.5100 | Accuracy excluding open nodes: 0.4557 | Open nodes: 0\n",
            "Epoch 52 | Loss: 1.2733 | Total: 1.5413 | Accuracy: 0.4908 | Accuracy excluding open nodes: 0.4344 | Open nodes: 0\n",
            "Epoch 53 | Loss: 1.2390 | Total: 1.5119 | Accuracy: 0.5292 | Accuracy excluding open nodes: 0.4770 | Open nodes: 0\n",
            "Epoch 54 | Loss: 1.2385 | Total: 1.4800 | Accuracy: 0.5295 | Accuracy excluding open nodes: 0.4774 | Open nodes: 0\n",
            "Epoch 55 | Loss: 1.2305 | Total: 1.5245 | Accuracy: 0.5270 | Accuracy excluding open nodes: 0.4746 | Open nodes: 0\n",
            "Epoch 56 | Loss: 1.2155 | Total: 1.5194 | Accuracy: 0.5273 | Accuracy excluding open nodes: 0.4750 | Open nodes: 0\n",
            "Epoch 57 | Loss: 1.2023 | Total: 1.5058 | Accuracy: 0.5425 | Accuracy excluding open nodes: 0.4918 | Open nodes: 0\n",
            "Epoch 58 | Loss: 1.1918 | Total: 1.5346 | Accuracy: 0.5377 | Accuracy excluding open nodes: 0.4865 | Open nodes: 0\n",
            "Epoch 59 | Loss: 1.2080 | Total: 1.5551 | Accuracy: 0.5284 | Accuracy excluding open nodes: 0.4762 | Open nodes: 0\n",
            "Epoch 60 | Loss: 1.1777 | Total: 1.5247 | Accuracy: 0.5314 | Accuracy excluding open nodes: 0.4795 | Open nodes: 0\n",
            "Epoch 61 | Loss: 1.1626 | Total: 1.4999 | Accuracy: 0.5318 | Accuracy excluding open nodes: 0.4799 | Open nodes: 0\n",
            "Epoch 62 | Loss: 1.1636 | Total: 1.5005 | Accuracy: 0.5343 | Accuracy excluding open nodes: 0.4828 | Open nodes: 0\n",
            "Epoch 63 | Loss: 1.1594 | Total: 1.4984 | Accuracy: 0.5292 | Accuracy excluding open nodes: 0.4770 | Open nodes: 0\n",
            "Epoch 64 | Loss: 1.1551 | Total: 1.5166 | Accuracy: 0.5351 | Accuracy excluding open nodes: 0.4836 | Open nodes: 0\n",
            "Epoch 65 | Loss: 1.1491 | Total: 1.5412 | Accuracy: 0.5347 | Accuracy excluding open nodes: 0.4832 | Open nodes: 0\n",
            "Epoch 66 | Loss: 1.1429 | Total: 1.5513 | Accuracy: 0.5240 | Accuracy excluding open nodes: 0.4713 | Open nodes: 0\n",
            "Epoch 67 | Loss: 1.1410 | Total: 1.5526 | Accuracy: 0.5177 | Accuracy excluding open nodes: 0.4643 | Open nodes: 0\n",
            "Epoch 68 | Loss: 1.1374 | Total: 1.5530 | Accuracy: 0.5174 | Accuracy excluding open nodes: 0.4639 | Open nodes: 0\n",
            "Epoch 69 | Loss: 1.1335 | Total: 1.5522 | Accuracy: 0.5166 | Accuracy excluding open nodes: 0.4631 | Open nodes: 0\n",
            "Epoch 70 | Loss: 1.1229 | Total: 1.5489 | Accuracy: 0.5144 | Accuracy excluding open nodes: 0.4606 | Open nodes: 0\n",
            "Epoch 71 | Loss: 1.1156 | Total: 1.5516 | Accuracy: 0.5262 | Accuracy excluding open nodes: 0.4737 | Open nodes: 0\n",
            "Epoch 72 | Loss: 1.1144 | Total: 1.5598 | Accuracy: 0.5236 | Accuracy excluding open nodes: 0.4709 | Open nodes: 0\n",
            "Epoch 73 | Loss: 1.1083 | Total: 1.5696 | Accuracy: 0.5222 | Accuracy excluding open nodes: 0.4692 | Open nodes: 0\n",
            "Epoch 74 | Loss: 1.1006 | Total: 1.5798 | Accuracy: 0.5214 | Accuracy excluding open nodes: 0.4684 | Open nodes: 0\n",
            "Epoch 75 | Loss: 1.0915 | Total: 1.5728 | Accuracy: 0.5192 | Accuracy excluding open nodes: 0.4660 | Open nodes: 0\n",
            "Epoch 76 | Loss: 1.0916 | Total: 1.5718 | Accuracy: 0.5207 | Accuracy excluding open nodes: 0.4676 | Open nodes: 0\n",
            "Epoch 77 | Loss: 1.0949 | Total: 1.5850 | Accuracy: 0.5185 | Accuracy excluding open nodes: 0.4651 | Open nodes: 0\n",
            "Epoch 78 | Loss: 1.0895 | Total: 1.5417 | Accuracy: 0.5166 | Accuracy excluding open nodes: 0.4631 | Open nodes: 0\n",
            "Epoch 79 | Loss: 1.1065 | Total: 1.5462 | Accuracy: 0.5066 | Accuracy excluding open nodes: 0.4520 | Open nodes: 0\n",
            "Epoch 80 | Loss: 1.0943 | Total: 1.5474 | Accuracy: 0.5044 | Accuracy excluding open nodes: 0.4495 | Open nodes: 0\n",
            "Epoch 81 | Loss: 1.1099 | Total: 1.5525 | Accuracy: 0.5044 | Accuracy excluding open nodes: 0.4495 | Open nodes: 0\n",
            "Epoch 82 | Loss: 1.1040 | Total: 1.5639 | Accuracy: 0.5063 | Accuracy excluding open nodes: 0.4516 | Open nodes: 0\n",
            "Epoch 83 | Loss: 1.0838 | Total: 1.5683 | Accuracy: 0.5111 | Accuracy excluding open nodes: 0.4569 | Open nodes: 0\n",
            "Epoch 84 | Loss: 1.0863 | Total: 1.6078 | Accuracy: 0.5048 | Accuracy excluding open nodes: 0.4500 | Open nodes: 0\n",
            "Epoch 85 | Loss: 1.0780 | Total: 1.5875 | Accuracy: 0.5081 | Accuracy excluding open nodes: 0.4537 | Open nodes: 0\n",
            "Epoch 86 | Loss: 1.0834 | Total: 1.5911 | Accuracy: 0.5107 | Accuracy excluding open nodes: 0.4565 | Open nodes: 0\n",
            "Epoch 87 | Loss: 1.0730 | Total: 1.5824 | Accuracy: 0.5133 | Accuracy excluding open nodes: 0.4594 | Open nodes: 0\n",
            "Epoch 88 | Loss: 1.0666 | Total: 1.5682 | Accuracy: 0.5284 | Accuracy excluding open nodes: 0.4762 | Open nodes: 0\n",
            "Epoch 89 | Loss: 1.0684 | Total: 1.5678 | Accuracy: 0.5236 | Accuracy excluding open nodes: 0.4709 | Open nodes: 0\n",
            "Epoch 90 | Loss: 1.0518 | Total: 1.5707 | Accuracy: 0.5266 | Accuracy excluding open nodes: 0.4742 | Open nodes: 0\n",
            "Epoch 91 | Loss: 1.0444 | Total: 1.5980 | Accuracy: 0.5266 | Accuracy excluding open nodes: 0.4742 | Open nodes: 0\n",
            "Epoch 92 | Loss: 1.0445 | Total: 1.6376 | Accuracy: 0.5207 | Accuracy excluding open nodes: 0.4676 | Open nodes: 0\n",
            "Epoch 93 | Loss: 1.0519 | Total: 1.6096 | Accuracy: 0.5122 | Accuracy excluding open nodes: 0.4582 | Open nodes: 0\n",
            "Epoch 94 | Loss: 1.0623 | Total: 1.5490 | Accuracy: 0.5388 | Accuracy excluding open nodes: 0.4877 | Open nodes: 0\n",
            "Epoch 95 | Loss: 1.0703 | Total: 1.5324 | Accuracy: 0.5358 | Accuracy excluding open nodes: 0.4844 | Open nodes: 0\n",
            "Epoch 96 | Loss: 1.0645 | Total: 1.5281 | Accuracy: 0.5277 | Accuracy excluding open nodes: 0.4754 | Open nodes: 0\n",
            "Epoch 97 | Loss: 1.0445 | Total: 1.5327 | Accuracy: 0.5188 | Accuracy excluding open nodes: 0.4655 | Open nodes: 0\n",
            "Epoch 98 | Loss: 1.0791 | Total: 1.5831 | Accuracy: 0.4993 | Accuracy excluding open nodes: 0.4438 | Open nodes: 0\n",
            "Epoch 99 | Loss: 1.0401 | Total: 1.5558 | Accuracy: 0.5255 | Accuracy excluding open nodes: 0.4729 | Open nodes: 0\n"
          ],
          "name": "stdout"
        }
      ]
    }
  ]
}