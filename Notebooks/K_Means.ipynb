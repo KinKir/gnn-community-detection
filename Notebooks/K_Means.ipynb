{
  "nbformat": 4,
  "nbformat_minor": 0,
  "metadata": {
    "kernelspec": {
      "name": "python3",
      "display_name": "Python 3"
    },
    "language_info": {
      "codemirror_mode": {
        "name": "ipython",
        "version": 3
      },
      "file_extension": ".py",
      "mimetype": "text/x-python",
      "name": "python",
      "nbconvert_exporter": "python",
      "pygments_lexer": "ipython3",
      "version": "3.6.6"
    },
    "colab": {
      "name": "K Means.ipynb",
      "provenance": [],
      "collapsed_sections": [
        "aC7suSihFigY",
        "PoEuu1sgmr9s"
      ],
      "toc_visible": true
    },
    "accelerator": "TPU"
  },
  "cells": [
    {
      "cell_type": "markdown",
      "metadata": {
        "id": "no9TAMpEN1cu",
        "colab_type": "text"
      },
      "source": [
        "K means\n"
      ]
    },
    {
      "cell_type": "code",
      "metadata": {
        "id": "lSb3hGIVOAdR",
        "colab_type": "code",
        "colab": {}
      },
      "source": [
        "!pip install dgl\n"
      ],
      "execution_count": 0,
      "outputs": []
    },
    {
      "cell_type": "code",
      "metadata": {
        "id": "_esPZnCgFn-a",
        "colab_type": "code",
        "colab": {}
      },
      "source": [
        "# load tqdm\n",
        "!pip install --force https://github.com/chengs/tqdm/archive/colab.zip\n",
        "from tqdm import tqdm_notebook as tqdm"
      ],
      "execution_count": 0,
      "outputs": []
    },
    {
      "cell_type": "code",
      "metadata": {
        "id": "Gc82xetLPR1s",
        "colab_type": "code",
        "colab": {}
      },
      "source": [
        "from dgl import DGLGraph\n",
        "from dgl.data import citation_graph as citegrh\n",
        "import math\n",
        "import dgl\n",
        "from collections import Counter"
      ],
      "execution_count": 0,
      "outputs": []
    },
    {
      "cell_type": "markdown",
      "metadata": {
        "id": "MwcezvcXdgOl",
        "colab_type": "text"
      },
      "source": [
        "#Test with small size: Karata Dataset"
      ]
    },
    {
      "cell_type": "code",
      "metadata": {
        "id": "PzSD1EWvT3-U",
        "colab_type": "code",
        "colab": {}
      },
      "source": [
        "def build_karate_club_graph():\n",
        "    g = dgl.DGLGraph()\n",
        "    # add 34 nodes into the graph; nodes are labeled from 0~33\n",
        "    g.add_nodes(34)\n",
        "    # all 78 edges as a list of tuples\n",
        "    edge_list = [(1, 0), (2, 0), (2, 1), (3, 0), (3, 1), (3, 2),\n",
        "        (4, 0), (5, 0), (6, 0), (6, 4), (6, 5), (7, 0), (7, 1),\n",
        "        (7, 2), (7, 3), (8, 0), (8, 2), (9, 2), (10, 0), (10, 4),\n",
        "        (10, 5), (11, 0), (12, 0), (12, 3), (13, 0), (13, 1), (13, 2),\n",
        "        (13, 3), (16, 5), (16, 6), (17, 0), (17, 1), (19, 0), (19, 1),\n",
        "        (21, 0), (21, 1), (25, 23), (25, 24), (27, 2), (27, 23),\n",
        "        (27, 24), (28, 2), (29, 23), (29, 26), (30, 1), (30, 8),\n",
        "        (31, 0), (31, 24), (31, 25), (31, 28), (32, 2), (32, 8),\n",
        "        (32, 14), (32, 15), (32, 18), (32, 20), (32, 22), (32, 23),\n",
        "        (32, 29), (32, 30), (32, 31), (33, 8), (33, 9), (33, 13),\n",
        "        (33, 14), (33, 15), (33, 18), (33, 19), (33, 20), (33, 22),\n",
        "        (33, 23), (33, 26), (33, 27), (33, 28), (33, 29), (33, 30),\n",
        "        (33, 31), (33, 32)]\n",
        "    # add edges two lists of nodes: src and dst\n",
        "    src, dst = tuple(zip(*edge_list))\n",
        "    g.add_edges(src, dst)\n",
        "    # edges are directional in DGL; make them bi-directional\n",
        "    g.add_edges(dst, src)\n",
        "\n",
        "    return g"
      ],
      "execution_count": 0,
      "outputs": []
    },
    {
      "cell_type": "code",
      "metadata": {
        "id": "yyPJSE9oBsDV",
        "colab_type": "code",
        "colab": {}
      },
      "source": [
        "G = build_karate_club_graph()"
      ],
      "execution_count": 0,
      "outputs": []
    },
    {
      "cell_type": "code",
      "metadata": {
        "id": "XvBMKPDussoP",
        "colab_type": "code",
        "colab": {
          "base_uri": "https://localhost:8080/",
          "height": 35
        },
        "outputId": "6b85b69f-0470-4ed1-88ac-79f1ad72773c"
      },
      "source": [
        "G.number_of_nodes()"
      ],
      "execution_count": 6,
      "outputs": [
        {
          "output_type": "execute_result",
          "data": {
            "text/plain": [
              "34"
            ]
          },
          "metadata": {
            "tags": []
          },
          "execution_count": 6
        }
      ]
    },
    {
      "cell_type": "code",
      "metadata": {
        "id": "ya-nGoHrEFyz",
        "colab_type": "code",
        "colab": {}
      },
      "source": [
        "import numpy\n",
        "matrix_all = numpy.empty((G.number_of_nodes(), G.number_of_nodes()))  "
      ],
      "execution_count": 0,
      "outputs": []
    },
    {
      "cell_type": "code",
      "metadata": {
        "id": "fIhd6tLGEBtX",
        "colab_type": "code",
        "colab": {
          "base_uri": "https://localhost:8080/",
          "height": 74
        },
        "outputId": "e75b5dc5-1a89-4f9e-a2fa-80641460bf71"
      },
      "source": [
        "matrix = G.adjacency_matrix()"
      ],
      "execution_count": 8,
      "outputs": [
        {
          "output_type": "stream",
          "text": [
            "/usr/local/lib/python3.6/dist-packages/dgl/base.py:25: UserWarning: Currently adjacency_matrix() returns a matrix with destination as rows by default.  In 0.5 the result will have source as rows (i.e. transpose=True)\n",
            "  warnings.warn(msg, warn_type)\n"
          ],
          "name": "stderr"
        }
      ]
    },
    {
      "cell_type": "code",
      "metadata": {
        "id": "vCeuGig5E93l",
        "colab_type": "code",
        "colab": {}
      },
      "source": [
        "matrix = matrix.to_dense()"
      ],
      "execution_count": 0,
      "outputs": []
    },
    {
      "cell_type": "code",
      "metadata": {
        "id": "SpHRyAAoD8V1",
        "colab_type": "code",
        "colab": {
          "base_uri": "https://localhost:8080/",
          "height": 55
        },
        "outputId": "faa342f8-96de-4db2-b417-80cbc0cf4e10"
      },
      "source": [
        "n_nodes = G.number_of_nodes()\n",
        "for i in tqdm(range(n_nodes)):\n",
        "    for j in range(n_nodes):\n",
        "        x = 0\n",
        "        for n in range(n_nodes):          \n",
        "            x += int((matrix[i][n]-matrix[j][n]))**2\n",
        "            \n",
        "        matrix_all[i][j] = math.sqrt(x)    \n",
        "        #print (math.sqrt(x))"
      ],
      "execution_count": 16,
      "outputs": [
        {
          "output_type": "display_data",
          "data": {
            "text/html": [
              "<div style=\"display:flex;flex-direction:row;\"><span></span><progress style='margin:2px 4px;' max='34' value='34'></progress>100% 34/34 [00:00&lt;00:00, 61.38it/s]</div>"
            ],
            "text/plain": [
              "<tqdm._fake_ipywidgets.HBox object>"
            ]
          },
          "metadata": {
            "tags": []
          }
        },
        {
          "output_type": "stream",
          "text": [
            "\n"
          ],
          "name": "stdout"
        }
      ]
    },
    {
      "cell_type": "markdown",
      "metadata": {
        "id": "iKJzFhrwdyZF",
        "colab_type": "text"
      },
      "source": [
        "# Cora"
      ]
    },
    {
      "cell_type": "code",
      "metadata": {
        "id": "rqDrCuLt7C3a",
        "colab_type": "code",
        "colab": {}
      },
      "source": [
        "from dgl import DGLGraph\n",
        "from dgl.data import CoraFull"
      ],
      "execution_count": 0,
      "outputs": []
    },
    {
      "cell_type": "code",
      "metadata": {
        "id": "9HZbtbCZ7AHL",
        "colab_type": "code",
        "colab": {
          "base_uri": "https://localhost:8080/",
          "height": 54
        },
        "outputId": "0bb05d36-cbce-45a3-d0f5-bebc61f8d68c"
      },
      "source": [
        "data = citegrh.load_cora()\n",
        "G = DGLGraph( data.graph)"
      ],
      "execution_count": 18,
      "outputs": [
        {
          "output_type": "stream",
          "text": [
            "Downloading /root/.dgl/cora.zip from https://s3.us-east-2.amazonaws.com/dgl.ai/dataset/cora_raw.zip...\n",
            "Extracting file to /root/.dgl/cora\n"
          ],
          "name": "stdout"
        }
      ]
    },
    {
      "cell_type": "code",
      "metadata": {
        "id": "jC3sXf_b7XXt",
        "colab_type": "code",
        "colab": {
          "base_uri": "https://localhost:8080/",
          "height": 72
        },
        "outputId": "e5fc0542-d11d-4296-acef-256ecd20c472"
      },
      "source": [
        "G"
      ],
      "execution_count": 19,
      "outputs": [
        {
          "output_type": "execute_result",
          "data": {
            "text/plain": [
              "DGLGraph(num_nodes=2708, num_edges=10556,\n",
              "         ndata_schemes={}\n",
              "         edata_schemes={})"
            ]
          },
          "metadata": {
            "tags": []
          },
          "execution_count": 19
        }
      ]
    },
    {
      "cell_type": "code",
      "metadata": {
        "id": "JKvPPuXuu7TL",
        "colab_type": "code",
        "colab": {}
      },
      "source": [
        "import numpy\n",
        "matrix_all = numpy.empty((G.number_of_nodes(), G.number_of_nodes()))  "
      ],
      "execution_count": 0,
      "outputs": []
    },
    {
      "cell_type": "code",
      "metadata": {
        "id": "SB0gINNp5mP0",
        "colab_type": "code",
        "colab": {
          "base_uri": "https://localhost:8080/",
          "height": 74
        },
        "outputId": "4434d7df-3d48-4743-fd1b-06854fa160c4"
      },
      "source": [
        "matrix = G.adjacency_matrix()"
      ],
      "execution_count": 21,
      "outputs": [
        {
          "output_type": "stream",
          "text": [
            "/usr/local/lib/python3.6/dist-packages/dgl/base.py:25: UserWarning: Currently adjacency_matrix() returns a matrix with destination as rows by default.  In 0.5 the result will have source as rows (i.e. transpose=True)\n",
            "  warnings.warn(msg, warn_type)\n"
          ],
          "name": "stderr"
        }
      ]
    },
    {
      "cell_type": "code",
      "metadata": {
        "id": "PctIVNnvNHqJ",
        "colab_type": "code",
        "colab": {
          "base_uri": "https://localhost:8080/",
          "height": 37
        },
        "outputId": "29c7f5a3-60a3-400f-d570-aea596861af5"
      },
      "source": [
        "#Distance measure Burt, 1976 in 04_2010\n",
        "n_nodes = G.number_of_nodes()\n",
        "for i in tqdm(range(n_nodes)):\n",
        "    for j in range(n_nodes):\n",
        "        x = math.sqrt(sum(abs((matrix[i]-matrix[j]).coalesce().values().numpy())))\n",
        "        matrix_all[i][j] = x    \n",
        "        #print (math.sqrt(x))"
      ],
      "execution_count": 95,
      "outputs": [
        {
          "output_type": "display_data",
          "data": {
            "text/html": [
              "<div style=\"display:flex;flex-direction:row;\"><span></span><progress style='margin:2px 4px;' max='2708' value='2708'></progress>100% 2708/2708 [26:27&lt;00:00,  1.70it/s]</div>"
            ],
            "text/plain": [
              "<tqdm._fake_ipywidgets.HBox object>"
            ]
          },
          "metadata": {
            "tags": []
          }
        }
      ]
    },
    {
      "cell_type": "code",
      "metadata": {
        "id": "huYLZtdYHXId",
        "colab_type": "code",
        "colab": {}
      },
      "source": [
        "import pickle\n",
        "#output = open('data/k-means_distance_matrix.pkl', 'wb')\n",
        "#pickle.dump(matrix_all,output)"
      ],
      "execution_count": 0,
      "outputs": []
    },
    {
      "cell_type": "code",
      "metadata": {
        "id": "ETppBL6bQ77h",
        "colab_type": "code",
        "colab": {}
      },
      "source": [
        "from google.colab import files\n",
        "files.download('data/k-means_distance_matrix.pkl')"
      ],
      "execution_count": 0,
      "outputs": []
    },
    {
      "cell_type": "code",
      "metadata": {
        "id": "My5oiO3xR8G9",
        "colab_type": "code",
        "colab": {}
      },
      "source": [
        "from sklearn.cluster import KMeans\n",
        "import numpy as np\n",
        "X = matrix_all\n",
        "kmeans = KMeans(n_clusters=7).fit(X)\n",
        "#kmeans.labels_\n",
        "#kmeans.cluster_centers_"
      ],
      "execution_count": 0,
      "outputs": []
    },
    {
      "cell_type": "code",
      "metadata": {
        "id": "oAa1-hPeWCKN",
        "colab_type": "code",
        "outputId": "601a854d-846a-4d29-f8f5-e9510cfd0091",
        "colab": {
          "base_uri": "https://localhost:8080/",
          "height": 265
        }
      },
      "source": [
        "#Distribution of lables\n",
        "import matplotlib.pyplot as plt\n",
        "import numpy as np\n",
        "plt.style.use('ggplot')\n",
        "%matplotlib inline\n",
        "x = kmeans.labels_\n",
        "plt.hist(x)\n",
        "plt.ylabel('Amount');"
      ],
      "execution_count": 113,
      "outputs": [
        {
          "output_type": "display_data",
          "data": {
            "image/png": "[encoded data removed]",
            "text/plain": [
              "<Figure size 432x288 with 1 Axes>"
            ]
          },
          "metadata": {
            "tags": []
          }
        }
      ]
    },
    {
      "cell_type": "code",
      "metadata": {
        "id": "DNWuOLQnWmMH",
        "colab_type": "code",
        "colab": {
          "base_uri": "https://localhost:8080/",
          "height": 54
        },
        "outputId": "7106947c-0d6c-4eb6-fe0b-906d9dee5e10"
      },
      "source": [
        "print(Counter(x).keys()) \n",
        "print(Counter(x).values())"
      ],
      "execution_count": 114,
      "outputs": [
        {
          "output_type": "stream",
          "text": [
            "dict_keys([2, 4, 0, 1, 5, 6, 3])\n",
            "dict_values([801, 485, 1136, 62, 204, 16, 4])\n"
          ],
          "name": "stdout"
        }
      ]
    },
    {
      "cell_type": "code",
      "metadata": {
        "id": "-Fedj8yiZJ-7",
        "colab_type": "code",
        "outputId": "972749fe-46f6-4a2c-b9da-cb0101410765",
        "colab": {
          "base_uri": "https://localhost:8080/",
          "height": 283
        }
      },
      "source": [
        "#How the real labels are distributed\n",
        "x = data.labels\n",
        "plt.style.use('ggplot')\n",
        "plt.hist(x)\n",
        "plt.ylabel('Amount')"
      ],
      "execution_count": 115,
      "outputs": [
        {
          "output_type": "execute_result",
          "data": {
            "text/plain": [
              "Text(0, 0.5, 'Amount')"
            ]
          },
          "metadata": {
            "tags": []
          },
          "execution_count": 115
        },
        {
          "output_type": "display_data",
          "data": {
            "image/png": "[encoded data removed]",
            "text/plain": [
              "<Figure size 432x288 with 1 Axes>"
            ]
          },
          "metadata": {
            "tags": []
          }
        }
      ]
    },
    {
      "cell_type": "code",
      "metadata": {
        "id": "5i5wg32JIJRS",
        "colab_type": "code",
        "colab": {
          "base_uri": "https://localhost:8080/",
          "height": 54
        },
        "outputId": "26bd5e91-6266-4b4a-9b11-82b7556dfc5b"
      },
      "source": [
        "print(Counter(x).keys()) \n",
        "print(Counter(x).values())"
      ],
      "execution_count": 116,
      "outputs": [
        {
          "output_type": "stream",
          "text": [
            "dict_keys([2, 5, 4, 3, 6, 1, 0])\n",
            "dict_values([818, 180, 217, 426, 351, 418, 298])\n"
          ],
          "name": "stdout"
        }
      ]
    },
    {
      "cell_type": "code",
      "metadata": {
        "id": "AmB1ieETZPq5",
        "colab_type": "code",
        "colab": {}
      },
      "source": [
        "# Imports\n",
        "import numpy as np\n",
        "from scipy import sparse as sp\n",
        "from math import log\n",
        "import pandas as pd\n",
        "from sklearn import metrics as skmetrics\n",
        "\n",
        "import torch as th\n",
        "import torch.nn.functional as F\n",
        "\n",
        "import itertools"
      ],
      "execution_count": 0,
      "outputs": []
    },
    {
      "cell_type": "code",
      "metadata": {
        "id": "GdArPcmNVcJw",
        "colab_type": "code",
        "colab": {}
      },
      "source": [
        "def rand_score(labels, preds):\n",
        "    return skmetrics.adjusted_rand_score(labels, preds)\n",
        "\n",
        "\n",
        "def mutual_info_score(labels, preds):\n",
        "    return skmetrics.adjusted_mutual_info_score(labels, preds, average_method=\"arithmetic\")\n",
        "\n",
        "\n",
        "def variation_of_information_score(labels, preds):\n",
        "    def mi(x, y):\n",
        "        contingency = skmetrics.cluster.contingency_matrix(x, y, sparse=True)\n",
        "        # print(contingency.todense())\n",
        "        nzx, nzy, nz_val = sp.find(contingency)\n",
        "        contingency_sum = contingency.sum()\n",
        "\n",
        "        pi = np.ravel(contingency.sum(axis=1))\n",
        "        pj = np.ravel(contingency.sum(axis=0))\n",
        "        # print(nz_val)\n",
        "        log_contingency_nm = np.log(nz_val)\n",
        "        # print(log_contingency_nm)\n",
        "        contingency_nm = nz_val / contingency_sum\n",
        "        # print(contingency_nm)\n",
        "\n",
        "        # Don't need to calculate the full outer product, just for non-zeroes\n",
        "        outer = (pi.take(nzx).astype(np.int64, copy=False)\n",
        "                 * pj.take(nzy).astype(np.int64, copy=False))\n",
        "        # print(outer)\n",
        "        log_outer = -np.log(outer) + log(pi.sum()) + log(pj.sum())\n",
        "        # print(log_outer)\n",
        "        mi = (contingency_nm * (log_contingency_nm -\n",
        "                                log(contingency_sum)) + contingency_nm * log_outer)\n",
        "        # print(mi)\n",
        "        return mi.sum()\n",
        "    return mi(labels, labels) + mi(preds, preds) - 2 * mi(labels, preds)\n"
      ],
      "execution_count": 0,
      "outputs": []
    },
    {
      "cell_type": "code",
      "metadata": {
        "id": "wISfJ525ZSkR",
        "colab_type": "code",
        "colab": {
          "base_uri": "https://localhost:8080/",
          "height": 35
        },
        "outputId": "94213693-3097-474f-c0f7-bf8d7823e7b9"
      },
      "source": [
        "rand_score(data.labels,kmeans.labels_)"
      ],
      "execution_count": 119,
      "outputs": [
        {
          "output_type": "execute_result",
          "data": {
            "text/plain": [
              "0.004368230906763326"
            ]
          },
          "metadata": {
            "tags": []
          },
          "execution_count": 119
        }
      ]
    },
    {
      "cell_type": "code",
      "metadata": {
        "id": "jePkPR5cZxP5",
        "colab_type": "code",
        "colab": {
          "base_uri": "https://localhost:8080/",
          "height": 35
        },
        "outputId": "bd33c206-bfd5-48e0-a755-0c1bc5d5c59d"
      },
      "source": [
        "mutual_info_score(data.labels,kmeans.labels_)"
      ],
      "execution_count": 120,
      "outputs": [
        {
          "output_type": "execute_result",
          "data": {
            "text/plain": [
              "0.0034842619703662494"
            ]
          },
          "metadata": {
            "tags": []
          },
          "execution_count": 120
        }
      ]
    },
    {
      "cell_type": "code",
      "metadata": {
        "id": "PsDYQ3k5Z4Pp",
        "colab_type": "code",
        "colab": {
          "base_uri": "https://localhost:8080/",
          "height": 35
        },
        "outputId": "1fff09b5-e8f8-4741-bcf1-60c8d2c44b87"
      },
      "source": [
        "variation_of_information_score(data.labels,kmeans.labels_)"
      ],
      "execution_count": 121,
      "outputs": [
        {
          "output_type": "execute_result",
          "data": {
            "text/plain": [
              "3.160182941224538"
            ]
          },
          "metadata": {
            "tags": []
          },
          "execution_count": 121
        }
      ]
    },
    {
      "cell_type": "code",
      "metadata": {
        "id": "O4IxGfBrZ-HR",
        "colab_type": "code",
        "colab": {}
      },
      "source": [
        " a = itertools.permutations(range(7))"
      ],
      "execution_count": 0,
      "outputs": []
    },
    {
      "cell_type": "code",
      "metadata": {
        "id": "qqgdn4jyb92U",
        "colab_type": "code",
        "colab": {}
      },
      "source": [
        "for x in a:\n",
        "    print(x)"
      ],
      "execution_count": 0,
      "outputs": []
    }
  ]
}