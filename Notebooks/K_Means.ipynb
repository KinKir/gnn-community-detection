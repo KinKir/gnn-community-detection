{
  "nbformat": 4,
  "nbformat_minor": 0,
  "metadata": {
    "kernelspec": {
      "display_name": "Python 3",
      "language": "python",
      "name": "python3"
    },
    "language_info": {
      "codemirror_mode": {
        "name": "ipython",
        "version": 3
      },
      "file_extension": ".py",
      "mimetype": "text/x-python",
      "name": "python",
      "nbconvert_exporter": "python",
      "pygments_lexer": "ipython3",
      "version": "3.6.6"
    },
    "colab": {
      "name": "K Means.ipynb",
      "provenance": [],
      "collapsed_sections": [
        "aC7suSihFigY",
        "PoEuu1sgmr9s"
      ],
      "toc_visible": true,
      "include_colab_link": true
    }
  },
  "cells": [
    {
      "cell_type": "markdown",
      "metadata": {
        "id": "view-in-github",
        "colab_type": "text"
      },
      "source": [
        "<a href=\"https://colab.research.google.com/github/adrian-lison/gnn-community-detection/blob/master/Notebooks/K_Means.ipynb\" target=\"_parent\"><img src=\"https://colab.research.google.com/assets/colab-badge.svg\" alt=\"Open In Colab\"/></a>"
      ]
    },
    {
      "cell_type": "markdown",
      "metadata": {
        "id": "no9TAMpEN1cu",
        "colab_type": "text"
      },
      "source": [
        "# K means\n"
      ]
    },
    {
      "cell_type": "code",
      "metadata": {
        "id": "lSb3hGIVOAdR",
        "colab_type": "code",
        "outputId": "6a86565e-5ea1-432e-e631-1f1a071ed46d",
        "colab": {
          "base_uri": "https://localhost:8080/",
          "height": 111
        }
      },
      "source": [
        "!pip install dgl"
      ],
      "execution_count": 1,
      "outputs": [
        {
          "output_type": "stream",
          "text": [
            "Requirement already satisfied: dgl in /usr/local/lib/python3.6/dist-packages (0.4.1)\n",
            "Requirement already satisfied: scipy>=1.1.0 in /usr/local/lib/python3.6/dist-packages (from dgl) (1.3.2)\n",
            "Requirement already satisfied: networkx>=2.1 in /usr/local/lib/python3.6/dist-packages (from dgl) (2.4)\n",
            "Requirement already satisfied: numpy>=1.14.0 in /usr/local/lib/python3.6/dist-packages (from dgl) (1.17.4)\n",
            "Requirement already satisfied: decorator>=4.3.0 in /usr/local/lib/python3.6/dist-packages (from networkx>=2.1->dgl) (4.4.1)\n"
          ],
          "name": "stdout"
        }
      ]
    },
    {
      "cell_type": "code",
      "metadata": {
        "id": "Gc82xetLPR1s",
        "colab_type": "code",
        "colab": {}
      },
      "source": [
        "from dgl import DGLGraph\n",
        "from dgl.data import citation_graph as citegrh"
      ],
      "execution_count": 0,
      "outputs": []
    },
    {
      "cell_type": "code",
      "metadata": {
        "id": "ZIHSy__eN9gK",
        "colab_type": "code",
        "colab": {
          "base_uri": "https://localhost:8080/",
          "height": 54
        },
        "outputId": "42747f4e-7ae0-4f97-a5bc-2c3d1809ddff"
      },
      "source": [
        "data = citegrh.load_cora()\n",
        "g_original = data.graph"
      ],
      "execution_count": 3,
      "outputs": [
        {
          "output_type": "stream",
          "text": [
            "Downloading /root/.dgl/cora.zip from https://s3.us-east-2.amazonaws.com/dgl.ai/dataset/cora_raw.zip...\n",
            "Extracting file to /root/.dgl/cora\n"
          ],
          "name": "stdout"
        }
      ]
    },
    {
      "cell_type": "code",
      "metadata": {
        "id": "72zr1Ak5Oqoz",
        "colab_type": "code",
        "outputId": "e8187399-8051-47aa-df40-417c11eb86cf",
        "colab": {
          "base_uri": "https://localhost:8080/",
          "height": 36
        }
      },
      "source": [
        "#Here, no directions are given (?) / maintained\n",
        "edges_per_node = {}\n",
        "for x in g_original.adj.items():\n",
        "  z = [] \n",
        "  for i in x[1]:\n",
        "    z.append(i)\n",
        "  edges_per_node[x[0]] = z\n",
        "edges_per_node[0]\n",
        "len(edges_per_node)"
      ],
      "execution_count": 4,
      "outputs": [
        {
          "output_type": "execute_result",
          "data": {
            "text/plain": [
              "2708"
            ]
          },
          "metadata": {
            "tags": []
          },
          "execution_count": 4
        }
      ]
    },
    {
      "cell_type": "code",
      "metadata": {
        "id": "cPFkLr_CSf4m",
        "colab_type": "code",
        "colab": {}
      },
      "source": [
        "from scipy.sparse import lil_matrix\n",
        "matrix_all = lil_matrix((g_original.number_of_nodes(),g_original.number_of_edges()))\n",
        "for i in range(len(edges_per_node)):\n",
        "  matrix_all[i,edges_per_node[i]] = 1"
      ],
      "execution_count": 0,
      "outputs": []
    },
    {
      "cell_type": "code",
      "metadata": {
        "id": "MfOyB92lJ1qZ",
        "colab_type": "code",
        "colab": {}
      },
      "source": [
        "matrix_all = lil_matrix((g_original.number_of_nodes(),g_original.number_of_edges()))\n",
        "for e in g_original.edges:\n",
        "    matrix_all[e[0],e[1]] = 1"
      ],
      "execution_count": 0,
      "outputs": []
    },
    {
      "cell_type": "code",
      "metadata": {
        "id": "eL3ofBrBPV_Q",
        "colab_type": "code",
        "outputId": "f872a7d8-88a2-48ef-dc5f-26e40a7e5e99",
        "colab": {
          "base_uri": "https://localhost:8080/",
          "height": 73
        }
      },
      "source": [
        "#Dimensionality Reduction with SVD\n",
        "amount_features = 5 # Amount dimensions\n",
        "from sklearn.decomposition import TruncatedSVD\n",
        "from sklearn.random_projection import sparse_random_matrix\n",
        "X = matrix_all.transpose()\n",
        "svd = TruncatedSVD(n_components=amount_features, n_iter=1000)\n",
        "svd.fit(X)  \n",
        "\n",
        "\n",
        "print(svd.explained_variance_ratio_)  \n",
        "\n",
        "print(svd.explained_variance_ratio_.sum())  \n",
        "\n",
        "print(svd.singular_values_)  "
      ],
      "execution_count": 7,
      "outputs": [
        {
          "output_type": "stream",
          "text": [
            "[0.01932718 0.01443322 0.01270968 0.00887954 0.00799841]\n",
            "0.06334802264663704\n",
            "[14.39092445 12.36582663 11.63854942  9.72217631  9.20595631]\n"
          ],
          "name": "stdout"
        }
      ]
    },
    {
      "cell_type": "code",
      "metadata": {
        "id": "hkrf96q7RoH-",
        "colab_type": "code",
        "colab": {}
      },
      "source": [
        "a = svd.fit(X)  "
      ],
      "execution_count": 0,
      "outputs": []
    },
    {
      "cell_type": "code",
      "metadata": {
        "id": "zLXTe4XhWSPR",
        "colab_type": "code",
        "outputId": "1e8bc094-37d2-44dc-a27b-d8d07c0e29ae",
        "colab": {
          "base_uri": "https://localhost:8080/",
          "height": 36
        }
      },
      "source": [
        "array_components_per_node = []\n",
        "for x in range(a.components_.shape[1]): #Amount edges\n",
        "    row_node = []\n",
        "    for y in range(a.components_.shape[0]): #Amount components\n",
        "        row_node.append(a.components_[y][x])\n",
        "    array_components_per_node.append(row_node)\n",
        "len(array_components_per_node)"
      ],
      "execution_count": 9,
      "outputs": [
        {
          "output_type": "execute_result",
          "data": {
            "text/plain": [
              "2708"
            ]
          },
          "metadata": {
            "tags": []
          },
          "execution_count": 9
        }
      ]
    },
    {
      "cell_type": "code",
      "metadata": {
        "id": "My5oiO3xR8G9",
        "colab_type": "code",
        "outputId": "61c6ce5f-8742-4304-9c27-fb137a1c7bec",
        "colab": {
          "base_uri": "https://localhost:8080/",
          "height": 279
        }
      },
      "source": [
        "from sklearn.cluster import KMeans\n",
        "import numpy as np\n",
        "X = array_components_per_node\n",
        "kmeans = KMeans(n_clusters=7).fit(X)\n",
        "kmeans.labels_\n",
        "kmeans.cluster_centers_"
      ],
      "execution_count": 10,
      "outputs": [
        {
          "output_type": "execute_result",
          "data": {
            "text/plain": [
              "array([[ 9.15385362e-04, -4.88388433e-04,  1.14620633e-03,\n",
              "         1.42535505e-03, -1.60125855e-04],\n",
              "       [ 5.58400143e-02,  5.26275275e-02, -5.11376116e-03,\n",
              "        -1.62211527e-04, -4.62086249e-04],\n",
              "       [ 1.32889387e-02, -1.09724065e-02,  7.48738686e-02,\n",
              "         4.36384146e-01, -4.26497346e-01],\n",
              "       [ 6.54341564e-01, -7.14096678e-01, -6.20254077e-02,\n",
              "        -6.37992853e-03,  1.04685633e-02],\n",
              "       [ 2.23736372e-02, -3.32784512e-03,  2.97147718e-01,\n",
              "        -3.66615390e-02, -1.23524582e-01],\n",
              "       [ 1.62203326e-03,  6.48402530e-04,  1.24428566e-02,\n",
              "         5.76568730e-02,  5.32018383e-02],\n",
              "       [ 6.38245362e-03,  4.23913490e-04,  7.18676061e-02,\n",
              "        -1.69066257e-02,  2.60681569e-02]])"
            ]
          },
          "metadata": {
            "tags": []
          },
          "execution_count": 10
        }
      ]
    },
    {
      "cell_type": "code",
      "metadata": {
        "id": "oAa1-hPeWCKN",
        "colab_type": "code",
        "outputId": "07a486f4-5f89-4c51-8da6-98d714eb86ab",
        "colab": {
          "base_uri": "https://localhost:8080/",
          "height": 265
        }
      },
      "source": [
        "import matplotlib.pyplot as plt\n",
        "import numpy as np\n",
        "%matplotlib inline\n",
        "x = kmeans.labels_\n",
        "plt.hist(x)\n",
        "plt.ylabel('Amount');"
      ],
      "execution_count": 11,
      "outputs": [
        {
          "output_type": "display_data",
          "data": {
            "image/png": "[encoded data removed]",
            "text/plain": [
              "<Figure size 432x288 with 1 Axes>"
            ]
          },
          "metadata": {
            "tags": []
          }
        }
      ]
    },
    {
      "cell_type": "code",
      "metadata": {
        "id": "-Fedj8yiZJ-7",
        "colab_type": "code",
        "colab": {
          "base_uri": "https://localhost:8080/",
          "height": 284
        },
        "outputId": "670ee48a-f71a-41d3-da6c-3c81619042a1"
      },
      "source": [
        "x = data.labels\n",
        "plt.hist(x)\n",
        "plt.ylabel('Amount')"
      ],
      "execution_count": 14,
      "outputs": [
        {
          "output_type": "execute_result",
          "data": {
            "text/plain": [
              "Text(0, 0.5, 'Amount')"
            ]
          },
          "metadata": {
            "tags": []
          },
          "execution_count": 14
        },
        {
          "output_type": "display_data",
          "data": {
            "image/png": "[encoded data removed]",
            "text/plain": [
              "<Figure size 432x288 with 1 Axes>"
            ]
          },
          "metadata": {
            "tags": []
          }
        }
      ]
    },
    {
      "cell_type": "code",
      "metadata": {
        "id": "PzSD1EWvT3-U",
        "colab_type": "code",
        "colab": {}
      },
      "source": [
        ""
      ],
      "execution_count": 0,
      "outputs": []
    }
  ]
}